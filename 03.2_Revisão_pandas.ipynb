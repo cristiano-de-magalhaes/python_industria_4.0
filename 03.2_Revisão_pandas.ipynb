{
 "cells": [
  {
   "cell_type": "markdown",
   "metadata": {
    "id": "z5dzKTP1KhQR"
   },
   "source": [
    "![image.png](data:image/png;base64,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)"
   ]
  },
  {
   "cell_type": "markdown",
   "metadata": {
    "id": "opdLC7L5YFHq"
   },
   "source": [
    "**Sejam todas bem-vindas e bem-vindos de volta!**\n",
    "\n",
    "Vamos revisar pontos básicos sobre a biblioteca pandas (de operações e manipulações de matrizes de dados ou _dataframes_) do Python 3.x, relembrando:\n",
    "* Como importar dados para o pandas\n",
    "* Algumas das principais funções do pandas\n",
    "* Unir _dataframes_\n",
    "* Remover dados de um _dataframe_\n",
    "* Como salvar os dados em arquivos nos formatos mais utilizados\n"
   ]
  },
  {
   "cell_type": "markdown",
   "metadata": {
    "id": "riRDlIIxck4I"
   },
   "source": [
    "Pandas\n",
    "---"
   ]
  },
  {
   "cell_type": "markdown",
   "metadata": {
    "id": "na22o8-KettD"
   },
   "source": [
    "Para decepção de muitos, o nome da biblioteca Pandas não vem da espécie de ursos mais querida do planeta, mas sim de \"_Python Data Analysis_\" e \"_Panel Data Analysis_\" (**PAN**nel **DA**ta analysi**S**).\n",
    "\n",
    "_Panel Data_ são dados estruturados multidimensionais (ou de n-dimensões). Qualquer lembrança ao `numpy` **não** é mera coincidência, uma vez que o `Pandas` é baseado no `numpy`.\n",
    "\n",
    "Pandas também é código aberto (_open source_) e grátis para uso (licensa BSD).\n",
    "\n",
    "Veremos que o `Pandas` facilita bastante uma série de operações que envolvem um volume de dados grande."
   ]
  },
  {
   "cell_type": "markdown",
   "metadata": {
    "id": "bprNoZxhhHwK"
   },
   "source": [
    "# Links Úteis\n",
    "\n",
    "[Github do projeto Pandas](https://github.com/pandas-dev/pandas)\n",
    "\n",
    "[Manual em PDF](https://pandas.pydata.org/docs/pandas.pdf) (+3000 páginas)\n",
    "\n",
    "[Página do projeto](https://pandas.pydata.org/docs/)"
   ]
  },
  {
   "cell_type": "markdown",
   "metadata": {
    "id": "1vnWetHmrvts"
   },
   "source": [
    "# Importação"
   ]
  },
  {
   "cell_type": "markdown",
   "metadata": {
    "id": "zD7Lo0Lrrx-z"
   },
   "source": [
    "# Importando o `pandas`\n",
    "\n",
    "Normalmente importaremos o `pandas` com o \"apelido\" `pd`, e isso é feito da seguinte forma:\n",
    "\n",
    "```python\n",
    "import pandas as pd\n",
    "```"
   ]
  },
  {
   "cell_type": "code",
   "execution_count": null,
   "metadata": {
    "id": "JhpAk-yvr-sv"
   },
   "outputs": [],
   "source": [
    "import pandas as pd\n",
    "# costuma-se fazer também a importação do numpy junto com a do pandas porque\n",
    "# acaba que vez-ou-outra é necessário utilizar algo do numpy, então vamos\n",
    "# seguir essa tradição aqui\n",
    "import numpy as np"
   ]
  },
  {
   "cell_type": "markdown",
   "metadata": {
    "id": "l6M6IVgPqolU"
   },
   "source": [
    "O Pandas nos permite trabalhar com dados no Python de forma semelhante ao que encontramos em uma tabela ou planilha (Excel, por exemplo).\n",
    "\n",
    "De forma simples, o Pandas permite que trabalhemos com dados em matrizes (similares às do NumPy), porém permite que os dados sejam de certa forma \"agrupados\" por um cabeçalho, tanto por linhas, quanto por colunas.\n",
    "\n",
    "Normalmente as linhas estão apenas numeradas (indexadas), mas isso não é uma regra.\n",
    "\n",
    "Os \"objetos\" principais com os quais trabalhamos no Pandas são:\n",
    "* dados - são os valores, as células ou os itens em uma série (coluna)\n",
    "* `pd.Series` - são as séries, colunas ou conjunto de dados em uma coluna\n",
    "* `pd.DataFrame` - é a planilha, tabela ou conjunto de `pd.Series`\n"
   ]
  },
  {
   "cell_type": "markdown",
   "metadata": {
    "id": "z_r_kTbIxLei"
   },
   "source": [
    "# **`pd.Series`**"
   ]
  },
  {
   "cell_type": "markdown",
   "metadata": {
    "id": "t3VvhwhMvN-T"
   },
   "source": [
    "## Criando um `pd.Series` simples"
   ]
  },
  {
   "cell_type": "code",
   "execution_count": null,
   "metadata": {
    "id": "1vAZiE8assu8"
   },
   "outputs": [],
   "source": [
    "a = pd.Series([1, 2,5, 6, 9, 14, 32, 42])\n",
    "a"
   ]
  },
  {
   "cell_type": "markdown",
   "metadata": {
    "id": "2ncpI9rptmWz"
   },
   "source": [
    "Perceba que, ao criarmos uma série a partir de uma lista ( `[1, 2]` ) e chamá-la, o colab exibe 4 valores e 1 texto:\n",
    "```\n",
    "0    1\n",
    "1    2\n",
    "dtype: int64\n",
    "```\n",
    "Mas como aconteceu de inserirmos 2 números e visualizarmos 4?\n",
    "\n",
    "Acontece que a **primeira coluna** exibida são so índices das **linhas** onde estão os dados, ou seja:\n",
    "* o valor **`1`** está no índice `0`.\n",
    "* o valor **`2`** está no índice `1`.\n",
    "\n",
    "A última linha nos informa que os dados nesta série (`pd.Series()`) são inteiros (`int`) de 64-bits de tamanho máximo (`64`).\n",
    "\n",
    "`dtype` é o mesmo que vimos no `numpy`, ele se refere ao **tipo de dado** ou **D**ata **TYPE** (do inglês).\n",
    "\n",
    "Bom, mas esses dados não têm cabeçalho, certo? Isso aconteceu porque criamos a série a partir de uma lista e não informamos o cabeçalho.\n",
    "\n",
    "Podemos fazer isso de duas formas:"
   ]
  },
  {
   "cell_type": "markdown",
   "metadata": {
    "id": "venVSBHNvV8M"
   },
   "source": [
    "## Adicionando cabeçalho ao `pd.Series`"
   ]
  },
  {
   "cell_type": "code",
   "execution_count": null,
   "metadata": {
    "id": "yAIcldfRvbdy"
   },
   "outputs": [],
   "source": [
    "# Vamos ver se a série 'a' tem um NOME (ou cabeçalho)\n",
    "print(a.name)"
   ]
  },
  {
   "cell_type": "code",
   "execution_count": null,
   "metadata": {
    "id": "sZu3nmaav1E5"
   },
   "outputs": [],
   "source": [
    "# Vamos tentar atribuir um NOME à série 'a'\n",
    "a.name = \"números\""
   ]
  },
  {
   "cell_type": "code",
   "execution_count": null,
   "metadata": {
    "id": "U9c7ls7Qv-Jb"
   },
   "outputs": [],
   "source": [
    "# Vejamos se mudou algo na exibição do colab\n",
    "a"
   ]
  },
  {
   "cell_type": "markdown",
   "metadata": {
    "id": "Zsq-faHIwECZ"
   },
   "source": [
    "Repare que na última linha agora aparece:\n",
    "```\n",
    "Name: números, ...\n",
    "```\n",
    "Vamos tentar imprimir o nome agora:"
   ]
  },
  {
   "cell_type": "code",
   "execution_count": null,
   "metadata": {
    "id": "dK7oz_bjwPEr"
   },
   "outputs": [],
   "source": [
    "print(a.name)"
   ]
  },
  {
   "cell_type": "markdown",
   "metadata": {
    "id": "D1BeGGOVwXAP"
   },
   "source": [
    "Como a série é uma espécie de `np.array`, vamos tentar ver se conseguimos os mesmos atributos a partir dela:"
   ]
  },
  {
   "cell_type": "code",
   "execution_count": null,
   "metadata": {
    "id": "FZP4WqpKwRS2"
   },
   "outputs": [],
   "source": [
    "a.sum()"
   ]
  },
  {
   "cell_type": "code",
   "execution_count": null,
   "metadata": {
    "id": "WO95qELBwirN"
   },
   "outputs": [],
   "source": [
    "a.mean()"
   ]
  },
  {
   "cell_type": "code",
   "execution_count": null,
   "metadata": {
    "id": "C9HOMOGPwkbc"
   },
   "outputs": [],
   "source": [
    "a.max()"
   ]
  },
  {
   "cell_type": "code",
   "execution_count": null,
   "metadata": {
    "id": "FHcXz-_jwlzj"
   },
   "outputs": [],
   "source": [
    "a.min()"
   ]
  },
  {
   "cell_type": "code",
   "execution_count": null,
   "metadata": {
    "id": "o2xPURCAwnYU"
   },
   "outputs": [],
   "source": [
    "a.std()"
   ]
  },
  {
   "cell_type": "code",
   "execution_count": null,
   "metadata": {
    "id": "EXtKi15wwovH"
   },
   "outputs": [],
   "source": [
    "a.var()"
   ]
  },
  {
   "cell_type": "markdown",
   "metadata": {
    "id": "4oHOH5DCwqQD"
   },
   "source": [
    "Tudo certo! Os mesmos atributos. Justamente porque o pandas fez com que as séries sejam objetos derivados do numpy e, assim, herdam várias características dele."
   ]
  },
  {
   "cell_type": "markdown",
   "metadata": {
    "id": "Rk4uBjKZxWWY"
   },
   "source": [
    "Outra forma de criar séries é por meio de dicionários (`dict`).\n",
    "\n",
    "Vejamos o exemplo:"
   ]
  },
  {
   "cell_type": "code",
   "execution_count": null,
   "metadata": {
    "id": "1T3x1wbuxfCO"
   },
   "outputs": [],
   "source": [
    "b = pd.Series({'a': 1,\n",
    "               'b': 2,\n",
    "               'a': 3},\n",
    "              name=\"letras\")\n",
    "\n",
    "b"
   ]
  },
  {
   "cell_type": "markdown",
   "metadata": {
    "id": "eVbj9S8KxvDz"
   },
   "source": [
    "Repare que nesse exemplo duas coisas chamam a atenção:\n",
    "* os índices agora são `a` e `b`\n",
    "* já criamos a série com nome de \"letras\" (que aparece na última linha)"
   ]
  },
  {
   "cell_type": "code",
   "execution_count": null,
   "metadata": {
    "id": "QGo2zuciC0hR"
   },
   "outputs": [],
   "source": [
    "print(b.name)"
   ]
  },
  {
   "cell_type": "markdown",
   "metadata": {
    "id": "Yg3og3nMMWGM"
   },
   "source": [
    "## Adicionando dados ao `pd.Series`"
   ]
  },
  {
   "cell_type": "markdown",
   "metadata": {
    "id": "1DXr_iOtM3Kx"
   },
   "source": [
    "### `.append()`"
   ]
  },
  {
   "cell_type": "markdown",
   "metadata": {
    "id": "-fGFAbY4M91E"
   },
   "source": [
    "Novamente encontramos as similaridades entre as séries do Pandas e as listas.\n",
    "\n",
    "Para inserir itens em uma lista, vimos lá atrás o comando `.append()`.\n",
    "\n",
    "Aqui não é muito diferente. Vejamos o exemplo:"
   ]
  },
  {
   "cell_type": "markdown",
   "metadata": {
    "id": "J-f59rZ8NwLN"
   },
   "source": [
    "Primeiro vamos adicionar um elemento simples à série mais simples que criamos, chamada `a`.\n",
    "\n",
    "**O principal DETALHE aqui** é que não conseguimos inserir um objeto simples a uma série, pois ela só consegue \"receber\" objetos dos tipos:\n",
    "* `pd.Series`\n",
    "* `pd.DataFrame`\n",
    "\n",
    "Se tentarmos um dos códigos **errados** abaixo:\n",
    "```python\n",
    "a.append(3)\n",
    "```\n",
    "... ou...\n",
    "```python\n",
    "a.append('3')\n",
    "```\n",
    "... ou mesmo...\n",
    "```python\n",
    "a.append([3])\n",
    "```\n",
    "... receberemos o erro similar a este:\n",
    "```\n",
    "TypeError: cannot concatenate object of type '<class 'int'>'; only Series and DataFrame objs are valid\n",
    "```\n",
    "... que significa:\n",
    "> `não é possível concatenar (adicionar ou juntar) objetos do tipo inteiro (no caso vale também para strings, listas e etc.);`**`apenas objetos Series e DataFrame são válidos`**\n",
    "\n",
    "Então vamos tentar uma forma direta:"
   ]
  },
  {
   "cell_type": "code",
   "execution_count": null,
   "metadata": {
    "id": "fTphKhsUN5Ll"
   },
   "outputs": [],
   "source": [
    "a"
   ]
  },
  {
   "cell_type": "code",
   "execution_count": null,
   "metadata": {
    "id": "7afWyZujN6iN"
   },
   "outputs": [],
   "source": [
    "a = a.append(pd.Series(1))"
   ]
  },
  {
   "cell_type": "code",
   "execution_count": null,
   "metadata": {
    "id": "2UqJ3Z7-Q7RI"
   },
   "outputs": [],
   "source": [
    "a"
   ]
  },
  {
   "cell_type": "markdown",
   "metadata": {
    "id": "rCfuCtA8Q8WQ"
   },
   "source": [
    "Repare nas **três últimas caixas de códigos acima** para falarmos sobre **três coisas interessantes** que podemos observar a partir delas e de seus resultados:\n",
    "1. quando fazemos o `.append(1)` ao `a`, o `1` adicionado aparece no final da série **com índice `0`**\n",
    "2. o nome da série some da última linha (`Name: números`) no \"objeto adicionado\"\n",
    "3. o \"resultado\" **não fica gravado** em `a`, pois quando a chamamos novamente na terceira caixa de código ela mostra resultado **igual** ao da primeira\n",
    "\n",
    "Então já observamos que esta função `append()` só retorna o valor alterado, mas não altera o objeto por si só.\n",
    "\n",
    "Para adicionar um item desta forma, temos que chamá-lo novamente:"
   ]
  },
  {
   "cell_type": "code",
   "execution_count": null,
   "metadata": {
    "id": "8oMPW6ImUaZE"
   },
   "outputs": [],
   "source": [
    "# Se fizermos o simples 'append()'...\n",
    "a = a.append(pd.Series(1))\n",
    "a"
   ]
  },
  {
   "cell_type": "markdown",
   "metadata": {
    "id": "sUY-INxRSs4C"
   },
   "source": [
    "Repare que o nome da série se perdeu mesmo e o índice ficou errado.\n",
    "\n",
    "Vamos adicionar mais um item, mas agora adicionando a configuração:\n",
    "\n",
    "`ignore_index=True`"
   ]
  },
  {
   "cell_type": "code",
   "execution_count": null,
   "metadata": {
    "id": "hbIpsMMMRhpo"
   },
   "outputs": [],
   "source": [
    "a = a.append(pd.Series(2), ignore_index=True)\n",
    "a"
   ]
  },
  {
   "cell_type": "markdown",
   "metadata": {
    "id": "CiUaHNLiUwxc"
   },
   "source": [
    "Os índices foram \"consertados\" Mas a questão do nome se perdeu. Uma forma de \"contornar\" isso é:"
   ]
  },
  {
   "cell_type": "code",
   "execution_count": null,
   "metadata": {
    "id": "Tj_CS3KOXlA-"
   },
   "outputs": [],
   "source": [
    "# recriando nossa série\n",
    "a = pd.Series([1,2])\n",
    "# reatribuindo o nome a ela\n",
    "a.name = \"números\"\n",
    "\n",
    "# salvando o nome da série\n",
    "nome_salvo = a.name\n",
    "\n",
    "# adicionando os itens à série\n",
    "a = a.append(pd.Series(1), ignore_index=True)\n",
    "a = a.append(pd.Series(2), ignore_index=True)\n",
    "\n",
    "# restaurando o nome da série\n",
    "a.name = nome_salvo\n",
    "\n",
    "a"
   ]
  },
  {
   "cell_type": "markdown",
   "metadata": {
    "id": "CCYQiA9gYlLQ"
   },
   "source": [
    "Parece bobagem \"salvar\" o nome sendo que acabamos de atribuir, mas vamos pensar no caso de precisarmos criar uma função que executa os passos."
   ]
  },
  {
   "cell_type": "code",
   "execution_count": null,
   "metadata": {
    "id": "zNp_Y7F_Yz3y"
   },
   "outputs": [],
   "source": [
    "def adiciona_item(serie, itens):\n",
    "    # salvando o nome da série para ser recuperada\n",
    "    nome_salvo = a.name\n",
    "\n",
    "    # adicionando os itens à série\n",
    "    serie = serie.append(pd.Series(itens), ignore_index=True)\n",
    "\n",
    "    # restaurando o nome da série\n",
    "    serie.name = nome_salvo\n",
    "\n",
    "    return serie"
   ]
  },
  {
   "cell_type": "markdown",
   "metadata": {
    "id": "Mt9pU7WLZdfJ"
   },
   "source": [
    "Vamos testar nossa função:"
   ]
  },
  {
   "cell_type": "code",
   "execution_count": null,
   "metadata": {
    "id": "53GwWT0KZf8J"
   },
   "outputs": [],
   "source": [
    "# recriando nossa série\n",
    "a = pd.Series([1,2])\n",
    "# reatribuindo o nome a ela\n",
    "a.name = \"números\"\n",
    "\n",
    "# utilizando nossa função criada\n",
    "a = adiciona_item(a, [1,2])\n",
    "a"
   ]
  },
  {
   "cell_type": "code",
   "execution_count": null,
   "metadata": {
    "id": "1vQUv0WPM08k"
   },
   "outputs": [],
   "source": [
    "# Vamos criar duas séries: 's1' e 's2'\n",
    "s1 = pd.Series([1, 2, 3])\n",
    "s2 = pd.Series([4, 5, 6])\n",
    "\n",
    "# Agora vamos criar uma série definindo seus índices como [3, 4, 5]\n",
    "s3 = pd.Series([4, 5, 6], index=[3, 4, 5])\n",
    "s3"
   ]
  },
  {
   "cell_type": "code",
   "execution_count": null,
   "metadata": {
    "id": "aWbrH_xpFHg-"
   },
   "outputs": [],
   "source": [
    "s2"
   ]
  },
  {
   "cell_type": "code",
   "execution_count": null,
   "metadata": {
    "id": "rKwEk0vgq7k5"
   },
   "outputs": [],
   "source": [
    "s1.append(s2)"
   ]
  },
  {
   "cell_type": "code",
   "execution_count": null,
   "metadata": {
    "id": "qsElb_NprGdr"
   },
   "outputs": [],
   "source": [
    "s1.append(s3)"
   ]
  },
  {
   "cell_type": "markdown",
   "metadata": {
    "id": "636vZeFzcEy0"
   },
   "source": [
    "## Removendo itens de um `pd.Series`"
   ]
  },
  {
   "cell_type": "markdown",
   "metadata": {
    "id": "Qv3g8WPWcRes"
   },
   "source": [
    "### **`.drop()`**"
   ]
  },
  {
   "cell_type": "markdown",
   "metadata": {
    "id": "RYb7zO0RdQi8"
   },
   "source": [
    "O nome do método `drop()` vem do inglês e significa \"(deixar) cair\", \"soltar\" ou \"largar\". Esse método remove itens pelo índice **da série**, ou seja, repare no exemplo abaixo que a \"Nova série\" ficou sem os índices `[0, 2, 4, 6, 8]`."
   ]
  },
  {
   "cell_type": "code",
   "execution_count": null,
   "metadata": {
    "id": "_VqhKA6dFcqN"
   },
   "outputs": [],
   "source": [
    "alfabeto   = [\"a\",\"b\",\"c\",\"d\",\"e\",\"f\",\"g\",\"h\",\"i\",\"j\"]\n",
    "serie      = pd.Series(alfabeto)\n",
    "print(alfabeto)\n",
    "serie"
   ]
  },
  {
   "cell_type": "code",
   "execution_count": null,
   "metadata": {
    "id": "xAXoHGo0FtGW"
   },
   "outputs": [],
   "source": [
    "serie_nova = serie.drop([0, 2, 4, 6, 8])\n",
    "serie_nova"
   ]
  },
  {
   "cell_type": "code",
   "execution_count": null,
   "metadata": {
    "id": "yVxiBHTNccCi"
   },
   "outputs": [],
   "source": [
    "alfabeto   = [\"a\",\"b\",\"c\",\"d\",\"e\",\"f\",\"g\",\"h\",\"i\",\"j\"]\n",
    "serie      = pd.Series(alfabeto)\n",
    "\n",
    "serie_nova = serie.drop([0, 2, 4, 6, 8])\n",
    "\n",
    "print(\"Série:\")\n",
    "print(serie)\n",
    "\n",
    "print()\n",
    "\n",
    "print(\"Nova série:\")\n",
    "print(serie_nova)"
   ]
  },
  {
   "cell_type": "markdown",
   "metadata": {
    "id": "nFizepOOeajF"
   },
   "source": [
    "### `.reset_index()`"
   ]
  },
  {
   "cell_type": "markdown",
   "metadata": {
    "id": "FXKdMkqSeV2X"
   },
   "source": [
    "Para resolver esse caso, usamos o `pd.Series.reset_index()`"
   ]
  },
  {
   "cell_type": "code",
   "execution_count": null,
   "metadata": {
    "id": "3XDdQh8Ld83z"
   },
   "outputs": [],
   "source": [
    "ser = serie_nova.reset_index()\n",
    "ser"
   ]
  },
  {
   "cell_type": "markdown",
   "metadata": {
    "id": "mSSiN4K6ekxd"
   },
   "source": [
    "Perceba que ele criou um índice novo correto (coluna mais à esquerda), mas manteve (preservou) o índice antigo com seus respectivos valores e \"rotulou\" a coluna de `index` e ainda criou um \"rótulo\" genérico para a coluna das letras, com o nome de \"`0`\".\n",
    "\n",
    "Para resolver essa questão, utilizamos a configuração `drop=True` que, parecido com o nome do método `.drop()`, faz o `.reset_index()` \"largar\" o índice antigo.\n",
    "\n",
    "Veja abaixo:"
   ]
  },
  {
   "cell_type": "code",
   "execution_count": null,
   "metadata": {
    "id": "y8admCi5dYXk"
   },
   "outputs": [],
   "source": [
    "ser = serie_nova.reset_index(drop=True)\n",
    "ser"
   ]
  },
  {
   "cell_type": "markdown",
   "metadata": {
    "id": "GFi95wdAcVSc"
   },
   "source": [
    "### **`.truncate()`**"
   ]
  },
  {
   "cell_type": "markdown",
   "metadata": {
    "id": "52EjNLr4f3re"
   },
   "source": [
    "Já o `.truncate()` **descarta** tudo que está **antes** e **depois** dos índices informados.\n",
    "\n",
    "É utilizado principalmente quando queremos \"cortar\" ou \"tirar uma fatia\" de uma determinada série."
   ]
  },
  {
   "cell_type": "code",
   "execution_count": null,
   "metadata": {
    "id": "L0er0TF-hHtl"
   },
   "outputs": [],
   "source": [
    "serie = pd.Series([10, 20, 30, 40, 50, 60, 70, 80, 90, 100]);\n",
    "\n",
    "print(\"Série:\");\n",
    "print(serie);\n",
    "\n",
    "# Truncate the Series to get a new Series\n",
    "nova_serie = serie.truncate(4, 8, copy=False);\n",
    "\n",
    "print(\"Nova série:\");\n",
    "print(nova_serie);"
   ]
  },
  {
   "cell_type": "markdown",
   "metadata": {
    "id": "hpgx6iK5hw0o"
   },
   "source": [
    "Mas o lance dos índices permaneceu o mesmo que no `.drop()`.\n",
    "\n",
    "Vamos corrigir:"
   ]
  },
  {
   "cell_type": "code",
   "execution_count": null,
   "metadata": {
    "id": "oKXh5kT1h5SY"
   },
   "outputs": [],
   "source": [
    "ser = nova_serie.reset_index(drop=True)\n",
    "ser"
   ]
  },
  {
   "cell_type": "markdown",
   "metadata": {
    "id": "x4sXRl0MxCW5"
   },
   "source": [
    "# `pd.DataFrame`"
   ]
  },
  {
   "cell_type": "markdown",
   "metadata": {
    "id": "e-sGuWcYp9EZ"
   },
   "source": [
    "![image.png](data:image/png;base64,iVBORw0KGgoAAAANSUhEUgAABLwAAANsCAYAAABRRrGbAAAgAElEQVR4Aezdf8wjV5ng+/eNRvwI3S4HCD+SYQkkdLucXG4g2+1yJ8z05HW5k83ljtAQLTtMUIDLwCYTJe16G0gyQKPsDewMcBs02gWW3ChXYkFIGRAaMoRRaNrlbhIlN8lEgaiV3KTFKor4p4VaWkV6//HVY/u8Pj51jl3l93W9ZfuLZPzjrTp1zuc81XY9OefUygr/QwABBBBAAAEEEEAAAQQQQAABBBBAAAEEEEAAAQQQQAABBBBAAAEEEEAAAQQQQAABBBBAAAEEEEAAAQQQQAABBBBAAAEEEEAAAQQQQAABBBBAAAEEEEAAAQQQQAABBBBAAAEEEEAAAQQQQAABBBBAAAEEEEAAAQQQQAABBBBAAAEEEEAAAQQQQAABBBBAAAEEEEAAAQQQQAABBBBAAAEEEEAAAQQQQAABBBBAAAEEEEAAAQQQQAABBBBAAAEEEEAAAQQQQAABBBBAAAEEEEAAAQQQQAABBBBAAAEEEEAAAQQQQAABBBBAAAEEEEAAAQQQQAABBBBAAAEEEEAAAQQQQAABBBBAAAEEEEAAAQQQQAABBBBAAAEEEEAAAQQQQAABBBBAAAEEEEAAAQQQQAABBBBAAAEEEEAAAQQQQAABBBBAAAEEEEAAAQQQQAABBBBAAAEEEEAAAQQQQAABBBBAAAEEEEAAAQQQQAABBBBAAAEEEEAAAQQQQAABBBBAAAEEEEAAAQQQQAABBBBAAAEEEEAAAQQQQAABBBBAAAEEEEAAAQQQQAABBBBAAAEEEEAAAQQQQAABBBBAAAEEEEAAAQQQQAABBBBAAAEEEEAAAQQQQAABBBBAAAEEEEAAAQQQQAABBBBAAAEEEEAAAQQQQAABBBBAAAEEEEAAAQQQQAABBBBAAAEEEEAAAQQQQAABBBBAAAEEEEAAAQQQQAABBBBAAAEEEEAAAQQQQAABBBBAAAEEEEAAAQQQQAABBBBAAAEEEEAAAQQQQAABBBBAAAEEEEAAAQQQQAABBBBAAAEEEEAAAQQQQAABBBBAAAEEEEAAAQQQQAABBBBAAAEEEEAAAQQQQAABBBBAAAEEEEAAAQQQQAABBBBAAAEEEEAAAQQQQAABBBBAAAEEEEAAAQQQQAABBBBAAAEEEEAAAQQQQAABBBBAAAEEEEAAAQQQQAABBBBAAAEEEEAAAQQQQAABBBBAAAEEEEAAAQQQQAABBBBAAAEEEEAAAQQQQAABBBBAAAEEEEAAAQQQQAABBBBAAAEEEEAAAQQQQAABBBBAAAEEEEAAAQQQQAABBBBAAAEEEEAAAQQQQAABBOZPoFprXOMH4YYfhN0Uj1f9IHy0Wm985fL9h/7XlZWV89K22K83j1jKf7B68OCuNGVccvDg6/xa8wGjjI1qrfHxlZWV1XFl+EHjntH9mi9U9q/t0feR937QfGF0O6fJq3690faD5mH/wLXvnHR8/TjqdSW47hI/aP6rcbyNy+tr16ltsj6/+6qGVw2aH/WD8EE/CF/Uyn6xGjR+Wak379xzYG3fwYMH/yhr2fr2GWPmbLUW/lz6qbrv4Nv0chb1tSNW05xf2jaNexbVh3YhgAACCCCAAAIIIIAAAgggMHOBSj38Uy0xol1wO5M9w21qjR8PEj5j63l5/dAbK7XwkeRxGueqQbM2dufBH6+66oPnV4Pm9xNl1MNnrzhw7aXjyvCD8KvGfmeuCBq+vo+894PwjLHdsK3uhOCGXw+PXVa7vqSXN+m1X2t+xH6s5ner1RtfM2l//e+XXXb9a6v18NN+EJ61l5noy99Jsu69722+QS8n7estxMyrlVoYSX3THmsr24njnqsOvll/7L366t1bKTPNvs5YdceQLc6+muZYbIMAAggggAACCCCAAAIIIIAAAhaBLSQv1EX66eq+Q5dbit78qFJvHvCDxjlbMqYahHdtbjjmxfgkQuOecaOWZpzw6jvUw4f9qw69fUwTNv8kCR+/1rjP5uEH4W/37m++a3PjCS9khFwlCL/pKEv1kf25Hj7rB4feP+EQiT9vQ8x8L+3IvsTBM3zgqOfME0njYzWRfLT3TRDOvJ4ZKNkUAQQQQAABBBBAAAEEEEAAgfkScCQFXBfh9s/r4cMyisvR8lU/aNw9JiHziyuvPFh27Lv58YQkwsvjEje5JLyCsFuthfeOS7ypxsiIND8IT7tM9taaH1bbTnherQSN21zlTPw8xeg42/G3J2aan5xmKqitPq7PHPWceSJpQqzaz6Hk6K+Z19PlxucIIIAAAggggAACCCCAAAIIzL2AIynwcqXe/PtqLfyy/vDrzZ/4QSjreCUv2mvNj9gwLvvA9Rf6teYp6z69ctJNa5yURKjUwm+7psptIeEla5s94wfhY9pD3rvWPHt5b23tvTYH/bNqrfEJt4fYppvWuPfq8CK/Hj7uKOsJabf0X39Nr+YrxnYb1Xp4o16vtK8dMSNx8aTm9Fg1CJ8zjjmMm3r4uNQ/7TGn2c5Rz5knklyxWg3Cn+rn07jXW1nLbRor9kEAAQQQQAABBBBAAAEEEEBgoQQcSYFHZd0jW0MloWMdnVRrPiCLdZv7DMp3JYgGCZDG3ZNG+7iSCMOESuNctR6umceX91tIeCXW+pLyZHH4QZmJdk2aojm5Hb1k4ulJ65L12rW/ccOw/ZtJyLOVeuOQxfM8udGAL+uuBWF3XILQZqh/liVmekm55M0Gev2eYSSbfvjUrx313LmEV63xidSVZ0MEEEAAAQQQQAABBBBAAAEEEJhewJEUcCa85EiOBdcT+8j0vmoQft2SlBmO9OknXx4ZMyWy17hUiaJa48eSjDI1tjvhJeXLaDJJGiXaVm/+ZNzC6IOE4cuJ/cxRc44Rc3rbJLmWKKfWuM810m2w73myptqlB5pv0cvK8jprzEjf+rLGmdHGStD4VpopoFnqpm/rqCcJLx2J1wgggAACCCCAAAIIIIAAAggsooAjKZBIXultl0Xq/SD8nZHASIyGsk25qwSNf/Zr4X8f3bdxTpIw+jHM16kSXkFonaY3i4SX1G9gNzrKqxY+tad+7cVm/dV7v9a8ZbTtYbcShP9nJQh/P/L55MSVbeSaJBJnntCZKmZs0zjdycFVufunXwtv94PwZ8bUSLkT5clqvfGVwR0+z1O26lkSbNUg7Ix4Gsm23t9q4U1qH+35PP9A84pKvXlnNWj80g/CF4flNF+Rz+Rvg7t8rmr7bb50xapMZd3cKOMLP2jcM6xHbzTfRrXWuEbutOnXwlsH04YlFs9Wa+HP/Vp40x/X669Xh+mNSqyHH/L7o+1k6qmamiz7PNP7vB5+aNydO+V4yem8/RtG+MFaQ5s6K2U+4QeNv9WnrfbqWm98TPrUD/pTbPt92/iGXwvfYxmVqKo/8nzFvuY75C6jfi08Mbgz6bAN+xs36O0e2ZE3CCCAAAIIIIAAAggggAACyyMwVfIiZcJL1iEyL5B7o5KsU/HGT2t0JRGMJEBXLoKr+w6+Te/BWSW85G6KcldFow6JxJ+qi9yZsJ8U2Jx+KAmq3/amGvbXR9NHvk2c1mgb4SWJHj3JoI69nc9TxUzQrFnu1JlIrPYTXf1pl4arbqO//pE5Wk2m4/pB+Oik/c0EVKXWvMqvN9qT9hv8fcMPGt+w3W3SFavm8bL0iSWGu9Wg+VE/CH/lqO+DUjdJ/gziRCW4dDvb6+clsWWrm63fq/XGd/wg/J6jDrIe3Ssy1XiQLHvevV0oCbz1cSP+egmzIPyq+W+Kpczn/QPNP0mbQLO1lc8QQAABBBBAAAEEEEAAAQTmXMB2ESvJAtcaXtLcNFMa7dMZ+yO5bImiSi0cO63RmkSoh4/LSB/zgtdMLFiSBYmklIzY8YPwjFFWYju9u22JFRmpVa033qdvp15bpzMORnLZklfirPa1PcsaWEZ9VQJDkhYflxsGzOKif5qYsfpaRsNJcsSSGFPtcj3/QE882frF5mTGiby3bTfuM9udOa2x2ruL51ZGePUSPUb7G+fsdRuuZyfJ38FIKGPfkaSr+bczMsrNjDlHv5v72t7/zxRJKtlvw683PmYeV973ksWOteDsBuFZ15p+tvL5DAEEEEAAAQQQQAABBBBAYMEEHBexzoSXc9F6486CMq3Pr4VPjVyM1pqnJAlTrd74GrkT4cjfgvHTGh1JhEcr+9f2WNaHelKmPamuyjPhJW0SU3Vs/XkwRW8kIaCSLjI9L5HomTCtsRJcd4kfNP911DGRyNic7iVJMBlBtdUkWNaYEQNrwisIEwlF59potimJw8829LsayhpqMvLImAo5cO9NpZM7SHYGi/tvdpFrrbEJvok7czpitZvmLo2VeuMvbaOcLDE8Ekd6Hc0bEsjdOFMmnDbLlLX3zHo4+n3o2r9jqEw53SzH8rofjyNTRYfbOxLfq5WgcZulLDnOi4M7ldqOO/LvwGZH8wIBBBBAAAEEEEAAAQQQQGDxBRwXsS9X6s2/r9bCL+sPvz/tzj41yhiN5FumLcpoGJVssY2m0f9uyjuSCL3E3OBYciG9eaFdqTU+r45lSRYkEi1pEzJ6vVwjiWwJL0nCDPw26ygjyuS4UqYkAgfrMFn/rh9Xe73aS2LJyBit7ZNeS1Jhz4G1fcpHKy/VS0fMOJOkUmgWXz849H5ZI64ahPfLa0mQShmSgNlTb1b8WvhPyTY27jEr76jn2DXO+rHUGzn1nyWZqpI+UgdZZ84PwscSxzbWAnPEqt6vztfVoPl92d9siyWGpYyNShB+rXp1499ILFaD5vV+EP5CzPT9e+t39e/O+Wi11vjzK688WB78fbUfd+EXzISYJATNG0k4PLuyppm6UYJMO5R/OxJGMsJN1lXrr9Ulhz/PlzXFgtBIVDXODdZm22yCbS1AOXcu39+8VsqRDWXqppzzZjtkzbzNgniBAAIIIIAAAggggAACCCCwPAKui1jbBavzM+PuiPYRXOHIKBxrAmQwAsym70gi9JIsjr9tJpMsyYLNv6ljWeujJaTUdvpzloSXdQRXEPbWWRqUuSoJP9NYjQDTj6u/loSMrH2UuNCfnACbuGaSfhz9tSNmti3hJYm4QbLFuii8va+a31WJMVVXRz3HJrzEU0sIqaI2nwdljiQYZTrq5gYrKyuOeHQmufQ+z5Lwcm2r10W9vqx2fUklpdRn6tlR39/K1GO1jTzbPG0jsq44cO2lfhCe1tvVe20kxaU+fq1xn7mdTNXVj2tLntsSWb1pj0H44Eh57hsj6IfgNQIIIIAAAggggAACCCCAwKIJ2C5iRy4YJyVO6uGzl9fWqrqLbY0umd6o373QenEqI1Yc0wEdF+WbSRa/1ggSo0Xq4TFJYBQj4RXelXCthbfrbvZF/u0jfvT9JEEkI7Yk+ZA4xvj+s97V0ig78dYRM5t9kdgh4wgv2/76Z7ZEoy3546jn2ISXfhzba3uybfTOmI5Y3faEl9yJ0VbHaT5Lc47YPGU0lzlSsL+4fOOHRiz+Tu7uatatEjQ+ZWzXNZO85vp249bJS0wbNv7dMY/PewQQQAABBBBAAAEEEEAAgQUVsF3EmhegY97/yHZHQPui9skROImL097C3sNpjzq5I4mwmWTpJbbq4TGjrmcHiTC5s5uecMh1hJeMVkomo5JTt6zrnk0YZaYbSeJB+qO3mH2t+X/5QXgykQQcdejaRugYZSbeOmJmsy8SO0yf8FqV0VZ794f/1g/WGupRqTX+whxBNIOE13m9xFovkTo8tiRjJOFixNNIEs0Rq3r8uV/Xmg9ccvDg60xDS0LKuVacua/+XurWH4E1bFPfNfyB0abEOeLo95G2y7Ec7U+UJ9vapzaPLO6/ak6R7CW8ejcYMNuw1jC31acN6w68RgABBBBAAAEEEEAAAQQQWHABx0Ws64Jc1u96tBI0viQjXcyRHUKVdpqSbCt3M0wkD+rh47YkmuMieiTJYht9I4kQP2j+l0kX87Z9J10s20Ya2Uaf9Nd+StxR7xfm1DlJ2lWCxreMunZt07eyhKWMppO1mxI3Eeglv5KJt0llO2JmpC/MMqy+jtE3/RFCzcOyjlfCwkjYqb9vV8LritraW/2g+Z8mJQrVcQfPI0kfR6wmRi6ZRuPebzHhdV6lFjb9eqNt1Nt1nsvniQSVo99H2i5tcLQ/UZ5sOynh5ShrXL3Nv8nU3WvG2fI3BBBAAAEEEEAAAQQQQACBBRRwXMSOTV6MY3Cu3+NIVFguwEfW+lLHclz4mvVcHSxcbV70mu8TF9/WhIzlol/VR56tUzeT+6z6QeNuSzvNOo17r6/1pVch02u5c6UfhM8k6pJxatw0MeNYw8zsv55pb3Hz9PHSc9uOhFe/jpa1pybXZSTp44jVHUl4yWLufq3xd4k+n9ymxDni6PeRtktAOtqfKE+2zSHhNdVIuEwnFhsjgAACCCCAAAIIIIAAAggUT8BxEZtIRKStue0CNuvFdjUIvy6jnfRjOi6iE/UcJHWenHDMxMX3NAmvgd3IAubmWmWOuy+OS27Z/vby3trae3UP/bW5WLv+N/21wzBzImaamLHGhbGguKt+E/pyWxJe1X0H3+bXwhNpjmXZZiTp42qHGOj9keX1tCO8rO6Tk11imjhHHP0+0nZpk6P9ifJkW1v9dCeZ3unXmg9YzG3nie0zRnhlCTS2RQABBBBAAAEEEEAAAQQWRcBxEZtIJKVpr+NC13YROv4zy7RGR9nWetouoo0L5sTFd9aEl0zdrNTCbxvldn0jiWNNiqVLOIwa1Zq32PqgWg/X/CD8bSUIbzaThOb2zuTb/sYN5rbj3meNGVnDzK+HD5tWMn1Tr7NjFNgv9l593d6VlZXzVJ1sU0m3OsKrt+5Zsl/+myRQ9am7jjgZSfo4YjVzYlG1V56nSXjJlFk/CH9huL98eRD+72aS1FJ+4hxx9PtI26WujvYnypNtbeeqnvCytd02bVi2438IIIAAAggggAACCCCAAAIIbAo4LmKtiaTNnRwvHMmA0cRNMqlg+3tiWqPjItpaT1eCRbvwT1x8O+qe2E6a/u6rGt4gQTA6uksW3Q/CuzSe1WotvFc7rq2taT9LTGuUu96NLN5eb7T31g79mZ5EUnWRdbEsC3rLsceOHlP7689ZYkbWY3ON0JEkk16uLekkCT19G3m9lYSX7a6CUqZ5J0BZP8x2V0FHnIwkfRyxmnvCyzbl1tX+Iie8rHFRC++1xbn05SDWD7j+bsYT7xFAAAEEEEAAAQQQQAABBBZQIEvyYlLzZXH1RHKn3vxJpd44pO6wZ38O/6u5nzmt0ZFEsCa8pJ7+/sYNfhAmElKD4yQSWY5Ehuwva149pj3kvavckeRRL9lTDx8fbZssXt/4j3aH/l3nKvvD/yBTykb3G01M+VcdersfhL8ytlHJs7PVWvhzWXy9Wgu/7AfhP7oWYbeNjJrUz46YkRsayFTSTatqED7nqF/Xt4zis432kTt+mvXxDzT/xA9GbwJga4djxNhp2V+SZvoop2TCp3FObjZgHHu1GjQ/amlTIRNe1piuNe6T0Yl6u2TkXzVo/NJoV+IccfT7SNulXMe5mihPtrX1uTnCy34ehRvVILzfDw69X/pSHrJ+YLUeftoPwud7bak1/k7WMNPbymsEEEAAAQQQQAABBBBAAIElEXBcxDoTSS4WuROgH4QPGhfNcofBRMLCLMN6F0PjDn6Oi2hnPR3bq4RQ4uLbmhxINxpNldmV0Vz6qJLL62vXmcmxSi18REagmQb6e9edLv1aeLvarhI0bjPLTthPrv9Zv9YIVJlpnx0xs+mQqh715if1qYJybHuCqvlKf/TVWkMSp/0EXvMV8xi2hNee+rUX2+9MGfbqqidWbKOIJHHST6CsNSSBWgnCb/pBKIk9s60jSR9X7OnHS2uttksm5MKJi7E7pjT2E0W9hLAkWMP/Q+68amlT4hxx9PtI26W+jvYnyuv1ea3xCfPYFqe0N6Mw+0Xe/6Mkw5QjzwgggAACCCCAAAIIIIAAAksi4LiIdSaSXCyyqLpMjzMuXk/LqAvXPupzSQBJIsjYtytJBrWN4yJ6bD0lmeMY2ZS4+N5ywkvWqLrq0NtVfSXxJaPUEm0KGnebiR61j/4sicLEvqPrg51XqTf+0g+SyZ/EfskEjSQCzg6Skav6cdO8dsSMLdng+ux7kiA1j+XoY1cZI5/bEl7uPkgmvFi0PpHES5wjjn7PI+G10kuoZ1+8XhasX9eT0GbM8R4BBBBAAAEEEEAAAQQQQGBBBRwXsWMTSTYKGX1kJlpsSQjbvpIA8oPG3eb++qLmjmTI2HrKha5fD4+Z5druQLeFhNeGHOOy2vUlvW2O0UUb4q1v53oticKR9bmCsGtbrFtGr/hB428dib2RpJBykORipda8ynXsSZ87YsZ6LHXMwfOrlVoYmVPq9OPJulPW5OcwabdRCcKvmaMJXbFW2b+2x6+Hzxr16NXVHEm058DaPte2qv5+EH5OpmMa5Y0kfRyxmvsaXuIqU/oG68i5puHK9NKHB1Nf9T4sVMJL2iLn2OB8drdlGCfPy4jANMllPf54jQACCCCAAAIIIIAAAgggsCAC1VrjGnNqXDUIO5Om3enN33v11bvl7oRGEiDVdEZVzqRpjZccPPg6c/HzNPXcU29WzMSRHzRfkESIOrY89xIjQfOFRBuGF9B6MuBVv95o+0HzsH/g2nfaLqoHa4jp+3TTTGdUdUozrVFtK8+S3JOETaXevLO/HtPIyK8X/SD8mSQlJaGk3/FQLyPta1vMjHHrrSdWrTU+LqOo0hxD2l4Jmh8c3NlxMIVQ2tP4YXX/2gdktI8kuEaOWWs+IDFiK7+XFKw3jwym7g2nJNbCm8ztZcFzqatfa57SzosXq/XGd/wDzSt6d7pMTAFs3KOXY4vVXl0tx9P3G/faDxr3jLQ3CGX00jXj9tH+tip177VhOCKwF8PS1kGbjamFyXPE3u+jbZdj2tufLE+29WvhTUa7uvKZVnfz5ep79q29uxI0vuQH4RNaH/XW25MkuSRkGdVlsvEeAQQQQAABBBBAAAEEEEAAAQQQQAABBBBAAAEEEEAAAQQQQAABBBBAAAEEEEAAAQQQQAABBBBAAAEEEEAAAQQQQAABBBBAAAEEEEAAAQQQQAABBBBAAAEEEEAAAQQQQAABBBBAAAEEEEAAAQQQQAABBBBAAAEEEEAAAQQQQAABBBBAAAEEEEAAAQQQQAABBBBAAAEEEEAAAQQQQAABBBBAAAEEEEAAAQQQQAABBBBAAAEEEEAAAQQQQAABBBBAAAEEEEAAAQQQQAABBBBAAAEEEEAAAQQQQAABBBBAAAEEEEAAAQQQQAABBBBAAAEEEEAAAQQQQAABBBBAAAEEEEAAAQQQQAABBBBAAAEEEEAAAQQQQAABBBBAAAEEEEAAAQQQQAABBBBAAAEEEEAAAQQQQAABBBBAAAEEEEAAAQQQQAABBBBAAAEEEEAAAQQQQAABBBBAAAEEEEAAAQQQQAABBBBAAAEEEEAAAQQQQAABBBBAAAEEEEAAAQQQQAABBBBAAAEEEEAAAQQQQAABBBBAAAEEEEAAAQQQQAABBBBAAAEEEEAAAQQQQAABBBBAAAEEEEAAAQQQQAABBBBAAAEEEEAAAQQQQAABBBBAAAEEEEAAAQQQQAABBBBAAAEEEEAAAQQQQAABBBBAAAEEEEAAAQQQQAABBBBAAAEEEJhWoHogvNKvhV+o1sIvV2rNv77k4MHXTVsW+yGAwPYIyHko56Ocl73z80B45faUTCkIIIAAAggggAACCCCAAAIILLjApQeab6nUwkf8IOz2HrXmLQveZJqHwNwI+LXmLerclPNUzte5qTwVRQABBBBAAAEEEEAAAQQQQGCHBFYrtcbn1QW1H4Snrzhw7aU7VJeRw/q18CatXoNkXHjTyEYp31RrjWv8INxIlKeSfKPPZ6u18OfVWuPj1X0H35byEHO9mYwk8mvNB1L69Pti1KzrB4175hqhoJWX81HOS9U3cr6urKysFrS6VAsBBBBAAAEEEEAAAQQQQACBnRe4Imj4fhCe2byYDhrfOnjw4B/tfM1WVqq1xidUvdSzfDZN3Sr18E9VGRmfX63Uwuiyy65/7TTHzbpPtXrja/ZcdfDN+mPv1VfvzlpO1u2vuuqD51eD5vcz2piJr69mPS7bTxaQ87ESNL6l9c0ZOW8n78kWCCCAAAIIIIAAAggggAACCCyhgFxIV4Pw69qFdNff37ihKBQFSXippM73qgcP7pq1jSMxN/NEEgmvWffs1sqX81I/T+W8LUpiemstY28EEEAAAQQQQAABBBBAAAEEtlnAnCrl18Kn9tSvvXibDzN1cQVLeHX9evOTs55KRsJr6nBZ6B3lvJTzU0t6FWbq8ULD0zgEEEAAAQQQQAABBBBAAIH5E9AXw+5fSDe/K1PqitKSHBJer/pB+KQfhI+pRzUIn9OSCmp0V/+5Hj6+9+rwoln6FC3hVQ3Cn8odAtM8Lq+vXTdLm2UuW85LP2h+dyQ2ubnEMocEbUcAAQQQQAABBBBAAAEEELAJyLpQfr35k9EL6PB227Y79VkOCa9HZa0ss32S1HIt4L631vywuf12vi9cwmvKNdO204Sy+gJ+Lbx95HytN3+Sx/pu+COAAAIIIIAAAggggAACCCAwNwLVeuN9lSD8vX4BLcmWIjVgpxJeYnB5/dAb/Xr4sO4jr2Xx8FmunUTCq0gRWKy6mLEh56+cx8WqJbVBAAEEEEAAAQQQQAABBBBAYAcFZKTSaDKn+UJl/9oeW5WqtcY1fhBujG7fuEfuXFgJmh/0g/BnftB8Rf4uUwKrtfDeSnDdJbay9M9kdJVfbx7xg/CJQfln/Vp4olprfPy9722+YScTXlJP2/FlVJxjVM2qf+Dadw5G4fzMmBp51g/Ck9V64yvVoFlbWVk5T3eQ15JgqwZhZ9Q4HJ1SGYRdv0vZ7NkAACAASURBVBbeZO4r5fkHmldU6s07q0Hjl34Qvjgsp/mKfCZ/G9zZb9Wy/4pr0XoxsG2f5jM/aNwzrEevLRsSS9K3fi281a81T6l+r9bCn0vb/rhef70qW177tWbYu0NhPXzcD0Jx7JkMfB/0642P2UbpqTIkpv2g+YLar/dcaz4gddhzYG2fX2vcp7z6ZTa+4dfC96i12iTG/Vr47/wgfFBt13uuNe6T/W19qY6tP1+xr/kOP2gelvgetEPOp2d6Iwn3N27Q263vp7+2tWXWIw714/MaAQQQQAABBBBAAAEEEEAAgcIL+EH41ZEkQBBap/dJQ8yRJbJftd74jmva36Dcs36t+RGVODBBqvvXPuAH4RmjDsMETz18WNaNMv8+bQLG1gZ/TJulvpKc8oPGOaMOCad+oqvxY2O7YVsGSRrt7z+69EDzLbpJL/kXhI9q21j3N9tfqTWv8uuN9qT9Bn/f8IPGN2x3m5xNwisRY91q0PyoH4S/ctT3QambjKCrBOHNKonq2FbzkWRr89/bYk2SfJY4e7AShF9LJnE3E4yv9hJp9WZlkm0lCL9p81R920vu9c81I2G8eSzVjuf9A80/sbVBleWIkZnfwVMdn2cEEEAAAQQQQAABBBBAAAEECi1gS25Ug+b35XNbxR3JInWhPu75bLUerpllVvcdutwPwtOTExmJpEDXTPiYZbveO9qQSF7p+1uTJZY7WUobLYmxcS7ytx/oiRJHMiNRhtl+eZ/VUUbgmdMybTEh5ZrH030mvbYkVbtup8Y5FSuuuoxvZ+Ncpd44ZNbJ2ofJBGTCeZAM+5/jj9mPz0o9/KLpKfWQ/p2QFDaPaz1fVJtsLuPOW7UfzwgggAACCCCAAAIIIIAAAggshYA1uVJrPnDJwYOvswE4kkXmxbrrfW/UjipXEgPVIPx6mkSCbZtpEzCONmRPeAXhmcHUQNWkld7Uzlr4bVt9x3y2od/VUKZJyqg5YyrkwLQ3XfQxmfJoJnVca42NOa6U+fLe2tp7NxuwsuKe0pjiLo2VeuMvbQkfe8IrmcSUulZq4bfFUdXJrzUCfQrjhPao2BuJNSlrQsLrrN+bKtmfjjvuGNIv9r7ptef0FQeuvVTVffC8WgkatznKfLF/3OEUTW27J2X6o1FW762cn5YE2tgYtpXDZwgggAACCCCAAAIIIIAAAggspMCe+rUX+7XwKe0iWxIGzqlRjmSRrCf1VLXW+HOZnlepNw/4Ndu0vsa5wbpVPcu9+5vv8oPwt8axuzJ1TBJA/lWH3t57dkzTK2LCSxrmB4fe7wfh76pBeL+8rlZvfI18LomgPTI1rhb+U6LNQeMeM8Ac1s6+6R17f+OGwcip/yzrPKnkk9Sh1y9B+Fji2MZaYLbRQ4l9HCOjXKOMHAmvDZlOWL268W8k8VoNmtf7QfgLMdMtpA1+PTzmB+HzsqbbZR+4/kI13e/KKw+W/Xrzk8mEWHIdOlfCq5dgq11fkmMO1um61THF8XTlwFp9cOxVeW0bnWiupdW702d/3TGVjJPnM5fvb16r1v2SdbsqtcbnE8etNW/RLfTXCVPLiEN9e14jgAACCCCAAAIIIIAAAgggsDQCjiSAM6niSMKckYXSdbR3X9XwbEkvPUllXwA/TIxq6S/yHT5pJl30svRjT3rtaMPY0TEOp8QIr8GxV2W0lUrKmPWxl9X8rkqMqe0d9XT2jewnySFJAqkyzOdBmSNrSFWD8C59u7wSXq7kmF4X9VrWvxqzmPuqTM0cjY/R5KqUY3cPEyOypO8qtfCR0fJk9FbjbqNPV+UzczvT0+8lIY3RbJZEVm/aY39B/GFizH1jhJVEwssy4lD58YwAAggggAACCCCAAAIIIIDAUgk4kgDOpIotCeNKXAzuUji8eO+PCtosWxJWZrJA7sKnRiVpHbFaqTf/3ty2wAkvrerJl7ZppDZDm/W40XfJIyU/SdPfeSW8HHeZTFY6xSfWWKqHf6rvam9744eSTNO3k6SWNd5sa9D11mwzklnGCElJgOmxWwnC31frjfcZx+y9TZwzY0ZtkfCyCfIZAggggAACCCCAAAIIIIAAAnLXxf1re/yg+YJ+QT4uqZIlCdNfwN2dDLAmKYLGp2wdUwkanzLqOPUi6o42bOcIL9WEVRlttXd/+G/9YK2hHpVa4y/MqXAzSHid10us9da/Gh5bzCXhYlhuJiGl4ltJeMm6Urb13yzJma70g4JK+yyj4GQK5N7aoT9TnvJsS1CZ5dsSXjZ3qUva+jpiSfdMJM96Ca9esnfYL6otlna4RhFa6picxpnWle0QQAABBBBAAAEEEEAAAQQQWCgB22gjxyirXrtTXOBv+ti21RMMtqSCa9SWLTnm2nazAo4Xtnr5QZg94eUYfSMjhvygeVjW8TISS+Zot833uouqtqOeejJFbbr5fEVt7a1+0PxPyTWtEonHzWObCU5Xwmtab6mcra+lfZsVH/9itbcuWn9duJHpmON8zfJ3IuHlshxXb+NvGzL11+SRUZBynhrbjo1hswzeI4AAAggggAACCCCAAAIIILCwAnJHQL/e/Il+4WxLviiALEkY27Z62bYkiCupstMJL1lsf7AYvJ4oSiQYZCF+uYOi7pnmte4yjbXs069jeDrN8YxtRpJoriSNq29Ufcc92/raTEjZ9u8tWF9r3pJYzN2xaL7eLrP8OU14WUfCWftozHpfNls+QwABBBBAAAEEEEAAAQQQQGBhBWSKmB80v6snCuROea6Fz21JLJmGZSzm3fOaNKXRNk1RPrNh27adNgFja8OkEV62hJskCiVhqOprTUKkSMyI/VYTXtV9B9/m18ITRj/qyblxrwub8OrHUOPcNO0qQsJLpnfKNM9p6j/YxzrCq3d3yt4dLfWRe8kbH6jY5BkBBBBAAAEEEEAAAQQQQACBpRPIslC2NVlkJH4UYKLcOV20Xu7a59fDh82khTn10zEK7Bd7r75u78rKynnKxTaNdKsJr7215ofN+vlB+N/kDpd6MtI2yqmoUxrtydjGuUqt+ddyR0PlKc+2hGQREl5SN3N027hF6/U2jXstIwn9IPztSJ/XwtvH7cPfEEAAAQQQQAABBBBAAAEEEFgqgUESS1sbqXFOkjc2BGvCKwjP+rVGoG//7qsant9fc2lkZJE+KssxAuzJQZJmszh57wfhkyMX9zIqqtb4xOZGGV442pCYnihF7r06vMg1QkeSTPphbUknaaO+jbzeSsLLOZrOuBOgrB9W3XfocvPY85Twso9ist5VsdAJL2tc1MJ7LXcj7XWXrAFXqTcPuP4uG1mSqxtmgs/se94jgAACCCCAAAIIIIAAAgggsFQCvaROPXx8JKFUC2+yITiSRZLUOiN3H7z0QPMt/QXGw38aKa83ums0keZIvkhZj0miSBJDvaRYvdFOlpVMeNmnjyXvXOdow6uDpNpjcvxeHYLwOdtxe5/Vw8fFTTeyjTLya82P6NvIa/9A80/M9cBsI7wsSQ2xOS3792yqN75GlW2OIpLyJWmi/j54Xq0GzY9a2lTIKY22xGClFj4iI+70dvWnkob3m+0yE0C2eLO5S9lJz9C6lpYjlkY8redXEG5UA6nzofdLO+VxxYFrL63Ww0/7Qfh8ry21xt/9cb3+er2t6rVfC28aaa8lHtW2PCOAAAIIIIAAAggggAACCCCwlAIykqQahF/XL6DN6XoKxnGBPzKKSy/HeP2gPhVtK2teSbnmCC9HeWck0aHqL89bbEO/rfXmJ/WpglKuPUHVfKXaG3211qjUG4eqtfDLftB8xXCxruG1p37txX4tfMrcVr3X228bRSSJk34CZa3h72/cUAnCb/pBKIk9s79GEjQOx4S3bjrpddoEkl6OfUpj2PVr4T/59fBDfrDW8IPmv7dNN5U2FiXhJXFSqTU+b3E3+8H2/h8lGaa7yPlq3qFRzt9xI8L0/XmNAAIIIIAAAggggAACCCCAwNIIXF5fu864E5514fotJIvO2qb3yVRIX6ZEJpMwtov/kc/0hI90lCNRM4uE1/f0xJ0KEsfxR+rsaqdtpJEtEanvr7efResTSbwiJbxWJF5cU2P1PjVey4L162YiyzLVk+mM6iTkGQEEEEAAAQQQQAABBBBAAAFdoHdBHoQPDi+4R6cfqm1tCa9qvfGdCRfzZwdT+1ZVOdrzaiVoftA26mmzLvXw4f7IqNGkhp7wkfIcCaftTHi9WqmF0WWXXf9arf4jL2UxcZl2t1n3ZCJvoxKEX/NHrO13aZSCK/vX9vj18FlbeWb79xxY2+fadrC/jO76nG9OXw3CQo7wkvb3kn79aX62kWn9ZKL41MLbTaMCjfDqxchltetLfj08ZiSWXQnR52VEoDmKUAqyjCQcGTnZOxj/hwACCCCAAAIIIIAAAggggAACfQGZ9qZfjMtUPNPGlvCS6WqSBOonrsKfqeRVNQifq9bCeyvBdZeY5Zjve+s11ZtH/CB8YlCHs34tPFGtNT4ui3gn1iySRJKxzljaNbyqtcY1ejvNRInx/my1Fv5c6iGjqMx6295vWvTv7DhI1Mg0xsYPq/vXPiDJRRnRNXKcWvMBqb+tPM3m0ZEpiUb7ZV+xkrr6teYprY0v9pKSB5pXXPaB6y/0g1DK0RItjXv049odk976PpNe+0HjntFjhjJ66ZpJ+6m/SwxJLPlB+OKgHLnJwhN+vXlEfCxxmSi/lzwMmi+M1MPhnra+9lga9VRtGDyvvmff2rsrQeNLWqxLX0h7npGpitIWc1SXXkZ/iuxm/23Ieav/ndcIIIAAAggggAACCCCAAAIIIKAJmHdWtC0QbkksyMX6yAghrUheIoDANgrIgv0jIwhrjR/LebuNh6AoBBBAAAEEEEAAAQQQQAABBBZPwFhTa0PW9tJbScJL1+A1AvkKGGvtnZXzNd8acDQEEEAAAQQQQAABBBBAAAEE5lNgVaaJbU6HM6Z8kfCaz06l1vMvYEw13ZDz1LbG1/y3lBYggAACCCCAAAIIIIAAAgggkLMACa+cwTkcAggggAACCCCAAAIIIIAAAggggMBsBUh4zdaX0hFAAAEEEEAAAQQQQAABBBBAAAEEchaY4q50OdeQwyGAAAIIIIAAAggggAACCCCAAAIIIIAAAggggAACCCCAAAIIIIAAAggggAACCCCAAAIIIIAAAggggAACCCCAAAIIIIAAAggggAACCCCAAAIIIIAAAggggAACCCCAAAIIIIAAAggggAACCCCAAAIIIIAAAggggAACCCCAAAIIIIAAAggggAACCCCAAAIIIIAAAggggAACCCCAAAIIIIAAAggggAACCCCAAAIIIIAAAggggAACCCCAAAIIIIAAAggggAACCCCAAAIIIIAAAggggAACCCCAAAIIIIAAAggggAACCCCAAAIIIIAAAggggAACCCCAAAIIIIAAAggggAACCCCAAAIIIIAAAggggAACCCCAAAIIIIAAAggggAACCCCAAAIIIIAAAggggAACCCCAAAIIIIAAAggggAACCCCAAAIIIIAAAggggAACCCCAAAIIIIAAAggggAACCCCAAAIIIIAAAggggAACCCCAAAIIIIAAAggggAACCCCAAAIIIIAAAggggAACCCCAAAIIIIAAAggggAACCCCAAAIIIIAAAggggAACCCCAAAIIIIAAAggggAACCCCAAAIIIIAAAggggAACCCCAAAIIIIAAAggggAACCCCAAAIIIIAAAggggAACCCCAAAIIIIAAAggggAACCCCAAAIIIIAAAggggAACCCCAAAIIIIAAAggggAACCCCAAAIIIIAAAggggAACCCCAAAIIIIAAAggggAACCCCAAAIIIIAAAggggAACCCCAAAIIIIAAAggggAACCCCAAAIIIIAAAggggAACCCCAAAIIIIAAAggggAACCCCAAAIIIIAAAggggAACCCCAAAIIIIAAAggggAACCCCAAAIIIIAAAggggAACCCCAAAIIIIAAAggggAACCCCAAAIIIIAAAggggAACCCCAAAIIIIAAAggggAAC8yxwpHzyyqjUuT/yOi9FXnzcbIt8Fnlx1/JIbKv2ZZ+VFQwwUOcDzwgggAACCCCAAAIIIIAAAgggkKPAHeXj5UGiq5fQWvfiX5mHl88sya6ubVu1L/usrGCAgTofeEYAAQQQQAABBBBAAAEEEEAAgRwFWqXOTySZJc93lI9fkuOhORQCCy/QKsVfapXbNy98Q2kgAggggAACCCCAAAIIIIAAAkUSkIvxQbKrXKR6URcEFkFAjYxchLbQBgQQQAABBBBAAAEEEEAAAQQQQAABBGQdt95UYSgQQAABBBBAAAEEEEAAAQQQQAABBBBYCAESXgvRjTQCAQQQQAABBBBAAAEEEEAAAQQQQEAJkPBSEjwjgAACCCCAAAIIIIAAAggggAACCCyEAAmvhehGGoEAAggggAACCCCAAAIIIIAAAgggoAQir/0Heaj3PCOAAAIIIIAAAggggAACCCCAQA4Cd5SPl+WRw6E4BAJLJ3CkfPJKeSxdw2kwAggggAACCCCAAAIIIIAAAjspEHmdl+Sxk3Xg2AgggAACCCCAAAIIIIAAAggggAACCGybAGsMbRslBSGAAAIIIIAAAggggAACCCCAAAIIFEGAhFcReoE6IIAAAggggAACCCCAAAIIIIAAAghsmwAJr22jpCAEEEAAAQQQQAABBBBAAAEEEEAAgSIIkPAqQi9QBwQQQAABBBBAAAEEEEAAAQQQQACBbRMg4bVtlBSEQEKgVW7fLI/EH/gAAQQQQAABBBBAAAEEEEAAAQRmJxCV4mPymN0RKBmB5RUgoby8fU/LEUAAAQQQQAABBBBAAAEEEEAAgYUUIOG1kN1KoxBAAAEEEEAAAQQQQAABBBBAAIHlFSDhtbx9T8sRQAABBBBAAAEEEEAAAQQQQACBhRQg4bWQ3UqjEEAAAQQQQAABBBBAAAEEEEAAgeUVIOG1vH1PyxFAAAEEEEAAAQQQQAABBBBAAIGFFIi89h/ksZCNo1EIIIAAAggggAACCCCAAAIIFFXgjvLxsjyKWj/qhcA8Cxwpn7xSHvPcBuqOAAIIIIAAAggggAACCCCAwNwJRF7nJXnMXcWpMAIIIIAAAggggAACCCCAAAIIIIAAAjYB1hiyqfAZAggggAACCCCAAAIIIIAAAggggMDcCpDwmtuuo+IIIIAAAggggAACCCCAAAIIIIAAAjYBEl42FT5DAAEEEEAAAQQQQAABBBBAAAEEEJhbARJec9t1VBwBBBBAAAEEEEAAAQQQQAABBBBAwCZAwsumwmcIbI9Aq9y+WR7bUxqlIIAAAggggAACCCCAAAIIIIBAKoGoFB+TR6qN2QgBBDIJkFDOxMXGCCCAAAIIIIAAAggggAACCCBgF+iuHvbid7dK8ZciL34i8uKNQdLh1VYpbkfl9uGofPKdKyvdVfv+yU8Pr5x6feR1wsiL74u8+DmVxIi8+GzkdU6kLfPoyvHXrZfiB7T9u73Xpfim5FHHf3K4dOqNrXLcMcraiHbH14zbMyrFNxn7dKVOUje1n6OeG+vl+OOT3KJyfI9R/gut3fEeVfak53WvfcTYX4wevOXC47sm7VvEv6u2FLFu1AkBBBBAAAEEEEAAAQQQQAABBOZA4LPndy5a9+IfqSTDmOeNqBz/w527H3vT+GZ1V6NS+1DktZ8fU1Y/aSWJtQll/vVFT5zf8uLvm2W1yvEnxtcj+ddo9/E3R178qFnW4XL7T5NbDz+RY5n7SJ2kbmorVz2jUvzsEe/kpWo723PLi79qlH/mjl0nfNu25meSxIu89iPG/uJ7br0U18zt5+G9ass81JU6IoAAAggggAACCCCAAAIIIIBAwQSiXe2qJGRUgiHN87oX/+qO89tvtzXl6MrxP2p5nXVthJhKbE16fuyzuzt7bWW6Eklzk/Dy4q6M4BIbW/vks60kvFq7TxyQ5Ja979p3uY5Z5M9VW4pcR+qGAAIIIIAAAggggAACCCCAAAIFFOhN7/PaD6vkQsbnH3/ugn/xzGa1vPjGKZJdvWRYy2s/LHUyy1yIhFcpfvmI136/2Tb1fvqEV3e15cV3j+m7X9xRPl5Wx5mXZ9Weeakv9UQAAQQQQAABBBBAAAEEEEAAgYII2KbpDRING5HXeSby4seMtbdGR2mV4lv0pgymRj6ukhXG89l1L5a/ZSpTyl+IhJcXd9e9+Nu3rTz0Wt1MvZ424XXbrvaFkdc+ZVjr/TSX0xojr/0HeSgfnhFAAAEEEEAAAQQQQAABBBBAIAcBGTUzjyNnFI1r3SdZ0P1I6cR71HbyLO8tC713W178z/oor/VS+yOWxMtGq9T5wvpbH37DsExZ4+vkvkHyS0/OdGUtKnOU16IkvGTaYctrrw0dhq+mTXjJ2mOTRtTJCLBJi+YPa1KMV0fKJ6+URzFqQy0QQAABBBBAAAEEEEAAAQQQWBKByOu8JI95ba4sZp5Y92nMtLvDuzqXR158up/Q6jxzuBx/SO7CqNrvuENhNyrFx1xrV8kUv6gUv2wkyRIjkhYo4SXJPddU0MyL1ovrein+uuFnJBBjaxJR9RvPCCCAAAIIIIAAAggggAACCCCAwKaASjJsfjBnL6JSfLtqg/Z8n2vKnYwQkjsvHr6g84GjK0fPM5t7+E2nLo68+CmtLEm8nJMF1c1t1Xs5VuTF9xn7SJLsdrWNPC9YwmtD1jnT2yevpxnhZZtCKqPuIi/+74bp2H4w68J7BBBAAAEEEEAAAQQQQAABBBBYUgGVUJjX5lsSLIlEU5a23bHrhB958RnlMnh+ShJh48qxJd6kbvo+C5bw6kZe58SRNxx/m95GS3+cEVN9G/P14VJ8XXI6Y/uu9VL7BqMfZPrp3E1rNNvLewQQQAABBBBAAAEEEEAAAQQQmLGASijM+DAzKX47E0iqgoO1pMzpdI9Gu4+/WW1je7YtnL9eih+QKZJq++2sr9Qn8uJHVf+pZ6m/Op7t2VbPlhd/X+qmtrfVc7BQ/1fUcdSzlKf2k+esCS/HdMbeSK5178S7Wl78W3Ws/nNybTT9+LxGAAEEEEAAAQQQQAABBBBAAAEEVlQyYR4pbIkZaY+ZhMnStu1MeKVJJE1b37wTXpJca+2O97S89sMqZvrPnSdbbzzxDmWcNeFln0LaPiV3bTy68pvXtLz4u6PHGz+9VNWDZwQQQAABBBBAAAEEEEAAAQQQWGIBlUyYRwISXvmN8OqNJtt9/M2DaYYbKm4Gz59Xd0/MmvCyT1ts37tZXjn+hHGsbssb/r3ocdsqt2+WR9HrSf0QQAABBBBAAAEEEEAAAQQQWCgBufugPOaxUSS88k94Ocw31+nKkvByjODakDW9VDza11TrjwBT2xT5WSXrilxH6oYAAggggAACCCCAAAIIIIAAAgUScCRfmNI4po+mXcNLjfCSolulThB58VmVzOk9l+Jjsh5XloSXfY2ueOQGAbdceHxX5MUPjhzLizcmrVU2hiDXP6l653pQDoYAAggggAACCCCAAAIIIIAAAvMrQMIr/xFeEi2S2OqNDPRifXH/s5IIy5TwKrU/ohJC6lnW7JKRX3pU2u+AOR/TGlW79PbwGgEEEEAAAQQQQAABBBBAAAEEEHAKFD3htUh3adRHeEmH2KYayiL9617nv6gkz+B5c7qj3pG3rTz02siL7zO27UZe+8P6dvK6VT7xvsiLf69vK3eN/Oz5nYvMbYv2XtW5aPWiPggggAACCCCAAAIIIIAAAgggUGABy4iirowImrbKtkRO5I1Os7OVbR+FFH9V33Y7E3SHS6fe2CrHHZVQUc8tr72mH9N8ve61P6W2Vc8pE3OPyp0hh+V1VyMv/rwqY8yzNeF1xDt5aeTFp8fsp48es70eWetrWK9ivVLtK1atqA0CCCCAAAIIIIAAAggggAACCBRawJZokpFDMoLIXvHualRqHzp8QecDR1eOnmduc/hNpy6WBJdKVAyez7V2nzhgbqveO0crGYm37Ux4ucoal+zrTUUsd75ltK0rSUPVFnl2lG0kvFZWWm888Y7I6zxplme8tya8bGuJGfvZklwjn62X4q9Lm/S6F+115LX/II+i1Yv6IIAAAggggAACCCCAAAIIILDQAneUj5flMa+NXC/FtciLz40kS0rxy0e89vttbTq8q3P5cGRR55nD5fhDh1dOvV5te3Tl+OtkxNNIebJW1WBRdrWd/izHikrxy8Y+G9Hu+Bp9O0ciaepF9iOvfZdxTCmr45rqt37BySsiLz5j7mNOI3TUM5HwkralSFwlEl6O8keSWck6jqwX1tt2HqY1HimfvFIeehzwGgEEEEAAAQQQQAABBBBAAAEEZiwQeZ2X5DHjw8yseJnaF3ntR8wEiSR+jpROvEc/sLy3TwOM//lzF/yLp7ZdtyymHnnxRqvU+cL6Wx9+g9puZUVGi53cF3nxY+bxpU5St+G2zpFTUye8ZNRZItnnxd1WqfMTGX01PHZ39fAFJ/4Xez3j0zK9cLits57WhFdvaqXXfjjZ/s0EVSLh5Zg2mjnhJX1yuBRfp9ed1wgggAACCCCAAAIIIIAAAggggMCKSlTMM8WYUUYbkdd5ZpDoeU61NfFcim/R2y8jpGT0UGK7/l0Jzw7+Jkmu1GVK+WNGNr04qKOUOf5Riv9W3cXwlguP74q8+EFHPVO13TYt0FFPa8JL2rVeat8gySdHPRIJr6gU32JuK0k6mWq67sUN1yPy2v/V3M9Wf70veY0AAggggAACCCCAAAIIIIAAAksooBII89z0FKOMxo0e+rE+uks5tLz4xjFJnHHldVte+2FzdJeU60gkjS1L9Y96ljshSjmb9Sx1gsiLz6q/Z3ouxc+ao7vG1NOZ8JrQrpGElytJJ6PqVJtcz44RbU/JumuuffgcAQQQQAABBBBAAAEEX9Yt+AAAIABJREFUEEAAAQSWUEAlSOa96dGudjUqxc+q9qR5XvfiX41O/RsqyGLoLa+zPkXS67HP7u7sHZY0fDUhMZQq8WUmvGRa5Xq5/edTJL1Oy/pnw9oNXznq6Ux4yZ4td+JtJOG1fkH7vZb1zhLTKoe1Gb6SJKJt+qqMMBtuxSsEEEAAAQQQQAABBBBAAAEEEFh6AZUYWgSIwVTEH6k2jXneiMrxP9y5+7E3jW93/46Okdd+fkxZKlE1sUxHIkntn+o5mfDqtyDy4qtapbidop5ynB9H5ZPvdLXdUc+xCa/eHSBL8THL8UcSXra7arralKxfd7XlxXcnjlHufKvod2tMtoVPEEAAAQQQQAABBBBAAAEEEEBgZgIqeTCzA+RecHf1sBe/u1WKvxR58RPaCK1XewmhcvtwP9nTXU1bNbmLY+R1wsiL74u8WNbbUsmpTGU67wA5LE+V63welxw6unL0vN5dK0udbwzWLlPrar0aefGjYiJ3apTtxrXdVk9Z7N82TVMvJ9p9qjK8A+am0Qut3fEe2e6zb+7s7q3VZbQ3zXRGdZx5m9bYKrdvloeqP88IIIAAAggggAACCCCAAAIIIJCDQCSjckrxsRwOxSEQWDoBlRxduobTYAQQQAABBBBAAAEEEEAAAQQQQACBxRQg4bWY/UqrEEAAAQQQQAABBBBAAAEEEEAAgaUVIOG1tF1PwxFAAAEEEEAAAQQQQAABBBBAAIHFFCDhtZj9SqsQQAABBBBAAAEEEEAAAQQQQACBpRUg4bW0XU/DEUAAAQQQQAABBBBAAAEEEEAAgcUUiLz2H+SxmK2jVQgggAACCCCAAAIIIIAAAggUVOCO8vGyPApaPaqFwFwLHCmfvFIec90IKo8AAggggAACCCCAAAIIIIDAvAlEXuclecxbvakvAggggAACCCCAAAIIIIAAAggggAACVgHWGLKy8CECCCCAAAIIIIAAAggggAACCCCAwLwKzGvC6+jK8T+KSvFNUbnz5VapE8yrP/XefoFod3xNLy689l+srHRXt/8IlIgAAggggAACCCCAAAIIIIAAAoUWmNeEV1RqH4q8+FzkdU4cecPxtxUamcrlKnC43P7TyIs31r348c+e37ko14NzMAQQQAABBBBAAAEEEEAAAQQQ2HmBeUx4RbtPVSIvPt1LapTaN4xT/NwF/+K1SvHH1r32zyIvfkW1N/Lif22V4i/dUT5+ybj9R//WXb1j1wl/3evcKYm2yIvPDsp7NfLiR6W8w1787jSjiiKvfZeqS8uLvzp6nHTvpinjtl3tCyOvfUrVu7X7xAHzaOuluNZPJsbdlhf/sxia20x6f8Rrvz8qxS+PPY534l0tL/7tYJtzLa+9Nqlc+Xtrd7wn8uIXZL91L/7V4dKpN+r7HX7TqYsjL36q9/cJ8aHvx2sEEEAAAQQQQAABBBBAAAEEEFgQgUGyoTsvzblt5aHXrnvxt6XeLS/+/l9f9MT5trrLdi2v82ktKdVVbTWeX10vxx8/unL0PFs56rOofPKdkRf/2NjXVuZGy2vfe3jl1OvVvubz0ZXjr1svxQ+osta99qfMbSa9N8toleNPTNpH/n54V+fyyIt/J8eWZNO6d+Jd5n69qaJerNp2RpJ85jbj3t9y4fFdkRf/QLVPklOSpDL36U099OINtd16Kf66TFU1tzPfD0Zw9erX8uLvHl35zWv0bT775s7uVqnzk1655c630pSp77+dr1vl9s3y2M4yKQsBBBBAAAEEEEAAAQQQQAABBCYIRKX4mDwmbFaYP6+X2jfIyC4ZgeQaESTJpsjr/J1KpGjPMsLrsciLX9Q+k8TJhiS9XCOzBiOeZESZSgKp5+cG5ekjx/p/K3e+7Eq0yIikVjnuqPJc7RiHbpYhSaBx26u/ybHUcSMv/sUd5eNl9Tf1HJXje7RtupHX/rD6W5rnlhffOOijnoW01RyFJeUYiTXZ9vQR7+Slk44hyb1h/dp3Jbfvrq577b+XbVzHTu4zm09UPWdTOqUigAACCCCAAAIIIIAAAggggMDcC8haXYOphJIcuU9GcZmN6i9m3/6iSjT0kh5e/N3RqYbd1ah0ct8gWdVPUHmdJ1tvPPEOs7zBiCg92fVKy2v/R32an4wOk4XzR8uLz7oW09en5MloKzmGedxJ72XUVeTFZwbtTD0KKyrFtysb2+goGTEnI+fUNn2/9r2uZKBZTzGMvM6To/snR2HJfsnEWtyNSvEtZpnme5kCOizfnozT2jmVr3nMad+rek67P/shgAACCCCAAAIIIIAAAggggMCCC0gyZJBA2Dhciq+zNXeQeFJra21EpfYXXSOtZDRRVIqfVUkJc1qgJH+iUud+9XcZgbR+Qfu9tuPKZ8nkmG300cqKMZXv0Wj38Te7ynR9PjKtzzGCyty3lwwsd741bE+yflIXWY9suE1vVJt1JJi1/NJosrFfTvI45pRM7XgPypRIs2z1fv2tD78h8to/HGx/Tkbfqb/pz/oosLSj3/T9t+u1atd2lUc5CCCAAAIIIIAAAggggAACCCCwQAKjo7vaj9imyJmjk2SdrHHJE+EZJtHajxzZ3b5aJ5OkmjY175zcGVL/e/J1d7XlxXerJIdrjTE9GePaJln26Cd6GdJOSSCNbpF8N7K2lSz4blnQ3Rg5Nhj9FqcaQWYsVK/2tU6JdCTWZJ9ztoX0VWvWd518i9x9UYxda5DJtkZCMNX6ZuoY2/msYmE7y6QsBBBAAAEEEEAAAQQQQAABBBBYEIH1UvsjKnngmvbWKp94X+TFv+9tV4pflgTMpObLGlYyxdBctF4WQpcpf5vHdEyhNMs31siyjt7Sp+RNe4dGvQyZGmjWw/Zev3uhOImXuZ1R/7FJK31fM9mouVlHYY0m1jon9GmU4xav1xfdd61BJvXSE14yvVGva56vlUOex+RYCCCAAAIIIIAAAggggAACCCAwBwKDu/49OEgeOEcbaes2jb2DY5omG8kh5xRKs6yRRItMDTSmK5qJIXMapVme7b0xrU/WvbrJtp352WDx/XMDx6ekjYltvPanVJJGX9xfFoEft46XsVC9rC3Wm1bqGoWlO0lisVXu/JmM7pJjywiuz57fucism7wfSciNuQOjUf5XbWXl8Vnktf8gjzyOxTEQQAABBBBAAAEEEEAAAQQQQGAgICOcbHfqKxKQrJsVleKXJRnimgK4HYkkvc2DhIncDVJGOVmTQ/r26rWekGmVOj+RaYTqb/JsTOXbkPW89L+nea1P6+tNuUxZhtxtcZjMav9QEmejxxve3bC3XSn+W0lYDfZxruMlySntrpPnIq/9WbWgvs1AjqlPyYy89l0SgzJiS9VPRvSN1q3/Tk9qjhu5VZSE15HyySvlYWsLnyGAAAIIIIAAAggggAACCCCAwIwEIq/zkjxmVPy2FJsmyWGMyLJOo8tSGf2YtrsZusrSEzm2tbWMKXkvyHRKV1muz/UyXCOobPtKYmkzoWQZsWWMHPt9f3H9zQXiHXc77K5GXvz5Ybnxt2WtM/U+so7CMhJrXv9Oi8P11HpJxsTi9eai+7Y1yFS7RxKPXrxjI7xUfXhGAAEEEEAAAQQQQAABBBBAAIEcBVRiIsdDZjqUMXLLmcjSp+vJlDgZBZXpQNrG5h0E1732p7Q/j30p62kpU9v6XCOJmJR3VzQPqJcxbh0rfT9zTTJbm4yRY71RbXqSTEaI6WXKa2Oh+tPR7lMVKVsZ2EZhmYk1tZZY766ZXny6t28pftm8I6ax6L51DTJVPz3xaKuD2o5nBBBAAAEEEEAAAQQQQAABBBBYQAGVmChq09a9E+8aTqtrn7ptV/tCW11lHSvVFtvIKts+rs+mnXZoJsps63PpyaBp66mXkXb0mdzVUpt22JWkmdl+fdF/NRVRn9ppruNlJCO7617nk7L4v2w37Iv2DeZxbIk12cYcwSV3vNTXDTNG8Y2dZjoyQq8c79hdGs228x4BBBBAAAEEEEAAAQQQQAABBHIQUImJHA411SH60+ri3lpa4xJE09y10FWh0TsIxqmnHZpJJUkWjR7DmMqX8u6KehlmUkhGYOl/d72WqZORF78w6G/rwv8yRVDFg5qKOJpwjEfW8dIXqm957Yel/a7RW3q9RqZkGuucHS7F1/XWJbMsXq+P4lMJOb1c9do0SvaD2pJnBBBAAAEEEEAAAQQQQAABBBBYSAGV4Chq4/SRW67kjjnSyDb1Lkv7RhY8zzDt0EgqJRJlRjKoO009jWl93XHrWOlt1hOHkeXukbKtPipKTXk0bDenERoL1Z9VSSV99JZraunIlExjjS9JmkVe+5FBXI7cHXNk0X1jP72thpFj7TF9D14jgAACCCCAAAIIIIAAAggggMBCCRQ+4aWtiSXJLxv+tFMQbWXJZ/r6T+NGlZn7jyRyvNHRULKtMSXPuR6ZWa7+3ihjMwGlb2N7rScObXe6NEdF6VMe9URYP0k3ulB9y2vfK/vLcfVpkZFnuxPkaGLNtr6WsXj9fbetPPRaKVtfT0wl5Gxt1UelyTROSaLZtsvjs1a5fbM88jgWx0AAAQQQQAABBBBAAAEEEEAAgYFAVIqPyaOoIPpURTWKyKyrMbLKOl3P3Gfc+0kLz7v21RMyakqgvq2eDMpyd0VXGZEXj13HSt9Pb5O81v8mr8eNihqMeOtNK5V2RaWT+6JS/HIvWVqKn5XF5lV5+rRIc80v2WZcYm2zjAva79XK7y1eby66ryfk1H7q2ayvSsapv+f5XPSEcp4WHAsBBBBAAAEEEEAAAQQQQAABBFZWVlzT6UwcPZHkmkZn7uN6byZkxo0k0sswEkZd64L1+hpZlhFgenmu1/oosnHrWOn7J6ZSWkbK6aOiTMPRUWWdJ+XOkGrKYasUf0w/lj4azGZnOFmnG8qIrsiL71PJIhnxZayPZt1P1UNPPK6X2h9Rn+/Es2rDThybYyKAAAIIIIAAAggggAACCCCAQAEFjISXc+TWYERPd5BceFSmOE7bHOOY1sSVrex1fVSSF1unGurJoLR3VzSPpU+3tE1NNLeX96MJq9g6lVJfEN6cimiaqCRO5MU/uOXC47vUMc1koW0Ull4XM7GmyunVWVu8Xtb0OrK7fbVadH/cfkZCzRkz+rFm+VpZzfIYlI0AAggggAACCCCAAAIIIIAAAnMkYCRanMkLPeE1LhmiN10WV7clxoxjdm2jlPRy+q+7qy0vvlslN2wjr8xkkGsB/mTZo5/oCS8zMTW65fCdPs0w8tqnbtvVvnD41/4rfUF4mUaa+Hspvl21b/B8tlXqBPp2d5SPl7XRX9b+0kfjjau/1FHqOjjWRqscf1PdvXHcfkbicXP9L72eeb5WZnkek2MhgAACCCCAAAIIIIAAAggggECBBY6uHH+dLBo/SBpYEyhS/cO7OpdHXvy7wXbnWrtPHBjXrDvOb7993Yt/FXnxq1Gp/UVJ1Ojb6+uGydQ6tWi6vo3+ev2Ck1dEXnxGJTds0xmNZFDquyvqx5HXo8mryWt4fe6Cf/EiL/7xZt28+O6Vle6qWa4+DdBWf+Muj11xM9fG0qdFOu8E6bU/rOpiW+NrWK/RJKLaR57H7ae1Y+QOj8Ny832l6p3vUTkaAggggAACCCCAAAIIIIAAAggUWkBLPjkTXolkkhd/25WkunP3Y2+SqXgqESHT5WS0l46gj3aKvPisbWqe2r71xhPvGCTPelMqW177YdtdAY1kkHXKoypz3PMdu074enJt3et80pbAkjJ6o8pK7S9ujowqxb0F4M3yzQXhZcScuc1nz+9cJKPn+gmn+FeSNDS30adFuqZbagmpidNFjdFaasqqcz9xl/7s9237EVs/mHWe9fvIa/9BHrM+DuUjgAACCCCAAAIIIIAAAggggIAmIMkic4ST9ucdf6mte2Vde6pfwe5q5MWfHyaxYrmj4Nf0KYuS/GmVO38WefFj2nanZXSY2Ui562BUip/VtjsjI6v0EU2HV069/nA5/lDktZ/XtktM81Nl68mgLHdXVPurZ0nkrXvxt7VjbrRKnS/ISC61jTxLgioqx/+wmezyYuuoLNnWWBD+BbnrpV6Wei3rY4mpTPtUn+nPeqLQNi0yTWJNLy+xeL20wYu7toSc7HdYW/fLNkpNLzuv10fKJ6+UR17H4zgIIIAAAggggAACCCCAAAIIILCyshJ5nZfkUVQMfQqfK9EhddemKW6OBBokhZ4bjEw6qyWJZJtX3CO3uqvr5fjjI8mifrLlbL+szjO2v0Wl9iHXaCs9GdSbSun17nYoybeJj/VS52/0/hlM4TxttGcj8nr1kvJeMf7Wlamh+gLzenmS4FILwrfKcWfakVH66K3IcidIYySec8SeXjfDTfrNup+0LfLiB/vt7pw48objb9PL4TUCCCCAAAIIIIAAAggggAACCCyRgEqMFLXJ+vpck0btyLTB4ZS2/mgg1T79uVWK27aRXbpBb0SY1/l0PznlLkvKlfIiL75K3998PZIMGoxU0us09rUleST1HxzXTPCZ7zdktNX6Wx9+g1kn9V5fn0sSY7J2mvpb2mdjvbUNKdPc15jWmepumvpUyoGRdT9JXkZefE4SkS0vvtE8Nu8RQAABBBBAAAEEEEAAAQQQQGCJBFSipahN1kcF2abJmfWWRNW6FzcGi92/qNoXefFzkRd/R6YWHl05ep65n+t9P+HSPhJ5nROyntegPJky+UTkxV9JU54kgyIv/r+1uphJqXHvnVM5Zcpfq9T5d4ORTXpb5fUvo3L7sKwx5mqb+jwqxf9hWLf2XerzLM8yKkytZdby4t9KcsvcX24moBKI6RNro9NVbfuN3Fmz1LnfNeXSrA/vEUAAAQQQQAABBBBAAAEEEEBgQQVUoqO4zZO79bXv7dez/cNxI5WK2wZqNkuBwbRXSUJa12Sb5bEpGwEEEEAAAQQQQAABBBBAAAEECihQ/ITXyspgZNA518ihArJSpZwE5A6bg2msG61S/LGcDsthEEAAAQQQQAABBBBAAAEEEECgyALzkPDq3UXQaz/cWyjesjZUkX2p22wFolJ8Sy+Gy50v63fRnO1R05feKrdvlkf6PdgSAQQQQAABBBBAAAEEEEAAAQS2LBCV4mPy2HJBFIAAAgmBeUgoJyrNBwgggAACCCCAAAIIIIAAAggggAACCLgESHi5ZPgcAQQQQAABBBBAAAEEEEAAAQQQQGAuBUh4zWW3UWkEEEAAAQQQQAABBBBAAAEEEEAAAZcACS+XDJ8jgAACCCCAAAIIIIAAAggggAACCMylAAmvuew2Ko0AAggggAACCCCAAAIIIIAAAggg4BKIvPYf5OH6O58jgAACCCCAAAIIIIAAAggggMAMBO4oHy/LYwZFUyQCSy9wpHzySnksPQQACCCAAAIIIIAAAggggAACCOQpEHmdl+SR5zE5FgIIIIAAAggggAACCCCAAAIIIIAAAjMTYI2hmdFSMAIIIIAAAggggAACCCCAAAIIIIDATgiQ8NoJdY6JAAIIIIAAAggggAACCCCAAAIIIDAzARJeM6OlYAQQQAABBBBAAAEEEEAAAQQQQACBnRAg4bUT6hwTAQQQQAABBBBAAAEEEEAAAQQQQGBmAiS8ZkZLwQistMrtm+UBBQIIIIAAAggggAACCCCAAAII5CgQleJj8sjxkBwKgaURIKG8NF1NQxFAAAEEEEAAAQQQQAABBBBAAIHlECDhtRz9TCsRQAABBBBAAAEEEEAAAQQQQACBpREg4bU0XU1DEUAAAQQQQAABBBBAAAEEEEAAgeUQIOG1HP1MKxFAAAEEEEAAAQQQQAABBBBAAIGlESDhtTRdTUMRQAABBBBAAAEEEEAAAQQQQACB5RCIvPYf5LEcraWVCCCAAAIIIIAAAggggAACCBRE4I7y8bI8ClIdqoHAQgkcKZ+8Uh4L1SgagwACCCCAAAIIIIAAAggggEDRBSKv85I8il5P6ocAAggggAACCCCAAAIIIIAAAggggEAqAdYYSsXERggggAACCCCAAAIIIIAAAggggAAC8yJAwmteeop6IoAAAggggAACCCCAAAIIIIAAAgikEiDhlYqJjRBAAAEEEEAAAQQQQAABBBBAAAEE5kWAhNe89BT1RAABBBBAAAEEEEAAAQQQQAABBBBIJUDCKxUTGyEwlUCr3L5ZHlPtzE4IIIAAAggggAACCCCAQN4CN9z0Nzfe8Fe3/uiGv7r1f9zwV7d2eWAwrzHwiSvv68pjYv0/eutL/9tNt/4/vdgn/id78e/CYhlNGf8qoTzx/CJeFiteFq0/p4x/4p7fRgsRA1r85329wfEQQAABBBDIXWCQ7OLH+aL9oKc9xDQxQAxscwyQ8OKCfyEu+Lf5vMCE82JuY+Cmv7kx9wsPDogAAggggECeAr1RLn91a/db932/+9Ajcff0/3eGBwYLHwMnHv1/ezF/w039H+rEP+f9Mv3btxn/gwv/tPGvEl7LZEVbF+/fhs3459//hf+u5/xNnr+b8d//9/9HeV5zcCwEEEAAAQRyF7jho7e+JP9lSr4A+WGQ/GGAyeKaSIJX/VdZ4n9x+5lz2N6308Q/CS+7JTE2fy7TxD/9PH/9TJ/Z+0yL//+R+4UHB0QAAQQQQCBPAXXBz48C+48CXBbbhfhf7P7l/B3fv1njn4TXeE/ibb58ssY//Ttf/Ut/je8vFf95XnNwLAQQQAABBHIXUF94/DAY/8MAn8X0If4Xs185X9P1a9b4v/PiTlce+KbzxanYTlnjn/4sdn/SP9n6R8V/7hceHBABBBBAAIE8BdQXHj8Usv1QwKuYXs88/WJXHmn7h/gvZj+m7T+221r/ZY3/Uw8935UH7ltzx68Yflnjn34rRr/RD9vTDyr+87zm4FgIIIAAAgjkLqC+8PgBsT0/IHDcWcej/q+78kjbD8T/zvZX2n5iu9n0E/E/G1fidT5cif/56CfOp9n0k4r/3C88OCACCCCAAAJ5CqgvPH5QzOYHBa75umZdY4j4z7d/OB+K5U38F6s/OD/y7Q/iP19v4rtY3ir+87zm4FgIIIAAAgjkLqC+8PghUqwfIvTHdP1Bwms6N+JtOd349385+53zvd/vxD/xv8zngor/3C88OCACCCCAAAJ5CqgvvGX+0qfti/Ojl4TX4vQl5+Xs+5J//2dvTBwX15j4L27fcN7Mvm9U/Od5zcGxEEAAAQQQyF1AfeHx42L2Py4wnr0xCa/ZGxPHi2PMv/+L05ecl9n7kvjPbkacLY6Ziv/cLzw4IAIIIIAAAnkKqC88fsQszo+YZe5LEl7E8TLHf9a2Z/33/6fHftOVR9bjsD3nZRFjIGv8F7EN1Ilza9oYUPGf5zUHx0IAAQQQQCB3AfWFN+0XJvvxY6tIMXD/Z57uyiNtnYh/4jdtrCzidlnjP2tCeRHNaNPi/JuRNf7p+8Xpe/ryTFfFf+4XHhwQAQQQQACBPAXUFx5f/vyQW8YYIP6J+2WMe9XmrPFPwovzRcXOIjxnjf9FaDNt4BxWMaDiP89rDo6FAAIIIIBA7gLqC099AfLMj6FligHin3hfpng325o1/kl4cb6YMTTP77PG/zy3lbpz7poxoOI/9wsPDogAAggggECeAuoLz/wi5D0/jpYhBoh/4nwZ4tzVxqzxT8KL88UVS/P4edb4n8c2UmfOWVcMqPjP85qDYyGAAAIIIJC7gPrCc30h8jk/lhY5Boh/4nuR43tS27LGPwkvzpdJMTVPf88a//PUNurKuTopBlT8537hwQERQAABBBDIU0B94U36YuTv/HhaxBgg/onrRYzrtG3KGv93XtzpyiNt+WzH+VXkGMga/0VuC3XjXMsaAyr+87zm4FgIIIAAAgjkLqC+8LJ+UbI9P66KGAPPPP1iVx5p60b8E8dpY2URt8sa/6ceer4rj0W0oE3L929B1vgnRpYvRha5z1X8537hwQERQAABBBDIU0B94S3ylzptW54fqUf9X3flkbbPif/liY20MbFM2xH/xP8yxbvZVuKf+DdjYpneq/jP85qDYyGAAAIIIJC7gPrCW6Yvedq6uD9ys64xRPwvbixwnk/uW+J/shFxtLhGxP/i9i3n7eS+VfGf+4UHB0QAAQQQQCBPAfWFx4+DyT8OMCq+EQmv4vcR51Fx+oh//4vTF5wX+fcF8Z+/OXFeHHMV/3lec3AsBBBAAAEEchdQX3j8CCnOjxD6Yvq+IOE1vR1xt3x2/Pu/fH3OeT7sc+J/aEFcLJ+Fiv/cLzw4IAIIIIAAAnkKqC88fuws34+dRexzEl7E8SLG9azaxL//nC+ziq15KJf4J/7nIU5nVUcV/3lec3AsBBBAAAEEchdQX3iz+kKlXH5Q5hkDJLyItzzjbd6PlfXf/58e+01XHvPeburPvxMSA1njn7ghbhYpBlT8537hwQERQAABBBDIU0B94S3SlzhtWd4fpfd/5umuPNLGAPG/vLGSNkYWebus8Z81obzIdrRt/v/tyBr/9Pn89zl9OOxDFf95XnNwLAQQQAABBHIXUF94/AgY/gjAYnksiP/l6WvO62RfZ41/El5JQ+Jqfk2yxj99Pb99Td8l+07Ff+4XHhwQAQQQQACBPAXUFx4/BpI/BjBZfBPif/H7mPPY3cdZ45+El9uSOJs/m6zxTx/PXx/TZ+4+U/Gf5zUHx0IAAQQQQCB3AfWFx48C948CbBbXhvhf3L7lvJ3ct1njn4TXZFPibn6MssY/fTs/fUtfTe4rFf+5X3hwQAQQQAABBPIUUF94/DiY/OMAo8UzIv4Xr085T9P3adb4J+GV3pY4LL5V1vinT4vfp/RR+j5S8Z/nNQfHQgABBBBAIHcB9YXHj4T0PxKwWhwr4n9x+pLzMntfZo3/Oy/udOWBdXZrzIpnljX+6cPi9SF9Mn2fqPjP/cKDAyKAAAIIIJCngPrC40fD9D8asCuO3TNh7XV5AAAgAElEQVRPv9iVR9o+If6L03dp+4zttq/Pssb/qYee78qDPti+PsBy5yyzxj99tXN9hf3226v4z/Oag2MhgAACCCCQu4D6wuPHxPb/mMA0f9Oj/q+78khrT/zn30dp+4btZt83xP/sjYnj4hoT/8XtG86b2feNiv/cLzw4IAIIIIAAAnkKqC88flzM/scFxrM3zrrGEPE/+z4h7otrTPwXt284b2bfN8T/7I2J4+Iaq/jP85qDYyGAAAIIIJC7gPrC40dJcX+U0Dfp+4aEV3or4gor/v0nBpb53wHin/gn/m/t5n7hwQERQAABBBDIU4AffPzgW6QffCS8iOdFiudZt4V//zlfZh1jRS6f+Cf+ixyfs66biv88rzk4FgIIIIAAArkLqC+8WX+xUj4/LPOIARJexFkecbYox+Dff86XRYnladpB/BP/08TNouyj4j/3Cw8OiAACCCCAQJ4C6gtvUb7Aacdy/4Al4bXc/c/5n63/s/77/9Njv+nKA+dszngV0ytr/NOPxexH+mW6flHxn+c1B8dCAAEEEEAgdwH1hccPhul+MOBWLLf7P/N0Vx5p+4X4L1b/pe03ttuefssa/1kTyvTT9vQTjrNxzBr/9MNs+gHXnXFV8Z/7hQcHRAABBBBAIE8B9YXHD46d+cGB+866E/8760/876x/1vgn4bWz/cX5sr3+WeMf/+31x3NnPVX853nNwbEQQAABBBDIXUB94fHDY2d/eOC/M/7E/864E+/FcM8a/yS8itFvnD/b0w9Z4x/37XHHsRiOKv5zv/DggAgggAACCOQpoL7w+AFSjB8g9EO+/UD85+tNfBfLO2v8k/AqVv9xPm2tP7LGP95b88avWH4q/vO85uBYCCCAAAII5C6gvvD4IVKsHyL0Rz79Qfzn40w8F9M5a/yT8CpmP3J+TdcvWeMf5+mccSumm4r/3C88OCACCCCAAAJ5CqgvPH6QFPMHCf0y234h/mfrS/wW2zdr/N95cacrD/q12P1K/6Trn6zxj2s6V5zmw0nFf57XHBwLAQQQQACB3AXUFx4/UObjBwr9NL6fnnn6xa480joR/+M90zqy3Xw6Zo3/Uw8935UH/T2f/U2/jfZb1vjHb9QPj/n2UPGf+4UHB0QAAQQQQCBPAfWFxw+X+f7hQv/1+++o/+uuPNJ6EP/EfdpYWcTtiH/ifxHjOm2biH/iP22sLOJ2Kv7zvObgWAgggAACCOQuoL7wFvHLnDYt34/ZrGsMEf/LFyP8uzDsc+J/aEFcLJ8F8b98fc55PuxzFf+5X3hwQAQQQAABBPIUUF94/AgY/gjAYn4tSHjNb99x3uXfd/z7n785cV4cc+K/OH3BeZF/X6j4z/Oag2MhgAACCCCQu4D6wuPHRv4/NjDffnMSXttvSpwurin//i9u33LeTu5b4n+yEXG0uEYq/nO/8OCACCCAAAII5CmgvvD4UbO4P2qWqW9JeBHHyxTvW20r//5zvmw1huZ5f+Kf+J/n+N1q3VX853nNwbEQQAABBBDIXUB94W31i5P9+eFYhBgg4UUcFiEO56UOWf/9/+mx33TlMS/to578ezAuBrLG/7iy+BuxNm8xoOI/9wsPDogAAggggECeAuoLb96+qKkvPy5tMXD/Z57uysP2N9tnxD9xZIuLZfksa/xnTSgviyPtnM9/R7LGP/08n/1Mv9n7TcV/ntccHAsBBBBAAIHcBdQXHj8I7D8IcFlsF+J/sfuX83d8/2aNfxJe4z2Jt/nyyRr/9O989S/9Nb6/VPznfuHBARFAAAEEEMhTQH3h8cNg/A8DfBbTh/hfzH7lfE3Xr1njn4RXOlfibz6cssY//Tof/Uo/pesnFf95XnNwLAQQQAABBHIXUF94/EBI9wMBp8VyIv4Xqz85P7P1Z9b4J+GVzZd4LLZX1vinP4vdn/RPtv5R8Z/7hQcHRAABBBBAIE8B9YXHD4VsPxTwWgwv4n8x+pHzcbp+zBr/JLymcyY+i+mWNf7px2L2I/0yXb+o+M/zmoNjIYAAAgggkLuA+sLjB8N0Pxhwm2834n+++4/zb2v9lzX+77y405UH7ltzx68Yflnjn34rRr/RD9vTDyr+c7/w4IAIIIAAAgjkKaC+8PgBsT0/IHDcWcdnnn6xK4+0/UD872x/pe0ntptNP2WN/1MPPd+VB/0xm/7ANV/XrPFP/+TbP3jP1lvFf57XHBwLAQQQQACB3AXUFx4/LGb7wwLffHyP+r/uyiOtN/GfT7+k7Q+2y7c/iP98vYnvYnkT/8XqD86PfPtDxX/uFx4cEAEEEEAAgTwF1BcePzTy/aGB92y8s64xRPzPph+I7/lwJf7no584n2bTT8T/bFyJ1/lwVfGf5zUHx0IAAQQQQCB3AfWFxw+U+fiBQj+N7ycSXuN9iB989Bjg33/iQY+HZXtN/BP/yxbzentV/Od+4cEBEUAAAQQQyFNAfeHpX4K85kfgvMYACS9id15jdyfqzb//nC87EXdFOSbxT/wXJRZ3oh4q/vO85uBYCCCAAAII5C6gvvB24suWY/Jjc7tjgIQXMbXdMbXI5fHvP+fLIsf3pLYR/8T/pBhZ5L+r+M/9woMDIoAAAgggkKeA+sJb5C912rY8P2pJeC1PX3Neb72vs/77/9Njv+nKA/ut22O484ZZ458+2/k+ow+2rw9U/Od5zcGxEEAAAQQQyF1AfeHxI2L7fkRguXOW93/m6a480vYB8b9zfZW2j9hudn2UNf6zJpTpu9n1HbZbt80a/5hv3RzD4hiq+M/9woMDIoAAAgggkKeA+sLjR0hxfoTQF/n1BfGfnzVxXTzrrPFPwqt4fch5NX2fZI1/rKe3xq54dir+87zm4FgIIIAAAgjkLqC+8PgxUrwfI/TJ7PuE+J+9MXFcXOOs8U/Cq7h9yXmWvW+yxj/G2Y0xK66Ziv/cLzw4IAIIIIAAAnkKqC88fpQU90cJfTO7viH+Z2dL3BbfNmv8k/Aqfp9y3qXvo6zxj216W6yKb6XiP89rDo6FAAIIIIBA7gLqC48fJ8X/cUIfbX8fEf/bb0qczo9p1vgn4TU/fct5OLmvssY/ppNNMZofIxX/uV94cEAEEEAAAQTyFFBfePxImZ8fKfTV9vUV8b99lsTl/Flmjf87L+505UFfz19f02fJPssa/xgmDTGZXxMV/3lec3AsBBBAAAEEchdQX3j8aJnfHy303bDvnnn6xa480poQ/0O7tGZstzhmWeP/1EPPd+VBDCxODCxzX2aN/2W2ou2Ld86r+M/9woMDIoAAAgggkKeA+sLjx8zi/ZhZxj496v+6K4+0bSf+ifu0sbKI2xH/xP8ixnXaNhH/xH/aWFnE7VT853nNwbEQQAABBBDIXUB94S3ilzltWr4fs1nXGCL+ly9G+Hdh2OfE/9CCuFg+C+J/+fqc83zY5yr+c7/w4IAIIIAAAgjkKaC+8PgRMPwRgMX8WpDwmt++47zLv+/49z9/c+K8OObEf3H6gvMi/75Q8Z/nNQfHQgABBBBAIHcB9YXHj438f2xgvv3mJLy235Q4XVxT/v1f3L7lvJ3ct8T/ZCPiaHGNVPznfuHBARFAAAEEEMhTQH3h8aNmcX/ULFPfkvAijpcp3rfaVv7953zZagzN8/7EP/E/z/G71bqr+M/zmoNjIYDA/8/eG8dakt31nYMikECE9ZIIgdxEaAVCqzSJtd4VIggx2F1vMIOXP5zezNzqNrNGcoDxAlFHstwhLHGvEqQV65FXuwhZTm+wTOxGaL2W8BIki0zb6qDHmLbf7R48z1mP7d51m86oPVhtY1mManW637fvfffVffecV3VPnfP7ff4o3Td1T1Wd3/f3Obd+v+/cW40CKIAC2RXQDW/ojZPjKRxLYADDCw5L4LCWOaR+/n/4mZtd2GqJj3nyeXAcA6n8H3cu3oO12hgQ/9kbDy6IAiiAAiiAAjkV0A2vths186W47GPg8s9/sgtb33t9++Afjvq48LIvlf9UQ9mLjsRZ5+dIKv/kuc48k7f+vIn/nD0H10IBFEABFECB7ArohkdB0F8QoIttXeDfdn5Zv8fnN5V/DK/j9YS3uvRJ5Z/81pVf8nV8vsR/9saDC6IACqAACqBATgV0w6MwOL4wQB+b+sC/zbyyXuPymso/hlecrvBXh06p/JPXOvJKnuLyJP5z9hxcCwVQAAVQAAWyK6AbHgVCXIGATrZ0gn9b+WR9puUzlX8MrzR94bFsvVL5J59l55P8pOVH/GdvPLggCqAACqAACuRUQDc8CoW0QgG9bOgF/zbyyHo8WR5T+cfwOpnO8Fmmbqn8k8cy80heTpYX8Z+z5+BaKIACKIACKJBdAd3wKBhOVjCgW926wX/d+WP9DctfKv/vePXHu7Ch+zDd0a8M/VL5J29l5I08jJMH8Z+98eCCKIACKIACKJBTAd3wKCDGKSDQcVod9z752S5ssXmA/2nzFZsnxm0nT6n8X/vIZ7qwkY/t5ANd8+qayj/5yZsf9N6u3uI/Z8/BtVAABVAABVAguwK64VFYbLewQN88+v76f/kfurDF6g3/efISmw/G5c0H/OfVG77L0hv+y8oH6yNvPsR/9saDC6IACqAACqBATgV0w6PQyFtooPd29E59xhD8bycP8F2HrvBfR55YT9vJE/xvR1d4rUNX8Z+z5+BaKIACKIACKJBdAd3wKFDqKFDI0/F5wvA6Xh/4QZ9lBvj8h4dlHrz9Df/w74355XjFf/bGgwuiAAqgAAqgQE4FdMNbvgnyN0VgrQxgeMFurexOMW8+/1kvU3BXyjXhH/5LYXGKeYj/nD0H10IBFEABFECB7ArohjfFzZZrUmyOzQCGF0yNzZTl8/H5z3qxzPem2OAf/jcxYvl98Z+98eCCKIACKIACKJBTAd3wLN/Uic1PUYvh5SfXrOvhuU79/P/wMze7sKH9cO3RcHoNU/knZ9PnjByMlwPxn7Pn4FoogAIogAIokF0B3fAoIsYrItByOi0v//wnu7DF5gD+p8tVbI4Yt70cpfKfaiiTu+3lDm2Ha5vKP5oP1xwNy9FQ/GdvPLggCqAACqAACuRUQDc8ipByihBykS8X8J9Pa7guT+tU/jG8yssh6+rkOUnlH61PrjXalaed+M/Zc3AtFEABFEABFMiugG54FCPlFSPkZPs5gf/tawzH5Wqcyj+GV7m5ZJ2l5yaVfzRO1xjNytVM/GdvPLggCqAACqAACuRU4PH26RfDTe/ZP/lE9M/AKGDKLWDITXxuPvLRj3Uq+OA/XjcYs6HVSfjH8LKRe9bw57qT8I9u8G+FgSX+b+XsObgWCqAACqAACmRX4KfPP/07oel/93vff78AtHIzJw4K0+MYCAZXYP7x80/fN73gH16O48Xaew/5P5fGP4YX68TCWnjIP5///I/O/8ffmn7I/4PP/yvZGw8uiAIoMI0Cj59/29nHzz195fFzT9/S//Hn9UEhjA5GdWiffvG+2XX+bf8LOTaa44NmlvySXxiAgTEY+JW/9dEubGOci3PAJAzAAAxMzMD5t52dpvPmqiiAAlkVODC7KOBojt0y8OvPvLe78M53dU/8wtvdakDRNXHRNdLnzxv/0a90YduUz9kvvqN7+7/8X7sPfOTZ7j0f/AP4H0n/TbrzfhnrTPwH9sMaiP38f9N/+6td2MhjGXkkDyfLwzL/fP6fTEPYq1e3Zf4/dv3TGF5ZXQcuhgITKcBPuvx9ndfCV/KHxrD8lebQ7Ox/4UvdF1/6cveVr/4VGxpUy8Cl07td2DZxfOfLX7nP/Meuv9CFDf5Z95uYsfQ+/MO7JZ5TY4F/+E9lxtL4w/zv85PGifwHLosCWRXgod0YXkPNo1qP10Mrwze7wg3Q0g2dWHwWtHrGUEz+g8Erwwv+ffISw4nVMeL/6vUX+Pznf3K4u/+L/3AP4POfz3+rn/Pr4hL/V6+/wEPrs7oOXAwFJlJAX8ut1bRg3hh2QxgQ/+tuiuynEKyJgRTDK8Qlw6umGJkra3IsBuAflsZiqcbzwD/818jtWHMW/xO131wWBVAgpwJq+IeYBhyL6VQrA+J/rBso56GAnJIBDC/4m5K/2q6thqe2eTNf1vkYDMA/HI3BUa3nEP85e26uhQIoMJECavhrNSyYN2bbEAbEf603bOZNwbrMAIYXPCzzwN/H86CGB52O1wl9bOoD/zbzynqNy6v4n6j95rIogAI5FVDDP8Q04FhMp1oZEP8UCHEFAjqVrROGV9n5Yf2UlR81PLF5uXr5Vhe22PGMKyvf5ONwPlL5R7/D+qFH3XqI/5w9N9dCARSYSAE1/LUaFswbs20IA+KfwqXuwoX8PcjflQv7Xdhi9VDBFzuecawTSwyk8p9qKFvSiljsrf1U/mHAHgOecyr+J2q/uSwKoEBOBdTwDzENOBbTqVYGxL/nmz6x+y1iVfDBgF8GPOc+lX8ML9aJpfWSyr+l2ImFtSz+c/bcXAsFUGAiBdTw12pYMG/MtiEMiH+KH4ofjwyo4PMYOzGz5lP5x/CCGUufG6n8W4qdWFjL4n+i9pvLogAK5FRADf8Q04BjMZ1qZUD8U/xQ/HhkQAWfx9iJmTWfyj+GF8xY+txI5d9S7MTCWhb/OXturoUCKDCRAmr4azUsmDdm2xAGxD/FD8WPRwZU8HmMnZhZ86n8Y3jBjKXPjVT+LcVOLKxl8T9R+81lUQAFciqghn+IacCxmE61MiD+KX4ofjwyoILPY+zEzJpP5f/iqWtd2GAHdiwwkMq/hZiJgbUrBsR/zp6ba6EACkykgBr+Wg0L5o3ZNoQB8a8bIK8UQzUzcOf2vS5ssTGo4IsdzzjWhyUGUvnf373bhc2SBsTid02n8g8rflmxmHvxP1H7zWVRAAVyKqCGf4hpwLGYTrUyIP4t3syJyV9xeun0bhe22Nyr4Isdzzh/TFnOOfzDs2W+N8UG//C/iRHL74v/nD0310IBFJhIATX8tRoWzBuzbQgD4t/yTZ3Y/BS1qc8YUsEHI34YIdeLXMP/Qgu48KcF/PvLOet8kXPxP1H7zWVRAAVyKqCGf4hpwLGYTrUyIP4pAhZFAFrUqwWGV725Y93lz50aHrTPrz2aT685/E+fA9bBdDkQ/zl7bq6FAigwkQJq+Gs1LJg3ZtsQBsQ/Rcd0RQfaj6c9htd4WsKlfS3V8JBr+7kmx0dzDP9HNYETP5qI/4naby6LAiiQUwE1/ENMA47FdKqVAfFPkeOnyLGcawwvOLbM99ixqeEZ+7ycj3VYAwPwD6c1cLqtOYr/nD0310IBFJhIATX8tRoWzBuzbQgD4n9bN1TOS0GZkwEML3jLyVvt11LDExvH1cu3urDFjmcc67FkBlL5LzkW5sZaS2VA/E/UfnNZFECBnAqo4R9iGnAsplOtDIj/1Bsl4ymuSmTgyoX9Lmyxc1PBFzuecXBviYFU/lMNZUtaEYu9tZ/KPwzYY8BzTsV/zp6ba6EACkykgBr+Wg0L5o3ZNoQB8e/5pk/sfotYFXww4JcBz7lP5R/Di3Viab2k8m8pdmJhLYv/idpvLosCKJBTATX8Q0wDjsV0qpUB8U/xQ/HjkQEVfB5jJ2bWfCr/GF4wY+lzI5V/S7ETC2tZ/OfsubkWCqDARAqo4a/VsGDemG1DGBD/FD8UPx4ZUMHnMXZiZs2n8o/hBTOWPjdS+bcUO7GwlsX/RO03l0UBFMipgBr+IaYBx2I61cqA+Kf4ofjxyIAKPo+xEzNrPpV/DC+YsfS5kcq/pdiJhbUs/nP23FwLBVBgIgXU8NdqWDBvzLYhDIh/ih+KH48MqODzGDsxs+ZT+b946loXNtiBHQsMpPJvIWZiYO2KAfE/UfvNZVEABXIqoIZ/iGnAsZhOtTIg/nUD5JViqGYG7ty+14UtNgYVfLHjGcf6sMRAKv/7u3e7sFnSgFj8rulU/mHFLysWcy/+c/bcXAsFUGAiBdTw12pYMG/MtiEMiH+LN3Ni8lecXjq924UtNvcq+GLHM84fU5ZzDv/wbJnvTbHBP/xvYsTy++J/ovaby6IACuRUQA3/ENOAYzGdamVA/Fu+qRObn6I29RlDKvhgxA8j5HqRa/hfaAEX/rSAf385Z50vci7+c/bcXAsFUGAiBdTw12pYMG/MtiEMiH+KgEURgBb1aoHhVW/uWHf5c6eGB+3za4/m02sO/9PngHUwXQ7E/0TtN5dFARTIqYAa/iGmAcdiOtXKgPin6Jiu6ED78bTH8BpPS7i0r6UaHnJtP9fk+GiO4f+oJnDiRxPxn7Pn5loogAITKaCGv1bDgnljtg1hQPxT5PgpciznGsMLji3zPXZsanjGPi/nYx3WwAD8w2kNnG5rjuJ/ovaby6IACuRUQA3/ENOAYzGdamVA/G/rhsp5KShzMoDhBW85eav9Wmp4YuO4evlWF7bY8YxjPZbMQCr/JcfC3FhrqQyI/5w9N9dCARSYSAE1/LUaFswbs20IA+I/9UbJeIqrEhm4cmG/C1vs3FTwxY5nHNxbYiCV/1RD2ZJWxGJv7afyDwP2GPCcU/E/UfvNZVEABXIqoIZ/iGnAsZhOtTIg/j3f9IndbxGrgg8G/DLgOfep/GN4sU4srZdU/i3FTiysZfGfs+fmWiiAAhMpoIa/VsOCeWO2DWFA/FP8UPx4ZEAFn8fYiZk1n8o/hhfMWPrcSOXfUuzEwloW/xO131wWBVAgpwJq+IeYBhyL6VQrA+Kf4ofixyMDKvg8xk7MrPlU/jG8YMbS50Yq/5ZiJxbWsvjP2XNzLRRAgYkUUMNfq2HBvDHbhjAg/il+KH48MqCCz2PsxMyaT+UfwwtmLH1upPJvKXZiYS2L/4naby6LAiiQUwE1/ENMA47FdKqVAfFP8UPx45EBFXweYydm1nwq/xdPXevCBjuwY4GBVP4txEwMrF0xIP5z9txcCwVQYCIF1PDXalgwb8y2IQyIf90AeaUYqpmBO7fvdWGLjUEFX+x4xrE+LDGQyv/+7t0ubJY0IBa/azqVf1jxy4rF3Iv/idpvLosCKJBTATX8Q0wDjsV0qpUB8W/xZk5M/orTS6d3u7DF5l4FX+x4xvljynLO4R+eLfO9KTb4h/9NjFh+X/zn7Lm5FgqgwEQKqOGv1bBg3phtQxgQ/5Zv6sTmp6hNfcaQCj4Y8cMIuV7kGv4XWsCFPy3g31/OWeeLnIv/idpvLosCKJBTATX8Q0wDjsV0qpUB8U8RsCgC0KJeLTC86s0d6y5/7tTwoH1+7dF8es3hf/ocsA6my4H4z9lzcy0UQIGJFFDDX6thwbwx24YwIP4pOqYrOtB+PO0xvMbTEi7ta6mGh1zbzzU5Pppj+D+qCZz40UT8T9R+c1kUQIGcCqjhH2IacCymU60MiH+KHD9FjuVcY3jBsWW+x45NDc/Y5+V8rMMaGIB/OK2B023NUfzn7Lm5FgqgwEQKqOGv1bBg3phtQxgQ/9u6oXJeCsqcDGB4wVtO3mq/lhqe2DiuXr7VhS12PONYjyUzkMp/ybEwN9ZaKgPif6L2m8uiAArkVEAN/xDTgGMxnWplQPyn3igZT3FVIgNXLux3YYudmwq+2PGMg3tLDKTyn2ooW9KKWOyt/VT+YcAeA55zKv5z9txcCwVQYCIF1PDXalgwb8y2IQyIf883fWL3W8Sq4IMBvwx4zn0q/xherBNL6yWVf0uxEwtrWfxP1H5zWRRAgZwKqOEfYhpwLKZTrQyIf4ofih+PDKjg8xg7MbPmU/nH8IIZS58bqfxbip1YWMviP2fPzbVQAAUmUkANf62GBfPGbBvCgPin+KH48ciACj6PsRMzaz6VfwwvmLH0uZHKv6XYiYW1LP4nar+5LAqgQE4F1PAPMQ04FtOpVgbEP8UPxY9HBlTweYydmFnzqfxjeMGMpc+NVP4txU4srGXxn7Pn5loogAITKaCGv1bDgnljtg1hQPxT/FD8eGRABZ/H2ImZNZ/K/8VT17qwwQ7sWGAglX8LMRMDa1cMiP+J2m8uiwIokFMBNfxDTAOOxXSqlQHxrxsgrxRDNTNw5/a9LmyxMajgix3PONaHJQZS+d/fvduFzZIGxOJ3TafyDyt+WbGYe/Gfs+fmWiiAAhMpoIa/VsOCeWO2DWFA/Fu8mROTv+L00undLmyxuVfBFzuecf6Yspxz+Idny3xvig3+4X8TI5bfF/8Ttd9cFgVQIKcCaviHmAYci+lUKwPi3/JNndj8FLWpzxhSwQcjfhgh14tcw/9CC7jwpwX8+8s563yRc/Gfs+fmWiiAAhMpoIa/VsOCeWO2DWFA/FMELIoAtKhXCwyvenPHusufOzU8aJ9fezSfXnP4nz4HrIPpciD+J2q/uSwKoEBOBdTwDzENOBbTqVYGxD9Fx3RFB9qPpz2G13hawqV9LdXwkGv7uSbHR3MM/0c1gRM/moj/nD0310IBFJhIATX8tRoWzBuzbQgD4p8ix0+RYznXGF5wbJnvsWNTwzP2eTkf67AGBuAfTmvgdFtzFP8Ttd9cFgVQIKcCaviHmAYci+lUKwPif1s3VM5LQZmTAQwveMvJW+3XUsMTG8fVy7e6sMWOZxzrsWQGUvkvORbmxlpLZUD85+y5uRYKoMBECqjhr9WwYN6YbUMYEP+pN0rGU1yVyMCVC/td2GLnpoIvdjzj4N4SA6n8pxrKlrQiFntrP5V/GLDHgOeciv+J2m8uiwIokFMBNfxDTAOOxXSqlQHx7/mmT+x+i1gVfDDglwHPuU/lH8OLdWJpvaTybyl2YmEti/+cPTfXQgEUmEgBNfy1GhbMG7NtCAPin+KH4scjAyr4PMZOzKz5VP4xvGDG0udGKv+WYicW1rL4n6j95rIogAI5FVDDP8Q04FhMp1oZEP8UPxQ/HhlQwecxdmJmzafyj+EFM5Y+N1L5txQ7sbCWxX/OnptroQAKTKSAGv5aDQvmjdk2hAHxT/FD8eORAfCZFu4AACAASURBVBV8HmMnZtZ8Kv8YXjBj6XMjlX9LsRMLa1n8T9R+c1kUQIGcCqjhH2IacCymU60MiH+KH4ofjwyo4PMYOzGz5lP5v3jqWhc22IEdCwyk8m8hZmJg7YoB8Z+z5+ZaKIACEymghr9Ww4J5Y7YNYUD86wbIK8VQzQzcuX2vC1tsDCr4YsczjvVhiYFU/vd373Zhs6QBsfhd06n8w4pfVizmXvxP1H5zWRRAgZwKqOEfYhpwLKZTrQyIf4s3c2LyV5xeOr3bhS029yr4Ysczzh9TlnMO//Bsme9NscE//G9ixPL74j9nz821UAAFJlJADX+thgXzxmwbwoD4t3xTJzY/RW3qM4ZU8MGIH0bI9SLX8L/QAi78aQH//nLOOl/kXPxP1H5zWRRAgZwKqOEfYhpwLKZTrQyIf4qARRGAFvVqgeFVb+5Yd/lzp4YH7fNrj+bTaw7/0+eAdTBdDsR/zp6ba6EACkykgBr+Wg0L5o3ZNoQB8U/RMV3RgfbjaY/hNZ6WcGlfSzU85Np+rsnx0RzD/1FN4MSPJuJ/ovaby6IACuRUQA3/ENOAYzGdamVA/FPk+ClyLOcawwuOLfM9dmxqeMY+L+djHdbAAPzDaQ2cbmuO4j9nz821UAAFJlJADX+thgXzxmwbwoD439YNlfNSUOZkAMML3nLyVvu11PDExnH18q0ubLHjGcd6LJmBVP5LjoW5sdZSGRD/E7XfXBYFUCCnAmr4h5gGHIvpVCsD4j/1Rsl4iqsSGbhyYb8LW+zcVPDFjmcc3FtiIJX/VEPZklbEYm/tp/IPA/YY8JxT8Z+z5+ZaKIACEymghr9Ww4J5Y7YNYUD8e77pE7vfIlYFHwz4ZcBz7lP5x/BinVhaL6n8W4qdWFjL4n+i9pvLogAK5FRADf8Q04BjMZ1qZUD8U/xQ/HhkQAWfx9iJmTWfyj+GF8xY+txI5d9S7MTCWhb/OXturoUCKDCRAmr4azUsmDdm2xAGxD/FD8WPRwZU8HmMnZhZ86n8Y3jBjKXPjVT+LcVOLKxl8T9R+81lUQAFciqghn+IacCxmE61MiD+KX4ofjwyoILPY+zEzJpP5R/DC2YsfW6k8m8pdmJhLYv/nD0310IBFJhIATX8tRoWzBuzbQgD4p/ih+LHIwMq+DzGTsys+VT+L5661oUNdmDHAgOp/FuImRhYu2JA/E/UfnNZFECBnAqo4R9iGnAsplOtDIh/3QB5pRiqmYE7t+91YYuNQQVf7HjGsT4sMZDK//7u3S5sljQgFr9rOpV/WPHLisXci/+cPTfXQgEUmEgBNfy1GhbMG7NtCAPi3+LNnJj8FaeXTu92YYvNvQq+2PGM88eU5ZzDPzxb5ntTbPAP/5sYsfy++J+o/eayKIACORVQwz/ENOBYTKdaGRD/lm/qxOanqE19xpAKPhjxwwi5XuQa/hdawIU/LeDfX85Z54uci/+cPTfXQgEUmEgBNfy1GhbMG7NtCAPinyJgUQSgRb1aYHjVmzvWXf7cqeFB+/zao/n0msP/9DlgHUyXA/E/UfvNZVEABXIqoIZ/iGnAsZhOtTIg/ik6pis60H487TG8xtMSLu1rqYaHXNvPNTk+mmP4P6oJnPjRRPzn7Lm5FgqgwEQKqOGv1bBg3phtQxgQ/xQ5foocy7nG8IJjy3yPHZsanrHPy/lYhzUwAP9wWgOn25qj+J+o/eayKIACORVQwz/ENOBYTKdaGRD/27qhcl4KypwMYHjBW07ear+WGp7YOK5evtWFLXY841iPJTOQyn/JsTA31loqA+I/Z8/NtVAABSZSQA1/rYYF88ZsG8KA+E+9UTKe4qpEBq5c2O/CFjs3FXyx4xkH95YYSOU/1VC2pBWx2Fv7qfzDgD0GPOdU/E/UfnNZFECBnAqo4R9iGnAsplOtDIh/zzd9YvdbxKrggwG/DHjOfSr/GF6sE0vrJZV/S7ETC2tZ/OfsubkWCqDARAqo4a/VsGDemG1DGBD/FD8UPx4ZUMHnMXZiZs2n8o/hBTOWPjdS+bcUO7GwlsX/RO03l0UBFMipgBr+IaYBx2I61cqA+Kf4ofjxyIAKPo+xEzNrPpV/DC+YsfS5kcq/pdiJhbUs/nP23FwLBVBgIgXU8NdqWDBvzLYhDIh/ih+KH48MqODzGDsxs+ZT+cfwghlLnxup/FuKnVhYy+J/ovaby6IACuRUQA3/ENOAYzGdamVA/FP8UPx4ZEAFn8fYiZk1n8r/xVPXurDBDuxYYCCVfwsxEwNrVwyI/5w9N9dCARSYSAE1/LUaFswbs20IA+JfN0BeKYZqZuDO7Xtd2GJjUMEXO55xrA9LDKTyv797twubJQ2Ixe+aTuUfVvyyYjH34n+i9pvLogAK5FRADf8Q04BjMZ1qZUD8W7yZE5O/4vTS6d0ubLG5V8EXO55x/piynHP4h2fLfG+KDf7hfxMjlt8X/zl7bq6FAigwkQKPt0+/GJr+Z//kE12tpgXzxnA7CQMf+ejHusD+E7/w9u7Ol78SbRJYLgCIre4COOUZQ1986cudCj74rzvvrNv0/In/q9df4PP/q+n6wVzdmon/cA/g87/uXLIW0/Mn/q9ef+HWRO03l0UBFMipwE+ff/p3QtP/7ve+vwsGwEmMA47BcKqNgWDwBuYD+xfe+a5u/wtf6sINkMIhvXBAs3I0izW8QoMTmJfhBf/l5JD1tP1cwP/2NYbjcjWG/3Jzw7rZfm4O879/JWfPzbVQAAUmUuDx8287G5p+NjRwx8D5Bzl/zwf/4H7jH/5PvwwAXtGiRgZkeNU4d+bMmpuSAT7/4W9K/qa+NvzD/9QMTnP9T5+dqP3msiiAAjkVwPDC6HJndK0YvDK8prnZUmSh+3gMDDG8aHjGywNMoyUMwAAMwAAMlM4AhldOz4FrocBkCvCTRn6OWNvPEceYLz9p3P7Xxvlqfn6NZXht0v7wV/pf4Ce9PMPI1c+5T8r/1cu3urBtWl+8n/+zD83jNT8p/2gcrzFalavVYf75SeNkBgQXRoGcCvDQegyvMQykGs/BQ+vLLUgoFk+WmysX9ruwxeinh7aG/wMdCsCYYxhzsrygW3m6if/wzcZY/mMNZfJdXr7JyeGciH8+/w/rAic+9BD/PLQ+p+PAtVBgQgX0c7YaDQvmjFk3lAHxT5Hjo8ghz4fzrJ9boMthXdDDhx6p/GN4+eDCy/pP5d+LLsTpY52L/wlbcC6NAiiQSwE1/EONA47HfKqRAfFPgeOjwCHPh/Osgg9dDuuCHj70SOUfw8sHF17Wfyr/XnQhTh/rXPzn6re5DgqgwIQKqOGv0axgzphsQxkQ/xQ4Pgoc8nw4zyr40OWwLujhQ49U/jG8fHDhZf2n8u9FF+L0sc7F/4QtOJdGARTIpYAa/qHGAcdjPtXIgPinwPFR4JDnw3lWwYcuh3VBDx96pPKP4eWDCy/rP5V/L7oQp491Lv5z9dtcBwVQYEIF1PDXaFYwZ0y2oQyIfwocHwUOeT6cZxV86HJYF/TwoUcq/xdPXevCBh8++LCe51T+retBfL7WtfifsAXn0iiAArkUUMM/1DjgeMynGhkQ/xQ6vgodq/m+c/teF7bY+FTwxY5nHOvEEgOp/O/v3u3CZkkDYvG7plP5hxW/rFjMvfjP1W9zHRRAgQkVUMNfo1nBnDHZhjIg/i3ezInJX3F66fRuF7bY3Kvgix3POH9MWc45/MOzZb43xQb/8L+JEcvvi/8JW3AujQIokEsBNfxDjQOOx3yqkQHxb/mmTmx+itrUZwyp4IMRP4yQ60Wu4X+hBVz40wL+/eWcdb7IufjP1W9zHRRAgQkVUMNfo1nBnDHZhjIg/ikCFkUAWtSrBYZXvblj3eXPnRoetM+vPZpPrzn8T58D1sF0ORD/E7bgXBoFUCCXAmr4hxoHHI/5VCMD4p+iY7qiA+3H0x7Dazwt4dK+lmp4yLX9XJPjozmG/6OawIkfTcR/rn6b66AACkyogBr+Gs0K5ozJNpQB8U+R46fIsZxrDC84tsz32LGp4Rn7vJyPdVgDA/APpzVwuq05iv8JW3AujQIokEsBNfxDjQOOx3yqkQHxv60bKueloMzJAIYXvOXkrfZrqeGJjePq5Vtd2GLHM471WDIDqfyXHAtzY62lMiD+c/XbXAcFUGBCBdTw12hWMGdMtqEMiP/UGyXjKa5KZODKhf0ubLFzU8EXO55xcG+JgVT+Uw1lS1oRi721n8o/DNhjwHNOxf+ELTiXRgEUyKWAGv6hxgHHYz7VyID493zTJ3a/RawKPhjwy4Dn3Kfyj+HFOrG0XlL5txQ7sbCWxX+ufpvroAAKTKiAGv4azQrmjMk2lAHxT/FD8eORARV8HmMnZtZ8Kv8YXjBj6XMjlX9LsRMLa1n8T9iCc2kUQIFcCqjhH2occDzmU40MiH+KH4ofjwyo4PMYOzGz5lP5x/CCGUufG6n8W4qdWFjL4j9Xv811UAAFJlRADX+NZgVzxmQbyoD4p/ih+PHIgAo+j7ETM2s+lX8ML5ix9LmRyr+l2ImFtSz+J2zBuTQKoEAuBdTwDzUOOB7zqUYGxD/FD8WPRwZU8HmMnZhZ86n8Xzx1rQsb7MCOBQZS+bcQMzGwdsWA+M/Vb3MdFECBCRVQw1+jWcGcMdmGMiD+dQPklWKoZgbu3L7XhS02BhV8seMZx/qwxEAq//u7d7uwWdKAWPyu6VT+YcUvKxZzL/4nbMG5NAqgQC4F1PAPNQ44HvOpRgbEv8WbOTH5K04vnd7twhabexV8seMZ548pyzmHf3i2zPem2OAf/jcxYvl98Z+r3+Y6KIACEyqghr9Gs4I5Y7INZUD8W76pE5ufojb1GUMq+GDEDyPkepFr+F9oARf+tIB/fzlnnS9yLv4nbMG5NAqgQC4F1PAPNQ44HvOpRgbEP0XAoghAi3q1wPCqN3esu/y5U8OD9vm1R/PpNYf/6XPAOpguB+I/V7/NdVAABSZUQA1/jWYFc8ZkG8qA+KfomK7oQPvxtMfwGk9LuLSvpRoecm0/1+T4aI7h/6gmcOJHE/E/YQvOpVEABXIpoIZ/qHHA8ZhPNTIg/ily/BQ5lnON4QXHlvkeOzY1PGOfl/OxDmtgAP7htAZOtzVH8Z+r3+Y6KIACEyqghr9Gs4I5Y7INZUD8b+uGynkpKHMygOEFbzl5q/1aanhi47h6+VYXttjxjGM9lsxAKv8lx8LcWGupDIj/CVtwLo0CKJBLATX8Q40Djsd8qpEB8Z96o2Q8xVWJDFy5sN+FLXZuKvhixzMO7i0xkMp/qqFsSStisbf2U/mHAXsMeM6p+M/Vb3MdFECBCRVQw1+jWcGcMdmGMiD+Pd/0id1vEauCDwb8MuA596n8Y3ixTiytl1T+LcVOLKxl8T9hC86lUQAFcimghn+occDxmE81MiD+KX4ofjwyoILPY+zEzJpP5R/DC2YsfW6k8m8pdmJhLYv/XP0210EBFJhQATX8NZoVzBmTbSgD4p/ih+LHIwMq+DzGTsys+VT+MbxgxtLnRir/lmInFtay+J+wBefSKIACuRRQwz/UOOB4zKcaGRD/FD8UPx4ZUMHnMXZiZs2n8o/hBTOWPjdS+bcUO7GwlsV/rn6b66AACkyogBr+Gs0K5ozJNpQB8U/xQ/HjkQEVfB5jJ2bWfCr/F09d68IGO7BjgYFU/i3ETAysXTEg/idswbk0CqBALgXU8A81Djge86lGBsS/boC8UgzVzMCd2/e6sMXGoIIvdjzjWB+WGEjlf3/3bhc2SxoQi981nco/rPhlxWLuxX+ufpvroAAKTKiAGv4azQrmjMk2lAHxb/FmTkz+itNLp3e7sMXmXgVf7HjG+WPKcs7hH54t870pNviH/02MWH5f/E/YgnNpFECBXAqo4R9qHHA85lONDIh/yzd1YvNT1KY+Y0gFH4z4YYRcL3IN/wst4MKfFvDvL+es80XOxX+ufpvroAAKTKiAGv4azQrmjMk2lAHxTxGwKALQol4tMLzqzR3rLn/u1PCgfX7t0Xx6zeF/+hywDqbLgfifsAXn0iiAArkUUMM/1DjgeMynGhkQ/xQd0xUdaD+e9hhe42kJl/a1VMNDru3nmhwfzTH8H9UETvxoIv5z9dtcBwVQYEIF1PDXaFYwZ0y2oQyIf4ocP0WO5VxjeMGxZb7Hjk0Nz9jn5XyswxoYgH84rYHTbc1R/E/YgnNpFECBXAqo4R9qHHA85lONDIj/bd1QOS8FZU4GMLzgLSdvtV9LDU9sHFcv3+rCFjuecazHkhlI5b/kWJgbay2VAfGfq9/mOiiAAhMqoIa/RrOCOWOyDWVA/KfeKBlPcVUiA1cu7Hdhi52bCr7Y8YyDe0sMpPKfaihb0opY7K39VP5hwB4DnnMq/idswbk0CqBALgXU8A81Djge86lGBsS/55s+sfstYlXwwYBfBjznPpV/DC/WiaX1ksq/pdiJhbUs/nP121wHBVBgQgXU8NdoVjBnTLahDIh/ih+KH48MqODzGDsxs+ZT+cfwghlLnxup/FuKnVhYy+J/whacS6MACuRSQA3/UOOA4zGfamRA/FP8UPx4ZEAFn8fYiZk1n8o/hhfMWPrcSOXfUuzEwloW/7n6ba6DAigwoQJq+Gs0K5gzJttQBsQ/xQ/Fj0cGVPB5jJ2YWfOp/GN4wYylz41U/i3FTiysZfE/YQvOpVEABXIpoIZ/qHHA8ZhPNTIg/il+KH48MqCCz2PsxMyaT+X/4qlrXdhgB3YsMJDKv4WYiYG1KwbEf65+m+ugAApMqIAa/hrNCuaMyTaUAfGvGyCvFEM1M3Dn9r0ubLExqOCLHc841oclBlL539+924XNkgbE4ndNp/IPK35ZsZh78T9hC86lUQAFcimghn+occDxmE81MiD+Ld7MiclfcXrp9G4Xttjcq+CLHc84f0xZzjn8w7NlvjfFBv/wv4kRy++L/1z9NtdBARSYUAE1/DWaFcwZk20oA+Lf8k2d2PwUtanPGFLBByN+GCHXi1zD/0ILuPCnBfz7yznrfJFz8T9hC86lUQAFcimghn+occDxmE81MiD+KQIWRQBa1KsFhle9uWPd5c+dGh60z689mk+vOfxPnwPWwXQ5EP+5+m2ugwIoMKECavhrNCuYMybbUAbEP0XHdEUH2o+nPYbXeFrCpX0t1fCQa/u5JsdHcwz/RzWBEz+aiP8JW3AujQIokEsBNfxDjQOOx3yqkQHxT5Hjp8ixnGsMLzi2zPfYsanhGfu8nI91WAMD8A+nNXC6rTmK/1z9NtdBARSYUAE1/DWaFcwZk20oA+J/WzdUzktBmZMBDC94y8lb7ddSwxMbx9XLt7qwxY5nHOuxZAZS+S85FubGWktlQPxP2IJzaRRAgVwKqOEfahxwPOZTjQyI/9QbJeMprkpk4MqF/S5ssXNTwRc7nnFwb4mBVP5TDWVLWhGLvbWfyj8M2GPAc07Ff65+m+ugAApMqIAa/hrNCuaMyTaUAfHv+aZP7H6LWBV8MOCXAc+5T+Ufw4t1Ymm9pPJvKXZiYS2L/wlbcC6NAiiQSwE1/EONA47HfKqRAfFP8UPx45EBFXweYydm1nwq/xheMGPpcyOVf0uxEwtrWfzn6re5DgqgwIQKqOGv0axgzphsQxkQ/xQ/FD8eGVDB5zF2YmbNp/KP4QUzlj43Uvm3FDuxsJbF/4QtOJdGARTIpYAa/qHGAcdjPtXIgPin+KH48ciACj6PsRMzaz6VfwwvmLH0uZHKv6XYiYW1LP5z9dtcBwVQYEIF1PDXaFYwZ0y2oQyIf4ofih+PDKjg8xg7MbPmU/m/eOpaFzbYgR0LDKTybyFmYmDtigHxP2ELzqVRAAVyKaCGf6hxwPGYTzUyIP51A+SVYqhmBu7cvteFLTYGFXyx4xnH+rDEQCr/+7t3u7BZ0oBY/K7pVP5hxS8rFnMv/nP121wHBVBgQgXU8NdoVjBnTLahDIh/izdzYvJXnF46vduFLTb3KvhixzPOH1OWcw7/8GyZ702xwT/8b2LE8vvif8IWnEujAArkUkAN/1DjgOMxn2pkQPxbvqkTm5+iNvUZQyr4YMQPI+R6kWv4X2gBF/60gH9/OWedL3Iu/nP121wHBVBgQgXU8NdoVjBnTLahDIh/ioBFEYAW9WqB4VVv7lh3+XOnhgft82uP5tNrDv/T54B1MF0OxP+ELTiXRgEUyKWAGv6hxgHHYz7VyID4p+iYruhA+/G0x/AaT0u4tK+lGh5ybT/X5PhojuH/qCZw4kcT8Z+r3+Y6KIACEyqghr9Gs4I5Y7INZUD8U+T4KXIs5xrDC44t8z12bGp4xj4v52Md1sAA/MNpDZxua47if8IWnEujAArkUkAN/1DjgOMxn2pkQPxv64bKeSkoczKA4QVvOXmr/VpqeGLjuHr5Vhe22PGMYz2WzEAq/yXHwtxYa6kMiP9c/TbXQQEUmFABNfw1mhXMGZNtKAPiP/VGyXiKqxIZuHJhvwtb7NxU8MWOZxzcW2Iglf9UQ9mSVsRib+2n8g8D9hjwnFPxP2ELzqVRAAVyKaCGf6hxwPGYTzUyIP493/SJ3W8Rq4IPBvwy4Dn3qfxjeLFOLK2XVP4txU4srGXxn6vf5joogAITKqCGv0azgjljsg1lQPxT/FD8eGRABZ/H2ImZNZ/KP4YXzFj63Ejl31LsxMJaFv8TtuBcGgVQIJcCaviHGgccj/lUIwPin+KH4scjAyr4PMZOzKz5VP4xvGDG0udGKv+WYicW1rL4z9Vvcx0UQIEJFVDDX6NZwZwx2YYyIP4pfih+PDKggs9j7MTMmk/lH8MLZix9bqTybyl2YmEti/8JW3AujQIokEsBNfxDjQOOx3yqkQHxT/FD8eORARV8HmMnZtZ8Kv8XT13rwgY7sGOBgVT+LcRMDKxdMSD+c/XbXAcFUGBCBdTw12hWMGdMtqEMiH/dAHmlGKqZgTu373Vhi41BBV/seMaxPiwxkMr//u7dLmyWNCAWv2s6lX9Y8cuKxdyL/wlbcC6NAiiQSwE1/EONA47HfKqRAfFv8WZOTP6K00und7uwxeZeBV/seMb5Y8pyzuEfni3zvSk2+If/TYxYfl/85+q3uQ4KoMCECqjhr9GsYM6YbEMZEP+Wb+rE5qeoTX3GkAo+GPHDCLle5Br+F1rAhT8t4N9fzlnni5yL/wlbcC6NAiiQSwE1/EONA47HfKqRAfFPEbAoAtCiXi0wvOrNHesuf+7U8KB9fu3RfHrN4X/6HLAOpsuB+M/Vb3MdFECBCRVQw1+jWcGcMdmGMiD+KTqmKzrQfjztMbzG0xIu7Wuphodc2881OT6aY/g/qgmc+NFE/E/YgnNpFECBXAqo4R9qHHA85lONDIh/ihw/RY7lXGN4wbFlvseOTQ3P2OflfKzDGhiAfzitgdNtzVH85+q3uQ4KoMCECqjhr9GsYM6YbEMZEP/buqFyXgrKnAxgeMFbTt5qv5Yantg4rl6+1YUtdjzjWI8lM5DKf8mxMDfWWioD4n/CFpxLowAK5FJADf9Q44DjMZ9qZED8p94oGU9xVSIDVy7sd2GLnZsKvtjxjIN7Swyk8p9qKFvSiljsrf1U/mHAHgOecyr+c/XbXAcFUGBCBdTw12hWMGdMtqEMiH/PN31i91vEquCDAb8MeM59Kv8YXqwTS+sllX9LsRMLa1n8T9iCc2kUQIFcCqjhH2occDzmU40MiH+KH4ofjwyo4PMYOzGz5lP5x/CCGUufG6n8W4qdWFjL4j9Xv13FdeZN+8fzpu16tj9eFwDHPPIIGtSpwY2nf7VbZ16E93rWQccxLRo09Wkgw+sz/+SdvVyH/esKI475qw4N6tZABd8y4+S07pwu51J/k9P1Ob3+8xejP+NleAU9pe3qK1qv1xrd2vv3zFVm9N+wAzuBBTjIo0Gof8Lnf19PG/yLdf5OtfuvP/rUq242s9ccF8C8mf37fkFm/37dcRwTzB50q1GDm0//s7WGV3ivby1wTNuhQX0aLAyvf9HL9Wf+yb84prHhmKBP3+cBuoXGpnx2+g0vcgrXoeHwwcH1f3yc4XVYg4XhVf7alomy/OolpzV89i7nRX+THz+fOzA6fY103/D6x+sMr/X+zjrfp/j9N3baD4WCfZPpVXwgTBAFTqCAGv513+hiPz9VtMyA+FfByStfc/fEQJ/h5Sl+YvW93lP5v3jqWhc2uPHNjZX8p/JvJW7iYP0GBsT/CVrnOg/R/50O3/SqMwJmjQInV0ANv2VTg9gw7dYxIP4pgCiALDBw5/a9Lmyxsajgix3PONaJJQZS+d/fvduFzZIGxOJ3TafyDyt+WbGYe/Ef20HvNbOnwhY7vrhxMryKmxgTQoEMCqjhX2cIsB+zyDID4t/izZyY/BWnl07vdmGLzb0KvtjxjPPHlOWcwz88W+Z7U2zwD/+bGLH8vviPbbWr94uqDyA2U4xDgR4F1PBbNjWIDdNuHQPi3/JNndj8FLV6xlBszlXwxY5nnB+WPOQa/uHZA+frYoR/+F/Hhof94r+nNe7dVb1fVH0AvWlhJwrEKaCGf50hwH7MIssMiH8PN3ditF/cYnjZzzHreLwcq+FB0/E0Rct6tIT/enLFuho/V+I/rlsO/xBfe/8faYodX9y46gMoTlEmVJMCavgtmxrEhmm3jgHxTzExfjGBpvk1xfDKrzmc16u5Gh5yWG8Oyd3Jcwf/J9cO7urXTvzH9uzV+0XzZvZM2GIDZhwKWFJADf86Q4D9mEWWGRD/FC/1Fy/k8K86DC84Zh3EM6CGB83iNUMrO1rBv51csi7Tcyn+Y3v66g2v2EAZhwIWFVDDb9nUIDZMu3UMiH+KhfRiAc3K0wzDq7ycsE7KzYkantgcXb18qwtb7HjGlZt7cvNXXSr/aAbPlhgQ/7G9/bxpXw5b7HjGoQAKFKTA4+3TL4am/9k/+US3zhRg/B70ZAAAIABJREFUP4aRRQY+8tGPdYH9J37h7d2dL3+FJuarFHO1F3NXLux3YYuJ44svfflhwwP/sB/DjKUx4v/q9ReiP/9TDWVLehGLrc8I8R+afj7/beWWtbo5n+L/6vUXbsW25Deb2WvCFjuecSiAAgUp8NPnn/6d0PS/+73v74IBYNHYICYMu1UGgsEbmA/sX3jnu7r9L3ypCzdACoXNhQIa1a9RaHAC8/o/nPBff05Zl/E5PCn/GF7xGsNjuVqdlH9yWm5OyU18bg7zv3+loJacqaAACmxLgcfPv+1saPrZ0MAdA+cf5PwDH3n2fuMf/k+/DABe0cIbA/AP896YX443hn8ZXsvH8TfrxgIDMfxbiJMYWK+HGfj02W3115wXBVCgIAUwvDC63BldKwbvez74BxhdmH0wAAMwAAPHMoDhRbN8uFlGD/SAgboZcGR4XX/0qVeFrSAPgqmgQDYF+EkjP/db/bmfh//mJ43xX//mq/L2tDr8lf4X+Ekvz69z9XPuk/Ivw4vPRHufiZ5yelL+PWlErHbX+GH+Hf2kca9pXwxbNoeBC6FAQQrw0HoMLw8GV1+MPLTebkFDsbo5t0sPbeWhxRhergyv8PlwEv4vnrrWhY3Pl82fL2hUtkYn4Z+clp1T8hOfnyX+ox9aX1DrfrKpzJu2C9vJjuYoFKhbAf2crc8QYB9mmHUGxD+FQnyhgFblanXn9r0ubLE50k8RYsczrtzck5v03KTyv797twsbWqdrjWblaZbKPzksL4fk5OQ5Ef+xXfxeM3sqbLHjixuH4VVcSphQRgXU8Fs3NogP866PAfFP0XDyogHtytHu0undLmyxOVHBFzueceXkmlwMzwX8D9cQDuvVEP7rzR3rbnjuxH9sy129X1R9ALGZYhwK9Cighr/PDGAfJpF1BsQ/xcPw4gENp9cw9RlDKvjI3fS5Iwf5cwD/+TWH83I0h/9ycsG6yJ8L8d/TGvfuqt4vqj6A3rSwEwXiFFDDb93YID7Muz4GxD/FRv5iA83H1xzDa3xN4dSupmp4yLHdHJPb9bmF//XawI19bcR/XLf8yCPV+0XVBxCbKcahQI8Cavj7zAD2YRJZZ0D8U9zYL2485BjDC449cD5WjGp4xjof52H91cQA/MNrTbyOPVfx39Ma9+6q3i+aN7NnwtYbHTtRwLgCavitGxvEh3nXx4D4H/tGyvkoJKdgAMML7qbgrtZrquGpdf7Mm/U+hAH4h58h/NR+rPiPbfOrN7xiA2UcClhUQA1/nxnAPkwi6wyI/9pv3MyfwjUwgOEFB3wWxDOghidWs6uXb3Vhix3PuPhcoFV+rVL5J0f5c4Tm29Nc/Mf29vOmfTlsseMZhwIoUJACavitGxvEh3nXx4D4p6jYXlGBtvm0vXJhvwtbrOYq+GLHMy5fLtF6+1qn8p9qKJPD7ecQjU+ucSr/aH1yrdGuPO3Ef2xLfrOZvSZsseMZhwIoUJACavj7zAD2YRJZZ0D8U4yUV4yQk+3nRAUfWm9fazQuT+NU/jG8yssh6+rkOUnlH61PrjXalaed+C+oJWcqKIAC21JADb91Y4P4MO/6GBD/FCPlFSPkZPs5UcGH1tvXGo3L0ziVfwyv8nLIujp5TlL5R+uTa4125Wkn/rfVX3NeFECBghRQw99nBrAPk8g6A+KfYqS8YoScbD8nKvjQevtao3F5Gqfyj+FVXg5ZVyfPSSr/aH1yrdGuPO3Ef0Et+Xancv3Rp14Vtu1ehbOjQJkKqOG3bmwQH+ZdHwPin2KkvGKEnGw/Jyr40Hr7WqNxeRqn8o/hVV4OWVcnz0kq/2h9cq3RrjztxH+Z3fkWZrXXtC+GbQun5pQoULwCavj7zAD2YRJZZ0D8U4yUV4yQk+3nRAUfWm9fazQuT+NU/i+eutaFjVyWl0tykp6TVP7ROF1jNCtXM/FffKM+1gTnTduFbazzcR4UqEkBNfzWjQ3iw7zrY0D8U5SUW5SQm/jc3Ll9rwtbrGYq+GLHMy4+F2hVvlap/O/v3u3CRm7Lzy052pyjVP7RdLOmaFSPRuI/tmffa2ZPhS12fHHjaje85k37PsWw9Pq+kwh989Gz3z5v2meXznPfDJzvtO9YPt+aca/sNef+effII9+0PHb175753t3bmb12edzemdnPzJv2lZV5fPb5x859z/K41b97zh3mH63Fzcee/Lvznfb2ynVfubHT/uzqtaz8txr+PjOAfZhE1hkQ/xQp9RQp5Gp9ri6d3u3CFquRCr7Y8Yxbrz3a1KcN/NeXM9bZeDmD//G0hMv6tBT/sf28vIHY8cWNqz2A+Zn2A4rh4euZ9gMnEfozb2i/Y960H394noNvv+017a8tn2/duHnT/sWNx879/eWxq3/3zPflmzvnf3h53I0z5960Ood5037+k69786uXx63+3XPuLuxbHbfuv+dNe6Hnut28mf3RtR85+63rjqt5vxp+68YG8WHe9TEg/ilW6itWyNnRnKU+Y0gFH1oe1RJN7GsC//ZzzDpen2P4X68N3NjXRvzH9vDyB2LHFzeu9gCGmjzLCVlnZCUYXve/UfXca9/6zcvnXf67Z75FGF7PvfGt37bXzD4qHg6/zu7snWl/aDkOK3+r4e8zA9iHSWSdAfFPcWO/uPGQYwwvOPbA+VgxquEZ63ych/VXEwPwD6818Tr2XMV/bD8vXyB2fHHjag+gx0BK+lbTckJGMrzu3dw5/7rl8y7/3TPfIgyvm83sNfOmfUk8HHndmf3SchxW/lbDb93YID7Muz4GxP/YN1LORyE5BQMYXnA3BXe1XlMNT63zZ96s9yEMwD/8DOGn9mPFf2w/L18gdnxx4+bN7JmwFTexyAn1GEhTG17hW15/GL4x1RdCz3yLMLzCt9gEc/+rzZ81quHvMwPYh0lknQHxX/uNm/lTuAYGMLzggM+CeAbU8KBZvGZoZUcr+LeTS9Zlei7Ff59X0bdP3kDfe+zLoECPgVSC4fWNGzuzJ/rC75nv5IbXum+2Ce6D15fCt8D6Yqp5nxp+68YG8WHe9TEg/ikW0osFNCtPMwyv8nLCOik3J2p4YnN09fKtLmyx4xlXbu7JzV91qfyjGTxbYkD8x/bw86Z9OWyx4xk3sgI9BlIJhleYwyeee/TJv70abs98Jze8PvX6cz82b9p7KwbXg3+h8uDB/QfvXViNp/b/VsPfZwawD5PIOgPi39JNnFj8FqVXLux3YYtlQAVf7HjG+WXLYu5T+U81lC1qRkx2PgNS+Sf3dnJPLheGb2wfH770YvGLL7HxTz6ux0Aqw/Bq2lfmzblfXhWoZ76TG157zew3Vs2uGzvt++dN+7Xl/eGh9ut+qrkaZy3/rYbfurFBfJh3fQyIf27+FHIeGaDhgXuP3CvmVP4xvFgvYsfCayr/FmImBtawGBD/tfTr7ufZYyCVYnh1851z//H6Tz7xfctJ6pnvpIbX9UefetW8mf3psrE1b2Z39ponf3yvmf3Z4f2tuZ81quHvMwPYh0lknQHxrxsgrxRDnhhQwecpZmJljYuBVP4xvGBH7Fh4TeXfQszEwBoWA+J/2aPg74IV6DGQpjK8bs2bc/92xSDqwsPgl+Xrme+khlffzxn1Ta4bZ8799mo886Y19bNGNfzWjQ3iw7zrY0D86wbIK8WQJwZU8HmKmVhZ42IglX8ML9gROxZeU/m3EDMxsIbFgPhf9ihM/x2+4RO2WoPsMZCmMrw+v7cze+28aZ9fNon2mvb/+9RPnvtB6dsz31jDq++ZWpv3nWk/oGv3vd5oZr+5PN/wt0y6vZ32DfOm/cby+zLD+s5V4z41/H1mAPswiawzIP51A+SVYsgTAyr4PMVMrKxxMZDKP4YX7IgdC6+p/FuImRhYw2JA/NfYu59ozntN+2LYTnRwAQf1GEiTGV6ffN2bXz3fmf3c/P7zu9plM+q3ukce+aYgV898JzO8bj529jt7frb4cD7znSe+d960n1s2vMK/0HBz5/wPF5D6Uaaght+6sUF8mHd9DIh/3QB5pRjyxIAKPk8xEytrXAyk8n/x1LUubDqeV1iqmYFU/muOlbmzVlcZEP+jNNM1nERmRg1z7Ztjj4E0qeH1mTe03zFv2o9L14PXhyZRz3wfvqf4bpw596aV45fNs7S/j/mGV983uMLzvPSNv2DS7TXt767ORd8A03xrflXD32cGsA+TyDoD4n/1Rsh/UxzVyMCd2/e6sMXOXQVf7HjGsS4sMZDK//7u3S5sljQgFr9rOpV/WPHLisXci//YHn6vmT0VttjxxY2TmVHcxCIn1GMgTWp4hWnvNbOfmjezr0vb8Hpjp/3QzbNnv6VnvpMZXn3P6Ao/cVyW/sZO+7M931j7eDD2lsfV+rcafuvGBvFh3vUxIP4t3syJyV9xeun0bhe22Nyr4Isdzzh/TFnOOfzDs2W+N8UG//C/iRHL74v/2P5dnkbs+OLG1R5Aj4E0ueEVjK1gcEnbB6+zr983ws60Hzi8/+hPBPu+4bXXtH8dngc2b9ovHLN9deXca7V4/rFz33Ojmb2wMv4b4Vtfy5A+38x+YN60X1wZd8SkWz6mpr/V8PeZAezDJLLOgPi3fFMnNj9FbeozhlTwwYgfRsj1Itfwv9ACLvxpAf/+cs46X+Rc/Mf27PIBYscXN672AEo0vEKSw3OuwvOupO/B68dvNO1HVvYdMY/6DK95034+PCPsOIBStLix8+QbVx9IP2/aP//UzvnvWr7Gc6996zfPm3MfXplzt9fMfmN5XK1/q+G3bmwQH+ZdHwPinyJgUQSgRb1aYHjVmzvWXf7cqeFB+/zao/n0msP/9DlgHUyXA/Ef27/LB4gdX9y42gNIMXk2ib/m+VsP/9VCHb9m3CFDKjz/at60vyV9j3nNbng9mNvsPcfMKeI5YYtnfUmXGl/V8PeZAezDJLLOgPin6Jiu6ED78bTH8BpPS7i0r6UaHnJtP9fk+GiO4f+oJnDiRxPxH9u7yzOIHV/cuHkzeyZsxU0sckKlGl5h+p/6yXM/ePAzxOMMpOyG15p/ffG4Ofa9d+9Trz/3Y5FpKnaYGn7rxgbxYd71MSD+KXL8FDmWc43hBceW+R47NjU8Y5+X87EOa2AA/uG0Bk63NUfxH9ugV294xQZa6riSDa+gWfgXDQXJmtfshtendtp/2PMg+j5T69h9Fn7WqIa/zwxgHyaRdQbE/7ZuqJyXgjInAxhe8JaTt9qvpYYnNo6rl291YYsdzzjWY8kMpPJfcizMjbWWyoD4j/V3Dh7T9HLseMaNrEDphtfNR5/67nnTPr/G7AqGUlbDK/ycca9pf/eY+Rxrch0+rv6fNarht25sEB/mXR8D4j/1Rsl4iqsSGbhyYb8LW+zcVPDFjmcc3FtiIJX/VEPZklbEYm/tp/IPA/YY8JxT8R9ry9xsZq8JW+x4xo2sQK/h1bThXys87l8zXH7v3+09PvvPw7TWPJvrRM/wWg5zvjP7uWO+UZXV8Lr52LnvnzftrcPGVfuNedP+y70z7WzdNj8z+6c9D+Gv/meNavj7zAD2YRJZZ0D8e77pE7vfIlYFHwz4ZcBz7lP5x/BinVhaL6n8W4qdWFjL4n/Zr+DvghVYY3glfEtp8a8fbsvwWnfeA9Mpq+F1Y6f92VXz7UYze+H5x859z3Fpfu6Nb/22vWb20RWjrLvRzH7zuONKf08Nv3Vjg/gw7/oYEP8UPxQ/HhlQwecxdmJmzafyj+EFM5Y+N1L5txQ7sbCWxX/pfTrzO1CgBsMrTHWvmf3UvJl9fdUwyvmTxude+9Zvnjft7x+dw+w94aeOm6CaN+2F1WP3mtmf3Xzs7HduOrbU99Xw95kB7MMkss6A+Kf4ofjxyIAKPo+xEzNrPpV/DC+YsfS5kcq/pdiJhbUs/kvtz0ef1/VHn3pV2EY/caYT1mJ43Tx79ltu7LQfWjWMchpezzezH5g37RdX5vBKeIh9TLrCb3fnTfvSyvFfu/HY7Cdiji9xjBp+68YG8WHe9TEg/il+KH48MqCCz2PsxMyaT+UfwwtmLH1upPJvKXZiYS2L/xJ7863Maa9pXwzbVk6e4aTzpn3figGT8nPGMPbzn3zdm18dpnrz0bPfPm/aZ4+cb6d9x3Ioa8Z9dtPPAm+8vv1vegyju3s7s9cun3/vzOxnVn92OG/ajedfo8X7dO75mfYtq7HF/JxRx1v8WaMa/j4zgH2YRNYZEP8UPxQ/HhlQwecxdmJmzafyf/HUtS5ssAM7FhhI5d9CzMTA2hUD4l89vvlXGSDmAyVAFOhRQA2/dWOD+DDv+hgQ/7oB8koxVDMDd27f68IWG4MKvtjxjGN9WGIglf/93btd2CxpQCx+13Qq/7DilxWLuRf/Pa1x7669ZvZU2HrfrGEnhlcNWWKO21JADX+fGcA+TCLrDIh/izdzYvJXnF46vduFLTb3KvhixzPOH1OWcw7/8GyZ702xwT/8b2LE8vviP7a/rt4vqj6A2EwxDgV6FFDDb93YID7Muz4GxL/lmzqx+SlqU58xpIIPRvwwQq4XuYb/hRZw4U8L+PeXc9b5Iufiv6c17t1VvV9UfQC9aWEnCsQpoIa/zwxgHyaRdQbEP0XAoghAi3q1wPCqN3esu/y5U8OD9vm1R/PpNYf/6XPAOpguB+I/rlt+5JHq/aLqA4jNFONQoEcBNfzWjQ3iw7zrY0D8U3RMV3Sg/XjaY3iNpyVc2tdSDQ+5tp9rcnw0x/B/VBM48aOJ+O9pjXt3Ve8XzZvZM2HrjY6dKGBcATX8fWYA+zCJrDMg/ily/BQ5lnON4QXHlvkeOzY1PGOfl/OxDmtgAP7htAZOtzVH8R/b5ldveMUGyjgUsKiAGn7rxgbxYd71MSD+t3VD5bwUlDkZwPCCt5y81X4tNTyxcVy9fKsLW+x4xrEeS2Yglf+SY2FurLVUBsR/bG8/b9qXwxY7nnEogAIFKaCGv88MYB8mkXUGxH/qjZLxFFclMnDlwn4Xtti5qeCLHc84uLfEQCr/qYayJa2Ixd7aT+UfBuwx4Dmn4j+2Jb/ZzF4TttjxjEMBFChIATX81o0N4sO862NA/Hu+6RO73yJWBR8M+GXAc+5T+cfwYp1YWi+p/FuKnVhYy+K/oJacqZxUgU89du6/mp9p3zvfOfc/P3fm7H920vN4Om7vzOxn5juzfzM/0/4P3SOPfJP12NXw95kB7MMkss6A+Kf4ofjxyIAKPo+xEzNrPpV/DC+YsfS5kcq/pdiJhbUs/q33+ebju/7oU6+a77TXwkPW9pr218wHPFKAn9pp/+G8aV+ZN+2tm4+d+/6RTlvsadTwWzc2iA/zro8B8U/xQ/HjkQEVfB5jJ2bWfCr/GF4wY+lzI5V/S7ETC2tZ/BfboI89sWAMhW3s8055vude+9Zvnjezf33/XxQ4037iuUef/NvL87n52JN/d77T3ta/OHDMazB+/t8bTXt5/von/17KN57CN8pu7LS/OG/aZ+dN+5+WrvHleTP70/nO7Oc+/aNv+ZvL81r+e77TvmNxzLkPh5iW31/9e96c++UDo6oLx66+v/zfD/Rp36fz32jOXbly9uzfCGOeb2Y/MG/aL95/70z7luXjLP6thr/PDGAfJpF1BsQ/xQ/Fj0cGVPB5jJ2YWfOp/GN4wYylz41U/i3FTiysZfFvsbfvjWmvaV8MW++ble7ca2Y/NW9mX5837Tdu7MyeWA1jb6d9Q3hPhk/M617T/vV8p/2fbp49+y2r51v+7/D+jTOzX5037VcjzvsXN87MHls+Xn/Pz7RvWTr+4595Q/sdem/19f632YKJ1rRd2G6cOffbq2OW/zt8cyt8g+tg/Ddu7Dz5Rr1/87Gz37nXzP7swXubjTYdV+urGn7rxgbxYd71MSD+KX4ofjwyoILPY+zEzJpP5f/iqWtd2GAHdiwwkMq/hZiJgbUrBsR/rf178rxlkiQfWOgB4dtc8zPtJw7i6jWKDn976r4xFsyfL/Rsq6bVK+GbVOtCD9/YCt+WkqaL14fX+NLDb2EdmFPzpn1pvnPuH6ye88aZc29aHN/2xqFjgmF1yMA7035A7/W9zpv2wuLcsz9d/oZf+BbbXtP+3sH7n33+sXPf03cOK/vU8PeZAezDJLLOgPjXDZBXiqGaGbhz+14XttgYVPDFjmcc68MSA6n87+/e7cJmSQNi8bumU/mHFb+sWMy9+I/t5/ea2VNhix1f3DgZH8VN7IQTCs/rOojp0DeXlk83bxY/5wvmzrqfKoaf+c132n80b9qXpdO8af/8Uzvnv2v5fOHv8M2u+w97XxhZXTDe9ponf1w/FwzjDgy5964YX3/43Bvf+m3L54w1vA5+nvj7S/ML3/J69uajZ799+Xz6e/XbYMH80nt6vdHMfvPgfH+59/onf0T7Lb6q4bdubBAf5l0fA+Lf4s2cmPwVp5dO73Zhi829Cr7Y8Yzzx5TlnMM/PFvme1Ns8A//mxix/L74j+3t5TPEji9uXPUBLCl6+Kd6h7+5pGHBCDp4rtaDn/81s3fqvXWvh56P1bS9JtCDh73f/ybX/fMGU23VxNL5j5pjszt7Z9of0vvh9ebO+R9eMto+/8nXvfnVy+/r70+9/tyPzZv2nvJ48Lr2G2E3Hpv9xLxpv3Yw7ovhmV06l16XTMPw88g3ab/FVzX8fWYA+zCJrDMg/i3f1InNT1Gb+owhFXww4ocRcr3INfwvtIALf1rAv7+cs84XORf/sb29fIbY8cWNqz6AJUWXjZq+by6FoeEnevOm/azi7nvG19Ip7/956EHuD56RdcgEOvKtqZ322vLPBFfPF/77ZjN7zf2fMy6eu3XonDGGV/hm2ryZvUexLL32GmQ943+/72H4y98us/4vXKrht25sEB/mXR8D4p8iYFEEoEW9WmB41Zs71l3+3KnhQfv82qP59JrD//Q5YB1MlwPx3+dR9O2Tx9D3XhX7qg/gQOVgZN1oZi8cxHMrfNurLwF7O7PXzpv27sG43m9rrR4Xvl01b9rPS6vVbz2tPAR/7U8pl88b/hXHedP+B51z1VhamWevgXX4G23tS/Om/dzD+M+c/zvL1wt/r4xfO89lwyv8vHH1PJb+Ww1/nxnAPkwi6wyIf4qO6YoOtB9Pewyv8bSES/taquEh1/ZzTY6P5hj+j2oCJ340Ef+xPb38itjxxY2bN7NnwlbcxBIndGOn/Vk9F2uvaX933XO5ls2c8C8V3uwxhlYvvfINryMm2dIzr7p50/9TytVzhn91cd60HxdAq4bXisnW+9PDlYfPh296ffDgfC+Hb4itXnNl/KGH1S+PPaTRhgfgLx9X499q+K0bG8SHedfHgPinyPFT5FjONYYXHFvme+zY1PCMfV7OxzqsgQH4h9MaON3WHMV/bO8uvyJ2POO2oMDKg9tfCc/TWneZ5Z897jWzP7v52NnvXDdW+x88n6t95SDZn5vvPPG9em/VuIr9RtTqN7zmZ9q36JzhdcXwOmJg3Xz0qe+eN+3zywbXkvF2xJQLzxPba2YfFbDrfvIZro3hhTnSZ46wzx4XGF4UfNsqpqY4L4YXPE/BXa3XVMMTO/+rl291YYsdzzjWY8kMpPJfcizMjbWWyoD4X/Yejvv74LniLx83hve2rMDKN7B6vw2lKczPtB9YmD7nPtz3DCuNDa/hAfM3dtoPLY5pDz33auXa3wg/b1w+ft3fK4bWK3tnZj+zPDb8S5DhX4RcNrSW31/+Rtu8eTCnZTMvmFbL41cebr/2J5/hmPBcs4fx8g2vDqPHntFDTh/kFMOLIim1SCp5/JUL+13YYueogi92PONYL5YYSOU/1VC2pBWx2Fv7qfzDgD0GPOdU/C97Bcf9HZ49HrbjxvDelhU4/A2s2R9d+5Gz39p3ydRvY105e/ZvzHfO/bp+Khn+NcSbO+dft3zuYFQtvR/1E8lw/Mozuo58g2tlrofeX/m21sNnca0YVQ+/MXb0YfWz96z7yef9uTXtr8nwiv3G2rImNf2thh8DBFPLIwPi3/NNn9j9FrEq+GDALwOec5/KP4YX68TSeknl31LsxMJaFv819ezu53rjzLnflkGz+iysZXHC87rCc7s0dvVnhBobvtU1P3Pu0XnT/vGSmRWez/WvV78RtvytqnnTPnvz0bPfrvMc97pilB15KP2K4dUtf2Nr5dtaHw9jw7WWf4q4rMPKw+rvheOPm9vSTyO75fMcd0yt76nh92h2EDMmn/in+KH48ciACj6PsRMzaz6VfwwvmLH0uZHKv6XYiYW1LP5r7d/dzTsYTMFoOjCxjvw0cFmQvdc/+SPzpv3Lh4ZX03axf+817f91/dGnXrV8vvD34Z9Itu9bfX/df8932ncsXfuhaaXx4RtYe037exojw2v1eWXhp406Zjm+YAJq//LPH8NzvMI3xPTe6uuD85/78Op1V8dZ+W81/Jg/mD8eGRD/FD8UPx4ZUMHnMXZiZs2n8o/hBTOWPjdS+bcUO7GwlsW/lX5+YxzBxOkzcjYeWMiA5x879z3zpv3sA4NmdmfvTPtD66Z26Cd/8WbXX86bcxfDt75Wz7v6LaxgYq2OWfff86Z9n0yl8HffuGUzTYZX+P3svGlfCsfeaGYvhPh1bPiXGQ8eKteFY8P+lZ8/vrJskOm45dfwEP/wMP+DuR15+P3yWAt/q+H3aHYQMyaf+Kf4ofjxyIAKPo+xEzNrPpV/DC+YsfS5kcq/pdiJhbUs/i308lEx7DXti2GLGlzgoJVnYX122QBane6NZvbOhck0+/rBzxu/MG9abbfmzf39D775dab9Z+ueBxbOvenB86vX138f+Rcad2a/pPeWX5cNL/38cq+Z/YZiCH8vj1+Zz/2fVy7//HHVIFs+Vn8Hw3DezO4cXONYPXVMza9q+DF/MH88MiD+KX4ofjwyoILPY+zEzJpP5f/iqWtd2GAHdiwwkMq/hZjJz9W+AAAgAElEQVSJgbUrBsR/zT180txlniQdVNDgQ99qatojPw3UVFd/Ijhvjv4LjUd+ztfMflPH972umG2HHizfN177Vkylr914bPYTem/5dfn5YOHvYOYF0+ogZ0f+pcXD33Z7oMXh53EdNsiWr6W/D/8DAEc10jgrr2r4PZodxIzJJ/51A+SVYqhmBu7cvteFLTYGFXyx4xnH+rDEQCr/+7t3u7BZ0oBY/K7pVP5hxS8rFnMv/mP7+b1m9lTYYscXN652w2v5Qe19JpYEX/mpXvg54Dv13vJr+CaVNAk/7QvHLb+//HcwquZN+7WHBtSZ839n+f11fy9fY960n5vvPPG9fWNXDa95017Q3ObN0X9pceUnlp+fN+f/6yWD7KWYf050+R8ACNfrm5elfWr4MX8wfzwyIP4t3syJyV9xeun0bhe22Nyr4Isdzzh/TFnOOfzDs2W+N8UG//C/iRHL74v/2J5e/kPs+OLG1R7AIcPr4LlVfSI/38x+YN60X1S84XlefeNWvn117L9oeOjaTXvkX1rsO//KQ+e740y65Qfb7+2075o3sz89mH/vvFYe4H/rwDB75cExm7+ttWIKRn9jrS/OWvap4fdodhAzJp/4t3xTJzY/RW3qM4ZU8MGIH0bI9SLX8L/QAi78aQH//nLOOl/kXPzH9uvyT2LHFzeu9gAOmU7HGF4r38Zaa+asPOS9C6bRuqQdunbT3roZ8Q2v5YfO39f+TPuWyPN/dd603wjH3NhpP9T3EP1wnqXnfoWx4ZjwPLKND6sPxy4/72vTv+a4bs617VfDj/mD+eORAfFPEbAoAtCiXi0wvOrNHesuf+7U8KB9fu3RfHrN4X/6HLAOpsuB+I/t22v3ix6pPYC9M7OfCYbO/TiOMbxWfkZ47MPYD/+UcPbRYIL1AbHy/LBv3Nh58o1947QvmFR7Tfu70ny+c+4/Xv/JJ75P76++rhhqDx6k37THXmflJ4n3j4l5WH249tKxUQbZ6nxr/G81/B7NDmLG5BP/FB3TFR1oP572GF7jaQmX9rVUw0Ou7eeaHB/NMfwf1QRO/Ggi/mN7d3kXseOLGzdvZs+ErbiJRU7okOl0jOG1/PD2edPe/xcM111i+ZtO4V8sDD9z7Bv7qZ3z3zVv2j8XBOG81x996lV9Y6+cPfs35jvnfv2hOXffpDv3y31jtW/lW2kHhtfsT9ddIxy3bNZpXqv/mqPOv/y6/ED8WINs+fha/1bDj/mD+eORAfFPkeOnyLGcawwvOLbM99ixqeEZ+7ycj3VYAwPwD6c1cLqtOYr/2P5dnkLseMaNrMDhZ3PN/ujaj5z91tVLhH3zZvZHSlb4JtPqmOX/XnmWVTffmf3S8vv6O/zLj/Om/S2dN7zunWn/75uPnfv+Q2Ne/+TfC/uXzK5gXv3hum+O6dhDZt7BTxPnzfEm2co32cJ14h5Wv9P+rOZ33M84NTcrr2r4PZodxIzJJ/63dUPlvBSUORnA8IK3nLzVfi01PLFxXL18qwtb7HjGsR5LZiCV/5JjYW6stVQGxH9sPz9v2pfDFjuecSMrsGJOfTz8S4WrlzjyTaw1BtbycUs/7zv2wfJ7r5/9F/Om/cyy6XXw93+aN+0Xlp6jdfANrfum2NU/f/2b/9by9fr+XjW8Yr551fMzyN8PD8rvO7/2hW+MPXwg/oafWeoYK69q+DF/MH88MiD+U2+UjKe4KpGBKxf2u7DFzk0FX+x4xsG9JQZS+U81lC1pRSz21n4q/zBgjwHPORX/sf18eAZ52GLHM25kBcK3rPaa9vcOTKbefylx5V9e/Fr4qeCmaezttG/QQ+LDv+4Yvkm27phw/mBG9ZheD02u8N5e0/51MNI+/aNv+ZvrzrW8PzwEf960t3TemJ8mrvwM8tjnfela4V+sPIj1lU3fINMxVl7V8Hs0O4gZk0/8e77pE7vfIlYFHwz4ZcBz7lP5x/BinVhaL6n8W4qdWFjL4t9KP+8ijvCTwwNTqPdfX5zvnGvmzezrB2NuLf/kcJ1Ay8+0Cj/1Cw/HXzc27L//QPoz7Sw8x2vetOHbXTK7vvrg21PnLn7ydW9+9XHnWH0vzGHetJ89ONdf3Hjs3N9fHbP633s7s9fOm/bug2OOf95XODZ8I27etB8/uMYf931DbvUalv5bDT/mD+aPRwbEP8UPxY9HBlTweYydmFnzqfxjeMGMpc+NVP4txU4srGXxb6mnNx/L8k//wreVzAc8YoDzndnPHTy766X5zrl/MOKpqziVGn6PZgcxY/KJf4ofih+PDKjg8xg7MbPmU/nH8IIZS58bqfxbip1YWMviv4pmfYxJhuc3Hfev/o1xjW2fIzz8fa+ZfTR8S2nTA+m3PZeazh9+MnnwU8zwU8aLNc19rLmq4cf8wfzxyID4p/ih+PHIgAo+j7ETM2s+lX8ML5ix9LmRyr+l2ImFtSz+x+qniz/PXtO+GLbiJ7phguHZUwffVHr25qNnv33DcN5+5JFHwjPB7v+UcWf2b8JPMj2Koobfo9lBzJh84p/ih+LHIwMq+DzGTsys+VT+L5661oUNdmDHAgOp/FuImRhYu2JA/Lvp/Q+e3dS5CZhAUWBJATX8mD+YPx4ZEP+6AfJKMVQzA3du3+vCFhuDCr7Y8YxjfVhiIJX//d27XdgsaUAsftd0Kv+w4pcVi7kX/0st8bF/7jWzp8J27KCS38TwKjk7zG3bCqjh92h2EDMmn/i3eDMnJn/F6aXTu13YYnOvgi92POP8MWU55/APz5b53hQb/MP/JkYsvy/+Y/vs6v2i6gOIzRTjUKBHATX8mD+YPx4ZEP+Wb+rE5qeoTX3GkAo+GPHDCLle5Br+F1rAhT8t4N9fzlnni5yL/57WuHdX9X5R9QH0poWdKBCngBp+j2YHMWPyiX+KgEURgBb1aoHhVW/uWHf5c6eGB+3za4/m02sO/9PngHUwXQ7Ef1y3/Mgj1ftF1QcQmynGoUCPAmr4MX8wfzwyIP4pOqYrOtB+PO0xvMbTEi7ta6mGh1zbzzU5Pppj+D+qCZz40UT897TGvbuq94vmzeyZsPVGx04UMK6AGn6PZgcxY/KJf4ocP0WO5VxjeMGxZb7Hjk0Nz9jn5XyswxoYgH84rYHTbc1R/Me2+dUbXrGBMg4FLCqghh/zB/PHIwPif1s3VM5LQZmTAQwveMvJW+3XUsMTG8fVy7e6sMWOZxzrsWQGUvkvORbmxlpLZUD8x/b286Z9OWyx4xmHAihQkAJq+D2aHcSMySf+U2+UjKe4KpGBKxf2u7DFzk0FX+x4xsG9JQZS+U81lC1pRSz21n4q/zBgjwHPORX/sS35zWb2mrDFjmccCqBAQQqo4cf8wfzxyID493zTJ3a/RawKPhjwy4Dn3Kfyj+HFOrG0XlL5txQ7sbCWxX9BLTlTQQEU2JYCavg9mh3EjMkn/il+KH48MqCCz2PsxMyaT+UfwwtmLH1upPJvKXZiYS2L/23115wXBVCgIAXU8GP+YP54ZED8U/xQ/HhkQAWfx9iJmTWfyj+GF8xY+txI5d9S7MTCWhb/BbXk253K9UefelXYtnsVzo4CZSqght+j2UHMmHzin+KH4scjAyr4PMZOzKz5VP4xvGDG0udGKv+WYicW1rL4L7M738Ks9pr2xbBt4dScEgWKV+Dx9ukXQ9P/7J98osMAwgDyxMBHPvqxLrD/xC+8vbvz5a9EP+ibQolCyQIDX3zpy10o+K5efwH+vwrTFphOieEk/F88da0LW8p1GMvaKpGBk/BfYhzMifV1EgaW+L9VfKM+1gTnTduFbazzcR4UqEmBnz7/9O+Epv/d731/FwwAT4YHsfo1+ILBG5gP7F9457u6/S98qQs3wJPcODmGgqsUBu7cvteFbdN8gsEbmNf/4YR/GN7EjKX3T8r//u7dLmyWtCAWf2v/pPzDij9WLOb8MP/7V2J79r1m9lTYYscXNw7Dq7iUMKGMCjx+/m1nQ9PPhgZeGXjPB//gYeMvA4DXF9Dken0a/PMfvNaFDX7ryx05I2cwAAMwAAMwkJOBT5+Nbbmr94uqDyA2U4xDgR4FMLwwurwaXY+ff5D7D3zk2fsGQfhpF4UGGtTMgJ4xdJIY4B/2T8KNlWPgH/6tsHySOOAf/k/CTf3HYHj1WAPsQgF7CvCTRr8/6/P8k05+0shX8y1+VV+G16bYDn+l/wV+0sszvFz9TA/++fzf9Blp+X34h3/LfG+K7TD/8T9prP4LUtUHYM+DIaKMCvDQegwvr8YXD62n6NtUGNX2fqzhFeLSQ1vD/6ENBWBtsTJf1u8QBsR/+GYL/MPSEJZqPFb88/kP+zXyO3TO4v/q9ReiH1pfvV80b2bPhC2jx8ClUKAYBfRzNq+mB3H7NvzE/9CbJ8dTNJbAQIrhFearnyOUMHfmwBrKzQD8w1xu5kq6HvzDf0k85p6L+I9tyKs3vGIDZRwKWFRADT/Gj2/jx2v+xX/uGy3Xo9DcBgMYXnC1Da6snlMNT2x8Vy/f6sIWO55xrMeSGUjlv+RYmBtrLZUB8R/b28+b9uWwxY5nHAqgQEEKqOH3angQt2+jT/yn3igZT3FVIgNXLux3YYudmwq+2PGMg3tLDKTyn2ooW9KKWOyt/VT+YcAeA55zKv5jW/Kbzew1YYsdzzgUQIGCFFDDj/Hj2/jxmn/x7/mmT+x+i1gVfDDglwHPuU/lH8OLdWJpvaTybyl2YmEti/+CWnKmggIosC0F1PB7NTyI27fRJ/4pfih+PDKggs9j7MTMmk/lH8MLZix9bqTybyl2YmEti/9t9decFwVQoCAF1PBj/Pg2frzmX/xT/FD8eGRABZ/H2ImZNZ/KP4YXzFj63Ejl31LsxMJaFv8FteTbn8pe8+SPb/8qXAEFylNADb9Xw4O4fRt94p/ih+LHIwMq+DzGTsys+VT+MbxgxtLnRir/lmInFtay+C+vM9/SjG6caX/l/j81eWb2f17/ySe+b0uX4bQoUKQCavgxfnwbP17zL/4pfih+PDKggs9j7MTMmk/l/+Kpa13YYAd2LDCQyr+FmImBtSsGxP+m5vz6o0+9ysTD6oPJdfBPTXb3ja+mvf+617QvhiD7hJg3s2eWx+pvjmk7NKhLAzX8wfC4+a/+t0NrQFzPn3hb9+n5p7s+U4Rj0K1mdt40+8UurAHdAPX6uXdf7l0Lz7e/3L185+6R8eE4jkGDqTn4xOv+++6T/90/hVHWacdnVTu6Bs9d/N3u2R/95SP3BrQeX2vup9u/n6rhR+vta01tuTDaSuFN/C/7POv8ndAPm/hSVDC29pr2/5g37eceNvlN+7lUwysczzFoUBMHcYbX0ycwvDhm/gQalK5BuuH1SycwEzjm+RYNcmjwP37XR7pf/+5/B6Pw1uXgLdTLXAcN4ODBFyVqWwtq+NcbENy3a8vpZmONnCqn4j/G8Lqx035onb+zfDx/owAKFKrAsuHV9w0u9vFTR8sMiH8VCbwu/i8cWtSnReozhlTwkev6ck3OhucM/odrCIf1agj/9eaOdTc8d+K/0PacaaEACoypgBp+y6YGsWHarWNA/FM8DC8e0HB6DTG8ps8B66CeHKjhIWf15IxcjZcr+B9PS7isT0vxP2ZPzblQAAUKVUAN/zpDgP2YRZYZEP8UK/UVK+TsaM4wvI5qAidoso4BNTzr3mc/7FhmAP7h2zLfm2IT/4W250wLBVBgTAXU8Fs2NYgN024dA+J/042R9ykMa2AAwwtOa+C0lDmq4SllPsyD9ZuTAfiHt5y8lXYt8T9mT825UAAFClVADf86Q4D9mEWWGRD/pd2ImQ+F6EkYwPCCm5Nw4/UYNTyx8V+9fKsLW+x4xrEeS2Yglf+SY2FurLVUBsR/oe0500IBFBhTATX8lk0NYsO0W8eA+E+9UTKe4qpEBq5c2O/CFjs3FXyx4xkH95YYSOU/1VC2pBWx2Fv7qfzDgD0GPOdU/I/ZU3MuFECBQhVQw7/OEGA/ZpFlBsS/55s+sfstYlXwwYBfBjznPpV/DC/WiaX1ksq/pdiJhbUs/gttz5kWCqDAmAqo4bdsahAbpt06BsQ/xQ/Fj0cGVPB5jJ2YWfOp/GN4wYylz41U/i3FTiysZfE/Zk/NuVAABQpVQA3/OkOA/ZhFlhkQ/xQ/FD8eGVDB5zF2YmbNp/KP4QUzlj43Uvm3FDuxsJbFf6HtOdNCARQYUwE1/JZNDWLDtFvHgPin+KH48ciACj6PsRMzaz6VfwwvmLH0uZHKv6XYiYW1LP7H7Kk5FwqgQKEKqOFfZwiwH7PIMgPin+KH4scjAyr4PMZOzKz5VP4vnrrWhQ12YMcCA6n8W4iZGFi7YkD8F9qeMy0UQIExFVDDb9nUIDZMu3UMiH/dAHmlGKqZgTu373Vhi41BBV/seMaxPiwxkMr//u7dLmyWNCAWv2s6lX9Y8cuKxdyL/zF7as6FAihQqAJq+NcZAuzHLLLMgPi3eDMnJn/F6aXTu13YYnOvgi92POP8MWU55/APz5b53hQb/MP/JkYsvy/+C23PmRYKoMCYCqjht2xqEBum3ToGxL/lmzqx+SlqU58xpIIPRvwwQq4XuYb/hRZw4U8L+PeXc9b5Iufif8yemnOhAAoUqoAa/nWGAPsxiywzIP4pAhZFAFrUqwWGV725Y93lz50aHrTPrz2aT685/E+fA9bBdDkQ/4W250wLBVBgTAXU8Fs2NYgN024dA+KfomO6ogPtx9Mew2s8LeHSvpZqeMi1/VyT46M5hv+jmsCJH03E/5g9NedCARQoVAE1/OsMAfZjFllmQPxT5PgpciznGsMLji3zPXZsanjGPi/nYx3WwAD8w2kNnG5rjuK/0PacaaEACoypgBp+y6YGsWHarWNA/G/rhsp5KShzMoDhBW85eav9Wmp4YuO4evlWF7bY8YxjPZbMQCr/JcfC3FhrqQyI/zF7as6FAihQqAJq+NcZAuzHLLLMgPhPvVEynuKqRAauXNjvwhY7NxV8seMZB/eWGEjlP9VQtqQVsdhb+6n8w4A9BjznVPwX2p4zLRRAgTEVUMNv2dQgNky7dQyIf883fWL3W8Sq4IMBvwx4zn0q/xherBNL6yWVf0uxEwtrWfyP2VNzLhRAgUIVUMO/zhBgP2aRZQbEP8UPxY9HBlTweYydmFnzqfxjeMGMpc+NVP4txU4srGXxX2h7zrRQAAXGVEANv2VTg9gw7dYxIP4pfih+PDKggs9j7MTMmk/lH8MLZix9bqTybyl2YmEti/8xe2rOhQIoUKgCavjXGQLsxyyyzID4p/ih+PHIgAo+j7ETM2s+lX8ML5ix9LmRyr+l2ImFtSz+C23PmRYKoMCYCqjht2xqEBum3ToGxD/FD8WPRwZU8HmMnZhZ86n8Xzx1rQsb7MCOBQZS+bcQMzGwdsWA+B+zp+ZcKIAChSqghn+dIcB+zCLLDIh/3QB5pRiqmYE7t+91YYuNQQVf7HjGsT4sMZDK//7u3S5sljQgFr9rOpV/WPHLisXci/9C23OmhQIoMKYCavgtmxrEhmm3jgHxb/FmTkz+itNLp3e7sMXmXgVf7HjG+WPKcs7hH54t870pNviH/02MWH5f/I/ZU3MuFECBQhVQw7/OEGA/ZpFlBsS/5Zs6sfkpalOfMaSCD0b8MEKuF7mG/4UWcOFPC/j3l3PW+SLn4r/Q9pxpoQAKjKmAGn7LpgaxYdqtY0D8UwQsigC0qFcLDK96c8e6y587NTxon197NJ9ec/ifPgesg+lyIP7H7Kk5FwqgQKEKqOFfZwiwH7PIMgPin6JjuqID7cfTHsNrPC3h0r6WanjItf1ck+OjOYb/o5rAiR9NxH+h7TnTQgEUGFMBNfyWTQ1iw7Rbx4D4p8jxU+RYzjWGFxxb5nvs2NTwjH1ezsc6rIEB+IfTGjjd1hzF/5g9NedCARQoVAE1/OsMAfZjFllmQPxv64bKeSkoczKA4QVvOXmr/VpqeGLjuHr5Vhe22PGMYz2WzEAq/yXHwtxYa6kMiP9C23OmhQIoMKYCavgtmxrEhmm3jgHxn3qjZDzFVYkMXLmw34Utdm4q+GLHMw7uLTGQyn+qoWxJK2Kxt/ZT+YcBewx4zqn4H7On5lwogAKFKqCGf50hwH7MIssMiH/PN31i91vEquCDAb8MeM59Kv8YXqwTS+sllX9LsRMLa1n8F9qeMy0UQIExFVDDb9nUIDZMu3UMiH+KH4ofjwyo4PMYOzGz5lP5x/CCGUufG6n8W4qdWFjL4n/MnppzoQAKFKqAGv51hgD7MYssMyD+KX4ofjwyoILPY+zEzJpP5R/DC2YsfW6k8m8pdmJhLYv/QttzpoUCKDCmAmr4LZsaxIZpt44B8U/xQ/HjkQEVfB5jJ2bWfCr/GF4wY+lzI5V/S7ETC2tZ/I/ZU3MuFECBQhVQw7/OEGA/ZpFlBsQ/xQ/Fj0cGVPB5jJ2YWfOp/F88da0LG+zAjgUGUvm3EDMxsHbFgPgvtD1nWiiAAmMqoIbfsqlBbJh26xgQ/7oB8koxVDMDd27f68IWG4MKvtjxjGN9WGIglf/93btd2CxpQCx+13Qq/7DilxWLuRf/Y/bUnAsFUKBQBdTwrzME2I9ZZJkB8W/xZk5M/orTS6d3u7DF5l4FX+x4xvljynLO4R+eLfO9KTb4h/9NjFh+X/wX2p4zLRRAgTEVUMNv2dQgNky7dQyIf8s3dWLzU9SmPmNIBR+M+GGEXC9yDf8LLeDCnxbw7y/nrPNFzsX/mD0150IBFChUATX86wwB9mMWWWZA/FMELIoAtKhXCwyvenPHusufOzU8aJ9fezSfXnP4nz4HrIPpciD+C23PmRYKoMCYCqjht2xqEBum3ToGxD9Fx3RFB9qPpz2G13hawqV9LdXwkGv7uSbHR3MM/0c1gRM/moj/MXtqzoUCKFCoAmr41xkC7McsssyA+KfI8VPkWM41hhccW+Z77NjU8Ix9Xs7HOqyBAfiH0xo43dYcxX+h7TnTQgEUGFMBNfyWTQ1iw7Rbx4D439YNlfNSUOZkAMML3nLyVvu11PDExnH18q0ubLHjGcd6LJmBVP5LjoW5sdZSGRD/Y/bUnAsFUKBQBdTwrzME2I9ZZJkB8Z96o2Q8xVWJDFy5sN+FLXZuKvhixzMO7i0xkMp/qqFsSStisbf2U/mHAXsMeM6p+C+0PWdaKIACYyqght+yqUFsmHbrGBD/nm/6xO63iFXBBwN+GfCc+1T+MbxYJ5bWSyr/lmInFtay+B+zp+ZcKIAChSqghn+dIcB+zCLLDIh/ih+KH48MqODzGDsxs+ZT+cfwghlLnxup/FuKnVhYy+K/0PacaaEACoypgBp+y6YGsWHarWNA/FP8UPx4ZEAFn8fYiZk1n8o/hhfMWPrcSOXfUuzEwloW/2P21JwLBVCgUAXU8K8zBNiPWWSZAfFP8UPx45EBFXweYydm1nwq/xheMGPpcyOVf0uxEwtrWfwX2p4zLRRAgTEVUMNv2dQgNky7dQyIf4ofih+PDKjg8xg7MbPmU/m/eOpaFzbYgR0LDKTybyFmYmDtigHxP2ZPzblQAAUKVUAN/zpDgP2YRZYZEP+6AfJKMVQzA3du3+vCFhuDCr7Y8YxjfVhiIJX//d27XdgsaUAsftd0Kv+w4pcVi7kX/4W250wLBVBgTAXU8Fs2NYgN024dA+Lf4s2cmPwVp5dO73Zhi829Cr7Y8Yzzx5TlnMM/PFvme1Ns8A//mxix/L74H7On5lwogAKFKqCGf50hwH7MIssMiH/LN3Vi81PUpj5jSAUfjPhhhFwvcg3/Cy3gwp8W8O8v56zzRc7Ff6HtOdNCARQYUwE1/JZNDWLDtFvHgPinCFgUAWhRrxYYXvXmjnWXP3dqeNA+v/ZoPr3m8D99DlgH0+VA/I/ZU3MuFECBQhVQw7/OEGA/ZpFlBsQ/Rcd0RQfaj6c9htd4WsKlfS3V8JBr+7kmx0dzDP9HNYETP5qI/0Lbc6aFAigwpgJq+C2bGsSGabeOAfFPkeOnyLGcawwvOLbM99ixqeEZ+7ycj3VYAwPwD6c1cLqtOYr/MXtqzoUCKFCoAmr41xkC7McsssyA+N/WDZXzUlDmZADDC95y8lb7tdTwxMZx9fKtLmyx4xnHeiyZgVT+S46FubHWUhkQ/4W250wLBVBgTAXU8Fs2NYgN024dA+I/9UbJeIqrEhm4cmG/C1vs3FTwxY5nHNxbYiCV/1RD2ZJWxGJv7afyDwP2GPCcU/E/Zk/NuVAABQpVQA3/OkOA/ZhFlhkQ/55v+sTut4hVwQcDfhnwnPtU/jG8WCeW1ksq/5ZiJxbWsvgvtD1nWiiAAmMqoIbfsqlBbJh26xgQ/xQ/FD8eGVDB5zF2YmbNp/KP4QUzlj43Uvm3FDuxsJbF/5g9NedCARQoVAE1/OsMAfZjFllmQPxT/FD8eGRABZ/H2ImZNZ/KP4YXzFj63Ejl31LsxMJaFv+FtudMCwVQYEwF1PBbNjWIDdNuHQPin+KH4scjAyr4PMZOzKz5VP4xvGDG0udGKv+WYicW1rL4H7On5lwogAKFKqCGf50hwH7MIssMiH+KH4ofjwyo4PMYOzGz5lP5v3jqWhc22IEdCwyk8m8hZmJg7YoB8V9oe860UAAFxlRADb9lU4PYMO3WMSD+dQPklWKoZgbu3L7XhS02BhV8seMZx/qwxEAq//u7d7uwWdKAWPyu6VT+YcUvKxZzL/7H7Kk5FwqgQKEKqOFfZwiwH7PIMgPi3+LNnJj8FaeXTu92YYvNvQq+2PGM88eU5ZzDPzxb5ntTbPAP/5sYsfy++C+0PWdaKIACYyqght+yqUFsmHbrGBD/lm/qxOanqE19xpAKPhjxwwi5XuQa/hdawIU/LeDfX85Z54uci/8xe2rOhQIoUKgCavjXGQLsxyyyzID4pwhYFAFoUa8WGF715ptsBSIAACAASURBVI51lz93anjQPr/2aD695vA/fQ5YB9PlQPwX2p4zLRRAgTEVUMNv2dQgNky7dQyIf4qO6YoOtB9Pewyv8bSES/taquEh1/ZzTY6P5hj+j2oCJ340Ef9j9tScCwVQoFAF1PCvMwTYj1lkmQHxT5Hjp8ixnGsMLzi2zPfYsanhGfu8nI91WAMD8A+nNXC6rTmK/0Lbc6aFAigwpgJq+C2bGsSGabeOAfG/rRsq56WgzMkAhhe85eSt9mup4YmN4+rlW13YYsczjvVYMgOp/JccC3NjraUyIP7H7Kk5FwqgQKEKqOFfZwiwH7PIMgPiP/VGyXiKqxIZuHJhvwtb7NxU8MWOZxzcW2Iglf9UQ9mSVsRib+2n8g8D9hjwnFPxX2h7zrRQAAXGVEANv2VTg9gw7dYxIP493/SJ3W8Rq4IPBvwy4Dn3qfxjeLFOLK2XVP4txU4srGXxP2ZPzblQAAUKVUAN/zpDgP2YRZYZEP8UPxQ/HhlQwecxdmJmzafyj+EFM5Y+N1L5txQ7sbCWxX+h7TnTQgEUGFMBNfyWTQ1iw7Rbx4D4p/ih+PHIgAo+j7ETM2s+lX8ML5ix9LmRyr+l2ImFtSz+x+ypORcKoEChCqjhX2cIsB+zyDID4p/ih+LHIwMq+DzGTsys+VT+MbxgxtLnRir/lmInFtay+C+0PWdaKIACYyqght+yqUFsmHbrGBD/FD8UPx4ZUMHnMXZiZs2n8n/x1LUubLADOxYYSOXfQszEwNoVA+J/zJ6ac6EAChSqgBr+dYYA+zGLLDMg/nUD5JViqGYG7ty+14UtNgYVfLHjGcf6sMRAKv/7u3e7sFnSgFj8rulU/mHFLysWcy/+C23PmRYKoMCYCqjht2xqEBum3ToGxL/Fmzkx+StOL53e7cIWm3sVfLHjGeePKcs5h394tsz3ptjgH/43MWL5ffE/Zk/NuVAABQpVQA3/OkOA/ZhFlhkQ/5Zv6sTmp6hNfcaQCj4Y8cMIuV7kGv4XWsCFPy3g31/OWeeLnIv/QttzpoUCKDCmAmr4LZsaxIZpt44B8U8RsCgC0KJeLTC86s0d6y5/7tTwoH1+7dF8es3hf/ocsA6my4H4H7On5lwogAKFKvB4+/SLoel/9k8+0a0zBdiPYWSRgY989GNdYP+JX3h7d+fLX4n+GRgFynQFCtofr32K4fXFl77cqeCD/+N1hTt7+oj/q9df4PP/q/byy5o9PqfiP9wD+Pw/XitYsqeP+L96/YVbhbbnTAsFUGBMBX76/NO/E5r+d7/3/V0wACwaG8SEYbfKQDB4A/OB/QvvfFe3/4UvdeEGSGFjr7DxlNNYwys0OIF5GV7wD/ee1gn8w7sn3ldjhX/4X2XC038f5n//ypg9NedCARQoVIHHz7/tbGj62dDAHQPnH+T8PR/8g/uNf/g//TIAeEWLGhmQ4VXj3Jkza25KBmI+/9//rz7ZhW3KeXJt1sk2GIjhfxvX5ZzwPC0Dnz5baHvOtFAABcZUAMMLo8ud0bVi8MrwmvamS9GD/sMZ+N/f8lwXtpNoScMzXP+T6M4x9eiOoVxPrlhX5AoGYGAzAxheY3oKnAsFilWAnzTyc7/Vn/t5+G9+0shX+j19hX811sNf6X+Bn/TyDCNXP+c+Kf8yvFbXE//N/aQmBk7Kf00xMlfW5DoGDvPPTxqLNSiYGAqMqQAPrcfw8mBw9cXIQ+spiNYVRB7266Gt4f+AhgLQQ8zEyJoXA+I/fLMxln8ML/gRP7W/in8+/2G6dpZPMn/xz0Prx3QUOBcKFKyAfs7WZwiwDzPMOgPi/yQ3TI6hUKydAX3dv/Y4mD9r8SQMpPKP4QVnJ+Gs1GNS+S81DubFujwJA+K/4BadqaEACoylgBp+68YG8WHe9TEg/k9ys+QYiqzaGVDBV3sczJ+1eBIGUvnH8IKzk3BW6jGp/JcaB/NiXZ6EAfE/Vj/NeVAABQpWQA1/nxnAPkwi6wyI/5PcLDmGIqt2BlTw1R4H82ctnoSBVP4vnrrWhe0k1+IYGC2NgVT+S5s/82FNDWFA/BfcojM1FECBsRRQw2/d2CA+zLs+BsT/kJsmx1J0lcLAndv3urDFzkcFX+x4xsG6JQZS+d/fvduFzZIGxOJ3TafyDyt+WbGYe/E/Vj/NeVAABQpWQA1/nxnAPkwi6wyIf4s3c2LyV5xeOr3bhS029yr4Ysczzh9TlnMO//Bsme9NscE//G9ixPL74r/gFp2poQAKjKWAGn7rxgbxYd71MSD+Ld/Uic1PUZv6jCEVfDDihxFyvcg1/C+0gAt/WsC/v5yzzhc5F/9j9dOcBwVQoGAF1PD3mQHswySyzoD4pwhYFAFoUa8WGF715o51lz93anjQPr/2aD695vA/fQ5YB9PlQPwX3KIzNRRAgbEUUMNv3dggPsy7PgbEP0XHdEUH2o+nPYbXeFrCpX0t1fCQa/u5JsdHcwz/RzWBEz+aiP+x+mnOgwIoULACavj7zAD2YRJZZ0D8U+T4KXIs5xrDC44t8z12bGp4xj4v52Md1sAA/MNpDZxua47iv+AWnamhAAqMpYAafuvGBvFh3vUxIP63dUPlvBSU/387d7BiWZbVYbyfoCvHkgMfIAc+gvNyWiC0BU6lelAYLQ05NB9AcSqS0uDAmDjSmZRGlokESDrsjEmKCaYkkt1Izo+c6v57S+JInJ3se+++a/8Gh2hOnN53r29/6561FllxSgcMvPh2St8u/bPS8OyN4+b522W99j7vOfk4sgOt/o8ci73JtVYH4n+vfto6CCAwMIE0/FvDAPcMiao7EP9bX5SeV1yN6MD11d2yXnv3loJv7/Oe430lB1r9bx0oV2Illnq53+o/B+o5MPOZxv+BW3RbQwCBXgTS8FcfbIjP8G7Lgfg/80tf7PMWsSn4ODCvAzOffav/Bl7ypFK+tPpfKXaxyOX436uftg4CCAxMIA3/1jDAPUOi6g7Ef8WP4mdGB1LwzRi7mOV8q/8GXpyp9L3R6n+l2MUil+P/wC26rSGAQC8CafirDzbEZ3i35UD8V/wofmZ0IAXfjLGLWc63+m/gxZlK3xut/leKXSxyOf736qetgwACAxNIw781DHDPkKi6A/Ff8aP4mdGBFHwzxi5mOd/qv4EXZyp9b7T6Xyl2scjl+D9wi25rCCDQi0Aa/uqDDfEZ3m05EP8VP4qfGR1IwTdj7GKW863+P338clkv7nCnggOt/leIWQxyNw7E/179tHUQQGBgAmn4t4YB7hkSVXcg/ucF6Kdi6JIdeP/u47Jee2NIwbf3ec/Jj0oOtPp/d/thWa9KDMQyb063+s+VeV2pePbxf+AW3dYQQKAXgTT81Qcb4jO823Ig/ld8mYtpvuL02ZPbZb32nn0Kvr3Pe24+pyqfOf/5XNnvh2LjP/8fcqTy7+N/r37aOgggMDCBNPxbwwD3DImqOxD/K7/UxTZPUdv6N4ZS8HFkHkec9eGs+X9gwYv5WPB/vjOX54czj/8Dt+i2hgACvQik4a8+2BCf4d2WA/FfEXAoArC4XBYGXpd7dvLu9GeXhgf707PH/PzM+X/+M5AH5zuD+N+rn7YOAggMTCAN/9YwwD1DouoOxH9Fx/mKDuz7sTfw6seSl/VZpuFx1vXP2hnfP2P+32fCk3mYxP+BW3RbQwCBXgTS8FcfbIjP8G7LgfivyJmnyKl81gZePK7sd+/Y0vD0Xtd68vASHOA/Ty/B02PtMf736qetgwACAxNIw781DHDPkKi6A/H/WC9U6yooT+mAgRffTunbpX9WGp69cdw8f7us197nPScfR3ag1f+RY7E3udbqQPwfuEW3NQQQ6EUgDX/1wYb4DO+2HIj/rS9KzyuuRnTg+upuWa+9e0vBt/d5z/G+kgOt/rcOlCuxEku93G/1nwP1HJj5TON/r37aOgggMDCBNPxbwwD3DImqOxD/Z37pi33eIjYFHwfmdWDms2/138BLnlTKl1b/K8UuFrkc/wdu0W0NAQR6EUjDX32wIT7Duy0H4r/iR/EzowMp+GaMXcxyvtV/Ay/OVPreaPW/Uuxikcvxv1c/bR0EEBiYQBr+rWGAe4ZE1R2I/4ofxc+MDqTgmzF2Mcv5Vv8NvDhT6Xuj1f9KsYtFLsf/gVt0W0MAgV4E0vBXH2yIz/Buy4H4r/hR/MzoQAq+GWMXs5xv9d/AizOVvjda/a8Uu1jkcvzv1U9bBwEEBiaQhn9rGOCeIVF1B+K/4kfxM6MDKfhmjF3Mcr7V/6ePXy7rxR3uVHCg1f8KMYtB7saB+D9wi25rCCDQi0Aa/uqDDfEZ3m05EP/zAvRTMXTJDrx/93FZr70xpODb+7zn5EclB1r9v7v9sKxXJQZimTenW/3nyryuVDz7+N+rn7YOAggMTCAN/9YwwD1DouoOxP+KL3MxzVecPntyu6zX3rNPwbf3ec/N51TlM+c/nyv7/VBs/Of/Q45U/n38H7hFtzUEEOhFIA1/9cGG+AzvthyI/5Vf6mKbp6ht/RtDKfg4Mo8jzvpw1vw/sODFfCz4P9+Zy/PDmcf/Xv20dRBAYGACafi3hgHuGRJVdyD+KwIORQAWl8vCwOtyz07enf7s0vBgf3r2mJ+fOf/Pfwby4HxnEP8HbtFtDQEEehFIw199sCE+w7stB+K/ouN8RQf2/dgbePVjycv6LNPwOOv6Z+2M758x/+8z4ck8TOJ/r37aOgggMDCBNPxbwwD3DImqOxD/FTnzFDmVz9rAi8eV/e4dWxqe3utaTx5eggP85+kleHqsPcb/gVt0W0MAgV4E0vBXH2yIz/Buy4H4f6wXqnUVlKd0wMCLb6f07dI/Kw3P3jhunr9d1mvv856TjyM70Or/yLHYm1xrdSD+9+qnrYMAAgMTSMO/NQxwz5CougPxv/VF6XnF1YgOXF/dLeu1d28p+PY+7zneV3Kg1f/WgXIlVmKpl/ut/nOgngMzn2n8H7hFtzUEEOhFIA1/9cGG+AzvthyI/zO/9MU+bxGbgo8D8zow89m3+m/gJU8q5Uur/5ViF4tcjv+9+mnrIIDAwATS8G8NA9wzJKruQPxX/Ch+ZnQgBd+MsYtZzrf6b+DFmUrfG63+V4pdLHI5/g/cotsaAgj0IpCGv/pgQ3yGd1sOxH/Fj+JnRgdS8M0Yu5jlfKv/Bl6cqfS90ep/pdjFIpfjf69+2joIIDAwgTT8W8MA9wyJqjsQ/xU/ip8ZHUjBN2PsYpbzrf4beHGm0vdGq/+VYheLXI7/A7fotoYAAr0IpOGvPtgQn+HdlgPxX/Gj+JnRgRR8M8YuZjnf6v/Txy+X9eIOdyo40Op/hZjFIHfjQPzv1U9bBwEEBiaQhn9rGOCeIVF1B+J/XoB+KoYu2YH37z4u67U3hhR8e5/3nPyo5ECr/3e3H5b1qsRALPPmdKv/XJnXlYpnH/8HbtFtDQEEehFIw199sCE+w7stB+J/xZe5mOYrTp89uV3Wa+/Zp+Db+7zn5nOq8pnzn8+V/X4oNv7z/yFHKv8+/vfqp62DAAIDE0jDvzUMcM+QqLoD8b/yS11s8xS1rX9jKAUfR+ZxxFkfzpr/Bxa8mI8F/+c7c3l+OPP4P3CLbmsIINCLQBr+6oMN8RnebTkQ/xUBhyIAi8tlYeB1uWcn705/dml4sD89e8zPz5z/5z8DeXC+M4j/vfpp6yCAwMAE0vBvDQPcMySq7kD8V3Scr+jAvh97A69+LHlZn2UaHmdd/6yd8f0z5v99JjyZh0n8H7hFtzUEEOhFIA1/9cGG+AzvthyI/4qceYqcymdt4MXjyn73ji0NT+91rScPL8EB/vP0Ejw91h7jf69+2joIIDAwgTT8W8MA9wyJqjsQ/4/1QrWugvKUDhh48e2Uvl36Z6Xh2RvHzfO3y3rtfd5z8nFkB1r9HzkWe5NrrQ7E/4FbdFtDAIFeBNLwVx9siM/wbsuB+N/6ovS84mpEB66v7pb12ru3FHx7n/cc7ys50Op/60C5Eiux1Mv9Vv85UM+Bmc80/vfqp62DAAIDE0jDvzUMcM+QqLoD8X/ml77Y5y1iU/BxYF4HZj77Vv8NvORJpXxp9b9S7GKRy/F/4Bbd1hBAoBeBNPzVBxviM7zbciD+K34UPzM6kIJvxtjFLOdb/Tfw4kyl741W/yvFLha5HP979dPWQQCBgQmk4d8aBrhnSFTdgfiv+FH8zOhACr4ZYxeznG/138CLM5W+N1r9rxS7WORy/B+4Rbc1BBDoRSANf/XBhvgM77YciP+KH8XPjA6k4JsxdjHL+Vb/Dbw4U+l7o9X/SrGLRS7H/179tHUQQGBgAmn4t4YB7hkSVXcg/it+FD8zOpCCb8bYxSznW/1/+vjlsl7c4U4FB1r9rxCzGORuHIj/A7fotoYAAr0IpOGvPtgQn+HdlgPxPy9APxVDl+zA+3cfl/XaG0MKvr3Pe05+VHKg1f+72w/LelViIJZ5c7rVf67M60rFs4//vfpp6yCAwMAE0vBvDQPcMySq7kD8r/gyF9N8xemzJ7fLeu09+xR8e5/33HxOVT5z/vO5st8PxcZ//j/kSOXfx/+BW3RbQwCBXgTS8FcfbIjP8G7Lgfhf+aUutnmK2ta/MZSCjyPzOOKsD2fN/wMLXszHgv/znbk8P5x5/O/VT1sHAQQGJpCGf2sY4J4hUXUH4r8i4FAEYHG5LAy8Lvfs5N3pzy4ND/anZ4/5+Znz//xnIA/Odwbxf+AW3dYQQKAXgTT81Qcb4jO823Ig/is6zld0YN+PvYFXP5a8rM8yDY+zrn/Wzvj+GfP/PhOezMMk/vfqp62DAAIDE0jDvzUMcM+QqLoD8V+RM0+RU/msDbx4XNnv3rGl4em9rvXk4SU4wH+eXoKnx9pj/B+4Rbc1BBDoRSANf/XBhvgM77YciP/HeqFaV0F5SgcMvPh2St8u/bPS8OyN4+b522W99j7vOfk4sgOt/o8ci73JtVYH4n+vfto6CCAwMIE0/FvDAPcMiao7EP9bX5SeV1yN6MD11d2yXnv3loJv7/Oe430lB1r9bx0oV2Illnq53+o/B+o5MPOZxv+BW3RbQwCBXgTS8FcfbIjP8G7Lgfg/80tf7PMWsSn4ODCvAzOffav/Bl7ypFK+tPpfKXaxyOX436uftg4CCAxMIA3/1jDAPUOi6g7Ef8WP4mdGB1LwzRi7mOV8q/8GXpyp9L3R6n+l2MUil+P/wC26rSGAQC8CafirDzbEZ3i35UD8V/wofmZ0IAXfjLGLWc63+m/gxZlK3xut/leKXSxyOf736qetgwACAxNIw781DHDPkKi6A/Ff8aP4mdGBFHwzxi5mOd/qv4EXZyp9b7T6Xyl2scjl+D9wi25rCCDQi0Aa/uqDDfEZ3m05EP8VP4qfGR1IwTdj7GKW863+P338clkv7nCnggOt/leIWQxyNw7E/179tHUQQGBgAmn4t4YB7hkSVXcg/ucF6Kdi6JIdeP/u47Jee2NIwbf3ec/Jj0oOtPp/d/thWa9KDMQyb063+s+VeV2pePbxf+AW3dYQQKAXgTT81Qcb4jO823Ig/ld8mYtpvuL02ZPbZb32nn0Kvr3Pe24+pyqfOf/5XNnvh2LjP/8fcqTy7+N/r37aOgggMDCBNPxbwwD3DImqOxD/K7/UxTZPUdv6N4ZS8HFkHkec9eGs+X9gwYv5WPB/vjOX54czj/8Dt+i2hgACvQik4a8+2BCf4d2WA/FfEXAoArC4XBYGXpd7dvLu9GeXhgf707PH/PzM+X/+M5AH5zuD+N+rn7YOAggMTCAN/9YwwD1DouoOxH9Fx/mKDuz7sTfw6seSl/VZpuFx1vXP2hnfP2P+32fCk3mYxP+BW3RbQwCBXgTS8FcfbIjP8G7LgfivyJmnyKl81gZePK7sd+/Y0vD0Xtd68vASHOA/Ty/B02PtMf736qetgwACAxNIw781DHDPkKi6A/H/WC9U6yooT+mAgRffTunbpX9WGp69cdw8f7us197nPScfR3ag1f+RY7E3udbqQPwfuEW3NQQQ6EUgDX/1wYb4DO+2HIj/rS9KzyuuRnTg+upuWa+9e0vBt/d5z/G+kgOt/rcOlCuxEku93G/1nwP1HJj5TON/r37aOgggMDCBNPxbwwD3DImqOxD/Z37pi33eIjYFHwfmdWDms2/138BLnlTKl1b/K8UuFrkc/wdu0W0NAQR6EUjDX32wIT7Duy0H4r/iR/EzowMp+GaMXcxyvtV/Ay/OVPreaPW/Uuxikcvxv1c/bR0EEBiYQBr+rWGAe4ZE1R2I/4ofxc+MDqTgmzF2Mcv5Vv8NvDhT6Xuj1f9KsYtFLsf/gVt0W0MAgV4E0vBXH2yIz/Buy4H4r/hR/MzoQAq+GWMXs5xv9d/AizOVvjda/a8Uu1jkcvzv1U9bBwEEBiaQhn9rGOCeIVF1B+K/4kfxM6MDKfhmjF3Mcr7V/6ePXy7rxR3uVHCg1f8KMYtB7saB+D9wi25rCCDQi0Aa/uqDDfEZ3m05EP/zAvRTMXTJDrx/93FZr70xpODb+7zn5EclB1r9v7v9sKxXJQZimTenW/3nyryuVDz7+N+rn7YOAggMTCAN/9YwwD1DouoOxP+KL3MxzVecPntyu6zX3rNPwbf3ec/N51TlM+c/nyv7/VBs/Of/Q45U/n38H7hFtzUEEOhFIA1/9cGG+AzvthyI/5Vf6mKbp6ht/RtDKfg4Mo8jzvpw1vw/sODFfCz4P9+Zy/PDmcf/Xv20dRBAYGACafi3hgHuGRJVdyD+KwIORQAWl8vCwOtyz07enf7s0vBgf3r2mJ+fOf/Pfwby4HxnEP8HbtFtDQEEehFIw199sCE+w7stB+K/ouN8RQf2/dgbePVjycv6LNPwOOv6Z+2M758x/+8z4ck8TOJ/r37aOgggMDCBNPxbwwD3DImqOxD/FTnzFDmVz9rAi8eV/e4dWxqe3utaTx5eggP85+kleHqsPcb/gVt0W0MAgV4E0vBXH2yIz/Buy4H4f6wXqnUVlKd0wMCLb6f07dI/Kw3P3jhunr9d1mvv856TjyM70Or/yLHYm1xrdSD+9+qnrYMAAgMTSMO/NQxwz5CougPxv/VF6XnF1YgOXF/dLeu1d28p+PY+7zneV3Kg1f/WgXIlVmKpl/ut/nOgngMzn2n8H7hFtzUEEOhFIA1/9cGG+AzvthyI/zO/9MU+bxGbgo8D8zow89m3+m/gJU8q5Uur/5ViF4tcjv+9+mnrIIDAwAQ+/9FXb9am/x//+V+WrYGAewZFVR34u79/sazu/+4f/HR5/4v/3v2vYhRKCqUKDvzHf/1iScHHf05XcLolhvh/8+r17u9/Ay950uLYyM/G//Ud4Puf1yO7eoy9xf+bV6/fDtyi2xoCCPQi8DtffvWzten/s7/4q2UdAFQdbojL4O77DqwD3tX51f2rP/6T5e7f/3NZX4DHeLFaUzE5mgNrg7M6n4EX/zk6mqPH3M+n+m/gJU+O6eWp1v5U/0+1P58jz47pwP/1/+66Vz9tHQQQGJjA51/++Iu16XdhMKsDf/7Xf/u/jX8GAH6+xuQVBvKAAxw4OJCBFyYHJlhgwQEOXK4DP/9i4Bbd1hBAoCeBXw+9rj//va/ezjr0EPdkA78fffXmu3/d+OWPv3jx6udfvHh1d73+0+bLfWkruJzdfge+ffX6zYt/ff2zX7nPf+7sd6cCq0/1/6e/8e2yXhUYiGEu579/3p/q//fX8L/n9efSz/77/vfspa2FAAIIIIAAAgggcGQCXz/65tF6HfljLI/AlAT+6NE//dZ6TRm8oBFAAAEEEEAAAQQQQAABBBA4F4Grz759s17n+nyfiwACCCCAAAIIIIAAAggggAACCCCAQFcC+RtDXRe1GAIIIIAAAggggAACCCCAAAIIIIAAAuciYOB1LvI+FwEEEEAAAQQQQAABBBBAAAEEEEDgKAQMvI6C1aIIIIAAAggggAACCCCAAAIIIIAAAuciYOB1LvI+FwEEEEAAAQQQQAABBBBAAAEEEEDgKAQMvI6C1aIIfEfgDx/d/P56wYEAAggggAACCCCAAAIIIIAAAickcPXDF3+6Xif8SB+FwDQEDJSnOWqBIoAAAggggAACCCCAAAIIIIAAAvUJfP3om9/81cDr5pf1oxUhAggggAACCCCAAAIIIIAAAggggEBpAr8edv3NOvD6yWcv/qF0sIJDAAEEEEAAAQQQQAABBBBA4BIIfPefOX72Ysl/jnX4+e2brx9982grBv+fH/wAAwzW3Lj64c1fHnLmxfKTRy9+eytn3EMAAQQQQAABBBBAAAEEEEAAgRMS+P8HNy/+rX3g5f9z9RkG8zG4+eX6L7sMu074xeWjEEAAAQQQQAABBBBAAAEEEEAAAQQQQAABBBBAAAEEEEAAAQQQQAABBBBAAAEEEEAAAQQQQAABBBBAAAEEEEAAAQQQQAABBBBAAAEEEEAAAQQQQAABBBBAAAEEEEAAAQQQQAABBBBAAAEEEEAAAQQQQAABBBBAAAEEEEAAAQQQQAABBBBAAAEEEEAAAQQQQAABBBBAAAEEEEAAAQQQQAABBBBAAAEEEEAAAQQQQAABBBBAAAEEEEAAAQQQQAABBBBAAAEEEEAAAQQQQAABBBBAAAEEEEAAAQQQQAABBBBAAAEEEEAAAQQQQAABBBBAAAEEEEAAAQQQQAABBBBAAAEEEEAAAQQQQAABBBBAAAEEEEAAAQQQQAABBBBAAAEEEEAAAQQQQAABBBBAAAEEEEAAAQQQQAABBBBAAAEEEEAAAQQQQAABBBBAAAEEEEAAAQQQQAABBBBAAAEEEEAAAQQQQAABBBBAAAEEEEAAAQQQQAABBBBAAAEEEEAAAQQQQAABBBBAAAEEEEAAAQQQQAABBBBAAAEEEEAAAQQQQAABBBBAAAEEEEAAAQQQQAABBBBAAAEEEEAAAQQQChjTQwAAAHFJREFUQAABBBBAAAEEEEAAAQQQQAABBBBAAAEEEEAAAQQQQAABBBBAAAEEEEAAAQQQQAABBBBAAAEEEEAAAQQQQAABBBBAAAEEEEAAAQQQQAABBBBAAAEEEEAAAQQQQAABBBBAAAEEEEAAAQQ+hcD/AMKp1mkbTJ8XAAAAAElFTkSuQmCC)"
   ]
  },
  {
   "cell_type": "markdown",
   "metadata": {
    "id": "FnzHYXF8MMv2"
   },
   "source": [
    "## Criando um `pd.DataFrame`"
   ]
  },
  {
   "cell_type": "markdown",
   "metadata": {
    "id": "SuMRcZLSyG4H"
   },
   "source": [
    "Vamos agora criar uma tabela completa, ou seja, um `pd.DataFrame`."
   ]
  },
  {
   "cell_type": "code",
   "execution_count": null,
   "metadata": {
    "id": "rx1oTK8PZy56"
   },
   "outputs": [],
   "source": [
    "# normalmente chamaremos de 'df' o DataFrame principal que trabalharemos\n",
    "df = pd.DataFrame({\"Nome\": [\"Ana Barbosa Carvalho\",\n",
    "                            \"Danilo Eduardo Fraça\",\n",
    "                            \"Gabriela Honório Iglesias\"],\n",
    "                   \"Idade\": [22,\n",
    "                             35,\n",
    "                             58],\n",
    "                   \"Gênero\": [\"feminino\",\n",
    "                              \"masculino\",\n",
    "                              \"feminino\"],\n",
    "                   }\n",
    "                  )\n",
    "\n",
    "df"
   ]
  },
  {
   "cell_type": "markdown",
   "metadata": {
    "id": "BZpgolwYKiVa"
   },
   "source": [
    "Aqui nosso `pd.DataFrame` possui 9 valores distribuidos em 3 registros com 3 tipos de dados cada.\n",
    "\n",
    "Como a principal vantagem da utilização do Pandas é para utilização com um volume maior de dados, vamos importar alguns dados já existentes e muito utilizados para que possamos ver algumas coisas interessantes:\n",
    "1. como importar dados de maior tamanho\n",
    "2. como trabalhar com dados de maior tamanho\n",
    "\n",
    "Mas antes disso, vamos aprendender a adicionar e remover dados desse `pd.DataFrame` que já criamos."
   ]
  },
  {
   "cell_type": "markdown",
   "metadata": {
    "id": "EQLXdKCiLbEy"
   },
   "source": [
    "## Adicionando dados ao `pd.DataFrame`"
   ]
  },
  {
   "cell_type": "markdown",
   "metadata": {
    "id": "mLnCpk3VMIjb"
   },
   "source": [
    "Primeiro vamos adicionar dados simples a esse último `pd.DataFrame`.\n",
    "\n",
    "Tudo será bastante parecido com o de `pd.Series`.\n"
   ]
  },
  {
   "cell_type": "markdown",
   "metadata": {
    "id": "TBfZQCd7rrFI"
   },
   "source": [
    "### **`.append()`**"
   ]
  },
  {
   "cell_type": "markdown",
   "metadata": {
    "id": "xLvVltefTuTG"
   },
   "source": [
    "Podemos utilizar o `.append()` para adicionar 1 registro ou mais a um `pd.DataFrame` existente.\n",
    "\n",
    "```python\n",
    "pd.DataFrame.append(outro_DataFrame,\n",
    "                    ignore_index=False,\n",
    "                    verify_integrity=False,\n",
    "                    sort=False)\n",
    "\n",
    "# retorna -> pd.DataFrame\n",
    "```"
   ]
  },
  {
   "cell_type": "code",
   "execution_count": null,
   "metadata": {
    "id": "yFMMoYxMaEuz"
   },
   "outputs": [],
   "source": [
    "?pd.DataFrame.append()"
   ]
  },
  {
   "cell_type": "code",
   "execution_count": null,
   "metadata": {
    "id": "KxxLjCvDL3wy"
   },
   "outputs": [],
   "source": [
    "# Vamos adicionar o registro do 'Jonas' ao pd.DataFrame anterior\n",
    "df_add = pd.DataFrame({\"Nome\": \"Jonas Kelvin\",\n",
    "                       \"Idade\": 70,\n",
    "                       \"Gênero\": \"masculino\"},\n",
    "                      index=[0])\n",
    "\n",
    "df = df.append(df_add, ignore_index=True)\n",
    "df"
   ]
  },
  {
   "cell_type": "markdown",
   "metadata": {
    "id": "HFiOa_GHT-8L"
   },
   "source": [
    "Podemos também adicionar vários registros de uma só vez."
   ]
  },
  {
   "cell_type": "code",
   "execution_count": null,
   "metadata": {
    "id": "WFql6d88T-ga"
   },
   "outputs": [],
   "source": [
    "df_add = pd.DataFrame({\"Nome\": [\"Liliane Machado Nova\",\n",
    "                                \"Orlando Patrus Queiroz\",\n",
    "                                \"Renata Silva Tardelle\",\n",
    "                                ],\n",
    "                       \"Idade\": [68,\n",
    "                                 53,\n",
    "                                 25],\n",
    "                       \"Gênero\": [\"feminino\",\n",
    "                                  \"masculino\",\n",
    "                                  \"feminino\"],\n",
    "                   }\n",
    "                  )\n",
    "\n",
    "df = df.append(df_add, ignore_index=True)\n",
    "df"
   ]
  },
  {
   "cell_type": "markdown",
   "metadata": {
    "id": "V_kaLwA7VEnB"
   },
   "source": [
    "Repare que no caso de adicionar vários itens a uma tabela já existente é a mesma coisa que juntar ou unir 2 tabelas. Similar a \"empilhar\" 2 tabelas."
   ]
  },
  {
   "cell_type": "markdown",
   "metadata": {
    "id": "Pe6c6JUGZ6nF"
   },
   "source": [
    "![image.png](data:image/png;base64,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)"
   ]
  },
  {
   "cell_type": "markdown",
   "metadata": {
    "id": "ff6f_KdJ7fqD"
   },
   "source": [
    "### **`pd.concat()`**"
   ]
  },
  {
   "cell_type": "code",
   "execution_count": null,
   "metadata": {
    "id": "dHXK5W37enjQ"
   },
   "outputs": [],
   "source": [
    "?pd.concat()"
   ]
  },
  {
   "cell_type": "markdown",
   "metadata": {
    "id": "5rkVLFdDaBE7"
   },
   "source": [
    "O comando `pd.concat()` é uma função do pandas (ou um método da classe pandas) que realiza a concatenação de dois objetos para formar um `pd.DataFrame`.\n",
    "\n",
    "Repare que seu `formato` é **`pd`**`.concat()`, ou seja, ele é \"aplicado\" **fora** do **objeto** (`.Series` ou `.DataFrame`).\n",
    "\n",
    "Isso siginifica que seu uso é um pouco diferente."
   ]
  },
  {
   "cell_type": "markdown",
   "metadata": {
    "id": "scQJZ8N69XjV"
   },
   "source": [
    "```python\n",
    "# unindo DUAS LISTAS em um .DataFrame\n",
    "df = pd.concat([obj_1, obj_2, ..., obj_n], # lista de OBJETOS a serem unidos\n",
    "               axis=0, # { 0 -> vertical, 1 -> horizontal }\n",
    "                       # { 0 -> empilha,  1 -> enfileira }\n",
    "                       # { 0 -> índice,   1 -> coluna }\n",
    "               join='outer', # {'inner'}\n",
    "               ignore_index=False,\n",
    "               keys=None,\n",
    "               levels=None,\n",
    "               names=None,\n",
    "               verify_integrity=False,\n",
    "               sort=False,\n",
    "               copy=True)\n",
    "```"
   ]
  },
  {
   "cell_type": "markdown",
   "metadata": {
    "id": "2VnhHZxhhMFH"
   },
   "source": [
    "#### Funciona com Séries:"
   ]
  },
  {
   "cell_type": "code",
   "execution_count": null,
   "metadata": {
    "id": "HZgdTta5hhvJ"
   },
   "outputs": [],
   "source": [
    "s1 = pd.Series(['a', 'b'])\n",
    "s2 = pd.Series(['c', 'd'])\n",
    "pd.concat([s1, s2])"
   ]
  },
  {
   "cell_type": "markdown",
   "metadata": {
    "id": "w-f99UDFhqgK"
   },
   "source": [
    "Para \"consertar\" o índice, basta adicionar\n",
    "```python\n",
    "ignore_index=True\n",
    "```"
   ]
  },
  {
   "cell_type": "code",
   "execution_count": null,
   "metadata": {
    "id": "aqU7ogh7h8Oi"
   },
   "outputs": [],
   "source": [
    "pd.concat([s1, s2],\n",
    "          ignore_index=True)"
   ]
  },
  {
   "cell_type": "markdown",
   "metadata": {
    "id": "9QnHhDZziE9i"
   },
   "source": [
    "Podemos adicionar \"níveis\" de hierarquia aos dados, atribuindo \"chaves\" a eles:"
   ]
  },
  {
   "cell_type": "code",
   "execution_count": null,
   "metadata": {
    "id": "wkCNnrlgpDKs"
   },
   "outputs": [],
   "source": [
    "pd.concat([s1, s2], keys=['s1', 's2'])"
   ]
  },
  {
   "cell_type": "markdown",
   "metadata": {
    "id": "YG1uqYvEqBHk"
   },
   "source": [
    "Podemos mudar o nome do índice:"
   ]
  },
  {
   "cell_type": "code",
   "execution_count": null,
   "metadata": {
    "id": "1RXJZYBeqFz1"
   },
   "outputs": [],
   "source": [
    "pd.concat([s1, s2],\n",
    "          keys=['s1', 's2'],\n",
    "          names=['Nome da Série', 'ID da linha'])"
   ]
  },
  {
   "cell_type": "markdown",
   "metadata": {
    "id": "dcVKs5qcqzlt"
   },
   "source": [
    "#### Funciona com `DataFrame`"
   ]
  },
  {
   "cell_type": "markdown",
   "metadata": {
    "id": "VfypLfsXrDNl"
   },
   "source": [
    "Combinando dois `.DataFrame` com as mesmas colunas:"
   ]
  },
  {
   "cell_type": "code",
   "execution_count": null,
   "metadata": {
    "colab": {
     "base_uri": "https://localhost:8080/",
     "height": 111
    },
    "executionInfo": {
     "elapsed": 221,
     "status": "ok",
     "timestamp": 1623434433737,
     "user": {
      "displayName": "Cristiano de Magalhães",
      "photoUrl": "",
      "userId": "03249985789837417195"
     },
     "user_tz": 180
    },
    "id": "KWaQqhXfqmFd",
    "outputId": "21149d40-6d28-4b73-9184-ac8c73d725db"
   },
   "outputs": [
    {
     "data": {
      "text/html": [
       "<div>\n",
       "<style scoped>\n",
       "    .dataframe tbody tr th:only-of-type {\n",
       "        vertical-align: middle;\n",
       "    }\n",
       "\n",
       "    .dataframe tbody tr th {\n",
       "        vertical-align: top;\n",
       "    }\n",
       "\n",
       "    .dataframe thead th {\n",
       "        text-align: right;\n",
       "    }\n",
       "</style>\n",
       "<table border=\"1\" class=\"dataframe\">\n",
       "  <thead>\n",
       "    <tr style=\"text-align: right;\">\n",
       "      <th></th>\n",
       "      <th>letra</th>\n",
       "      <th>número</th>\n",
       "    </tr>\n",
       "  </thead>\n",
       "  <tbody>\n",
       "    <tr>\n",
       "      <th>0</th>\n",
       "      <td>a</td>\n",
       "      <td>1</td>\n",
       "    </tr>\n",
       "    <tr>\n",
       "      <th>1</th>\n",
       "      <td>b</td>\n",
       "      <td>2</td>\n",
       "    </tr>\n",
       "  </tbody>\n",
       "</table>\n",
       "</div>"
      ],
      "text/plain": [
       "  letra  número\n",
       "0     a       1\n",
       "1     b       2"
      ]
     },
     "execution_count": 76,
     "metadata": {
      "tags": []
     },
     "output_type": "execute_result"
    }
   ],
   "source": [
    "df1 = pd.DataFrame([['a', 1], ['b', 2]],\n",
    "                   columns=['letra', 'número'])\n",
    "df1"
   ]
  },
  {
   "cell_type": "code",
   "execution_count": null,
   "metadata": {
    "colab": {
     "base_uri": "https://localhost:8080/",
     "height": 111
    },
    "executionInfo": {
     "elapsed": 221,
     "status": "ok",
     "timestamp": 1623434441815,
     "user": {
      "displayName": "Cristiano de Magalhães",
      "photoUrl": "",
      "userId": "03249985789837417195"
     },
     "user_tz": 180
    },
    "id": "Ow96bMpurUKW",
    "outputId": "d8496b41-7262-4eb2-dff5-4dd0bdf90c74"
   },
   "outputs": [
    {
     "data": {
      "text/html": [
       "<div>\n",
       "<style scoped>\n",
       "    .dataframe tbody tr th:only-of-type {\n",
       "        vertical-align: middle;\n",
       "    }\n",
       "\n",
       "    .dataframe tbody tr th {\n",
       "        vertical-align: top;\n",
       "    }\n",
       "\n",
       "    .dataframe thead th {\n",
       "        text-align: right;\n",
       "    }\n",
       "</style>\n",
       "<table border=\"1\" class=\"dataframe\">\n",
       "  <thead>\n",
       "    <tr style=\"text-align: right;\">\n",
       "      <th></th>\n",
       "      <th>letra</th>\n",
       "      <th>número</th>\n",
       "    </tr>\n",
       "  </thead>\n",
       "  <tbody>\n",
       "    <tr>\n",
       "      <th>0</th>\n",
       "      <td>c</td>\n",
       "      <td>3</td>\n",
       "    </tr>\n",
       "    <tr>\n",
       "      <th>1</th>\n",
       "      <td>d</td>\n",
       "      <td>4</td>\n",
       "    </tr>\n",
       "  </tbody>\n",
       "</table>\n",
       "</div>"
      ],
      "text/plain": [
       "  letra  número\n",
       "0     c       3\n",
       "1     d       4"
      ]
     },
     "execution_count": 77,
     "metadata": {
      "tags": []
     },
     "output_type": "execute_result"
    }
   ],
   "source": [
    "df2 = pd.DataFrame([['c', 3], ['d', 4]],\n",
    "                   columns=['letra', 'número'])\n",
    "df2"
   ]
  },
  {
   "cell_type": "code",
   "execution_count": null,
   "metadata": {
    "colab": {
     "base_uri": "https://localhost:8080/",
     "height": 173
    },
    "executionInfo": {
     "elapsed": 252,
     "status": "ok",
     "timestamp": 1623434450377,
     "user": {
      "displayName": "Cristiano de Magalhães",
      "photoUrl": "",
      "userId": "03249985789837417195"
     },
     "user_tz": 180
    },
    "id": "mHRD8YtVrcTG",
    "outputId": "cedd606b-bc51-49a2-d977-cd6eb386baea"
   },
   "outputs": [
    {
     "data": {
      "text/html": [
       "<div>\n",
       "<style scoped>\n",
       "    .dataframe tbody tr th:only-of-type {\n",
       "        vertical-align: middle;\n",
       "    }\n",
       "\n",
       "    .dataframe tbody tr th {\n",
       "        vertical-align: top;\n",
       "    }\n",
       "\n",
       "    .dataframe thead th {\n",
       "        text-align: right;\n",
       "    }\n",
       "</style>\n",
       "<table border=\"1\" class=\"dataframe\">\n",
       "  <thead>\n",
       "    <tr style=\"text-align: right;\">\n",
       "      <th></th>\n",
       "      <th>letra</th>\n",
       "      <th>número</th>\n",
       "    </tr>\n",
       "  </thead>\n",
       "  <tbody>\n",
       "    <tr>\n",
       "      <th>0</th>\n",
       "      <td>a</td>\n",
       "      <td>1</td>\n",
       "    </tr>\n",
       "    <tr>\n",
       "      <th>1</th>\n",
       "      <td>b</td>\n",
       "      <td>2</td>\n",
       "    </tr>\n",
       "    <tr>\n",
       "      <th>0</th>\n",
       "      <td>c</td>\n",
       "      <td>3</td>\n",
       "    </tr>\n",
       "    <tr>\n",
       "      <th>1</th>\n",
       "      <td>d</td>\n",
       "      <td>4</td>\n",
       "    </tr>\n",
       "  </tbody>\n",
       "</table>\n",
       "</div>"
      ],
      "text/plain": [
       "  letra  número\n",
       "0     a       1\n",
       "1     b       2\n",
       "0     c       3\n",
       "1     d       4"
      ]
     },
     "execution_count": 78,
     "metadata": {
      "tags": []
     },
     "output_type": "execute_result"
    }
   ],
   "source": [
    "pd.concat([df1, df2])"
   ]
  },
  {
   "cell_type": "markdown",
   "metadata": {
    "id": "i-kxMJfbrkCu"
   },
   "source": [
    "**OBSERVAÇÃO:** Se juntarmos dois objetos `.DataFrame` que tenham colunas diferentes, os dados que não existirem em uma serão preenchidos com valores `NaN` (que é tipo um \"não existe\")."
   ]
  },
  {
   "cell_type": "code",
   "execution_count": null,
   "metadata": {
    "colab": {
     "base_uri": "https://localhost:8080/",
     "height": 111
    },
    "executionInfo": {
     "elapsed": 233,
     "status": "ok",
     "timestamp": 1623434489634,
     "user": {
      "displayName": "Cristiano de Magalhães",
      "photoUrl": "",
      "userId": "03249985789837417195"
     },
     "user_tz": 180
    },
    "id": "9wCP9SVQrhIu",
    "outputId": "b29f5ca2-833b-4cec-f64c-e564dbf13981"
   },
   "outputs": [
    {
     "data": {
      "text/html": [
       "<div>\n",
       "<style scoped>\n",
       "    .dataframe tbody tr th:only-of-type {\n",
       "        vertical-align: middle;\n",
       "    }\n",
       "\n",
       "    .dataframe tbody tr th {\n",
       "        vertical-align: top;\n",
       "    }\n",
       "\n",
       "    .dataframe thead th {\n",
       "        text-align: right;\n",
       "    }\n",
       "</style>\n",
       "<table border=\"1\" class=\"dataframe\">\n",
       "  <thead>\n",
       "    <tr style=\"text-align: right;\">\n",
       "      <th></th>\n",
       "      <th>letra</th>\n",
       "      <th>número</th>\n",
       "      <th>animal</th>\n",
       "    </tr>\n",
       "  </thead>\n",
       "  <tbody>\n",
       "    <tr>\n",
       "      <th>0</th>\n",
       "      <td>c</td>\n",
       "      <td>3</td>\n",
       "      <td>gato</td>\n",
       "    </tr>\n",
       "    <tr>\n",
       "      <th>1</th>\n",
       "      <td>d</td>\n",
       "      <td>4</td>\n",
       "      <td>cachorro</td>\n",
       "    </tr>\n",
       "  </tbody>\n",
       "</table>\n",
       "</div>"
      ],
      "text/plain": [
       "  letra  número    animal\n",
       "0     c       3      gato\n",
       "1     d       4  cachorro"
      ]
     },
     "execution_count": 81,
     "metadata": {
      "tags": []
     },
     "output_type": "execute_result"
    }
   ],
   "source": [
    "df3 = pd.DataFrame([['c', 3, 'gato'], ['d', 4, 'cachorro']],\n",
    "                   columns=['letra', 'número', 'animal'])\n",
    "df3"
   ]
  },
  {
   "cell_type": "code",
   "execution_count": null,
   "metadata": {
    "colab": {
     "base_uri": "https://localhost:8080/",
     "height": 235
    },
    "executionInfo": {
     "elapsed": 230,
     "status": "ok",
     "timestamp": 1623434656206,
     "user": {
      "displayName": "Cristiano de Magalhães",
      "photoUrl": "",
      "userId": "03249985789837417195"
     },
     "user_tz": 180
    },
    "id": "qASIX_GXsGzv",
    "outputId": "acb50658-c326-4ab4-ef59-1dd8c74973d3"
   },
   "outputs": [
    {
     "data": {
      "text/html": [
       "<div>\n",
       "<style scoped>\n",
       "    .dataframe tbody tr th:only-of-type {\n",
       "        vertical-align: middle;\n",
       "    }\n",
       "\n",
       "    .dataframe tbody tr th {\n",
       "        vertical-align: top;\n",
       "    }\n",
       "\n",
       "    .dataframe thead th {\n",
       "        text-align: right;\n",
       "    }\n",
       "</style>\n",
       "<table border=\"1\" class=\"dataframe\">\n",
       "  <thead>\n",
       "    <tr style=\"text-align: right;\">\n",
       "      <th></th>\n",
       "      <th>letra</th>\n",
       "      <th>número</th>\n",
       "      <th>animal</th>\n",
       "    </tr>\n",
       "  </thead>\n",
       "  <tbody>\n",
       "    <tr>\n",
       "      <th>0</th>\n",
       "      <td>a</td>\n",
       "      <td>1</td>\n",
       "      <td>NaN</td>\n",
       "    </tr>\n",
       "    <tr>\n",
       "      <th>1</th>\n",
       "      <td>b</td>\n",
       "      <td>2</td>\n",
       "      <td>NaN</td>\n",
       "    </tr>\n",
       "    <tr>\n",
       "      <th>0</th>\n",
       "      <td>c</td>\n",
       "      <td>3</td>\n",
       "      <td>NaN</td>\n",
       "    </tr>\n",
       "    <tr>\n",
       "      <th>1</th>\n",
       "      <td>d</td>\n",
       "      <td>4</td>\n",
       "      <td>NaN</td>\n",
       "    </tr>\n",
       "    <tr>\n",
       "      <th>0</th>\n",
       "      <td>c</td>\n",
       "      <td>3</td>\n",
       "      <td>gato</td>\n",
       "    </tr>\n",
       "    <tr>\n",
       "      <th>1</th>\n",
       "      <td>d</td>\n",
       "      <td>4</td>\n",
       "      <td>cachorro</td>\n",
       "    </tr>\n",
       "  </tbody>\n",
       "</table>\n",
       "</div>"
      ],
      "text/plain": [
       "  letra  número    animal\n",
       "0     a       1       NaN\n",
       "1     b       2       NaN\n",
       "0     c       3       NaN\n",
       "1     d       4       NaN\n",
       "0     c       3      gato\n",
       "1     d       4  cachorro"
      ]
     },
     "execution_count": 85,
     "metadata": {
      "tags": []
     },
     "output_type": "execute_result"
    }
   ],
   "source": [
    "pd.concat([df1, df2, df3], sort=False)"
   ]
  },
  {
   "cell_type": "code",
   "execution_count": null,
   "metadata": {
    "colab": {
     "base_uri": "https://localhost:8080/",
     "height": 235
    },
    "executionInfo": {
     "elapsed": 218,
     "status": "ok",
     "timestamp": 1623434673617,
     "user": {
      "displayName": "Cristiano de Magalhães",
      "photoUrl": "",
      "userId": "03249985789837417195"
     },
     "user_tz": 180
    },
    "id": "s9YmuMCWPyYX",
    "outputId": "917b973f-4eae-4731-cc32-6f8d50a1360f"
   },
   "outputs": [
    {
     "data": {
      "text/html": [
       "<div>\n",
       "<style scoped>\n",
       "    .dataframe tbody tr th:only-of-type {\n",
       "        vertical-align: middle;\n",
       "    }\n",
       "\n",
       "    .dataframe tbody tr th {\n",
       "        vertical-align: top;\n",
       "    }\n",
       "\n",
       "    .dataframe thead th {\n",
       "        text-align: right;\n",
       "    }\n",
       "</style>\n",
       "<table border=\"1\" class=\"dataframe\">\n",
       "  <thead>\n",
       "    <tr style=\"text-align: right;\">\n",
       "      <th></th>\n",
       "      <th>letra</th>\n",
       "      <th>número</th>\n",
       "      <th>animal</th>\n",
       "    </tr>\n",
       "  </thead>\n",
       "  <tbody>\n",
       "    <tr>\n",
       "      <th>0</th>\n",
       "      <td>a</td>\n",
       "      <td>1</td>\n",
       "      <td>NaN</td>\n",
       "    </tr>\n",
       "    <tr>\n",
       "      <th>1</th>\n",
       "      <td>b</td>\n",
       "      <td>2</td>\n",
       "      <td>NaN</td>\n",
       "    </tr>\n",
       "    <tr>\n",
       "      <th>0</th>\n",
       "      <td>c</td>\n",
       "      <td>3</td>\n",
       "      <td>NaN</td>\n",
       "    </tr>\n",
       "    <tr>\n",
       "      <th>1</th>\n",
       "      <td>d</td>\n",
       "      <td>4</td>\n",
       "      <td>NaN</td>\n",
       "    </tr>\n",
       "    <tr>\n",
       "      <th>0</th>\n",
       "      <td>c</td>\n",
       "      <td>3</td>\n",
       "      <td>gato</td>\n",
       "    </tr>\n",
       "    <tr>\n",
       "      <th>1</th>\n",
       "      <td>d</td>\n",
       "      <td>4</td>\n",
       "      <td>cachorro</td>\n",
       "    </tr>\n",
       "  </tbody>\n",
       "</table>\n",
       "</div>"
      ],
      "text/plain": [
       "  letra  número    animal\n",
       "0     a       1       NaN\n",
       "1     b       2       NaN\n",
       "0     c       3       NaN\n",
       "1     d       4       NaN\n",
       "0     c       3      gato\n",
       "1     d       4  cachorro"
      ]
     },
     "execution_count": 86,
     "metadata": {
      "tags": []
     },
     "output_type": "execute_result"
    }
   ],
   "source": [
    "pd.concat([df1, df2, df3])"
   ]
  },
  {
   "cell_type": "markdown",
   "metadata": {
    "id": "xPW6gGMOsSVH"
   },
   "source": [
    "Utilizando o parâmetro:\n",
    "```python\n",
    "join=\"inner\"\n",
    "```"
   ]
  },
  {
   "cell_type": "code",
   "execution_count": null,
   "metadata": {
    "colab": {
     "base_uri": "https://localhost:8080/",
     "height": 235
    },
    "executionInfo": {
     "elapsed": 222,
     "status": "ok",
     "timestamp": 1623434839732,
     "user": {
      "displayName": "Cristiano de Magalhães",
      "photoUrl": "",
      "userId": "03249985789837417195"
     },
     "user_tz": 180
    },
    "id": "zwTKElASsS2Y",
    "outputId": "a43ada7a-f11b-4f20-f0ef-bf5825b912cb"
   },
   "outputs": [
    {
     "data": {
      "text/html": [
       "<div>\n",
       "<style scoped>\n",
       "    .dataframe tbody tr th:only-of-type {\n",
       "        vertical-align: middle;\n",
       "    }\n",
       "\n",
       "    .dataframe tbody tr th {\n",
       "        vertical-align: top;\n",
       "    }\n",
       "\n",
       "    .dataframe thead th {\n",
       "        text-align: right;\n",
       "    }\n",
       "</style>\n",
       "<table border=\"1\" class=\"dataframe\">\n",
       "  <thead>\n",
       "    <tr style=\"text-align: right;\">\n",
       "      <th></th>\n",
       "      <th>letra</th>\n",
       "      <th>número</th>\n",
       "    </tr>\n",
       "  </thead>\n",
       "  <tbody>\n",
       "    <tr>\n",
       "      <th>0</th>\n",
       "      <td>a</td>\n",
       "      <td>1</td>\n",
       "    </tr>\n",
       "    <tr>\n",
       "      <th>1</th>\n",
       "      <td>b</td>\n",
       "      <td>2</td>\n",
       "    </tr>\n",
       "    <tr>\n",
       "      <th>0</th>\n",
       "      <td>c</td>\n",
       "      <td>3</td>\n",
       "    </tr>\n",
       "    <tr>\n",
       "      <th>1</th>\n",
       "      <td>d</td>\n",
       "      <td>4</td>\n",
       "    </tr>\n",
       "    <tr>\n",
       "      <th>0</th>\n",
       "      <td>c</td>\n",
       "      <td>3</td>\n",
       "    </tr>\n",
       "    <tr>\n",
       "      <th>1</th>\n",
       "      <td>d</td>\n",
       "      <td>4</td>\n",
       "    </tr>\n",
       "  </tbody>\n",
       "</table>\n",
       "</div>"
      ],
      "text/plain": [
       "  letra  número\n",
       "0     a       1\n",
       "1     b       2\n",
       "0     c       3\n",
       "1     d       4\n",
       "0     c       3\n",
       "1     d       4"
      ]
     },
     "execution_count": 90,
     "metadata": {
      "tags": []
     },
     "output_type": "execute_result"
    }
   ],
   "source": [
    "pd.concat([df1, df2, df3], join=\"inner\")"
   ]
  },
  {
   "cell_type": "markdown",
   "metadata": {
    "id": "m5e9h5AOs0Xc"
   },
   "source": [
    "Realizando a junção no \"eixo horizontal\" da tabela (`.DataFrame`)"
   ]
  },
  {
   "cell_type": "code",
   "execution_count": null,
   "metadata": {
    "colab": {
     "base_uri": "https://localhost:8080/",
     "height": 111
    },
    "executionInfo": {
     "elapsed": 215,
     "status": "ok",
     "timestamp": 1623434920436,
     "user": {
      "displayName": "Cristiano de Magalhães",
      "photoUrl": "",
      "userId": "03249985789837417195"
     },
     "user_tz": 180
    },
    "id": "F2MIpYiwQvWz",
    "outputId": "c54f02ad-cb18-4c0c-f646-79f8fb6f7106"
   },
   "outputs": [
    {
     "data": {
      "text/html": [
       "<div>\n",
       "<style scoped>\n",
       "    .dataframe tbody tr th:only-of-type {\n",
       "        vertical-align: middle;\n",
       "    }\n",
       "\n",
       "    .dataframe tbody tr th {\n",
       "        vertical-align: top;\n",
       "    }\n",
       "\n",
       "    .dataframe thead th {\n",
       "        text-align: right;\n",
       "    }\n",
       "</style>\n",
       "<table border=\"1\" class=\"dataframe\">\n",
       "  <thead>\n",
       "    <tr style=\"text-align: right;\">\n",
       "      <th></th>\n",
       "      <th>letra</th>\n",
       "      <th>número</th>\n",
       "    </tr>\n",
       "  </thead>\n",
       "  <tbody>\n",
       "    <tr>\n",
       "      <th>0</th>\n",
       "      <td>a</td>\n",
       "      <td>1</td>\n",
       "    </tr>\n",
       "    <tr>\n",
       "      <th>1</th>\n",
       "      <td>b</td>\n",
       "      <td>2</td>\n",
       "    </tr>\n",
       "  </tbody>\n",
       "</table>\n",
       "</div>"
      ],
      "text/plain": [
       "  letra  número\n",
       "0     a       1\n",
       "1     b       2"
      ]
     },
     "execution_count": 91,
     "metadata": {
      "tags": []
     },
     "output_type": "execute_result"
    }
   ],
   "source": [
    "df1"
   ]
  },
  {
   "cell_type": "code",
   "execution_count": null,
   "metadata": {
    "colab": {
     "base_uri": "https://localhost:8080/",
     "height": 111
    },
    "executionInfo": {
     "elapsed": 221,
     "status": "ok",
     "timestamp": 1623434941103,
     "user": {
      "displayName": "Cristiano de Magalhães",
      "photoUrl": "",
      "userId": "03249985789837417195"
     },
     "user_tz": 180
    },
    "id": "DgGUp7IZsxSv",
    "outputId": "60b3f7ad-a215-438c-c9c0-dd963e870c77"
   },
   "outputs": [
    {
     "data": {
      "text/html": [
       "<div>\n",
       "<style scoped>\n",
       "    .dataframe tbody tr th:only-of-type {\n",
       "        vertical-align: middle;\n",
       "    }\n",
       "\n",
       "    .dataframe tbody tr th {\n",
       "        vertical-align: top;\n",
       "    }\n",
       "\n",
       "    .dataframe thead th {\n",
       "        text-align: right;\n",
       "    }\n",
       "</style>\n",
       "<table border=\"1\" class=\"dataframe\">\n",
       "  <thead>\n",
       "    <tr style=\"text-align: right;\">\n",
       "      <th></th>\n",
       "      <th>letra</th>\n",
       "      <th>número</th>\n",
       "      <th>animal</th>\n",
       "      <th>nome</th>\n",
       "    </tr>\n",
       "  </thead>\n",
       "  <tbody>\n",
       "    <tr>\n",
       "      <th>0</th>\n",
       "      <td>a</td>\n",
       "      <td>1</td>\n",
       "      <td>passaro</td>\n",
       "      <td>Lôro</td>\n",
       "    </tr>\n",
       "    <tr>\n",
       "      <th>1</th>\n",
       "      <td>b</td>\n",
       "      <td>2</td>\n",
       "      <td>Macaco</td>\n",
       "      <td>Joba</td>\n",
       "    </tr>\n",
       "  </tbody>\n",
       "</table>\n",
       "</div>"
      ],
      "text/plain": [
       "  letra  número   animal  nome\n",
       "0     a       1  passaro  Lôro\n",
       "1     b       2   Macaco  Joba"
      ]
     },
     "execution_count": 92,
     "metadata": {
      "tags": []
     },
     "output_type": "execute_result"
    }
   ],
   "source": [
    "df4 = pd.DataFrame([['passaro', 'Lôro'], ['Macaco', 'Joba']],\n",
    "                   columns=['animal', 'nome'])\n",
    "pd.concat([df1, df4], axis=1)"
   ]
  },
  {
   "cell_type": "markdown",
   "metadata": {
    "id": "YX5egy_StAMI"
   },
   "source": [
    "Evitar registros duplicados com o parâmetro:\n",
    "```python\n",
    "verify_integrity=True\n",
    "```"
   ]
  },
  {
   "cell_type": "code",
   "execution_count": null,
   "metadata": {
    "colab": {
     "base_uri": "https://localhost:8080/",
     "height": 80
    },
    "executionInfo": {
     "elapsed": 228,
     "status": "ok",
     "timestamp": 1623434977957,
     "user": {
      "displayName": "Cristiano de Magalhães",
      "photoUrl": "",
      "userId": "03249985789837417195"
     },
     "user_tz": 180
    },
    "id": "frPGJAxCtHaA",
    "outputId": "473fb445-f7e0-481e-f611-4aeb50261e18"
   },
   "outputs": [
    {
     "data": {
      "text/html": [
       "<div>\n",
       "<style scoped>\n",
       "    .dataframe tbody tr th:only-of-type {\n",
       "        vertical-align: middle;\n",
       "    }\n",
       "\n",
       "    .dataframe tbody tr th {\n",
       "        vertical-align: top;\n",
       "    }\n",
       "\n",
       "    .dataframe thead th {\n",
       "        text-align: right;\n",
       "    }\n",
       "</style>\n",
       "<table border=\"1\" class=\"dataframe\">\n",
       "  <thead>\n",
       "    <tr style=\"text-align: right;\">\n",
       "      <th></th>\n",
       "      <th>0</th>\n",
       "    </tr>\n",
       "  </thead>\n",
       "  <tbody>\n",
       "    <tr>\n",
       "      <th>a</th>\n",
       "      <td>1</td>\n",
       "    </tr>\n",
       "  </tbody>\n",
       "</table>\n",
       "</div>"
      ],
      "text/plain": [
       "   0\n",
       "a  1"
      ]
     },
     "execution_count": 93,
     "metadata": {
      "tags": []
     },
     "output_type": "execute_result"
    }
   ],
   "source": [
    "df5 = pd.DataFrame([1], index=['a'])\n",
    "df5"
   ]
  },
  {
   "cell_type": "code",
   "execution_count": null,
   "metadata": {
    "colab": {
     "base_uri": "https://localhost:8080/",
     "height": 80
    },
    "executionInfo": {
     "elapsed": 198,
     "status": "ok",
     "timestamp": 1623434985876,
     "user": {
      "displayName": "Cristiano de Magalhães",
      "photoUrl": "",
      "userId": "03249985789837417195"
     },
     "user_tz": 180
    },
    "id": "xwLQRSpQteMU",
    "outputId": "419d5c3f-bd13-4994-d917-b4973f35f271"
   },
   "outputs": [
    {
     "data": {
      "text/html": [
       "<div>\n",
       "<style scoped>\n",
       "    .dataframe tbody tr th:only-of-type {\n",
       "        vertical-align: middle;\n",
       "    }\n",
       "\n",
       "    .dataframe tbody tr th {\n",
       "        vertical-align: top;\n",
       "    }\n",
       "\n",
       "    .dataframe thead th {\n",
       "        text-align: right;\n",
       "    }\n",
       "</style>\n",
       "<table border=\"1\" class=\"dataframe\">\n",
       "  <thead>\n",
       "    <tr style=\"text-align: right;\">\n",
       "      <th></th>\n",
       "      <th>0</th>\n",
       "    </tr>\n",
       "  </thead>\n",
       "  <tbody>\n",
       "    <tr>\n",
       "      <th>a</th>\n",
       "      <td>2</td>\n",
       "    </tr>\n",
       "  </tbody>\n",
       "</table>\n",
       "</div>"
      ],
      "text/plain": [
       "   0\n",
       "a  2"
      ]
     },
     "execution_count": 94,
     "metadata": {
      "tags": []
     },
     "output_type": "execute_result"
    }
   ],
   "source": [
    "df6 = pd.DataFrame([2], index=['a'])\n",
    "df6"
   ]
  },
  {
   "cell_type": "code",
   "execution_count": null,
   "metadata": {
    "colab": {
     "base_uri": "https://localhost:8080/",
     "height": 111
    },
    "executionInfo": {
     "elapsed": 225,
     "status": "ok",
     "timestamp": 1623434990570,
     "user": {
      "displayName": "Cristiano de Magalhães",
      "photoUrl": "",
      "userId": "03249985789837417195"
     },
     "user_tz": 180
    },
    "id": "kchf5v2Gtnfh",
    "outputId": "c51d4a1d-0e6a-4bdd-8ac0-cb1b2ba8eb98"
   },
   "outputs": [
    {
     "data": {
      "text/html": [
       "<div>\n",
       "<style scoped>\n",
       "    .dataframe tbody tr th:only-of-type {\n",
       "        vertical-align: middle;\n",
       "    }\n",
       "\n",
       "    .dataframe tbody tr th {\n",
       "        vertical-align: top;\n",
       "    }\n",
       "\n",
       "    .dataframe thead th {\n",
       "        text-align: right;\n",
       "    }\n",
       "</style>\n",
       "<table border=\"1\" class=\"dataframe\">\n",
       "  <thead>\n",
       "    <tr style=\"text-align: right;\">\n",
       "      <th></th>\n",
       "      <th>0</th>\n",
       "    </tr>\n",
       "  </thead>\n",
       "  <tbody>\n",
       "    <tr>\n",
       "      <th>a</th>\n",
       "      <td>1</td>\n",
       "    </tr>\n",
       "    <tr>\n",
       "      <th>a</th>\n",
       "      <td>2</td>\n",
       "    </tr>\n",
       "  </tbody>\n",
       "</table>\n",
       "</div>"
      ],
      "text/plain": [
       "   0\n",
       "a  1\n",
       "a  2"
      ]
     },
     "execution_count": 95,
     "metadata": {
      "tags": []
     },
     "output_type": "execute_result"
    }
   ],
   "source": [
    "pd.concat([df5, df6])"
   ]
  },
  {
   "cell_type": "markdown",
   "metadata": {
    "id": "n3yNDH8ftpt_"
   },
   "source": [
    "Código que retorna o erro:\n",
    "\n",
    "```python\n",
    "pd.concat([df5, df6],\n",
    "          verify_integrity=True)\n",
    "```\n",
    "```\n",
    "ValueError: Indexes have overlapping values: Index(['a'], dtype='object')\n",
    "```"
   ]
  },
  {
   "cell_type": "markdown",
   "metadata": {
    "id": "i_lwd7Mr7MYc"
   },
   "source": [
    "## JOIN e MERGE\n",
    "\n",
    "[tutorial](https://towardsdatascience.com/python-pandas-dataframe-join-merge-and-concatenate-84985c29ef78)"
   ]
  },
  {
   "cell_type": "markdown",
   "metadata": {
    "id": "vfa9LvYnuNiL"
   },
   "source": [
    "### **`.join()`**"
   ]
  },
  {
   "cell_type": "code",
   "execution_count": null,
   "metadata": {
    "id": "qlG14LsL8LNc"
   },
   "outputs": [],
   "source": [
    "?pd.DataFrame.join()"
   ]
  },
  {
   "cell_type": "markdown",
   "metadata": {
    "id": "UZwhsChN7vRB"
   },
   "source": [
    "```python\n",
    ".join(other,      # DataFrame a juntar\n",
    "      on=None,    # Por qual coluna 'alinhar'\n",
    "      how='left', # Modo {'left', 'right', 'outer', 'inner'}\n",
    "      lsuffix='', # '_1' e '_2' dos exemplos\n",
    "      rsuffix='', # '_1' e '_2' dos exemplos\n",
    "      sort=False)\n",
    "```"
   ]
  },
  {
   "cell_type": "markdown",
   "metadata": {
    "id": "NP5IjvFY0hrz"
   },
   "source": [
    "![image.png](data:image/png;base64,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)"
   ]
  },
  {
   "cell_type": "code",
   "execution_count": null,
   "metadata": {
    "colab": {
     "base_uri": "https://localhost:8080/",
     "height": 142
    },
    "executionInfo": {
     "elapsed": 225,
     "status": "ok",
     "timestamp": 1623438826967,
     "user": {
      "displayName": "Cristiano de Magalhães",
      "photoUrl": "",
      "userId": "03249985789837417195"
     },
     "user_tz": 180
    },
    "id": "Trs2U7sJXcDU",
    "outputId": "7341aa9f-4703-4323-aa07-d9ef6572b6a7"
   },
   "outputs": [
    {
     "data": {
      "text/html": [
       "<div>\n",
       "<style scoped>\n",
       "    .dataframe tbody tr th:only-of-type {\n",
       "        vertical-align: middle;\n",
       "    }\n",
       "\n",
       "    .dataframe tbody tr th {\n",
       "        vertical-align: top;\n",
       "    }\n",
       "\n",
       "    .dataframe thead th {\n",
       "        text-align: right;\n",
       "    }\n",
       "</style>\n",
       "<table border=\"1\" class=\"dataframe\">\n",
       "  <thead>\n",
       "    <tr style=\"text-align: right;\">\n",
       "      <th></th>\n",
       "      <th>Nome _ esq</th>\n",
       "      <th>Idade</th>\n",
       "      <th>Nome _ dir</th>\n",
       "      <th>Gênero</th>\n",
       "    </tr>\n",
       "  </thead>\n",
       "  <tbody>\n",
       "    <tr>\n",
       "      <th>0</th>\n",
       "      <td>Ana</td>\n",
       "      <td>22.0</td>\n",
       "      <td>Ana</td>\n",
       "      <td>F</td>\n",
       "    </tr>\n",
       "    <tr>\n",
       "      <th>1</th>\n",
       "      <td>Breno</td>\n",
       "      <td>23.0</td>\n",
       "      <td>NaN</td>\n",
       "      <td>NaN</td>\n",
       "    </tr>\n",
       "    <tr>\n",
       "      <th>2</th>\n",
       "      <td>NaN</td>\n",
       "      <td>NaN</td>\n",
       "      <td>Carla</td>\n",
       "      <td>F</td>\n",
       "    </tr>\n",
       "  </tbody>\n",
       "</table>\n",
       "</div>"
      ],
      "text/plain": [
       "  Nome _ esq  Idade Nome _ dir Gênero\n",
       "0        Ana   22.0        Ana      F\n",
       "1      Breno   23.0        NaN    NaN\n",
       "2        NaN    NaN      Carla      F"
      ]
     },
     "execution_count": 154,
     "metadata": {
      "tags": []
     },
     "output_type": "execute_result"
    }
   ],
   "source": [
    "esq = pd.DataFrame({\"Nome\": [\"Ana\", \"Breno\"],\n",
    "                    \"Idade\": [22, 23]},\n",
    "                    index=[0, 1]\n",
    "                   )\n",
    "esq\n",
    "\n",
    "dir = pd.DataFrame({\"Nome\": [\"Ana\", \"Carla\"],\n",
    "                    \"Gênero\": [\"F\", \"F\"]},\n",
    "                    index=[0, 2]\n",
    "                   )\n",
    "dir\n",
    "\n",
    "df = esq.join(dir,\n",
    "              how=\"outer\",\n",
    "              lsuffix=\" _ esq\",\n",
    "              rsuffix=\" _ dir\"\n",
    "              )\n",
    "df"
   ]
  },
  {
   "cell_type": "markdown",
   "metadata": {
    "id": "3PjOBgp_uRsr"
   },
   "source": [
    "### **`.merge()`**"
   ]
  },
  {
   "cell_type": "markdown",
   "metadata": {
    "id": "NTNUGIZ27LGb"
   },
   "source": [
    "O `.merge()` é bastante semelhante ao `.join()`, só que ele já não aceita listas ou objetos diferentes de outros `.DataFrames`. Com isso, ganha-se mais controle sobre alguns aspectos da junção. Mas para nossos usos, podemos considerar que são bem parecidos e só."
   ]
  },
  {
   "cell_type": "markdown",
   "metadata": {
    "id": "zU3Sxdtg82zN"
   },
   "source": [
    "```python\n",
    ".merge(right,\n",
    "       how='inner',\n",
    "       on=None,\n",
    "       left_on=None,\n",
    "       right_on=None,\n",
    "       left_index=False,\n",
    "       right_index=False,\n",
    "       sort=False,\n",
    "       suffixes=('_x', '_y'),\n",
    "       copy=True,\n",
    "       indicator=False,\n",
    "       validate=None)\n",
    "```"
   ]
  },
  {
   "cell_type": "code",
   "execution_count": null,
   "metadata": {
    "id": "M_TJ1tMl66ai"
   },
   "outputs": [],
   "source": [
    "?pd.DataFrame.merge()"
   ]
  },
  {
   "cell_type": "code",
   "execution_count": null,
   "metadata": {
    "colab": {
     "base_uri": "https://localhost:8080/",
     "height": 173
    },
    "executionInfo": {
     "elapsed": 230,
     "status": "ok",
     "timestamp": 1623439381303,
     "user": {
      "displayName": "Cristiano de Magalhães",
      "photoUrl": "",
      "userId": "03249985789837417195"
     },
     "user_tz": 180
    },
    "id": "l2eGIEcS7oUo",
    "outputId": "93c18f00-072d-4c46-e198-13df09fa7241"
   },
   "outputs": [
    {
     "data": {
      "text/html": [
       "<div>\n",
       "<style scoped>\n",
       "    .dataframe tbody tr th:only-of-type {\n",
       "        vertical-align: middle;\n",
       "    }\n",
       "\n",
       "    .dataframe tbody tr th {\n",
       "        vertical-align: top;\n",
       "    }\n",
       "\n",
       "    .dataframe thead th {\n",
       "        text-align: right;\n",
       "    }\n",
       "</style>\n",
       "<table border=\"1\" class=\"dataframe\">\n",
       "  <thead>\n",
       "    <tr style=\"text-align: right;\">\n",
       "      <th></th>\n",
       "      <th>chave_esq</th>\n",
       "      <th>valor</th>\n",
       "    </tr>\n",
       "  </thead>\n",
       "  <tbody>\n",
       "    <tr>\n",
       "      <th>0</th>\n",
       "      <td>foo</td>\n",
       "      <td>1</td>\n",
       "    </tr>\n",
       "    <tr>\n",
       "      <th>1</th>\n",
       "      <td>bar</td>\n",
       "      <td>2</td>\n",
       "    </tr>\n",
       "    <tr>\n",
       "      <th>2</th>\n",
       "      <td>baz</td>\n",
       "      <td>3</td>\n",
       "    </tr>\n",
       "    <tr>\n",
       "      <th>3</th>\n",
       "      <td>foo</td>\n",
       "      <td>5</td>\n",
       "    </tr>\n",
       "  </tbody>\n",
       "</table>\n",
       "</div>"
      ],
      "text/plain": [
       "  chave_esq  valor\n",
       "0       foo      1\n",
       "1       bar      2\n",
       "2       baz      3\n",
       "3       foo      5"
      ]
     },
     "execution_count": 161,
     "metadata": {
      "tags": []
     },
     "output_type": "execute_result"
    }
   ],
   "source": [
    "df1 = pd.DataFrame({'chave_esq': ['foo', 'bar', 'baz', 'foo'],\n",
    "                    'valor': [1, 2, 3, 5]})\n",
    "\n",
    "df2 = pd.DataFrame({'chave_dir': ['foo', 'bar', 'baz', 'foo'],\n",
    "                    'valor': [5, 6, 7, 8]})\n",
    "\n",
    "df1"
   ]
  },
  {
   "cell_type": "code",
   "execution_count": null,
   "metadata": {
    "colab": {
     "base_uri": "https://localhost:8080/",
     "height": 173
    },
    "executionInfo": {
     "elapsed": 261,
     "status": "ok",
     "timestamp": 1623439386271,
     "user": {
      "displayName": "Cristiano de Magalhães",
      "photoUrl": "",
      "userId": "03249985789837417195"
     },
     "user_tz": 180
    },
    "id": "DToc4YFW7xFo",
    "outputId": "3e800737-7b6e-479f-91ac-b2337d2d73b0"
   },
   "outputs": [
    {
     "data": {
      "text/html": [
       "<div>\n",
       "<style scoped>\n",
       "    .dataframe tbody tr th:only-of-type {\n",
       "        vertical-align: middle;\n",
       "    }\n",
       "\n",
       "    .dataframe tbody tr th {\n",
       "        vertical-align: top;\n",
       "    }\n",
       "\n",
       "    .dataframe thead th {\n",
       "        text-align: right;\n",
       "    }\n",
       "</style>\n",
       "<table border=\"1\" class=\"dataframe\">\n",
       "  <thead>\n",
       "    <tr style=\"text-align: right;\">\n",
       "      <th></th>\n",
       "      <th>chave_dir</th>\n",
       "      <th>valor</th>\n",
       "    </tr>\n",
       "  </thead>\n",
       "  <tbody>\n",
       "    <tr>\n",
       "      <th>0</th>\n",
       "      <td>foo</td>\n",
       "      <td>5</td>\n",
       "    </tr>\n",
       "    <tr>\n",
       "      <th>1</th>\n",
       "      <td>bar</td>\n",
       "      <td>6</td>\n",
       "    </tr>\n",
       "    <tr>\n",
       "      <th>2</th>\n",
       "      <td>baz</td>\n",
       "      <td>7</td>\n",
       "    </tr>\n",
       "    <tr>\n",
       "      <th>3</th>\n",
       "      <td>foo</td>\n",
       "      <td>8</td>\n",
       "    </tr>\n",
       "  </tbody>\n",
       "</table>\n",
       "</div>"
      ],
      "text/plain": [
       "  chave_dir  valor\n",
       "0       foo      5\n",
       "1       bar      6\n",
       "2       baz      7\n",
       "3       foo      8"
      ]
     },
     "execution_count": 162,
     "metadata": {
      "tags": []
     },
     "output_type": "execute_result"
    }
   ],
   "source": [
    "df2"
   ]
  },
  {
   "cell_type": "markdown",
   "metadata": {
    "id": "0xSnjU3X73a4"
   },
   "source": [
    "Merge df1 and df2 on the lkey and rkey columns. The value columns have\n",
    "the default suffixes, _x and _y, appended."
   ]
  },
  {
   "cell_type": "code",
   "execution_count": null,
   "metadata": {
    "colab": {
     "base_uri": "https://localhost:8080/",
     "height": 235
    },
    "executionInfo": {
     "elapsed": 218,
     "status": "ok",
     "timestamp": 1623439404694,
     "user": {
      "displayName": "Cristiano de Magalhães",
      "photoUrl": "",
      "userId": "03249985789837417195"
     },
     "user_tz": 180
    },
    "id": "avSdTtXB714Q",
    "outputId": "e27a5d27-c049-41ac-da8f-ebddf0e4b254"
   },
   "outputs": [
    {
     "data": {
      "text/html": [
       "<div>\n",
       "<style scoped>\n",
       "    .dataframe tbody tr th:only-of-type {\n",
       "        vertical-align: middle;\n",
       "    }\n",
       "\n",
       "    .dataframe tbody tr th {\n",
       "        vertical-align: top;\n",
       "    }\n",
       "\n",
       "    .dataframe thead th {\n",
       "        text-align: right;\n",
       "    }\n",
       "</style>\n",
       "<table border=\"1\" class=\"dataframe\">\n",
       "  <thead>\n",
       "    <tr style=\"text-align: right;\">\n",
       "      <th></th>\n",
       "      <th>chave_esq</th>\n",
       "      <th>valor_x</th>\n",
       "      <th>chave_dir</th>\n",
       "      <th>valor_y</th>\n",
       "    </tr>\n",
       "  </thead>\n",
       "  <tbody>\n",
       "    <tr>\n",
       "      <th>0</th>\n",
       "      <td>foo</td>\n",
       "      <td>1</td>\n",
       "      <td>foo</td>\n",
       "      <td>5</td>\n",
       "    </tr>\n",
       "    <tr>\n",
       "      <th>1</th>\n",
       "      <td>foo</td>\n",
       "      <td>1</td>\n",
       "      <td>foo</td>\n",
       "      <td>8</td>\n",
       "    </tr>\n",
       "    <tr>\n",
       "      <th>2</th>\n",
       "      <td>foo</td>\n",
       "      <td>5</td>\n",
       "      <td>foo</td>\n",
       "      <td>5</td>\n",
       "    </tr>\n",
       "    <tr>\n",
       "      <th>3</th>\n",
       "      <td>foo</td>\n",
       "      <td>5</td>\n",
       "      <td>foo</td>\n",
       "      <td>8</td>\n",
       "    </tr>\n",
       "    <tr>\n",
       "      <th>4</th>\n",
       "      <td>bar</td>\n",
       "      <td>2</td>\n",
       "      <td>bar</td>\n",
       "      <td>6</td>\n",
       "    </tr>\n",
       "    <tr>\n",
       "      <th>5</th>\n",
       "      <td>baz</td>\n",
       "      <td>3</td>\n",
       "      <td>baz</td>\n",
       "      <td>7</td>\n",
       "    </tr>\n",
       "  </tbody>\n",
       "</table>\n",
       "</div>"
      ],
      "text/plain": [
       "  chave_esq  valor_x chave_dir  valor_y\n",
       "0       foo        1       foo        5\n",
       "1       foo        1       foo        8\n",
       "2       foo        5       foo        5\n",
       "3       foo        5       foo        8\n",
       "4       bar        2       bar        6\n",
       "5       baz        3       baz        7"
      ]
     },
     "execution_count": 163,
     "metadata": {
      "tags": []
     },
     "output_type": "execute_result"
    }
   ],
   "source": [
    "df1.merge(df2, left_on='chave_esq', right_on='chave_dir')"
   ]
  },
  {
   "cell_type": "markdown",
   "metadata": {
    "id": "rKnboVWs8S8I"
   },
   "source": [
    "Merge DataFrames df1 and df2 with specified left and right suffixes\n",
    "appended to any overlapping columns."
   ]
  },
  {
   "cell_type": "code",
   "execution_count": null,
   "metadata": {
    "colab": {
     "base_uri": "https://localhost:8080/",
     "height": 235
    },
    "executionInfo": {
     "elapsed": 199,
     "status": "ok",
     "timestamp": 1623439844978,
     "user": {
      "displayName": "Cristiano de Magalhães",
      "photoUrl": "",
      "userId": "03249985789837417195"
     },
     "user_tz": 180
    },
    "id": "ga_XqCXP8Vfy",
    "outputId": "57af646c-4457-4047-dc34-38e2d39349f9"
   },
   "outputs": [
    {
     "data": {
      "text/html": [
       "<div>\n",
       "<style scoped>\n",
       "    .dataframe tbody tr th:only-of-type {\n",
       "        vertical-align: middle;\n",
       "    }\n",
       "\n",
       "    .dataframe tbody tr th {\n",
       "        vertical-align: top;\n",
       "    }\n",
       "\n",
       "    .dataframe thead th {\n",
       "        text-align: right;\n",
       "    }\n",
       "</style>\n",
       "<table border=\"1\" class=\"dataframe\">\n",
       "  <thead>\n",
       "    <tr style=\"text-align: right;\">\n",
       "      <th></th>\n",
       "      <th>chave_esq</th>\n",
       "      <th>valor_esq</th>\n",
       "      <th>chave_dir</th>\n",
       "      <th>valor_dir</th>\n",
       "    </tr>\n",
       "  </thead>\n",
       "  <tbody>\n",
       "    <tr>\n",
       "      <th>0</th>\n",
       "      <td>foo</td>\n",
       "      <td>1</td>\n",
       "      <td>foo</td>\n",
       "      <td>5</td>\n",
       "    </tr>\n",
       "    <tr>\n",
       "      <th>1</th>\n",
       "      <td>foo</td>\n",
       "      <td>1</td>\n",
       "      <td>foo</td>\n",
       "      <td>8</td>\n",
       "    </tr>\n",
       "    <tr>\n",
       "      <th>2</th>\n",
       "      <td>bar</td>\n",
       "      <td>2</td>\n",
       "      <td>bar</td>\n",
       "      <td>6</td>\n",
       "    </tr>\n",
       "    <tr>\n",
       "      <th>3</th>\n",
       "      <td>baz</td>\n",
       "      <td>3</td>\n",
       "      <td>baz</td>\n",
       "      <td>7</td>\n",
       "    </tr>\n",
       "    <tr>\n",
       "      <th>4</th>\n",
       "      <td>foo</td>\n",
       "      <td>5</td>\n",
       "      <td>foo</td>\n",
       "      <td>5</td>\n",
       "    </tr>\n",
       "    <tr>\n",
       "      <th>5</th>\n",
       "      <td>foo</td>\n",
       "      <td>5</td>\n",
       "      <td>foo</td>\n",
       "      <td>8</td>\n",
       "    </tr>\n",
       "  </tbody>\n",
       "</table>\n",
       "</div>"
      ],
      "text/plain": [
       "  chave_esq  valor_esq chave_dir  valor_dir\n",
       "0       foo          1       foo          5\n",
       "1       foo          1       foo          8\n",
       "2       bar          2       bar          6\n",
       "3       baz          3       baz          7\n",
       "4       foo          5       foo          5\n",
       "5       foo          5       foo          8"
      ]
     },
     "execution_count": 166,
     "metadata": {
      "tags": []
     },
     "output_type": "execute_result"
    }
   ],
   "source": [
    "df1.merge(df2,\n",
    "          how=\"left\",\n",
    "          left_on='chave_esq',\n",
    "          right_on='chave_dir',\n",
    "          suffixes=('_esq', '_dir'))"
   ]
  },
  {
   "cell_type": "markdown",
   "metadata": {
    "id": "pSSg_0ZxDGCc"
   },
   "source": [
    "Entendendo o resultado acima: onde houve coincidência dos valores, eles foram combinados (gerando a quantidade de combinações possíveis)."
   ]
  },
  {
   "cell_type": "markdown",
   "metadata": {
    "id": "kdBaALIbehjz"
   },
   "source": [
    "![image.png](data:image/png;base64,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)"
   ]
  },
  {
   "cell_type": "markdown",
   "metadata": {
    "id": "y2OBjJy2Lh0B"
   },
   "source": [
    "## Removendo dados do `pd.DataFrame`"
   ]
  },
  {
   "cell_type": "markdown",
   "metadata": {
    "id": "cbTmuLMLfPsi"
   },
   "source": [
    "### **`.drop()`**"
   ]
  },
  {
   "cell_type": "code",
   "execution_count": null,
   "metadata": {
    "id": "02BSwsz0HNZ9"
   },
   "outputs": [],
   "source": [
    "?pd.DataFrame.drop()"
   ]
  },
  {
   "cell_type": "markdown",
   "metadata": {
    "id": "2WiQW4p4HTEq"
   },
   "source": [
    "```python\n",
    "pd.DataFrame.drop(labels=None, # nome ou lista de nomes da coluna ou da linha a descartar\n",
    "                  axis=0, # {0 = colunas, 1 = linhas}\n",
    "                  index=None,\n",
    "                  columns=None,\n",
    "                  level=None,\n",
    "                  inplace=False,\n",
    "                  errors='raise')\n",
    "```"
   ]
  },
  {
   "cell_type": "markdown",
   "metadata": {
    "id": "H6l4IwxRfNwS"
   },
   "source": [
    "Com o `.drop()` conseguimos remover:\n",
    "* uma coluna ou várias colunas inteiras\n",
    "* uma linha ou várias linhas inteiras\n",
    "* colunas inteiras com base em valores encontrados nelas\n",
    "* linhas inteiras com base em valores encontrados nelas"
   ]
  },
  {
   "cell_type": "markdown",
   "metadata": {
    "id": "ctopmbnphAP2"
   },
   "source": [
    "#### Colunas inteiras"
   ]
  },
  {
   "cell_type": "markdown",
   "metadata": {
    "id": "EMF89FhMhKt5"
   },
   "source": [
    "##### Modo 1"
   ]
  },
  {
   "cell_type": "code",
   "execution_count": null,
   "metadata": {
    "colab": {
     "base_uri": "https://localhost:8080/",
     "height": 142
    },
    "executionInfo": {
     "elapsed": 243,
     "status": "ok",
     "timestamp": 1623440155369,
     "user": {
      "displayName": "Cristiano de Magalhães",
      "photoUrl": "",
      "userId": "03249985789837417195"
     },
     "user_tz": 180
    },
    "id": "yaLhG8v9gl0V",
    "outputId": "1dcc7ca9-5a68-470d-b9b3-74929859243c"
   },
   "outputs": [
    {
     "data": {
      "text/html": [
       "<div>\n",
       "<style scoped>\n",
       "    .dataframe tbody tr th:only-of-type {\n",
       "        vertical-align: middle;\n",
       "    }\n",
       "\n",
       "    .dataframe tbody tr th {\n",
       "        vertical-align: top;\n",
       "    }\n",
       "\n",
       "    .dataframe thead th {\n",
       "        text-align: right;\n",
       "    }\n",
       "</style>\n",
       "<table border=\"1\" class=\"dataframe\">\n",
       "  <thead>\n",
       "    <tr style=\"text-align: right;\">\n",
       "      <th></th>\n",
       "      <th>A</th>\n",
       "      <th>B</th>\n",
       "      <th>C</th>\n",
       "      <th>D</th>\n",
       "    </tr>\n",
       "  </thead>\n",
       "  <tbody>\n",
       "    <tr>\n",
       "      <th>0</th>\n",
       "      <td>0</td>\n",
       "      <td>1</td>\n",
       "      <td>2</td>\n",
       "      <td>3</td>\n",
       "    </tr>\n",
       "    <tr>\n",
       "      <th>1</th>\n",
       "      <td>4</td>\n",
       "      <td>5</td>\n",
       "      <td>6</td>\n",
       "      <td>7</td>\n",
       "    </tr>\n",
       "    <tr>\n",
       "      <th>2</th>\n",
       "      <td>8</td>\n",
       "      <td>9</td>\n",
       "      <td>10</td>\n",
       "      <td>11</td>\n",
       "    </tr>\n",
       "  </tbody>\n",
       "</table>\n",
       "</div>"
      ],
      "text/plain": [
       "   A  B   C   D\n",
       "0  0  1   2   3\n",
       "1  4  5   6   7\n",
       "2  8  9  10  11"
      ]
     },
     "execution_count": 167,
     "metadata": {
      "tags": []
     },
     "output_type": "execute_result"
    }
   ],
   "source": [
    "# Criando tabela exemplo\n",
    "df = pd.DataFrame(np.arange(12).reshape(3, 4),\n",
    "                  columns=['A', 'B', 'C', 'D'])\n",
    "df"
   ]
  },
  {
   "cell_type": "code",
   "execution_count": null,
   "metadata": {
    "colab": {
     "base_uri": "https://localhost:8080/",
     "height": 142
    },
    "executionInfo": {
     "elapsed": 209,
     "status": "ok",
     "timestamp": 1623440183381,
     "user": {
      "displayName": "Cristiano de Magalhães",
      "photoUrl": "",
      "userId": "03249985789837417195"
     },
     "user_tz": 180
    },
    "id": "4HJSLv0Pgsjp",
    "outputId": "731cabd8-7c15-41a5-b7f2-24441f605c50"
   },
   "outputs": [
    {
     "data": {
      "text/html": [
       "<div>\n",
       "<style scoped>\n",
       "    .dataframe tbody tr th:only-of-type {\n",
       "        vertical-align: middle;\n",
       "    }\n",
       "\n",
       "    .dataframe tbody tr th {\n",
       "        vertical-align: top;\n",
       "    }\n",
       "\n",
       "    .dataframe thead th {\n",
       "        text-align: right;\n",
       "    }\n",
       "</style>\n",
       "<table border=\"1\" class=\"dataframe\">\n",
       "  <thead>\n",
       "    <tr style=\"text-align: right;\">\n",
       "      <th></th>\n",
       "      <th>A</th>\n",
       "      <th>D</th>\n",
       "    </tr>\n",
       "  </thead>\n",
       "  <tbody>\n",
       "    <tr>\n",
       "      <th>0</th>\n",
       "      <td>0</td>\n",
       "      <td>3</td>\n",
       "    </tr>\n",
       "    <tr>\n",
       "      <th>1</th>\n",
       "      <td>4</td>\n",
       "      <td>7</td>\n",
       "    </tr>\n",
       "    <tr>\n",
       "      <th>2</th>\n",
       "      <td>8</td>\n",
       "      <td>11</td>\n",
       "    </tr>\n",
       "  </tbody>\n",
       "</table>\n",
       "</div>"
      ],
      "text/plain": [
       "   A   D\n",
       "0  0   3\n",
       "1  4   7\n",
       "2  8  11"
      ]
     },
     "execution_count": 168,
     "metadata": {
      "tags": []
     },
     "output_type": "execute_result"
    }
   ],
   "source": [
    "df.drop(['B', 'C'], axis=1)"
   ]
  },
  {
   "cell_type": "markdown",
   "metadata": {
    "id": "w1GtFlsRhOYJ"
   },
   "source": [
    "##### Modo 2"
   ]
  },
  {
   "cell_type": "code",
   "execution_count": null,
   "metadata": {
    "colab": {
     "base_uri": "https://localhost:8080/",
     "height": 142
    },
    "executionInfo": {
     "elapsed": 236,
     "status": "ok",
     "timestamp": 1623440197502,
     "user": {
      "displayName": "Cristiano de Magalhães",
      "photoUrl": "",
      "userId": "03249985789837417195"
     },
     "user_tz": 180
    },
    "id": "0ygCGMO4hJZS",
    "outputId": "a80b40ea-d1cc-4127-ddc3-4b77e138b085"
   },
   "outputs": [
    {
     "data": {
      "text/html": [
       "<div>\n",
       "<style scoped>\n",
       "    .dataframe tbody tr th:only-of-type {\n",
       "        vertical-align: middle;\n",
       "    }\n",
       "\n",
       "    .dataframe tbody tr th {\n",
       "        vertical-align: top;\n",
       "    }\n",
       "\n",
       "    .dataframe thead th {\n",
       "        text-align: right;\n",
       "    }\n",
       "</style>\n",
       "<table border=\"1\" class=\"dataframe\">\n",
       "  <thead>\n",
       "    <tr style=\"text-align: right;\">\n",
       "      <th></th>\n",
       "      <th>A</th>\n",
       "      <th>B</th>\n",
       "      <th>C</th>\n",
       "      <th>D</th>\n",
       "    </tr>\n",
       "  </thead>\n",
       "  <tbody>\n",
       "    <tr>\n",
       "      <th>0</th>\n",
       "      <td>0</td>\n",
       "      <td>1</td>\n",
       "      <td>2</td>\n",
       "      <td>3</td>\n",
       "    </tr>\n",
       "    <tr>\n",
       "      <th>1</th>\n",
       "      <td>4</td>\n",
       "      <td>5</td>\n",
       "      <td>6</td>\n",
       "      <td>7</td>\n",
       "    </tr>\n",
       "    <tr>\n",
       "      <th>2</th>\n",
       "      <td>8</td>\n",
       "      <td>9</td>\n",
       "      <td>10</td>\n",
       "      <td>11</td>\n",
       "    </tr>\n",
       "  </tbody>\n",
       "</table>\n",
       "</div>"
      ],
      "text/plain": [
       "   A  B   C   D\n",
       "0  0  1   2   3\n",
       "1  4  5   6   7\n",
       "2  8  9  10  11"
      ]
     },
     "execution_count": 169,
     "metadata": {
      "tags": []
     },
     "output_type": "execute_result"
    }
   ],
   "source": [
    "# Criando tabela exemplo\n",
    "df = pd.DataFrame(np.arange(12).reshape(3, 4),\n",
    "                  columns=['A', 'B', 'C', 'D'])\n",
    "df"
   ]
  },
  {
   "cell_type": "code",
   "execution_count": null,
   "metadata": {
    "colab": {
     "base_uri": "https://localhost:8080/",
     "height": 142
    },
    "executionInfo": {
     "elapsed": 241,
     "status": "ok",
     "timestamp": 1623440199680,
     "user": {
      "displayName": "Cristiano de Magalhães",
      "photoUrl": "",
      "userId": "03249985789837417195"
     },
     "user_tz": 180
    },
    "id": "vOEl8FAigycJ",
    "outputId": "be41d94c-b51d-44e1-d941-b75b2bb0cbef"
   },
   "outputs": [
    {
     "data": {
      "text/html": [
       "<div>\n",
       "<style scoped>\n",
       "    .dataframe tbody tr th:only-of-type {\n",
       "        vertical-align: middle;\n",
       "    }\n",
       "\n",
       "    .dataframe tbody tr th {\n",
       "        vertical-align: top;\n",
       "    }\n",
       "\n",
       "    .dataframe thead th {\n",
       "        text-align: right;\n",
       "    }\n",
       "</style>\n",
       "<table border=\"1\" class=\"dataframe\">\n",
       "  <thead>\n",
       "    <tr style=\"text-align: right;\">\n",
       "      <th></th>\n",
       "      <th>A</th>\n",
       "      <th>D</th>\n",
       "    </tr>\n",
       "  </thead>\n",
       "  <tbody>\n",
       "    <tr>\n",
       "      <th>0</th>\n",
       "      <td>0</td>\n",
       "      <td>3</td>\n",
       "    </tr>\n",
       "    <tr>\n",
       "      <th>1</th>\n",
       "      <td>4</td>\n",
       "      <td>7</td>\n",
       "    </tr>\n",
       "    <tr>\n",
       "      <th>2</th>\n",
       "      <td>8</td>\n",
       "      <td>11</td>\n",
       "    </tr>\n",
       "  </tbody>\n",
       "</table>\n",
       "</div>"
      ],
      "text/plain": [
       "   A   D\n",
       "0  0   3\n",
       "1  4   7\n",
       "2  8  11"
      ]
     },
     "execution_count": 170,
     "metadata": {
      "tags": []
     },
     "output_type": "execute_result"
    }
   ],
   "source": [
    "df.drop(columns=['B', 'C'])"
   ]
  },
  {
   "cell_type": "markdown",
   "metadata": {
    "id": "E87HAZ14hZlz"
   },
   "source": [
    "#### Linhas inteiras"
   ]
  },
  {
   "cell_type": "code",
   "execution_count": null,
   "metadata": {
    "colab": {
     "base_uri": "https://localhost:8080/",
     "height": 142
    },
    "executionInfo": {
     "elapsed": 208,
     "status": "ok",
     "timestamp": 1623440347587,
     "user": {
      "displayName": "Cristiano de Magalhães",
      "photoUrl": "",
      "userId": "03249985789837417195"
     },
     "user_tz": 180
    },
    "id": "_78qBrn2hcWo",
    "outputId": "dd81ac66-e9ac-4c21-fed5-33854dafbef8"
   },
   "outputs": [
    {
     "data": {
      "text/html": [
       "<div>\n",
       "<style scoped>\n",
       "    .dataframe tbody tr th:only-of-type {\n",
       "        vertical-align: middle;\n",
       "    }\n",
       "\n",
       "    .dataframe tbody tr th {\n",
       "        vertical-align: top;\n",
       "    }\n",
       "\n",
       "    .dataframe thead th {\n",
       "        text-align: right;\n",
       "    }\n",
       "</style>\n",
       "<table border=\"1\" class=\"dataframe\">\n",
       "  <thead>\n",
       "    <tr style=\"text-align: right;\">\n",
       "      <th></th>\n",
       "      <th>A</th>\n",
       "      <th>B</th>\n",
       "      <th>C</th>\n",
       "      <th>D</th>\n",
       "    </tr>\n",
       "  </thead>\n",
       "  <tbody>\n",
       "    <tr>\n",
       "      <th>0</th>\n",
       "      <td>0</td>\n",
       "      <td>1</td>\n",
       "      <td>2</td>\n",
       "      <td>3</td>\n",
       "    </tr>\n",
       "    <tr>\n",
       "      <th>1</th>\n",
       "      <td>4</td>\n",
       "      <td>5</td>\n",
       "      <td>6</td>\n",
       "      <td>7</td>\n",
       "    </tr>\n",
       "    <tr>\n",
       "      <th>2</th>\n",
       "      <td>8</td>\n",
       "      <td>9</td>\n",
       "      <td>10</td>\n",
       "      <td>11</td>\n",
       "    </tr>\n",
       "  </tbody>\n",
       "</table>\n",
       "</div>"
      ],
      "text/plain": [
       "   A  B   C   D\n",
       "0  0  1   2   3\n",
       "1  4  5   6   7\n",
       "2  8  9  10  11"
      ]
     },
     "execution_count": 173,
     "metadata": {
      "tags": []
     },
     "output_type": "execute_result"
    }
   ],
   "source": [
    "# Criando tabela exemplo\n",
    "df = pd.DataFrame(np.arange(12).reshape(3, 4),\n",
    "                  columns=['A', 'B', 'C', 'D'])\n",
    "df"
   ]
  },
  {
   "cell_type": "markdown",
   "metadata": {
    "id": "qkHZsS_ghkkA"
   },
   "source": [
    "##### Pelo índice das linhas"
   ]
  },
  {
   "cell_type": "code",
   "execution_count": null,
   "metadata": {
    "colab": {
     "base_uri": "https://localhost:8080/",
     "height": 80
    },
    "executionInfo": {
     "elapsed": 229,
     "status": "ok",
     "timestamp": 1623440230079,
     "user": {
      "displayName": "Cristiano de Magalhães",
      "photoUrl": "",
      "userId": "03249985789837417195"
     },
     "user_tz": 180
    },
    "id": "VY2OkJvDhhFw",
    "outputId": "298e57a4-94c5-42e1-ef4c-ab2974cb1a76"
   },
   "outputs": [
    {
     "data": {
      "text/html": [
       "<div>\n",
       "<style scoped>\n",
       "    .dataframe tbody tr th:only-of-type {\n",
       "        vertical-align: middle;\n",
       "    }\n",
       "\n",
       "    .dataframe tbody tr th {\n",
       "        vertical-align: top;\n",
       "    }\n",
       "\n",
       "    .dataframe thead th {\n",
       "        text-align: right;\n",
       "    }\n",
       "</style>\n",
       "<table border=\"1\" class=\"dataframe\">\n",
       "  <thead>\n",
       "    <tr style=\"text-align: right;\">\n",
       "      <th></th>\n",
       "      <th>A</th>\n",
       "      <th>B</th>\n",
       "      <th>C</th>\n",
       "      <th>D</th>\n",
       "    </tr>\n",
       "  </thead>\n",
       "  <tbody>\n",
       "    <tr>\n",
       "      <th>2</th>\n",
       "      <td>8</td>\n",
       "      <td>9</td>\n",
       "      <td>10</td>\n",
       "      <td>11</td>\n",
       "    </tr>\n",
       "  </tbody>\n",
       "</table>\n",
       "</div>"
      ],
      "text/plain": [
       "   A  B   C   D\n",
       "2  8  9  10  11"
      ]
     },
     "execution_count": 172,
     "metadata": {
      "tags": []
     },
     "output_type": "execute_result"
    }
   ],
   "source": [
    "df.drop([0, 1])"
   ]
  },
  {
   "cell_type": "markdown",
   "metadata": {
    "id": "MhwQJtg_hznq"
   },
   "source": [
    "#### Pelos valores encontrado no `.DataFrame`"
   ]
  },
  {
   "cell_type": "markdown",
   "metadata": {
    "id": "qs-xfZrCkJb3"
   },
   "source": [
    "Como vimos, o comando drop elemina colunas ou linhas com base em seus nomes ou índices.\n",
    "\n",
    "Portanto, para utilizar a funcionalidade de eliminar registros com base em uma condição, precisamos apenas aprender como \"buscar\" o(s) **índice(s)** ou **nome(s)** corretos com base em valores."
   ]
  },
  {
   "cell_type": "markdown",
   "metadata": {
    "id": "48kY5jgimu1D"
   },
   "source": [
    "Os objetos `pd.DataFrame` tem dois **atributos** para isso, chamados `columns` e `index`.\n",
    "\n",
    "Vejamos o exemplo de como descobrir o índice (nome) de uma coluna com base em um valor.\n",
    "\n",
    "Se você fizer uma operação booleana `==` com um `.DataFrame`, o retorno será um dataframe (ou matriz) com valores `True` onde a condição for verdadeira e `False` onde for falso."
   ]
  },
  {
   "cell_type": "code",
   "execution_count": null,
   "metadata": {
    "colab": {
     "base_uri": "https://localhost:8080/"
    },
    "executionInfo": {
     "elapsed": 219,
     "status": "ok",
     "timestamp": 1623440357413,
     "user": {
      "displayName": "Cristiano de Magalhães",
      "photoUrl": "",
      "userId": "03249985789837417195"
     },
     "user_tz": 180
    },
    "id": "FyBb70dznZkz",
    "outputId": "8abe1e21-2161-4998-d080-33be678d6ad9"
   },
   "outputs": [
    {
     "data": {
      "text/plain": [
       "0    False\n",
       "1     True\n",
       "2    False\n",
       "Name: A, dtype: bool"
      ]
     },
     "execution_count": 174,
     "metadata": {
      "tags": []
     },
     "output_type": "execute_result"
    }
   ],
   "source": [
    "df['A'] == 4"
   ]
  },
  {
   "cell_type": "code",
   "execution_count": null,
   "metadata": {
    "colab": {
     "base_uri": "https://localhost:8080/"
    },
    "executionInfo": {
     "elapsed": 236,
     "status": "ok",
     "timestamp": 1623440394018,
     "user": {
      "displayName": "Cristiano de Magalhães",
      "photoUrl": "",
      "userId": "03249985789837417195"
     },
     "user_tz": 180
    },
    "id": "vFQOUHWEn13b",
    "outputId": "acc8dbee-92f5-46b5-e763-56ebcd260f4e"
   },
   "outputs": [
    {
     "data": {
      "text/plain": [
       "0    False\n",
       "1    False\n",
       "2     True\n",
       "Name: A, dtype: bool"
      ]
     },
     "execution_count": 175,
     "metadata": {
      "tags": []
     },
     "output_type": "execute_result"
    }
   ],
   "source": [
    "df['A'] >= 6"
   ]
  },
  {
   "cell_type": "markdown",
   "metadata": {
    "id": "dXBquS4lp6XZ"
   },
   "source": [
    "Utilizando esse \"filtro\", conseguimos uma listagem das linhas:"
   ]
  },
  {
   "cell_type": "code",
   "execution_count": null,
   "metadata": {
    "colab": {
     "base_uri": "https://localhost:8080/",
     "height": 80
    },
    "executionInfo": {
     "elapsed": 208,
     "status": "ok",
     "timestamp": 1623440458440,
     "user": {
      "displayName": "Cristiano de Magalhães",
      "photoUrl": "",
      "userId": "03249985789837417195"
     },
     "user_tz": 180
    },
    "id": "VPcYbhGKoCt7",
    "outputId": "846d41d0-8a29-418e-d3c5-f04b9cf641ae"
   },
   "outputs": [
    {
     "data": {
      "text/html": [
       "<div>\n",
       "<style scoped>\n",
       "    .dataframe tbody tr th:only-of-type {\n",
       "        vertical-align: middle;\n",
       "    }\n",
       "\n",
       "    .dataframe tbody tr th {\n",
       "        vertical-align: top;\n",
       "    }\n",
       "\n",
       "    .dataframe thead th {\n",
       "        text-align: right;\n",
       "    }\n",
       "</style>\n",
       "<table border=\"1\" class=\"dataframe\">\n",
       "  <thead>\n",
       "    <tr style=\"text-align: right;\">\n",
       "      <th></th>\n",
       "      <th>A</th>\n",
       "      <th>B</th>\n",
       "      <th>C</th>\n",
       "      <th>D</th>\n",
       "    </tr>\n",
       "  </thead>\n",
       "  <tbody>\n",
       "    <tr>\n",
       "      <th>1</th>\n",
       "      <td>4</td>\n",
       "      <td>5</td>\n",
       "      <td>6</td>\n",
       "      <td>7</td>\n",
       "    </tr>\n",
       "  </tbody>\n",
       "</table>\n",
       "</div>"
      ],
      "text/plain": [
       "   A  B  C  D\n",
       "1  4  5  6  7"
      ]
     },
     "execution_count": 178,
     "metadata": {
      "tags": []
     },
     "output_type": "execute_result"
    }
   ],
   "source": [
    "df[df['A'] == 4]"
   ]
  },
  {
   "cell_type": "markdown",
   "metadata": {
    "id": "eeqyMhXwoF8o"
   },
   "source": [
    "Com o `.index` conseguimos obter o(s) índice(s):"
   ]
  },
  {
   "cell_type": "code",
   "execution_count": null,
   "metadata": {
    "colab": {
     "base_uri": "https://localhost:8080/"
    },
    "executionInfo": {
     "elapsed": 230,
     "status": "ok",
     "timestamp": 1623440473614,
     "user": {
      "displayName": "Cristiano de Magalhães",
      "photoUrl": "",
      "userId": "03249985789837417195"
     },
     "user_tz": 180
    },
    "id": "NUufR4VkqDCt",
    "outputId": "32b9add8-26b3-4425-91d9-c0f17426ee17"
   },
   "outputs": [
    {
     "data": {
      "text/plain": [
       "Int64Index([1], dtype='int64')"
      ]
     },
     "execution_count": 179,
     "metadata": {
      "tags": []
     },
     "output_type": "execute_result"
    }
   ],
   "source": [
    "df[df['A'] == 4].index"
   ]
  },
  {
   "cell_type": "markdown",
   "metadata": {
    "id": "4JFO4Ia8qF4Y"
   },
   "source": [
    "Uma vez que para o comando `.drop()` precisamos apenas especificar um índice ou uma lista de índices, a solução está encontrada.\n",
    "\n",
    "Basta passar esse \"filtro\" como parâmetro para o `.drop()`. Veja:"
   ]
  },
  {
   "cell_type": "code",
   "execution_count": null,
   "metadata": {
    "colab": {
     "base_uri": "https://localhost:8080/",
     "height": 80
    },
    "executionInfo": {
     "elapsed": 212,
     "status": "ok",
     "timestamp": 1623440525610,
     "user": {
      "displayName": "Cristiano de Magalhães",
      "photoUrl": "",
      "userId": "03249985789837417195"
     },
     "user_tz": 180
    },
    "id": "0IZ2Jq1doe2i",
    "outputId": "3be1dab2-c2dd-44bd-d6f5-effbb0b0f409"
   },
   "outputs": [
    {
     "data": {
      "text/html": [
       "<div>\n",
       "<style scoped>\n",
       "    .dataframe tbody tr th:only-of-type {\n",
       "        vertical-align: middle;\n",
       "    }\n",
       "\n",
       "    .dataframe tbody tr th {\n",
       "        vertical-align: top;\n",
       "    }\n",
       "\n",
       "    .dataframe thead th {\n",
       "        text-align: right;\n",
       "    }\n",
       "</style>\n",
       "<table border=\"1\" class=\"dataframe\">\n",
       "  <thead>\n",
       "    <tr style=\"text-align: right;\">\n",
       "      <th></th>\n",
       "      <th>A</th>\n",
       "      <th>B</th>\n",
       "      <th>C</th>\n",
       "      <th>D</th>\n",
       "    </tr>\n",
       "  </thead>\n",
       "  <tbody>\n",
       "    <tr>\n",
       "      <th>0</th>\n",
       "      <td>0</td>\n",
       "      <td>1</td>\n",
       "      <td>2</td>\n",
       "      <td>3</td>\n",
       "    </tr>\n",
       "  </tbody>\n",
       "</table>\n",
       "</div>"
      ],
      "text/plain": [
       "   A  B  C  D\n",
       "0  0  1  2  3"
      ]
     },
     "execution_count": 181,
     "metadata": {
      "tags": []
     },
     "output_type": "execute_result"
    }
   ],
   "source": [
    "df.drop(df[df['A'] >= 4].index)"
   ]
  },
  {
   "cell_type": "markdown",
   "metadata": {
    "id": "z2x_R3sg1WlZ"
   },
   "source": [
    "# Ler (carregar) e Escrever (salvar) arquivos de dados"
   ]
  },
  {
   "cell_type": "markdown",
   "metadata": {
    "id": "0rIppy9By27A"
   },
   "source": [
    "![image.png](data:image/png;base64,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)"
   ]
  },
  {
   "cell_type": "markdown",
   "metadata": {
    "id": "1Pm-DNAHwtJA"
   },
   "source": [
    "A principal e mais importante **diferença** entre as funções para ler e escrever no `pandas` é que:\n",
    "* `pd.read_ ... ()` é uma função da **Classe** `pandas` e **não** do `.DataFrame`\n",
    "* `pd.DataFrame.to_ ... ()` é uma função do **Objeto** `.DataFrame` e **não** da `Classe`\n",
    "\n",
    "... ou seja, para **ler** utilizaremos algo tipo:\n",
    "```python\n",
    "df = pd.read_csv(\"nomedoarquivo.csv\")\n",
    "```\n",
    "E para **escrever** utilizaremos algo tipo:\n",
    "```python\n",
    "df.to_csv(\"nomedoarquivo.csv\")\n",
    "```\n",
    "\n",
    "Perceba que enquanto o `.read_csv()` está **\"aplicado\"** ao `pd` (que é o mesmo que a classe **`pandas`**), no último exemplo o `.to_csv()` está **\"aplicado\"** ao `df` (que é um **objeto** da classe **`pandas`** ou `pd`).\n",
    "\n",
    "> É quase como se disséssemos: \"`pandas`, leia o `arquivo.csv`, crie um objeto chamado `df` e armazene esses dados lidos nele.\n",
    "\n",
    "E depois:\n",
    "\n",
    "> É como se disséssemos: \"quero que este `DataFrame` `df` seja escrito em `arquivo.csv`.\"\n",
    "\n",
    "Então vamos a seus detalhes:"
   ]
  },
  {
   "cell_type": "markdown",
   "metadata": {
    "id": "QYINvd4AuV2n"
   },
   "source": [
    "### **`pd.read_ ... ()`**"
   ]
  },
  {
   "cell_type": "markdown",
   "metadata": {
    "id": "1QSKs7Jtui-b"
   },
   "source": [
    "Para trazer dados de planilhas, arquivos ou outros protocolos (como JSON), utilizamos a \"leitura\" (_read_ do inglês).\n",
    "\n",
    "O pandas hoje adotou o padrão `pd.read_[extensão do arquivo]()` como uma espécie de modelo.\n",
    "\n",
    "Entendendo assim, já deixamos aqui quais que mais utilizaremos:\n",
    "* `pd.read_csv()`\n",
    "* `pd.read_excel()` (um dos que fogem um pouco do padrão)\n",
    "* `pd.read_json()`\n",
    "* `pd.read_sql()`\n",
    "* `pd.read_html()`\n",
    "* `pd.read_table()`"
   ]
  },
  {
   "cell_type": "code",
   "execution_count": null,
   "metadata": {
    "colab": {
     "base_uri": "https://localhost:8080/"
    },
    "executionInfo": {
     "elapsed": 655,
     "status": "ok",
     "timestamp": 1623441088972,
     "user": {
      "displayName": "Cristiano de Magalhães",
      "photoUrl": "",
      "userId": "03249985789837417195"
     },
     "user_tz": 180
    },
    "id": "pHsZCiGQ7p5Y",
    "outputId": "a4ccd659-cdb5-4faa-f65f-b6e647408a69"
   },
   "outputs": [
    {
     "name": "stdout",
     "output_type": "stream",
     "text": [
      "  % Total    % Received % Xferd  Average Speed   Time    Time     Time  Current\n",
      "                                 Dload  Upload   Total   Spent    Left  Speed\n",
      "\r  0     0    0     0    0     0      0      0 --:--:-- --:--:-- --:--:--     0\r  0     0    0     0    0     0      0      0 --:--:-- --:--:-- --:--:--     0\r100    14  100    14    0     0    109      0 --:--:-- --:--:-- --:--:--   108\n"
     ]
    }
   ],
   "source": [
    "# Utilizamos o comando abaixo para baixar o arquivo \"dataset_titanic.csv\" para\n",
    "# dentro do nosso ambiente do colab\n",
    "!curl -LJO https://raw.githubusercontent.com/cristiano-de-magalhaes/python_industria_4.0/main/dataset_titanic.csv\n"
   ]
  },
  {
   "cell_type": "markdown",
   "metadata": {
    "id": "PxzKSNhU-kWl"
   },
   "source": [
    "![image.png](data:image/png;base64,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)"
   ]
  },
  {
   "cell_type": "code",
   "execution_count": null,
   "metadata": {
    "id": "OYamzfgV9Vp2"
   },
   "outputs": [],
   "source": [
    "# Agora vamos fazer sua leitura como acabamos de ver\n",
    "arquivo = \"dataset_titanic.csv\"\n",
    "\n",
    "df = pd.read_csv(arquivo,\n",
    "                #   lines=True\n",
    "                #  error_bad_lines=False,\n",
    "                 )"
   ]
  },
  {
   "cell_type": "markdown",
   "metadata": {
    "id": "L4F7xJKTAl8i"
   },
   "source": [
    "Vejamos agora o nosso `df`"
   ]
  },
  {
   "cell_type": "code",
   "execution_count": null,
   "metadata": {
    "colab": {
     "base_uri": "https://localhost:8080/",
     "height": 49
    },
    "executionInfo": {
     "elapsed": 211,
     "status": "ok",
     "timestamp": 1623441180684,
     "user": {
      "displayName": "Cristiano de Magalhães",
      "photoUrl": "",
      "userId": "03249985789837417195"
     },
     "user_tz": 180
    },
    "id": "SuC4cew-Alrz",
    "outputId": "3eda4312-0068-445b-b6f1-493bfec25c70"
   },
   "outputs": [
    {
     "data": {
      "text/html": [
       "<div>\n",
       "<style scoped>\n",
       "    .dataframe tbody tr th:only-of-type {\n",
       "        vertical-align: middle;\n",
       "    }\n",
       "\n",
       "    .dataframe tbody tr th {\n",
       "        vertical-align: top;\n",
       "    }\n",
       "\n",
       "    .dataframe thead th {\n",
       "        text-align: right;\n",
       "    }\n",
       "</style>\n",
       "<table border=\"1\" class=\"dataframe\">\n",
       "  <thead>\n",
       "    <tr style=\"text-align: right;\">\n",
       "      <th></th>\n",
       "      <th>404: Not Found</th>\n",
       "    </tr>\n",
       "  </thead>\n",
       "  <tbody>\n",
       "  </tbody>\n",
       "</table>\n",
       "</div>"
      ],
      "text/plain": [
       "Empty DataFrame\n",
       "Columns: [404: Not Found]\n",
       "Index: []"
      ]
     },
     "execution_count": 184,
     "metadata": {
      "tags": []
     },
     "output_type": "execute_result"
    }
   ],
   "source": [
    "df"
   ]
  },
  {
   "cell_type": "markdown",
   "metadata": {
    "id": "e1tFJToVD33R"
   },
   "source": [
    "#### **`.head()`** e **`tail()`**"
   ]
  },
  {
   "cell_type": "code",
   "execution_count": null,
   "metadata": {
    "id": "kwnRtWgu-5b0"
   },
   "outputs": [],
   "source": [
    "df.head() # mostra as 5 primeiras linhas do seu `.DataFrame`"
   ]
  },
  {
   "cell_type": "code",
   "execution_count": null,
   "metadata": {
    "id": "uXxuq20TIPf8"
   },
   "outputs": [],
   "source": [
    "df.tail() # mostra as 5 últimas linhas do seu `.DataFrame`"
   ]
  },
  {
   "cell_type": "markdown",
   "metadata": {
    "id": "2acUiIiOIXHh"
   },
   "source": [
    "Vamos apenas filtrar retirando os registros que estão incompletos.\n",
    "\n",
    "Retiraremos as colunas com dados faltantes:"
   ]
  },
  {
   "cell_type": "code",
   "execution_count": null,
   "metadata": {
    "id": "do-_yq_hIke7"
   },
   "outputs": [],
   "source": [
    "df = df.dropna(axis=1) # axis=1 informa que é pra \"procurar\" apenas em colunas\n",
    "df"
   ]
  },
  {
   "cell_type": "markdown",
   "metadata": {
    "id": "gj9Onzt1JxED"
   },
   "source": [
    "Perceba que a quantidade de colunas caiu de 12 para 9 e que se dermos um `.dropna()` agora, nada muda pois os dados faltantes já foram eliminados."
   ]
  },
  {
   "cell_type": "code",
   "execution_count": null,
   "metadata": {
    "id": "PhjQ0xeLJSCE"
   },
   "outputs": [],
   "source": [
    "df.dropna()"
   ]
  },
  {
   "cell_type": "markdown",
   "metadata": {
    "id": "Q-BKHA0duVuI"
   },
   "source": [
    "### **`pd.DataFrame.to_ ... ()`**"
   ]
  },
  {
   "cell_type": "markdown",
   "metadata": {
    "id": "VCrLUU09J-pK"
   },
   "source": [
    "Agora vamos salvar a lista \"filtrada\" no arquivo `.csv`."
   ]
  },
  {
   "cell_type": "markdown",
   "metadata": {
    "id": "J3oVbYCNz5SQ"
   },
   "source": [
    "De forma parecida, para gravar os dados de um `DataFrame` em planilhas, arquivos ou outros protocolos (como SQL), utilizamos a \"escrita **para**\" (_to_ do inglês).\n",
    "\n",
    "O padrão neste caso é `pd.to_[extensão do arquivo]()` como \"modelo\".\n",
    "\n",
    "Entendendo assim, já deixamos aqui quais que mais utilizaremos:\n",
    "* `pd.to_csv()`\n",
    "* `pd.to_excel()` (novamente fugindo um pouco do padrão)\n",
    "* `pd.to_json()`\n",
    "* `pd.to_sql()`\n",
    "* `pd.to_html()`\n",
    "* `pd.to_table()`"
   ]
  },
  {
   "cell_type": "code",
   "execution_count": null,
   "metadata": {
    "id": "RWN3do3-qTD1"
   },
   "outputs": [],
   "source": [
    "df.to_csv(\"dataset_titanic_filtrado.csv\")"
   ]
  },
  {
   "cell_type": "markdown",
   "metadata": {
    "id": "06zGoX8rKY95"
   },
   "source": [
    "![image.png](data:image/png;base64,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)"
   ]
  },
  {
   "cell_type": "markdown",
   "metadata": {
    "id": "_96OfJkqMLDg"
   },
   "source": [
    "---\n",
    "\n",
    "<!hidden\n",
    "!jupyter nbconvert --to html Storyboard_Notebook_Python_para_a_Indústria_4_0_bib_pandas_v01r06.ipynb\n",
    ">"
   ]
  }
 ],
 "metadata": {
  "colab": {
   "authorship_tag": "ABX9TyP/bBkL2ll5G2p7KIkjziRA",
   "collapsed_sections": [],
   "name": "03.2_Revisão_pandas.ipynb",
   "provenance": [
    {
     "file_id": "1N3FqwLh8YVAiyf42-4k-PdN6JJs4OfJu",
     "timestamp": 1626201540657
    }
   ],
   "toc_visible": true
  },
  "kernelspec": {
   "display_name": "Python 3",
   "name": "python3"
  },
  "language_info": {
   "name": "python"
  }
 },
 "nbformat": 4,
 "nbformat_minor": 0
}
