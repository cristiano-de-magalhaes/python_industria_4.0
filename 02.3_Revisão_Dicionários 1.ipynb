{
 "cells": [
  {
   "cell_type": "markdown",
   "metadata": {
    "id": "7MEFH6RG75AN"
   },
   "source": [
    "# Dicionários em Python 3.x"
   ]
  },
  {
   "cell_type": "markdown",
   "metadata": {
    "id": "jTbz2guO2j3j"
   },
   "source": [
    "**Sejam todas bem vindas e bem vindos de volta!**\n",
    "\n",
    "Vamos revisar pontos básicos sobre dicionários (`dict`) no Python 3.x, relembrando:\n",
    "* Criação e estrutura de Dicionários\n",
    "* Chaves e Valores em Dicionários"
   ]
  },
  {
   "cell_type": "markdown",
   "metadata": {
    "id": "7dalpn_575AO"
   },
   "source": [
    "# Dicionários"
   ]
  },
  {
   "cell_type": "markdown",
   "metadata": {
    "id": "s2s9pmtL75AO"
   },
   "source": [
    "Dicionários são coleções compostas por pares de \"chave e valor\".\n",
    "\n",
    "As chaves tomam o lugar dos índices como forma para acessar os valores armazenados. A única demanda é que as chaves devem ser únicas e devem ser elementos ou objetos hasheáveis (_hashables_)."
   ]
  },
  {
   "cell_type": "markdown",
   "metadata": {
    "id": "7tN87jxr4KXi"
   },
   "source": [
    "![image.png](data:image/png;base64,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)"
   ]
  },
  {
   "cell_type": "markdown",
   "metadata": {
    "id": "NIXQgix_75AP"
   },
   "source": [
    "Um exemplo de Dicionário:"
   ]
  },
  {
   "cell_type": "code",
   "execution_count": 4,
   "metadata": {
    "colab": {
     "base_uri": "https://localhost:8080/"
    },
    "executionInfo": {
     "elapsed": 234,
     "status": "ok",
     "timestamp": 1626113461017,
     "user": {
      "displayName": "Cristiano de Magalhães",
      "photoUrl": "",
      "userId": "03249985789837417195"
     },
     "user_tz": 180
    },
    "id": "q9lYiXVQ75AP",
    "jupyter": {
     "outputs_hidden": false
    },
    "outputId": "65515224-1bec-4673-ab32-e700b6c8fddb"
   },
   "outputs": [
    {
     "data": {
      "text/plain": [
       "{('key5',): 5, (0, 1): 6, 2: 4.0, 3.0: 'Centro', 'tupla': (1, 3, 5), 'um': 1}"
      ]
     },
     "execution_count": 4,
     "metadata": {
      "tags": []
     },
     "output_type": "execute_result"
    }
   ],
   "source": [
    "# Criando um dicionário\n",
    "\n",
    "dicionario_a = {\"um\"     : 1,\n",
    "                2        : 4.0,\n",
    "                3.0      : \"Centro\",\n",
    "                \"tupla\"  : (1, 3, 5),\n",
    "                ('key5',): 5,\n",
    "                (0, 1)   : 6}\n",
    "dicionario_a"
   ]
  },
  {
   "cell_type": "markdown",
   "metadata": {
    "id": "1aVpQpAV75AQ"
   },
   "source": [
    "As chaves podem ser qualquer objeto, inclusive tuplas:"
   ]
  },
  {
   "cell_type": "code",
   "execution_count": 3,
   "metadata": {
    "colab": {
     "base_uri": "https://localhost:8080/"
    },
    "executionInfo": {
     "elapsed": 225,
     "status": "ok",
     "timestamp": 1626113056066,
     "user": {
      "displayName": "Cristiano de Magalhães",
      "photoUrl": "",
      "userId": "03249985789837417195"
     },
     "user_tz": 180
    },
    "id": "nXylW0UD75AQ",
    "jupyter": {
     "outputs_hidden": false
    },
    "outputId": "ffb41677-5626-45fa-d8a1-da1ca74b68da"
   },
   "outputs": [
    {
     "data": {
      "text/plain": [
       "6"
      ]
     },
     "execution_count": 3,
     "metadata": {
      "tags": []
     },
     "output_type": "execute_result"
    }
   ],
   "source": [
    "# Acesso ao valor pela chave\n",
    "\n",
    "dicionario_a[(0, 1)]"
   ]
  },
  {
   "cell_type": "code",
   "execution_count": 5,
   "metadata": {
    "colab": {
     "base_uri": "https://localhost:8080/"
    },
    "executionInfo": {
     "elapsed": 215,
     "status": "ok",
     "timestamp": 1626113478937,
     "user": {
      "displayName": "Cristiano de Magalhães",
      "photoUrl": "",
      "userId": "03249985789837417195"
     },
     "user_tz": 180
    },
    "id": "LViOCLg-6a8I",
    "outputId": "456c189b-825e-45d6-e51a-61b6cf40714d"
   },
   "outputs": [
    {
     "data": {
      "text/plain": [
       "(1, 3, 5)"
      ]
     },
     "execution_count": 5,
     "metadata": {
      "tags": []
     },
     "output_type": "execute_result"
    }
   ],
   "source": [
    "# Acesso ao valor pela chave\n",
    "\n",
    "dicionario_a[\"tupla\"]"
   ]
  },
  {
   "cell_type": "markdown",
   "metadata": {
    "id": "e0q330uz75AQ"
   },
   "source": [
    "O par \"chave-valor\" é separado por `:` (dois pontos).\n",
    "\n",
    "Cada item é separado do outro por `,` (vírgulas).\n",
    "\n",
    "E tudo deve estar entre `{}` (chaves)."
   ]
  },
  {
   "cell_type": "markdown",
   "metadata": {
    "id": "WvPxbPN775AR"
   },
   "source": [
    "Um dicionário contém pares de elementos \"indexados\" por uma chave única.\n",
    "\n",
    "Cada elemento é representado por uma chave e seu valor correspondente.\n",
    "\n",
    "Cada chave, pode referenciar apenas um único objeto (apesar desse objeto poder ser outra coleção como uma lista, tupla ou mesmo outro dicionário.\n",
    "\n",
    "Porém chaves diferentes podem valores ou objetos iguais sem problemas."
   ]
  },
  {
   "cell_type": "markdown",
   "metadata": {
    "id": "FgepMu6P75AR"
   },
   "source": [
    "## Chaves e Valores em Dicionários "
   ]
  },
  {
   "cell_type": "markdown",
   "metadata": {
    "id": "SqG_D3oJ75AT"
   },
   "source": [
    "Listando as chaves de um dicionário."
   ]
  },
  {
   "cell_type": "code",
   "execution_count": 6,
   "metadata": {
    "colab": {
     "base_uri": "https://localhost:8080/"
    },
    "executionInfo": {
     "elapsed": 229,
     "status": "ok",
     "timestamp": 1626113561688,
     "user": {
      "displayName": "Cristiano de Magalhães",
      "photoUrl": "",
      "userId": "03249985789837417195"
     },
     "user_tz": 180
    },
    "id": "ZIBdT-9p75AT",
    "jupyter": {
     "outputs_hidden": false
    },
    "outputId": "5d5ec3e3-cebb-4b94-de76-ee25829a0339"
   },
   "outputs": [
    {
     "data": {
      "text/plain": [
       "dict_keys(['um', 2, 3.0, 'tupla', ('key5',), (0, 1)])"
      ]
     },
     "execution_count": 6,
     "metadata": {
      "tags": []
     },
     "output_type": "execute_result"
    }
   ],
   "source": [
    "# Retorna todas as chaves do dicionário\n",
    "\n",
    "dicionario_a.keys() "
   ]
  },
  {
   "cell_type": "markdown",
   "metadata": {
    "id": "h4304NKj75AT"
   },
   "source": [
    "Você pode recuperar os valores usando o método <code> values()</code>:"
   ]
  },
  {
   "cell_type": "code",
   "execution_count": 7,
   "metadata": {
    "colab": {
     "base_uri": "https://localhost:8080/"
    },
    "executionInfo": {
     "elapsed": 228,
     "status": "ok",
     "timestamp": 1626113590235,
     "user": {
      "displayName": "Cristiano de Magalhães",
      "photoUrl": "",
      "userId": "03249985789837417195"
     },
     "user_tz": 180
    },
    "id": "RWppE-6X75AT",
    "jupyter": {
     "outputs_hidden": false
    },
    "outputId": "6870ddd0-5a2b-493f-8682-db042ca21514"
   },
   "outputs": [
    {
     "data": {
      "text/plain": [
       "dict_values([1, 4.0, 'Centro', (1, 3, 5), 5, 6])"
      ]
     },
     "execution_count": 7,
     "metadata": {
      "tags": []
     },
     "output_type": "execute_result"
    }
   ],
   "source": [
    "# Retorna todos os valores do dicionário\n",
    "\n",
    "dicionario_a.values() "
   ]
  },
  {
   "cell_type": "markdown",
   "metadata": {
    "id": "g5mrtVCr75AT"
   },
   "source": [
    "Adicionando um novo item."
   ]
  },
  {
   "cell_type": "code",
   "execution_count": 8,
   "metadata": {
    "colab": {
     "base_uri": "https://localhost:8080/"
    },
    "executionInfo": {
     "elapsed": 252,
     "status": "ok",
     "timestamp": 1626113648049,
     "user": {
      "displayName": "Cristiano de Magalhães",
      "photoUrl": "",
      "userId": "03249985789837417195"
     },
     "user_tz": 180
    },
    "id": "sqsCa-jk75AT",
    "jupyter": {
     "outputs_hidden": false
    },
    "outputId": "528a8a97-1876-4052-b905-dff170574413"
   },
   "outputs": [
    {
     "data": {
      "text/plain": [
       "{('key5',): 5,\n",
       " (0, 1): 6,\n",
       " 2: 4.0,\n",
       " 3.0: 'Centro',\n",
       " 'Treinamento': 2021,\n",
       " 'tupla': (1, 3, 5),\n",
       " 'um': 1}"
      ]
     },
     "execution_count": 8,
     "metadata": {
      "tags": []
     },
     "output_type": "execute_result"
    }
   ],
   "source": [
    "# Adicionando um novo valor com chave ao dicionário\n",
    "\n",
    "dicionario_a['Treinamento'] = 2021\n",
    "dicionario_a"
   ]
  },
  {
   "cell_type": "markdown",
   "metadata": {
    "id": "8K43-VWt75AT"
   },
   "source": [
    "Removendo um item."
   ]
  },
  {
   "cell_type": "code",
   "execution_count": 9,
   "metadata": {
    "colab": {
     "base_uri": "https://localhost:8080/"
    },
    "executionInfo": {
     "elapsed": 228,
     "status": "ok",
     "timestamp": 1626113725819,
     "user": {
      "displayName": "Cristiano de Magalhães",
      "photoUrl": "",
      "userId": "03249985789837417195"
     },
     "user_tz": 180
    },
    "id": "sC644c2l75AU",
    "jupyter": {
     "outputs_hidden": false
    },
    "outputId": "a87914a1-76f2-4a50-938a-9cbab5203394"
   },
   "outputs": [
    {
     "data": {
      "text/plain": [
       "{2: 4.0, 3.0: 'Centro', 'Treinamento': 2021, 'tupla': (1, 3, 5), 'um': 1}"
      ]
     },
     "execution_count": 9,
     "metadata": {
      "tags": []
     },
     "output_type": "execute_result"
    }
   ],
   "source": [
    "# Removendo um item utilizando o 'del'\n",
    "\n",
    "del(dicionario_a[(\"key5\",)])\n",
    "del(dicionario_a[(0, 1)])\n",
    "dicionario_a"
   ]
  },
  {
   "cell_type": "markdown",
   "metadata": {
    "id": "TFAWLewU75AU"
   },
   "source": [
    "Verificando se um item consta no dicionário."
   ]
  },
  {
   "cell_type": "code",
   "execution_count": 11,
   "metadata": {
    "colab": {
     "base_uri": "https://localhost:8080/"
    },
    "executionInfo": {
     "elapsed": 244,
     "status": "ok",
     "timestamp": 1626113776456,
     "user": {
      "displayName": "Cristiano de Magalhães",
      "photoUrl": "",
      "userId": "03249985789837417195"
     },
     "user_tz": 180
    },
    "id": "dsjYR_NA75AU",
    "jupyter": {
     "outputs_hidden": false
    },
    "outputId": "1d33648c-0edd-43a0-df64-262a0d045e14"
   },
   "outputs": [
    {
     "data": {
      "text/plain": [
       "False"
      ]
     },
     "execution_count": 11,
     "metadata": {
      "tags": []
     },
     "output_type": "execute_result"
    }
   ],
   "source": [
    "# Verificando se a chave está no dicionário\n",
    "\n",
    "'Desenvolvimento' in dicionario_a"
   ]
  },
  {
   "cell_type": "code",
   "execution_count": 12,
   "metadata": {
    "colab": {
     "base_uri": "https://localhost:8080/"
    },
    "executionInfo": {
     "elapsed": 233,
     "status": "ok",
     "timestamp": 1626113792043,
     "user": {
      "displayName": "Cristiano de Magalhães",
      "photoUrl": "",
      "userId": "03249985789837417195"
     },
     "user_tz": 180
    },
    "id": "UyEx4Pl770Oj",
    "jupyter": {
     "outputs_hidden": false
    },
    "outputId": "c296495e-d77b-4aff-e489-450c9ed50875"
   },
   "outputs": [
    {
     "data": {
      "text/plain": [
       "True"
      ]
     },
     "execution_count": 12,
     "metadata": {
      "tags": []
     },
     "output_type": "execute_result"
    }
   ],
   "source": [
    "# Verificando se a chave está no dicionário\n",
    "\n",
    "'Treinamento' in dicionario_a"
   ]
  },
  {
   "cell_type": "markdown",
   "metadata": {
    "id": "2VTyuGYd75AU"
   },
   "source": [
    "---"
   ]
  }
 ],
 "metadata": {
  "colab": {
   "collapsed_sections": [],
   "name": "02.3_Revisão_Dicionários.ipynb",
   "provenance": []
  },
  "kernelspec": {
   "display_name": "Python 3",
   "language": "python",
   "name": "python3"
  },
  "language_info": {
   "codemirror_mode": {
    "name": "ipython",
    "version": 3
   },
   "file_extension": ".py",
   "mimetype": "text/x-python",
   "name": "python",
   "nbconvert_exporter": "python",
   "pygments_lexer": "ipython3",
   "version": "3.8.8"
  }
 },
 "nbformat": 4,
 "nbformat_minor": 0
}
