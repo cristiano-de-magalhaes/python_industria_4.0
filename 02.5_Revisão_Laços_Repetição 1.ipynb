{
 "cells": [
  {
   "cell_type": "markdown",
   "metadata": {
    "id": "AnAVBt849I1z"
   },
   "source": [
    "# Laços de Repetição em Python 3.x"
   ]
  },
  {
   "cell_type": "markdown",
   "metadata": {
    "id": "8a16RlUb83a2"
   },
   "source": [
    "**Sejam todas bem vindas e bem vindos de volta!**\n",
    "\n",
    "Vamos revisar pontos básicos sobre Laços e Estruturas de Repetição no Python 3.x, relembrando:\n",
    "* `for`\n",
    "* a função `range()`\n",
    "* `while`"
   ]
  },
  {
   "cell_type": "markdown",
   "metadata": {
    "id": "KhhQiX7q9I10"
   },
   "source": [
    "## Laços de Repetição"
   ]
  },
  {
   "cell_type": "markdown",
   "metadata": {
    "id": "9xSWbvJdBAtM"
   },
   "source": [
    "Em Python existem 2 tipos básicos de laços de repetição, o `for` e o `while`.\n",
    "\n",
    "O primeiro (`for`) é mais indicado quando sabe-se quantas vezes um conjunto de instruções deve ou precisa repetir-se.\n",
    "\n",
    "Já o segundo (`while`) é mais indicado quando não sabemos quantas vezes um conjunto de instruções deve ou precisa repetir-se, mas sabe-se alguma condição de parada, ou seja, quando algo deve ou precisa rodar \"enquanto\" alguma condição não é atingida, daí seu \"nome\" (`while` significa \"enquanto\" em inglês)."
   ]
  },
  {
   "cell_type": "markdown",
   "metadata": {
    "id": "uBXa5FIccTFI"
   },
   "source": [
    "### `for`"
   ]
  },
  {
   "cell_type": "markdown",
   "metadata": {
    "id": "uUUzMlQqcWUn"
   },
   "source": [
    "O `for` utiliza-se basicamente da iteração sobre algum objeto para delimitar de certa forma a quantidade de vezes que irá repetir-se.\n",
    "\n",
    "Isso se faz muito útil quando precisamos iterar sobre objetos que estão contidos em coleções.\n",
    "\n",
    "Mas quando precisamos simplesmente de valores, podemos utilizar a função `range()`."
   ]
  },
  {
   "cell_type": "markdown",
   "metadata": {
    "id": "C8Sk9eJo9I10"
   },
   "source": [
    "#### Faixa de Valores utilizando o `range()`"
   ]
  },
  {
   "cell_type": "markdown",
   "metadata": {
    "id": "6vUr5jMqIAtm"
   },
   "source": [
    "![image.png](data:image/png;base64,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)"
   ]
  },
  {
   "cell_type": "markdown",
   "metadata": {
    "id": "1ycfByJXIqQ9"
   },
   "source": [
    "---"
   ]
  },
  {
   "cell_type": "markdown",
   "metadata": {
    "id": "eEKVLmsPIoom"
   },
   "source": [
    "![image.png](data:image/png;base64,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)"
   ]
  },
  {
   "cell_type": "code",
   "execution_count": null,
   "metadata": {
    "colab": {
     "base_uri": "https://localhost:8080/"
    },
    "executionInfo": {
     "elapsed": 7,
     "status": "ok",
     "timestamp": 1626117236113,
     "user": {
      "displayName": "Cristiano de Magalhães",
      "photoUrl": "",
      "userId": "03249985789837417195"
     },
     "user_tz": 180
    },
    "id": "r_xTprh59I11",
    "outputId": "523e9d97-22ae-482e-fa6d-cf669516ac61"
   },
   "outputs": [
    {
     "data": {
      "text/plain": [
       "range(0, 5)"
      ]
     },
     "execution_count": 1,
     "metadata": {
      "tags": []
     },
     "output_type": "execute_result"
    }
   ],
   "source": [
    "# range() com 1 parâmetro\n",
    "\n",
    "range(5)"
   ]
  },
  {
   "cell_type": "code",
   "execution_count": null,
   "metadata": {
    "colab": {
     "base_uri": "https://localhost:8080/"
    },
    "executionInfo": {
     "elapsed": 6,
     "status": "ok",
     "timestamp": 1626117293674,
     "user": {
      "displayName": "Cristiano de Magalhães",
      "photoUrl": "",
      "userId": "03249985789837417195"
     },
     "user_tz": 180
    },
    "id": "KTWFCCSDI_bF",
    "outputId": "cf147c75-dcd7-40fd-aa77-fb72355b9399"
   },
   "outputs": [
    {
     "data": {
      "text/plain": [
       "[0, 1, 2, 3, 4]"
      ]
     },
     "execution_count": 4,
     "metadata": {
      "tags": []
     },
     "output_type": "execute_result"
    }
   ],
   "source": [
    "# Para visualizarmos todos os valores vamos armazenar o resultado em uma lista\n",
    "\n",
    "lista = list(range(5))\n",
    "lista"
   ]
  },
  {
   "cell_type": "code",
   "execution_count": null,
   "metadata": {
    "colab": {
     "base_uri": "https://localhost:8080/"
    },
    "executionInfo": {
     "elapsed": 232,
     "status": "ok",
     "timestamp": 1626117338552,
     "user": {
      "displayName": "Cristiano de Magalhães",
      "photoUrl": "",
      "userId": "03249985789837417195"
     },
     "user_tz": 180
    },
    "id": "0u3cgcENJSlk",
    "outputId": "0920e851-ebd1-4727-b87c-719701da2dd1"
   },
   "outputs": [
    {
     "data": {
      "text/plain": [
       "[2, 3, 4]"
      ]
     },
     "execution_count": 5,
     "metadata": {
      "tags": []
     },
     "output_type": "execute_result"
    }
   ],
   "source": [
    "# Agora com 2 parâmetros\n",
    "\n",
    "lista = list(range(2, 5))\n",
    "lista"
   ]
  },
  {
   "cell_type": "code",
   "execution_count": null,
   "metadata": {
    "colab": {
     "base_uri": "https://localhost:8080/"
    },
    "executionInfo": {
     "elapsed": 231,
     "status": "ok",
     "timestamp": 1626117380043,
     "user": {
      "displayName": "Cristiano de Magalhães",
      "photoUrl": "",
      "userId": "03249985789837417195"
     },
     "user_tz": 180
    },
    "id": "Q9x198WtJYGU",
    "outputId": "78f4d442-9fcc-4d9b-8d56-537f9762ea99"
   },
   "outputs": [
    {
     "data": {
      "text/plain": [
       "[0, 2, 4]"
      ]
     },
     "execution_count": 6,
     "metadata": {
      "tags": []
     },
     "output_type": "execute_result"
    }
   ],
   "source": [
    "# E por fim, com 3 parâmetros\n",
    "\n",
    "lista = list(range(0, 5, 2))\n",
    "lista"
   ]
  },
  {
   "cell_type": "markdown",
   "metadata": {
    "id": "FLrZZxXn9I11"
   },
   "source": [
    "#### Utilizando o `for`"
   ]
  },
  {
   "cell_type": "markdown",
   "metadata": {
    "id": "IRsR6wF79I12"
   },
   "source": [
    "O `for` é normalmente utilizado quando **sabemos** ou temos certa definição de **quantas vezes queremos executar o mesmo bloco de códigos**.\n",
    "\n",
    "Sua estrutura básica é:\n",
    "```\n",
    "for variavel in objeto_iteravel:\n",
    "    comandos\n",
    "```\n",
    "\n",
    "Com o `for` conseguimos executar uma porção ou bloco de código algumas vezes.\n",
    "\n",
    "Podemos utilizá-lo para imprimir os elementos em uma lista, uma lista de valores, etc."
   ]
  },
  {
   "cell_type": "code",
   "execution_count": null,
   "metadata": {
    "colab": {
     "base_uri": "https://localhost:8080/"
    },
    "executionInfo": {
     "elapsed": 14,
     "status": "ok",
     "timestamp": 1626173414052,
     "user": {
      "displayName": "Cristiano de Magalhães",
      "photoUrl": "",
      "userId": "03249985789837417195"
     },
     "user_tz": 180
    },
    "id": "6GMBRCZyfKqF",
    "outputId": "c52dcc18-876d-422e-fefb-c54f121b743f"
   },
   "outputs": [
    {
     "name": "stdout",
     "output_type": "stream",
     "text": [
      "0\n",
      "1\n",
      "2\n",
      "3\n",
      "4\n"
     ]
    }
   ],
   "source": [
    "# Utilizando o for para imprimir uma lista de números\n",
    "\n",
    "for numero in range(5):\n",
    "    print(numero)"
   ]
  },
  {
   "cell_type": "code",
   "execution_count": null,
   "metadata": {
    "colab": {
     "base_uri": "https://localhost:8080/"
    },
    "executionInfo": {
     "elapsed": 234,
     "status": "ok",
     "timestamp": 1626173504910,
     "user": {
      "displayName": "Cristiano de Magalhães",
      "photoUrl": "",
      "userId": "03249985789837417195"
     },
     "user_tz": 180
    },
    "id": "tYjxi1yS9I12",
    "outputId": "a4387bb0-5e37-4824-accf-605007b821cd"
   },
   "outputs": [
    {
     "name": "stdout",
     "output_type": "stream",
     "text": [
      "---\n",
      "abacaxi\n",
      "---\n",
      "amora\n",
      "---\n",
      "maçã\n",
      "---\n",
      "uva\n",
      "---\n",
      "melancia\n"
     ]
    }
   ],
   "source": [
    "# Utilizando o for para imprimir elementos de uma lista\n",
    "\n",
    "lista = ['abacaxi', 'amora', 'maçã', 'uva', 'melancia']\n",
    "\n",
    "for fruta in lista:\n",
    "    print(\"---\")\n",
    "    print(fruta)"
   ]
  },
  {
   "cell_type": "code",
   "execution_count": null,
   "metadata": {
    "colab": {
     "base_uri": "https://localhost:8080/"
    },
    "executionInfo": {
     "elapsed": 260,
     "status": "ok",
     "timestamp": 1626173547189,
     "user": {
      "displayName": "Cristiano de Magalhães",
      "photoUrl": "",
      "userId": "03249985789837417195"
     },
     "user_tz": 180
    },
    "id": "KzdKve3AfqMl",
    "outputId": "79a07954-b08b-42fe-d0a3-1ead6f0e23bf"
   },
   "outputs": [
    {
     "name": "stdout",
     "output_type": "stream",
     "text": [
      "---\n",
      "a\n",
      "b\n",
      "a\n",
      "c\n",
      "a\n",
      "x\n",
      "i\n",
      "---\n",
      "a\n",
      "m\n",
      "o\n",
      "r\n",
      "a\n",
      "---\n",
      "m\n",
      "a\n",
      "ç\n",
      "ã\n",
      "---\n",
      "u\n",
      "v\n",
      "a\n",
      "---\n",
      "m\n",
      "e\n",
      "l\n",
      "a\n",
      "n\n",
      "c\n",
      "i\n",
      "a\n"
     ]
    }
   ],
   "source": [
    "# Imprimindo cada letra das palavras na lista em uma linha\n",
    "\n",
    "lista = ['abacaxi', 'amora', 'maçã', 'uva', 'melancia']\n",
    "\n",
    "for fruta in lista:\n",
    "    print(\"---\")\n",
    "    for letra in fruta:\n",
    "        print(letra)"
   ]
  },
  {
   "cell_type": "markdown",
   "metadata": {
    "id": "E_wJb6zQgIWd"
   },
   "source": [
    "#### A função `enumerate()`"
   ]
  },
  {
   "cell_type": "markdown",
   "metadata": {
    "id": "7WXsafHagP1d"
   },
   "source": [
    "Ao utilizarmos a função `enumerate()` ela nos retorna um outro objeto iteravel contendo tuplas compostas pelo índice e pelo valor encontrados no objeto original.\n",
    "\n",
    "Vamos gerar uma lista a partir do enumerate para visualizarmos o que ocorre."
   ]
  },
  {
   "cell_type": "code",
   "execution_count": null,
   "metadata": {
    "colab": {
     "base_uri": "https://localhost:8080/"
    },
    "executionInfo": {
     "elapsed": 233,
     "status": "ok",
     "timestamp": 1626174070077,
     "user": {
      "displayName": "Cristiano de Magalhães",
      "photoUrl": "",
      "userId": "03249985789837417195"
     },
     "user_tz": 180
    },
    "id": "4pTP9mBwgXWk",
    "outputId": "6edfd76a-6285-4cb7-b6da-3bbc33234c7a"
   },
   "outputs": [
    {
     "data": {
      "text/plain": [
       "['verde', 'amarelo', 'azul', 'branco']"
      ]
     },
     "execution_count": 17,
     "metadata": {
      "tags": []
     },
     "output_type": "execute_result"
    }
   ],
   "source": [
    "# Criando e visualizando a lista\n",
    "cores = ['verde', 'amarelo', 'azul', 'branco']\n",
    "cores"
   ]
  },
  {
   "cell_type": "code",
   "execution_count": null,
   "metadata": {
    "colab": {
     "base_uri": "https://localhost:8080/"
    },
    "executionInfo": {
     "elapsed": 226,
     "status": "ok",
     "timestamp": 1626174099520,
     "user": {
      "displayName": "Cristiano de Magalhães",
      "photoUrl": "",
      "userId": "03249985789837417195"
     },
     "user_tz": 180
    },
    "id": "2CxNFWyrhkQJ",
    "outputId": "6e017ede-b210-4eb6-f51d-6b6bc7013570"
   },
   "outputs": [
    {
     "data": {
      "text/plain": [
       "<enumerate at 0x7ff9df079f50>"
      ]
     },
     "execution_count": 20,
     "metadata": {
      "tags": []
     },
     "output_type": "execute_result"
    }
   ],
   "source": [
    "# Observando o objeto enumerate gerado para cores\n",
    "enumerate(cores)"
   ]
  },
  {
   "cell_type": "code",
   "execution_count": null,
   "metadata": {
    "colab": {
     "base_uri": "https://localhost:8080/"
    },
    "executionInfo": {
     "elapsed": 218,
     "status": "ok",
     "timestamp": 1626174112136,
     "user": {
      "displayName": "Cristiano de Magalhães",
      "photoUrl": "",
      "userId": "03249985789837417195"
     },
     "user_tz": 180
    },
    "id": "UKHvG7M1hmOj",
    "outputId": "74b98855-e943-4964-f687-489b550923e7"
   },
   "outputs": [
    {
     "data": {
      "text/plain": [
       "[(0, 'verde'), (1, 'amarelo'), (2, 'azul'), (3, 'branco')]"
      ]
     },
     "execution_count": 21,
     "metadata": {
      "tags": []
     },
     "output_type": "execute_result"
    }
   ],
   "source": [
    "# Visualizando em forma de lista\n",
    "list(enumerate(cores))"
   ]
  },
  {
   "cell_type": "markdown",
   "metadata": {
    "id": "XF1rHZLOh98L"
   },
   "source": [
    "Assim, conseguimos realizar algumas operações em que é útil utilizar o índice como uma espécie de contador ou similar."
   ]
  },
  {
   "cell_type": "code",
   "execution_count": null,
   "metadata": {
    "colab": {
     "base_uri": "https://localhost:8080/"
    },
    "executionInfo": {
     "elapsed": 247,
     "status": "ok",
     "timestamp": 1626174213706,
     "user": {
      "displayName": "Cristiano de Magalhães",
      "photoUrl": "",
      "userId": "03249985789837417195"
     },
     "user_tz": 180
    },
    "id": "uswSfV1-9I14",
    "outputId": "8067e4bf-ef78-498f-fac2-b14f679e7e8b"
   },
   "outputs": [
    {
     "name": "stdout",
     "output_type": "stream",
     "text": [
      "0 : verde\n",
      "1 : amarelo\n",
      "2 : azul\n",
      "3 : branco\n"
     ]
    }
   ],
   "source": [
    "# Percorra a lista e faça a iteração tanto pelo indice quanto pelo valor do elemento\n",
    "\n",
    "for id, cor in enumerate(cores):\n",
    "    print(id, ':', cor)"
   ]
  },
  {
   "cell_type": "markdown",
   "metadata": {
    "id": "fCuf30Kb9I14"
   },
   "source": [
    "### `while`"
   ]
  },
  {
   "cell_type": "markdown",
   "metadata": {
    "id": "vcaVJBsCiyTy"
   },
   "source": [
    "O `while` executa um bloco de comandos \"enquanto\" uma condição for verdadeira (`while` em inglês significa \"enquanto\").\n",
    "\n",
    "A estrutura simples do `while` é:\n",
    "```\n",
    "while condição:\n",
    "    comandos a executar enquanto a condição for verdadeira\n",
    "```\n",
    "\n",
    "Uma coisa importante a se considerar é que dentro de um `while` é necessário que haja algo que mude a condição para falso e fazer com que o código saia do laço (_loop_) do `while`, do contrário ele rodará indefinidamente para sempre.\n",
    "\n",
    "Uma dica para se lembrar de quando utilizar o `while` é utiliza-lo quando **não sabemos quantas vezes queremos executar o mesmo bloco de códigos**."
   ]
  },
  {
   "cell_type": "code",
   "execution_count": null,
   "metadata": {
    "id": "j2gTRDLf9I15"
   },
   "outputs": [],
   "source": [
    "# Aqui utilizaremos um código que sabemos quantas vezes vai rodar apenas para\n",
    "# ilustrar sua utilização.\n",
    "\n",
    "temperatura = 95\n",
    "\n",
    "while temperatura <= 100:\n",
    "    print(temperatura)\n",
    "    temperatura += 1"
   ]
  },
  {
   "cell_type": "markdown",
   "metadata": {
    "id": "rasRC0qc9I16"
   },
   "source": [
    "---"
   ]
  }
 ],
 "metadata": {
  "colab": {
   "collapsed_sections": [],
   "name": "02.5_Revisão_Laços_Repetição.ipynb",
   "provenance": [],
   "toc_visible": true
  },
  "kernelspec": {
   "display_name": "Python 3",
   "language": "python",
   "name": "python3"
  },
  "language_info": {
   "codemirror_mode": {
    "name": "ipython",
    "version": 3
   },
   "file_extension": ".py",
   "mimetype": "text/x-python",
   "name": "python",
   "nbconvert_exporter": "python",
   "pygments_lexer": "ipython3",
   "version": "3.8.8"
  }
 },
 "nbformat": 4,
 "nbformat_minor": 0
}
