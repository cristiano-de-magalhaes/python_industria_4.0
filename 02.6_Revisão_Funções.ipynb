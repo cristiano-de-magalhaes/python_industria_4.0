{
 "cells": [
  {
   "cell_type": "markdown",
   "metadata": {
    "id": "9vn7qDUY-iXy"
   },
   "source": [
    "# Funções em `Python`"
   ]
  },
  {
   "cell_type": "markdown",
   "metadata": {
    "id": "8a16RlUb83a2"
   },
   "source": [
    "**Sejam todas bem vindas e bem vindos de volta!**\n",
    "\n",
    "Vamos revisar pontos básicos sobre Funções no Python 3.x, relembrando:\n",
    "* Funções Pré-definidas\n",
    "* Como criar funções\n",
    "* Argumentos:\n",
    "    * posicionais sem valor padrão\n",
    "    * posicionais com valor padrão\n",
    "    * empacotados\n",
    "    * chaveados\n",
    "* Definir valores padrão para o argumento em suas funções personalizadas\n",
    "* Global variables\n",
    "* Scope of a Variable"
   ]
  },
  {
   "cell_type": "markdown",
   "metadata": {
    "id": "gpr5mEP2-iX_"
   },
   "source": [
    "# Funções pré-definidas"
   ]
  },
  {
   "cell_type": "markdown",
   "metadata": {
    "id": "aPBI_AMl-iX_"
   },
   "source": [
    "Existem muitas funções predefinidas em Python:\n",
    "\n",
    ". | Funções | . \n",
    "---|---|---\n",
    "abs()        | oct()          | format()\n",
    "delattr()    | staticmethod() | len()\n",
    "hash()       | bool()         | property()\n",
    "memoryview() | eval()         | type()\n",
    "set()        | int()          | chr()\n",
    "all()        | open()         | frozenset()\n",
    "dict()       | str()          | list()\n",
    "help()       | breakpoint()   | range()\n",
    "min()        | exec()         | vars()\n",
    "setattr()    | isinstance()   | classmethod()\n",
    "any()        | ord()          | getattr()\n",
    "dir()        | sum()          | locals()\n",
    "hex()        | bytearray()    | repr()\n",
    "next()       | filter()       | zip()\n",
    "slice()      | issubclass()   | compile()\n",
    "ascii()      | pow()          | globals()\n",
    "divmod()     | super()        | map()\n",
    "id()         | bytes()        | reversed()\n",
    "object()     | float()        | __import__()\n",
    "sorted()     | iter()         | complex()\n",
    "bin()        | print()        | hasattr()\n",
    "enumerate()  | tuple()        | max()\n",
    "input()      | callable()     | round()"
   ]
  },
  {
   "cell_type": "markdown",
   "metadata": {
    "id": "fC2ybQtk-iX_"
   },
   "source": [
    "## A função `print()`"
   ]
  },
  {
   "cell_type": "code",
   "execution_count": null,
   "metadata": {
    "id": "4Dkmb8I--iX_"
   },
   "outputs": [],
   "source": [
    "numeros = list(range(0, 30, 3))\n",
    "print(numeros)"
   ]
  },
  {
   "cell_type": "markdown",
   "metadata": {
    "id": "74ffj-Oy-iX_"
   },
   "source": [
    "## A função `sum()`"
   ]
  },
  {
   "cell_type": "code",
   "execution_count": null,
   "metadata": {
    "id": "65AkVaQm-iX_"
   },
   "outputs": [],
   "source": [
    "# Retorna o somatório de todos os elementos numéricos\n",
    "\n",
    "sum(numeros)"
   ]
  },
  {
   "cell_type": "markdown",
   "metadata": {
    "id": "kuVJNpWX-iYA"
   },
   "source": [
    "## A função `len ()`"
   ]
  },
  {
   "cell_type": "code",
   "execution_count": null,
   "metadata": {
    "id": "g6xt1mpM-iYA"
   },
   "outputs": [],
   "source": [
    "# Mostra o comprimento (length em inglês) do objeto (lista ou tupla)\n",
    "\n",
    "len(numeros)"
   ]
  },
  {
   "cell_type": "markdown",
   "metadata": {
    "id": "6odcV87PMuzJ"
   },
   "source": [
    "## A função `round()`"
   ]
  },
  {
   "cell_type": "code",
   "execution_count": null,
   "metadata": {
    "id": "EmKatKcUMvLR"
   },
   "outputs": [],
   "source": [
    "# Arredonda números float\n",
    "\n",
    "print(round(42.8796))\n",
    "print(round(42.8796, 1))\n",
    "print(round(42.8796, 3))"
   ]
  },
  {
   "cell_type": "markdown",
   "metadata": {
    "id": "osVmGbfDOC0u"
   },
   "source": [
    "# Funções"
   ]
  },
  {
   "cell_type": "markdown",
   "metadata": {
    "id": "0pgot8EC50LZ"
   },
   "source": [
    "## Criando (definindo) funções: `def`"
   ]
  },
  {
   "cell_type": "markdown",
   "metadata": {
    "id": "2xFPckox5y2p"
   },
   "source": [
    "\n",
    "As funções são o início da automação de um código.\n",
    "\n",
    "A grosso modo, nada mais é que estruturar seu código para que você possa reaproveitá-lo mais vezes ao invés de repetir tudo novamente.\n",
    "\n",
    "Para isso é preciso que sigamos algumas estruturas:\n",
    "\n",
    "```\n",
    "def nome_da_função(*args, **kwargs):\n",
    "    código\n",
    "```\n",
    "\n",
    "`nome_da_função` pode ser qualquer nome, como acontece com as variáveis, mas uma regra bacana é que o nome indique de forma clara o que a função faz.\n",
    "\n",
    "Vamos a alguns exemplos:"
   ]
  },
  {
   "cell_type": "code",
   "execution_count": null,
   "metadata": {
    "id": "7MSmXkP-PGrn"
   },
   "outputs": [],
   "source": [
    "def imprime_elem_lista(arg_lista):\n",
    "    for elem in arg_lista:\n",
    "        print(elem)\n",
    "        # print(type(elem))"
   ]
  },
  {
   "cell_type": "code",
   "execution_count": null,
   "metadata": {
    "id": "o8OpSLkvPFG1"
   },
   "outputs": [],
   "source": [
    "lista = list(\"0123456789\")\n",
    "\n",
    "imprime_elem_lista(lista)"
   ]
  },
  {
   "cell_type": "code",
   "execution_count": null,
   "metadata": {
    "id": "zbAWLpTrv07y"
   },
   "outputs": [],
   "source": [
    "imprime_elem_lista(lista_cereais)"
   ]
  },
  {
   "cell_type": "markdown",
   "metadata": {
    "id": "Bh94sJDWX7DC"
   },
   "source": [
    "Podemos criar também uma função para imprimir o par chave-valor de dicionários."
   ]
  },
  {
   "cell_type": "code",
   "execution_count": null,
   "metadata": {
    "id": "zaif9PUNYC6t"
   },
   "outputs": [],
   "source": [
    "def imprime_chave_valor(dicionario):\n",
    "    for chave,valor in dicionario.items():\n",
    "        print(chave, valor, sep=\": \")"
   ]
  },
  {
   "cell_type": "code",
   "execution_count": null,
   "metadata": {
    "id": "-rSuNzzC38OK"
   },
   "outputs": [],
   "source": [
    "parametros_maquina = {\"temperatura máxima\": 100.0,\n",
    "                      \"temperatura mínima\": 94.0,\n",
    "                      \"qtd aquecedores\":    2,\n",
    "                      \"em funcionamento\":   False,\n",
    "                      \"nome equipamento\": \"ebulidor\",\n",
    "                      \"disponibilidade\": 14,\n",
    "                      }\n",
    "\n",
    "imprime_chave_valor(parametros_maquina)"
   ]
  },
  {
   "cell_type": "markdown",
   "metadata": {
    "id": "-j6qJAfT4X8q"
   },
   "source": [
    "> **Mostrar um erro comum** (duplo clique nesta célula para ver)\n",
    "\n",
    "<!escondido\n",
    "```\n",
    "def imprime_chave_valor(dicionario):\n",
    "    for chave,valor in dicionario: # erro comum é esquecer do .items()\n",
    "        print(chave, valor, sep=\": \")\n",
    "```\n",
    ">"
   ]
  },
  {
   "cell_type": "markdown",
   "metadata": {
    "id": "y9FAZSrA6Dwo"
   },
   "source": [
    "**PONTOS IMPORTANTES**\n",
    "\n",
    "A definição da função **precisa** iniciar com `def`.\n",
    "\n",
    "**`def`**\n",
    "\n",
    "Em seguida PRECISAMOS definir um **nome único** e **dentro das regras** de uso de caracteres.\n",
    "\n",
    "`def` **`nome_unico`**\n",
    "\n",
    "Colado ao nome (sem espaço entre eles) precisamos colocar os parênteses `()`. **Não existe função sem parênteses**.\n",
    "\n",
    "`def nome_unico`**`()`**\n",
    "\n",
    "A **única parte opcional** é DENTRO DOS PARÊNTESES. Dentro dos parênteses pode ou ter um ou mais argumentos: \n",
    "\n",
    "`def nome_unico`**`()`**\n",
    "\n",
    "`def nome_unico(`**`arg`**`)`\n",
    "\n",
    "`def nome_unico(`**`arg_1, arg_2`**`)`\n",
    "\n",
    "`def nome_unico(arg_1, arg_2,`**`... `**`)`\n",
    "\n",
    "---\n",
    "\n",
    "Voltaremos aos argumentos mais adiante, vamos seguir na **construção** da função.\n",
    "\n",
    "---\n",
    "\n",
    "Para FINALIZAR **A PRIMEIRA LINHA** da definição da função, uma coisa **SUPER IMPORTANTE** e que é um dos esquecimentos mais comuns é o **DOIS-PONTOS** no final.\n",
    "\n",
    "Sim, **o** \"dois-pontos\" no singular pois **não são dois pontos seguidos** e sim UM sinal de \"dois-pontos\" SEM ESPAÇOS entre o fechamento de parênteses e o \"dois-pontos\".\n",
    "\n",
    "**`:`**\n",
    "\n",
    "O resultado final do nosso \"gabarito\" **DA PRIMEIRA LINHA** seria:\n",
    "\n",
    "`def nome_unico():`\n",
    "\n",
    "ou\n",
    "\n",
    "`def nome_unico(arg_1, arg_2,...)`**`:`**\n",
    "\n",
    "Agora, para as **OUTRAS LINHAS** DA FUNÇÃO, o mais importante é:\n",
    "\n",
    "> **I - DEN - TA - ÇÃO**\n",
    ">\n",
    "> **IDENTAÇÃO**\n",
    ">\n",
    "> Vamos repetir mais uma vez pra vocês entenderem a IMPORTÂNCIA disso?\n",
    ">\n",
    "> **IDENTAÇÃO**\n",
    "\n",
    "Mas o que é a identação? É o nome correto para toda vez que você escreve a linha de texto \"um pouco mais para direita\" no texto. Veja o exemplo\n",
    "\n",
    "```python\n",
    "Exemplo de um texto normal.\n",
    "    Exemplo de um texto identado.\n",
    "        Exemplo de outro texto, agora identado a partir da 2a.linha\n",
    "    Outro exemplo de texto identado a partir da 1a. linha\n",
    "    Outro exemplo de texto identado a partir da 1a. linha\n",
    "        Exemplo de outro texto, agora identado a partir da 5a.linha\n",
    "        Outro exemplo de texto identado a partir da 5a.linha\n",
    "```\n",
    "\n",
    "A identação em python informa ao programa QUAL BLOCO de comandos **está dentro** de QUAL COMANDO.\n",
    "\n",
    "> \"\"A identação PADRÃO é de 4 espaços em branco.\"\" \n",
    "\n",
    "Vamos a mais um exemplo:\n",
    "\n",
    "```python\n",
    "def funcao_1():\n",
    "    comandos dentro da 'funcao_1'\n",
    "    mais comandos dentro da 'funcao_1'\n",
    "    for i in range(5):\n",
    "        comandos dentro do 'for'\n",
    "        mais comandos dentro do 'for'\n",
    "    novamente comandos agora fora do 'for' e dentro da 'funcao_1'\n",
    "    ...\n",
    "```"
   ]
  },
  {
   "cell_type": "markdown",
   "metadata": {
    "id": "32Au4EficU95"
   },
   "source": [
    "---\n",
    "<a>\n",
    "<b>Observação IMPORTANTE:</b>\n",
    "\n",
    "Uma função SEMPRE deve ter **pelo menos UMA LINHA de comandos** \"dentro\" dela, ou seja, uma linha de comando abaixo da linha de definição E **identada** em 4 espaços!\n",
    "</a>\n",
    "\n",
    "---\n",
    "Na ausência de algum código, ao menos a palavra `pass` tem que aparecer para que a função seja \"aceita\" como válida.\n",
    "\n",
    "A palavra `pass` funciona parecido como uma marcação.\n",
    "\n",
    "Imagine que você está criando um programa e pensando em todas as funções que você precisará. Se quiser, fazer uma lista de nomes das funções, pode ajudar no seu processo de criação, mas só escrever os nomes deixa de fora aspectos importantes da concepção das funções, por exemplo o **nome adequado** e **os argumentos necessários**.\n",
    "\n",
    "Assim, podemos criar algumas funções \"vazias\" apenas para ajudar no raciocínio e depois retornar e ir preenchendo e construindo as funções.\n",
    "\n",
    "Vejamos um exemplo:\n",
    "```python\n",
    "# função para listar os elementos no objeto\n",
    "def lista_elem(objeto):\n",
    "    pass\n",
    "\n",
    "# função para agrupar os elementos segundo tamanho\n",
    "def agrupa_elem(objeto, tamanho):\n",
    "    pass\n",
    "```\n",
    "\n",
    "---"
   ]
  },
  {
   "cell_type": "markdown",
   "metadata": {
    "id": "aqHY2vegxI1e"
   },
   "source": [
    "#### Argumentos\n",
    "\n",
    "Existem 4 tipos básicos de argumentos:\n",
    "\n",
    "1. argumentos posicionais **sem** valores padrão, que chamaremos de `arg_pos_s`\n",
    "2. argumentos posicionais **com** valores padrão, que chamaremos de `arg_pos_c`\n",
    "3. argumentos \"empacotados\" (listas, tuplas), que chamaremos de `args`\n",
    "4. argumentos \"chaveados\" (dicionários), que chamaremos de `kwargs`\n",
    "\n",
    "Assim, a estrutura básica seria:\n",
    "```\n",
    "def nome_funcao(arg_pos_s, arg_pos_c=0, *args, **kwargs):\n",
    "    pass\n",
    "```\n",
    "\n",
    "---\n",
    "**O MAIS IMPORTANTE É SABER QUE NÃO SE PODE MUDAR ORDEM DELES**\n",
    "\n",
    "---"
   ]
  },
  {
   "cell_type": "markdown",
   "metadata": {
    "id": "27P9LSli7Esu"
   },
   "source": [
    "##### Argumentos posicionais **sem** valor padrão\n",
    "\n",
    "Argumentos posicionais são os que podem receber parâmetros pela ordem declarada. Por exemplo:\n",
    "\n",
    "Considerando a função abaixo:\n",
    "```\n",
    "def funcao(a, b, c, d, e):\n",
    "    pass\n",
    "```\n",
    "\n",
    "Ao chamarmos a função com os seguintes valores:\n",
    "```\n",
    "funcao(1, 2, 3, 4, 5)\n",
    "```\n",
    "\n",
    "Automaticamente o python \"entende\" que:\n",
    "```\n",
    "a = 1\n",
    "b = 2\n",
    "c = 3\n",
    "d = 4\n",
    "e = 5\n",
    "```\n",
    "\n",
    "E isso acontece por conta da posição dos argumentos na definição.\n",
    "\n",
    "Quando colocamos argumentos **com** valores padrão, não podemos mais colocar variáveis sem valor padrão, pois isso confundiria o programa. Veja o exemplo:\n",
    "```python\n",
    "# Lembrando que a função abaixo é só para fins didáticos. Ela não roda.\n",
    "# Ela gera erro.\n",
    "def funcao(a, b=0, c):\n",
    "    pass\n",
    "```\n",
    "\n",
    "Como temos valor padrão para `b`, o programa \"aceitaria\" declararmos apenas 2 parâmetros, mas veja:\n",
    "\n",
    "`funcao(1, 2)`\n",
    "\n",
    "Se `b` **também** é posicional, ele deveria receber o 2° valor. Aí `c` ficaria sem valor."
   ]
  },
  {
   "cell_type": "markdown",
   "metadata": {
    "id": "M_fiIwvV7bvJ"
   },
   "source": [
    "##### Argumentos posicionais **com** valor padrão\n",
    "\n",
    "O nome já diz tudo, são argumentos que já são definidos com valores padrão. Podem também ser vários argumentos e quaisquer tipos de valores padrão.\n",
    "\n",
    "Veja os exemplos:\n",
    "\n",
    "```python\n",
    "def funcao(a=0):\n",
    "    pass\n",
    "```\n",
    "```python\n",
    "def funcao(a=10.0):\n",
    "    pass\n",
    "```\n",
    "```python\n",
    "def funcao(a=True):\n",
    "    pass\n",
    "```\n",
    "```python\n",
    "def funcao(a=\"Uma string\"):\n",
    "    pass\n",
    "```\n",
    "Podem ser vários seguidos:\n",
    "```python\n",
    "def funcao(a=0, b=10.0, c=True, d=\"String\"):\n",
    "    pass\n",
    "```\n",
    "E como falamos podem vir **após** os argumentos posicionais sem valor padrão:\n",
    "```python\n",
    "def funcao(x, y, z, a=0, b=10.0, c=True, d=\"String\"):\n",
    "    pass\n",
    "```"
   ]
  },
  {
   "cell_type": "markdown",
   "metadata": {
    "id": "MY6fD-w88Yjz"
   },
   "source": [
    "##### Argumentos \"empacotados\" `*args`\n",
    "\n",
    "Argumentos \"empacotados\" existem para que possamos passar **listas** E OUTROS OBJETOS SEM PALAVRAS-CHAVE como parâmetros para as funções e fazer com que o uso delas seja mais simples. Mas não se restringe a isso.\n",
    "\n",
    "Ao utilizar o `*` em frente ao nome do argumento, fazemos o python \"desempacotar\" (_unpack_) tudo que encontrar ali como valores. \n",
    "\n",
    "Pode ser, inclusive, uma forma para \"burlar\" a forma de passar argumentos SEM valor padrão **após** os COM valor, mas é mais utilizado para desempacotar listas e tuplas para dentro das funções.\n",
    "\n",
    "Vejamos o exemplo:"
   ]
  },
  {
   "cell_type": "markdown",
   "metadata": {
    "id": "0QnbRvlLAsEG"
   },
   "source": [
    "Já escrevemos uma função que imprime todos os elementos de uma lista, lembra?\n",
    "\n",
    "Ela se chamava `imprime_elem_lista()`\n",
    "\n",
    "Vamos lembrar como ela foi definida:\n",
    "```python\n",
    "def imprime_elem_lista(lista):\n",
    "    for elem in lista:\n",
    "        print(elem)\n",
    "```\n",
    "Vamos refazer uma lista e observar o resultado do seu uso:"
   ]
  },
  {
   "cell_type": "code",
   "execution_count": null,
   "metadata": {
    "id": "VX79ey6yBT-q"
   },
   "outputs": [],
   "source": [
    "lista = list(\"01234\")\n",
    "\n",
    "imprime_elem_lista(lista)"
   ]
  },
  {
   "cell_type": "markdown",
   "metadata": {
    "id": "FiUnnqsgCMPe"
   },
   "source": [
    "Agora vamos comparar com o que acontece se utilizarmos o `*` para \"desempacotar\" a lista na função `imprime_lista()`:"
   ]
  },
  {
   "cell_type": "code",
   "execution_count": null,
   "metadata": {
    "id": "8fua78PVAo9Y"
   },
   "outputs": [],
   "source": [
    "def imprime_lista(*lista):\n",
    "    for item in lista:\n",
    "        print(item)"
   ]
  },
  {
   "cell_type": "code",
   "execution_count": null,
   "metadata": {
    "id": "uuLJqX4fA9n0"
   },
   "outputs": [],
   "source": [
    "imprime_lista(lista)"
   ]
  },
  {
   "cell_type": "markdown",
   "metadata": {
    "id": "pfMfmR85Cfij"
   },
   "source": [
    "Parece que `imprime_lista()` imprimiu a própria lista ao invés de imprimir seus elementos um a um. Vamos tentar fazer um `print()` do objeto lista e observar o resultado para comparar:"
   ]
  },
  {
   "cell_type": "code",
   "execution_count": null,
   "metadata": {
    "id": "DDfS2REJCv_Z"
   },
   "outputs": [],
   "source": [
    "print(lista)"
   ]
  },
  {
   "cell_type": "markdown",
   "metadata": {
    "id": "ajgk-euaC8Qw"
   },
   "source": [
    "Enquanto a lista empacotada dentro da função tem **5 elementos**, ela desempacotada é apenas a própria lista. Então o único elemento que o `for` atribui a `item` é a lista **inteira**, o que faz o print imprimi-la como objeto."
   ]
  },
  {
   "cell_type": "markdown",
   "metadata": {
    "id": "oWaRONesDTre"
   },
   "source": [
    "##### Argumentos \"chaveados\" **kwargs\n",
    "\n",
    "Poderíamos chamar este argumento de \"palavra-chaveados\", pois é isso que o `kw` significa (_**K**ey**W**ord_), ou seja, argumentos a partir de palavras-chave.\n",
    "\n",
    "As palavras-chave nesse caso **NÃO** podem estar dentro de dicionários e sim simplesmente declaradas como nome de variaveis (desde que seus nomes não sejam iguais a outras variáveis posicionais definidas na função)."
   ]
  },
  {
   "cell_type": "code",
   "execution_count": null,
   "metadata": {
    "id": "D4hnIvV3D6NF"
   },
   "outputs": [],
   "source": [
    "def func(**kwargs):\n",
    "    for k,v in kwargs.items():\n",
    "        print(k,v)\n",
    "\n",
    "func(braco=2, perna=4)"
   ]
  },
  {
   "cell_type": "markdown",
   "metadata": {
    "id": "OYCIPzJzFAvF"
   },
   "source": [
    "\n",
    "\n",
    "```python\n",
    "dicionario = {\"braço\": 2,\n",
    "              \"perna\":2,\n",
    "              \"pescoço:\": 1}\n",
    "\n",
    "func(dicionario)\n",
    "```\n",
    "\n"
   ]
  },
  {
   "cell_type": "code",
   "execution_count": null,
   "metadata": {
    "id": "XwQwROFLES2Y"
   },
   "outputs": [],
   "source": [
    "# COPIE O CÓDIGO ACIMA NESTA CÉLULA E TESTE"
   ]
  },
  {
   "cell_type": "markdown",
   "metadata": {
    "id": "fyco2af0E6ES"
   },
   "source": [
    "`TypeError: func() takes 0 positional arguments but 1 was given`"
   ]
  },
  {
   "cell_type": "markdown",
   "metadata": {
    "id": "yEc5lY3SYfPd"
   },
   "source": [
    "### Retorno (ou não): `return`"
   ]
  },
  {
   "cell_type": "markdown",
   "metadata": {
    "id": "nRlBRu4mcMBj"
   },
   "source": [
    "As funções geralmente **fazem** alguma coisa ou **retornam** alguma coisa.\n",
    "\n",
    "Vejamos os exemplos de funções que fizemos agora mesmo. São funções que **fazem** coisas. No caso, elas exibem o conteúdo de listas ou de dicionários na tela.\n",
    "\n",
    "As funções podem fazer quaisquer coisas que você quiser. O limite é a imaginação e capacidade de programar.\n",
    "\n",
    "---\n",
    "**UM DICA:**\n",
    "\n",
    "As funções que **fazem** alguma coisa, GERALMENTE (não é sempre) aparecem ou são utilizadas no código de forma direta.\n",
    "\n",
    "As funções que **retornam** coisas, GERALMENTE são utilizadas como se fossem **objetos** ou **valores**.\n",
    "\n",
    "---\n",
    "\n",
    "Para **retornar** valores, utilizamos a palavra `return` antes do(s) valor(es) que queremos retornar.\n",
    "\n",
    "Vamos ver alguns exemplos para visualizar e entender melhor os últimos 3 parágrafos."
   ]
  },
  {
   "cell_type": "code",
   "execution_count": null,
   "metadata": {
    "id": "Xw7k1Ltc6tK9"
   },
   "outputs": [],
   "source": [
    "print(\"alguma coisa\") # é do tipo que FAZ coisas"
   ]
  },
  {
   "cell_type": "code",
   "execution_count": null,
   "metadata": {
    "id": "iiJSBGGM60wX"
   },
   "outputs": [],
   "source": [
    "nome = input(\"algo: \") # é do tipo que RETORNA coisas ou valores"
   ]
  },
  {
   "cell_type": "code",
   "execution_count": null,
   "metadata": {
    "id": "GgqF7XOSiHUd"
   },
   "outputs": [],
   "source": [
    "# Sabemos que o 'range()' cria iteráveis que podemos usar no 'for', mas ele cria\n",
    "# iteráveis com números inteiros.\n",
    "\n",
    "# Vamos criar uma função que gera um número 'float' a partir de um inteiro\n",
    "\n",
    "# primeiro uma função que só FAZ algo\n",
    "def float_do_inteiro(numero):\n",
    "    print(numero / 1.0)\n",
    "\n",
    "# E vamos utilizá-la para ver o resultado\n",
    "float_do_inteiro(10)"
   ]
  },
  {
   "cell_type": "code",
   "execution_count": null,
   "metadata": {
    "id": "dsZ9RSmo7pNx"
   },
   "outputs": [],
   "source": [
    "x = float_do_inteiro(10)\n",
    "print(f\"valor do 'xis': {x}\")"
   ]
  },
  {
   "cell_type": "code",
   "execution_count": null,
   "metadata": {
    "id": "MUbL93Fti3Kl"
   },
   "outputs": [],
   "source": [
    "# Apesar da função ter feito exatamente o que pedimos, era mais fácil usar a\n",
    "# função nativa do python pra converter o inteiro para float\n",
    "y = float(10)"
   ]
  },
  {
   "cell_type": "code",
   "execution_count": null,
   "metadata": {
    "id": "zfDV3wm-8DxZ"
   },
   "outputs": [],
   "source": [
    "x = float(10)\n",
    "print(f\"valor do 'xis': {x}\")"
   ]
  },
  {
   "cell_type": "code",
   "execution_count": null,
   "metadata": {
    "id": "-8zLs_AcjHdD"
   },
   "outputs": [],
   "source": [
    "# Mas vamos imaginar que vamos transformar 1 em 0.1, ou seja, 1 em 1 décimo\n",
    "\n",
    "# outra função que FAZ\n",
    "def converter_para_decimo(numero):\n",
    "    print(numero / 10.0)\n",
    "\n",
    "converter_para_decimo(1)"
   ]
  },
  {
   "cell_type": "code",
   "execution_count": null,
   "metadata": {
    "id": "qmgSNUatjs7r"
   },
   "outputs": [],
   "source": [
    "# Fez exatamente o que queríamos\n",
    "# Agora podemos utilizar essa função para receber uma variável e convertê-la em\n",
    "# décimos\n",
    "\n",
    "num_para_converter = 42\n",
    "\n",
    "converter_para_decimo(num_para_converter)"
   ]
  },
  {
   "cell_type": "code",
   "execution_count": null,
   "metadata": {
    "id": "woeuGq5IkKos"
   },
   "outputs": [],
   "source": [
    "# Mas se quisermos armazenar esse resultado, a função como está não vai\n",
    "# funcionar direito\n",
    "\n",
    "num_convertido = converter_para_decimo(num_para_converter)\n",
    "print(num_convertido)"
   ]
  },
  {
   "cell_type": "markdown",
   "metadata": {
    "id": "TBJFTjNSke63"
   },
   "source": [
    "Repare que ele imprime o número `4.2` e logo em seguida imprime `None`, ou seja, a variável `num_convertido` está vazia.\n",
    "\n",
    "Isso é porque a função não **retorna** nenhum **valor** para ser armazenado. Ela só **FAZ** imprimir o resultado.\n",
    "\n",
    "Para resolver, podemos inserir o `return` na função.\n",
    "\n",
    "**OUTRA OBSERVAÇÃO IMPORTANTE:**\n",
    "\n",
    "A função pode **fazer** E TAMBÉM **retornar**. Não precisa ser só do tipo que **faz** ou só do tipo que **retorna**.\n",
    "\n",
    "Vejamos o exemplo:"
   ]
  },
  {
   "cell_type": "code",
   "execution_count": null,
   "metadata": {
    "id": "fc6b95jPkeOT"
   },
   "outputs": [],
   "source": [
    "# Aqui vamos manter o print para mostrar como \n",
    "def converter_para_decimo(numero):\n",
    "    print(numero / 10.0)\n",
    "    return numero / 10.0\n",
    "\n",
    "num_convertido = converter_para_decimo(num_para_converter)\n",
    "print(num_convertido)"
   ]
  },
  {
   "cell_type": "markdown",
   "metadata": {
    "id": "qHEAG65tm1-o"
   },
   "source": [
    "NORMALMENTE encontraremos de forma mais comum uma função que **faz** OU que **retorna**, justamente para evitar que aconteçam coisas como imprimir duas vezes a mesma informação.\n",
    "\n",
    "Vejamos então como ficaria a função apenas retornando o valor:"
   ]
  },
  {
   "cell_type": "code",
   "execution_count": null,
   "metadata": {
    "id": "uoyn5rk2nRfP"
   },
   "outputs": [],
   "source": [
    "def converter_para_decimo(numero):\n",
    "    return numero / 10.0\n",
    "\n",
    "num_convertido = converter_para_decimo(num_para_converter)\n",
    "print(num_convertido)"
   ]
  },
  {
   "cell_type": "markdown",
   "metadata": {
    "id": "5vBovymznaWX"
   },
   "source": [
    "As funções podem retornar quaisquer tipos de objetos: `int`, `float`, `complex`, `tuple`, `list`, `dict`, `sets` e etc... Mas vamos ver alguns problemas que podemos encontar quando retornamos alguns tipos de objetos iteráveis.\n",
    "\n",
    "Lembram lá no começo do curso que demos o exemplo do cálculo do `mais_x` e do `menos_x` para a fórmula de Bhaskara?"
   ]
  },
  {
   "cell_type": "markdown",
   "metadata": {
    "id": "87abcBiEo2Df"
   },
   "source": [
    "```python\n",
    "# Existe o comentário de 1 linha.\n",
    "\n",
    "# Existem os comentários de mais linhas Em outras linguagens como o C++ existem\n",
    "# símbolos específicos para realizar comentários em mais linhas, mas no Python\n",
    "# não existe isso. Para cada linha de comentário é necessário uma cerquilha (#)\n",
    "# no início da linha.\n",
    "#\n",
    "# Agora um exemplo de função comentada, vamos simular que estamos calculando \n",
    "# a fórmula de Bhaskara utilizando Python\n",
    "\n",
    "# Para a função y = 4x2 - 5x + 1 temos que, no modelo ax2 + bx + c, os valores\n",
    "# seriam:\n",
    "a = 4\n",
    "b = -5\n",
    "c = 1\n",
    "\n",
    "print(\"Valor de a: \")\n",
    "print(a)\n",
    "print(\"Valor de b: \")\n",
    "print(b)\n",
    "print(\"Valor de c: \")\n",
    "print(c)\n",
    "\n",
    "# Assim primeiro podemos calcular o Delta\n",
    "delta = (b ** 2) - 4 * a * c\n",
    "print(\"Valor de Delta: \")\n",
    "print(delta)\n",
    "\n",
    "# Para o cálculo completo precisaremos fazer a raiz quadrada, assim importaremos\n",
    "# a biblioteca 'math' que nos ajuda a não precisar criar os métodos matemáticos\n",
    "# mais comuns\n",
    "import math\n",
    "\n",
    "# O próximo passo é então tirar a raiz quadrada do Delta\n",
    "raiz_de_delta = math.sqrt(delta)\n",
    "print(\"Valor da Raiz Quadrada de Delta: \")\n",
    "print(raiz_de_delta)\n",
    "\n",
    "# Relembrando a fórmula de Bhaskara:\n",
    "#\n",
    "# x = -b +ou- raiz_delta\n",
    "#     __________________\n",
    "#            2 * a\n",
    "#\n",
    "# Para facilitar vamos separar em duas equações para as duas respostas, que\n",
    "# fica assim:\n",
    "#\n",
    "# menos_x = -b - raiz_de_delta\n",
    "#           __________________\n",
    "#                 2 * a\n",
    "#\n",
    "# e...\n",
    "#\n",
    "# mais_x = -b + raiz_de_delta\n",
    "#          __________________\n",
    "#                 2 * a\n",
    "#\n",
    "# Isso tudo em Python fica assim:\n",
    "\n",
    "menos_x = (-b - raiz_de_delta) / (2 * a)\n",
    "\n",
    "mais_x = (-b + raiz_de_delta) / (2 * a)\n",
    "\n",
    "print(\"O valor de x1 é: \")\n",
    "print(menos_x)\n",
    "print(\"O valor de x2 é: \")\n",
    "print(mais_x)\n",
    "```"
   ]
  },
  {
   "cell_type": "markdown",
   "metadata": {
    "id": "vIladfeApo9X"
   },
   "source": [
    "## Passo-a-passo (exemplo de Bhaskara)"
   ]
  },
  {
   "cell_type": "markdown",
   "metadata": {
    "id": "Zim9zQfrpcQN"
   },
   "source": [
    "Vamos fazendo passo-a-passo:\n",
    "\n",
    "Primeiro precisamos criar o nome da função:\n",
    "\n",
    "```python\n",
    "# função que retorna mais_x e menos_x para uma equação de 2o.grau\n",
    "def bhaskara():\n",
    "    pass\n",
    "```"
   ]
  },
  {
   "cell_type": "markdown",
   "metadata": {
    "id": "CyFdA6xfqKgN"
   },
   "source": [
    "Vamos olhar a equação de 2o.grau novamente:\n",
    "\n",
    "$$ y = Ax^{2} + Bx + C $$\n",
    "\n",
    "Sabemos que a função tem que receber os valores de A, B e C da equação, mesmo que um deles seja `0`. Então vamos colocar A, B e C como argumentos da função:\n",
    "\n",
    "```python\n",
    "# função que retorna mais_x e menos_x para uma equação de 2o.grau\n",
    "def bhaskara(a, b, c):\n",
    "    pass\n",
    "```"
   ]
  },
  {
   "cell_type": "markdown",
   "metadata": {
    "id": "zcajDLnErJhe"
   },
   "source": [
    "Vamos agora retirar o `pass` e inserir os passos do cálculo:\n",
    "\n",
    "```python\n",
    "# função que retorna mais_x e menos_x para uma equação de 2o.grau\n",
    "def bhaskara(a, b, c):\n",
    "    # 1) calcular o Delta\n",
    "    delta = (b ** 2) - 4 * a * c\n",
    "    # 2) tirar a raiz quadrada do Delta\n",
    "    raiz_de_delta = delta ** (1/2)\n",
    "    # 3) calcular 'menos_x'\n",
    "    menos_x = (-b - raiz_de_delta) / (2 * a)\n",
    "    # 3) calcular 'mais_x'\n",
    "    mais_x = (-b + raiz_de_delta) / (2 * a)\n",
    "```"
   ]
  },
  {
   "cell_type": "markdown",
   "metadata": {
    "id": "URClbfUWs15y"
   },
   "source": [
    "Vamos testar numa célula de código pra ver se funciona:"
   ]
  },
  {
   "cell_type": "code",
   "execution_count": null,
   "metadata": {
    "id": "KrHXDFoIs75K"
   },
   "outputs": [],
   "source": [
    "# função que retorna mais_x e menos_x para uma equação de 2o.grau\n",
    "def bhaskara(a, b, c):\n",
    "    # 1) calcular o Delta\n",
    "    delta = (b ** 2) - 4 * a * c\n",
    "    # 2) tirar a raiz quadrada do Delta\n",
    "    raiz_de_delta = delta ** (1/2)\n",
    "    # 3) calcular 'menos_x'\n",
    "    menos_x = (-b - raiz_de_delta) / (2 * a)\n",
    "    # 3) calcular 'mais_x'\n",
    "    mais_x = (-b + raiz_de_delta) / (2 * a)\n",
    "\n",
    "# Testando com A=1, B=4 e C=1\n",
    "bhaskara(1, 4, 1)"
   ]
  },
  {
   "cell_type": "markdown",
   "metadata": {
    "id": "2IJTiFZ4scQt"
   },
   "source": [
    "O código ficou bem menor, né? Mas ainda não tá fazendo nada. **Nem imprime** os resultados **nem retorna**.\n",
    "\n",
    "Vamos primeiro fazer imprimir:"
   ]
  },
  {
   "cell_type": "code",
   "execution_count": null,
   "metadata": {
    "id": "EldPlZ29tM5f"
   },
   "outputs": [],
   "source": [
    "# função que retorna mais_x e menos_x para uma equação de 2o.grau\n",
    "def bhaskara(a, b, c):\n",
    "    # 1) calcular o Delta\n",
    "    delta = (b ** 2) - 4 * a * c\n",
    "    # 2) tirar a raiz quadrada do Delta\n",
    "    raiz_de_delta = delta ** (1/2)\n",
    "    # 3) calcular 'menos_x'\n",
    "    menos_x = (-b - raiz_de_delta) / (2 * a)\n",
    "    # 3) calcular 'mais_x'\n",
    "    mais_x = (-b + raiz_de_delta) / (2 * a)\n",
    " \n",
    "    print(\"O valor de x1 é: \")\n",
    "    print(menos_x)\n",
    "    print(\"O valor de x2 é: \")\n",
    "    print(mais_x)\n",
    "\n",
    "# Testando com A=1, B=4 e C=1\n",
    "bhaskara(1, 4, 1)"
   ]
  },
  {
   "cell_type": "markdown",
   "metadata": {
    "id": "vpaJGCojt2f6"
   },
   "source": [
    "Funcionou bem! Agora vamos melhorar visualmente esses valores impressos."
   ]
  },
  {
   "cell_type": "code",
   "execution_count": null,
   "metadata": {
    "id": "7f0xROcEt-Gq"
   },
   "outputs": [],
   "source": [
    "# função que retorna mais_x e menos_x para uma equação de 2o.grau\n",
    "def bhaskara(a, b, c):\n",
    "    # 1) calcular o Delta\n",
    "    delta = (b ** 2) - 4 * a * c\n",
    "    # 2) tirar a raiz quadrada do Delta\n",
    "    raiz_de_delta = delta ** (1/2)\n",
    "    # 3) calcular 'menos_x'\n",
    "    menos_x = (-b - raiz_de_delta) / (2 * a)\n",
    "    # 3) calcular 'mais_x'\n",
    "    mais_x = (-b + raiz_de_delta) / (2 * a)\n",
    "    print(\"Tomando os valores:\")\n",
    "    print(f\"a = {a}\")\n",
    "    print(f\"b = {b}\")\n",
    "    print(f\"c = {c}\")\n",
    "    print(f\"Temos delta de:  {delta}\")\n",
    "    # print(\"O valor de x1 é:\", round(menos_x, 2))\n",
    "    # print(\"O valor de x2 é:\", round(mais_x, 2))\n",
    "    print(\"O valor de x1 é:\", menos_x)\n",
    "    print(\"O valor de x2 é:\", mais_x)\n",
    "    \n",
    "\n",
    "# Testando com A=1, B=4 e C=1\n",
    "bhaskara(1, 4, 1)"
   ]
  },
  {
   "cell_type": "markdown",
   "metadata": {
    "id": "eJmvndxsRAH0"
   },
   "source": [
    "Se utilizarmos certos valores, mais_x e menos_x resultarão em números complexos. Assim precisaríamos ajustar um pouco mais nossa função para evitar retornar erros.\n",
    "\n",
    "Teste os seguintes valores para ver o erro:\n",
    "A = 5, B = 4 e C = 3"
   ]
  },
  {
   "cell_type": "markdown",
   "metadata": {
    "id": "jos8O9kORU2n"
   },
   "source": [
    "Mas vamos seguir com ela desta forma e alterá-la agora para **retornar** os valores ao invés de **imprimir** na tela."
   ]
  },
  {
   "cell_type": "code",
   "execution_count": null,
   "metadata": {
    "id": "1xIteXIx_ZVX"
   },
   "outputs": [],
   "source": [
    "bhaskara(5, 4, 3)"
   ]
  },
  {
   "cell_type": "code",
   "execution_count": null,
   "metadata": {
    "id": "8lTb9_NMQ_C8"
   },
   "outputs": [],
   "source": [
    "# função que retorna mais_x e menos_x para uma equação de 2o.grau\n",
    "def bhaskara(a, b, c):\n",
    "    # 1) calcular o Delta\n",
    "    delta = (b ** 2) - 4 * a * c\n",
    "    # 2) tirar a raiz quadrada do Delta\n",
    "    raiz_de_delta = delta ** (1/2)\n",
    "    # 3) calcular 'menos_x'\n",
    "    menos_x = (-b - raiz_de_delta) / (2 * a)\n",
    "    # 3) calcular 'mais_x'\n",
    "    mais_x = (-b + raiz_de_delta) / (2 * a)\n",
    "    \n",
    "    return menos_x, mais_x\n",
    "\n",
    "# Testando com A=1, B=4 e C=1\n",
    "resposta = bhaskara(1, 4, 1)"
   ]
  },
  {
   "cell_type": "markdown",
   "metadata": {
    "id": "VzzNGcESRpFb"
   },
   "source": [
    "Como a função não imprime nada, a resposta ficou apenas na variável na qual armazenamos. Para saber seu valor, vamos imprimi-la."
   ]
  },
  {
   "cell_type": "code",
   "execution_count": null,
   "metadata": {
    "id": "odVHCteSRozw"
   },
   "outputs": [],
   "source": [
    "print(resposta)"
   ]
  },
  {
   "cell_type": "markdown",
   "metadata": {
    "id": "pBUJeRU6Pzro"
   },
   "source": [
    "Como se trata de uma tupla (`tuple`), podemos fazer o chamado desempacotamento (_unpacking_) dos valores. Ou seja:"
   ]
  },
  {
   "cell_type": "code",
   "execution_count": null,
   "metadata": {
    "id": "WXPpu6-VSc5D"
   },
   "outputs": [],
   "source": [
    "x_1, x_2 = bhaskara(1, 4, 1)\n",
    "print(x_1)\n",
    "print(x_2)"
   ]
  },
  {
   "cell_type": "markdown",
   "metadata": {
    "id": "zV5QQtNYSlaH"
   },
   "source": [
    "O desempacotamento permite retirar os valores das tuplas de forma direta.\n",
    "\n",
    "Para isso é preciso que a função que nós criamos esteja bem documentada para que o usuário saiba exatamente o que é cada parte do retorno.\n",
    "\n",
    "Na função colocamos apenas o retorno de mais_x e menos_x, mas poderíamos colocar outros valores.\n",
    "\n",
    "Podemos também retornar em forma de dicionário, por exemplo:"
   ]
  },
  {
   "cell_type": "code",
   "execution_count": null,
   "metadata": {
    "id": "Ha3OK55QS_9z"
   },
   "outputs": [],
   "source": [
    "# função que retorna mais_x e menos_x para uma equação de 2o.grau\n",
    "def bhaskara(a, b, c):\n",
    "    # 1) calcular o Delta\n",
    "    delta = (b ** 2) - 4 * a * c\n",
    "    # 2) tirar a raiz quadrada do Delta\n",
    "    raiz_de_delta = delta ** (1/2)\n",
    "    # 3) calcular 'menos_x'\n",
    "    menos_x = (-b - raiz_de_delta) / (2 * a)\n",
    "    # 3) calcular 'mais_x'\n",
    "    mais_x = (-b + raiz_de_delta) / (2 * a)\n",
    "    \n",
    "    resposta = {\"a\": a,\n",
    "                \"b\": b,\n",
    "                \"c\": c,\n",
    "                \"x1\": menos_x,\n",
    "                \"x2\": mais_x,\n",
    "                \"delta\": delta,\n",
    "                \"raiz de delta\": raiz_de_delta}\n",
    "\n",
    "    return resposta\n",
    "\n",
    "# Testando com A=1, B=4 e C=1\n",
    "resposta = bhaskara(1, 4, 1)\n",
    "print(resposta)"
   ]
  },
  {
   "cell_type": "code",
   "execution_count": null,
   "metadata": {
    "id": "T0jqMFYDTZmm"
   },
   "outputs": [],
   "source": [
    "# Podemos usar a função de imprimir dicionário que criamos:\n",
    "imprime_chave_valor(resposta)"
   ]
  },
  {
   "cell_type": "markdown",
   "metadata": {
    "id": "F1xgmntDYjPd"
   },
   "source": [
    "### Produto `yield`"
   ]
  },
  {
   "cell_type": "markdown",
   "metadata": {
    "id": "-jUw-8zKnYiv"
   },
   "source": [
    "Agora vamos pensar em funções que criam valores em sequência, mas do tipo que usaríamos apenas 1 por vez.\n",
    "\n",
    "Como vimos anteriormente, o `return` consegue retornar objetos como listas, tuplas e mesmo dicionários, mas mesmo assim, utilizando o `return` teríamos os valores todos de uma vez só.\n",
    "\n",
    "É aí que entra o `yield`.\n",
    "\n",
    "O `yield` funciona como se fosse uma mistura do `return` com o `for`, por exemplo.\n",
    "\n",
    "Parece estranho e confuso, mas vamos tentar criar um gerador de números decimais com o `return` e depois tentar criar um com o `yield` para tentarmos enxergar a diferença de um jeito melhor."
   ]
  },
  {
   "cell_type": "markdown",
   "metadata": {
    "id": "vYbbYt4OVuJE"
   },
   "source": [
    "Vamos imaginar que queremos criar uma função que entre no lugar da `range()` num `for` que precisamos criar.\n",
    "\n",
    "Apesar de ser muito versátil (ou seja, poder ser utilizada de várias formas), a função `range()` só gera números inteiros."
   ]
  },
  {
   "cell_type": "code",
   "execution_count": null,
   "metadata": {
    "id": "DWV2_c-kVtVJ"
   },
   "outputs": [],
   "source": [
    "for num in range(5):\n",
    "    print(num)"
   ]
  },
  {
   "cell_type": "markdown",
   "metadata": {
    "id": "s4YvPl0uWL5y"
   },
   "source": [
    "Mas e se quiséssemos imprimir a sequência abaixo?\n",
    "```python\n",
    "0.1\n",
    "0.2\n",
    "0.3\n",
    "0.4\n",
    "0.5\n",
    "```"
   ]
  },
  {
   "cell_type": "code",
   "execution_count": null,
   "metadata": {
    "id": "VTSosu4cWKCS"
   },
   "outputs": [],
   "source": [
    "# Esse código aqui funciona...\n",
    "for num in range(1, 6):\n",
    "    print(num/10.0)"
   ]
  },
  {
   "cell_type": "markdown",
   "metadata": {
    "id": "giBDh5DiWn89"
   },
   "source": [
    "Mas se eu quisesse variar de `0.2` em `0.2` ou começar de outro número sem ser `0.1` já começaria a ficar complicado.\n",
    "\n",
    "Vamos tentar então criar essa função pra substituir o `range()`."
   ]
  },
  {
   "cell_type": "code",
   "execution_count": null,
   "metadata": {
    "id": "5ySOMiYMXBtU"
   },
   "outputs": [],
   "source": [
    "# vamos chamá-la de dec_range, que vem de DECimal RANGE\n",
    "def dec_range():\n",
    "    pass"
   ]
  },
  {
   "cell_type": "code",
   "execution_count": null,
   "metadata": {
    "id": "mKwJnXIRXMdS"
   },
   "outputs": [],
   "source": [
    "# agora vamos pensar o que seria legal ter de opção BASEADO NO RANGE\n",
    "\n",
    "# Início, certo?\n",
    "# Final, certo?\n",
    "# e o incremento, ou passo, certo? Igual ao 'range()'. Vamos lá\n",
    "def dec_range(inicio, final, passo):\n",
    "    pass"
   ]
  },
  {
   "cell_type": "markdown",
   "metadata": {
    "id": "-xEMireiwbOu"
   },
   "source": [
    "```python\n",
    "# A função range, se informado apenas 1 valor, ele assume o valor de stop, né?\n",
    "# Isso também significa que com 1 valor apenas, o início é sempre 0\n",
    "# E isso também significa que com 1 valor apenas ele só 'avança' de 1 em 1\n",
    "# então o passo é igual a 1\n",
    "\n",
    "# No nosso caso o início também será 0 e o passo 'padrão' será 0.1\n",
    "def dec_range(inicio=0, final, passo=1):\n",
    "    pass\n",
    "```"
   ]
  },
  {
   "cell_type": "code",
   "execution_count": null,
   "metadata": {
    "id": "qKaEFAGIXlc3"
   },
   "outputs": [],
   "source": [
    "# COPIE O CÓDIGO ACIMA E COLE NESTA CÉLULA PARA TESTAR"
   ]
  },
  {
   "cell_type": "markdown",
   "metadata": {
    "id": "VqZj7pozwf8-"
   },
   "source": [
    "`SyntaxError: non-default argument follows default argument`"
   ]
  },
  {
   "cell_type": "markdown",
   "metadata": {
    "id": "0eb-HaAnbQkT"
   },
   "source": [
    "Mas se testarmos com o código acima veremos que o mesmo retorna um erro, pois com apenas 1 argumento, nessa construção, o python acha que está sendo informado o início e faltando final.\n",
    "```error\n",
    "  File \"<ipython-input-69-312e3fb402fb>\", line 7\n",
    "    def dec_range(inicio=0, final, passo=1):\n",
    "                 ^\n",
    "SyntaxError: non-default argument follows default argument\n",
    "```\n",
    "\n",
    "```python\n",
    "dec_range(2)\n",
    "```"
   ]
  },
  {
   "cell_type": "markdown",
   "metadata": {
    "id": "BahyGHG85Wwm"
   },
   "source": [
    "#### Relembrando argumentos\n",
    "\n",
    "descrição | exemplo\n",
    "--:|---\n",
    "argumentos posicionais **sem** valores padrão: | `arg_pos_s`\n",
    "argumentos posicionais **com** valores padrão: | `arg_pos_c`\n",
    "argumentos \"empacotados\" (listas, tuplas): | `args`\n",
    "argumentos \"chaveados\" (dicionários): | `kwargs`\n",
    "\n",
    "Assim, a estrutura básica seria:\n",
    "```\n",
    "def nome_funcao(arg_pos_s, arg_pos_c=0, *args, **kwargs):\n",
    "    pass\n",
    "```"
   ]
  },
  {
   "cell_type": "markdown",
   "metadata": {
    "id": "PV3rW5WPHQFi"
   },
   "source": [
    "Como a **ordem** dos argumentos varia, vemos aqui a necessidade de utilizarmos o **`*args`** e o **`*kwargs`** (esse último para uma configuração da função).\n",
    "\n",
    "Assim, vamos criar nossa função de forma que ela \"peça\" apenas `*args`.\n",
    "\n",
    "```python\n",
    "def nome_funcao(*args):\n",
    "    pass\n",
    "```"
   ]
  },
  {
   "cell_type": "markdown",
   "metadata": {
    "id": "m6_ZaTSTH3sK"
   },
   "source": [
    "Vamos delimitar então uma estrutura de condições para 1, 2 e 3 parâmetros:\n",
    "\n",
    "```python\n",
    "def nome_funcao(*args):\n",
    "    # se tiver os 3 parâmetros\n",
    "        # o primeiro será 'início'\n",
    "        # o segundo será 'final'\n",
    "        # o terceiro será 'passo'\n",
    "    # se tiver 2 parâmetros\n",
    "        # o primeiro será 'início'\n",
    "        # o segundo será 'final'\n",
    "        # e o 'passo' será o valor padrão de '0.1'\n",
    "    # se tiver 1 parâmetro apenas\n",
    "        # o 'início' recebe o valor padrão de '0'\n",
    "        # o PRIMEIRO E ÚNICO VALOR será o valor de 'final'\n",
    "        # e o 'passo' será o valor padrão de '0.1'\n",
    "    pass\n",
    "```"
   ]
  },
  {
   "cell_type": "markdown",
   "metadata": {
    "id": "X5-AImfWIt9x"
   },
   "source": [
    "Transformando o pseudo-código acima em código Python 3.x, temos:\n",
    "```python\n",
    "def dec_range(*args):\n",
    "    if len(args) > 2:\n",
    "        inicio = args[0]\n",
    "        final  = args[1]\n",
    "        passo  = args[2]\n",
    "    elif len(args) > 1:\n",
    "        inicio = args[0]\n",
    "        final  = args[1]\n",
    "        passo  = 0.1\n",
    "    elif len(args) > 0:\n",
    "        inicio = 0\n",
    "        final  = args[0]\n",
    "        passo  = 0.1\n",
    "    else:\n",
    "        inicio = 0\n",
    "        final  = 0\n",
    "        passo  = 0.1\n",
    "\n",
    "    pass\n",
    "```"
   ]
  },
  {
   "cell_type": "markdown",
   "metadata": {
    "id": "9GcyjNpOLXrX"
   },
   "source": [
    "Mas ainda nossa função não **faz** nem **retorna** nada ainda. Mas antes de irmos pra isso, vamos \"ensinar\" os usuários a forma de utilizar nossa função. Para isso utilizaremos o \"docstring\" que é a string multilinhas no começo da nossa função.\n",
    "\n",
    "Inserimos uma descrição do que faz a função, depois podemos inserir a sintaxe, para que o usuário consiga visualizar onde colocar os parâmetros e podemos inserir também alguns exemplos.\n",
    "\n",
    "```python\n",
    "def dec_range(*args):\n",
    "    \"\"\"\n",
    "    RETORNA valores 'float',\n",
    "    indo de '0' [ou do valor de 'inicio']\n",
    "    até o valor especificado como 'final'\n",
    "    com o passo de '0.1' [ou com o valor de 'passo']\n",
    "\n",
    "    Sintaxe:\n",
    "    dec_range(final)\n",
    "    dec_range(inicio, final)\n",
    "    dec_range(inicio, final, passo)\n",
    "    \n",
    "    Exemplos:\n",
    "    >>> list(dec_range(0.5))\n",
    "    [0.0, 0.1, 0.2, 0.3, 0.4]\n",
    "    >>> list(dec_range(0.5, 1))\n",
    "    [0.5, 0.6, 0.7, 0.8, 0.9]\n",
    "    >>> list(dec_range(0, 1, 0.2))\n",
    "    [0.0, 0.2, 0.4, 0.6, 0.8]\n",
    "    \"\"\"\n",
    "\n",
    "    if len(args) > 2:\n",
    "        inicio = args[0]\n",
    "        final  = args[1]\n",
    "        passo  = args[2]\n",
    "    elif len(args) > 1:\n",
    "        inicio = args[0]\n",
    "        final  = args[1]\n",
    "        passo  = 0.1\n",
    "    elif len(args) > 0:\n",
    "        inicio = 0\n",
    "        final  = args[0]\n",
    "        passo  = 0.1\n",
    "    else:\n",
    "        inicio = 0\n",
    "        final  = 0\n",
    "        passo  = 0.1\n",
    "\n",
    "    pass\n",
    "```"
   ]
  },
  {
   "cell_type": "markdown",
   "metadata": {
    "id": "K52A3sKrOjHd"
   },
   "source": [
    "Vamos separar rapidamente o código para entendermos o que fizemos até agora:\n",
    "\n",
    "Primeiro, definimos a função e os parâmetros:\n",
    "```python\n",
    "def dec_range(*args):\n",
    "```\n",
    "Em seguida, descrevemos sua função/utilidade, incluimos a sintaxe de uso e exemplos com retornos\n",
    "```python\n",
    "    \"\"\"\n",
    "    RETORNA valores 'float',\n",
    "    indo de '0' [ou do valor de 'inicio']\n",
    "    até o valor especificado como 'final'\n",
    "    com o passo de '0.1' [ou com o valor de 'passo']\n",
    "\n",
    "    Sintaxe:\n",
    "    dec_range(final)\n",
    "    dec_range(inicio, final)\n",
    "    dec_range(inicio, final, passo)\n",
    "    \n",
    "    Exemplos:\n",
    "    >>> list(dec_range(0.5))\n",
    "    [0.0, 0.1, 0.2, 0.3, 0.4]\n",
    "    >>> list(dec_range(0.5, 1))\n",
    "    [0.5, 0.6, 0.7, 0.8, 0.9]\n",
    "    >>> list(dec_range(0, 1, 0.2))\n",
    "    [0.0, 0.2, 0.4, 0.6, 0.8]\n",
    "    \"\"\"\n",
    "```\n",
    "Depois, fazemos as atribuições dos valores passados conforme a quantidade de argumentos/parâmetros a receber:\n",
    "```python\n",
    "    if len(args) > 2:\n",
    "        inicio = args[0]\n",
    "        final  = args[1]\n",
    "        passo  = args[2]\n",
    "    elif len(args) > 1:\n",
    "        inicio = args[0]\n",
    "        final  = args[1]\n",
    "        passo  = 0.1\n",
    "    elif len(args) > 0:\n",
    "        inicio = 0\n",
    "        final  = args[0]\n",
    "        passo  = 0.1\n",
    "    else:\n",
    "        inicio = 0\n",
    "        final  = 0\n",
    "        passo  = 0.1\n",
    "```\n",
    "Agora falta trocar o `pass` pelo que o programa vai retornar.\n",
    "```python\n",
    "    pass\n",
    "```"
   ]
  },
  {
   "cell_type": "markdown",
   "metadata": {
    "id": "A_gSerLGPmwL"
   },
   "source": [
    "Vamos focar rapidamente nos cálculos e depois voltamos nossa atenção aos retornos.\n",
    "\n",
    "Para funcionar, primeiro nosso programa tem que saber quantos valores ele vai gerar, certo? Por exemplo, de `0` a `1` com passo de `0.1` ele deve rodar 10 vezes, ou seja, tem que gerar 10 valores: `0.0, 0.1, 0.2, 0.3, 0.4, 0.5, 0.6, 0.7, 0.8 e 0.9` (lembrando que, igual à função `range()` estamos \"tirando\" o número indicado como **final** do retorno.\n",
    "\n",
    "Então o que queremos é:\n",
    "\n",
    "$$ vezes = \\frac{final - inicial}{passo} $$\n",
    "\n",
    "Neste caso:\n",
    "\n",
    "$$ vezes = \\frac{1 - 0}{0.1} = 10 $$\n",
    "\n",
    "Em código, isso ficaria:\n",
    "```python\n",
    "vezes = (final - inicio) / passo\n",
    "```\n",
    "\n",
    "Então, para fazermos o cálculo 10 vezes, podemos recorrer ao `range()`, assim teríamos:\n",
    "\n",
    "```python\n",
    "for i in range(vezes):\n",
    "    pass\n",
    "         \n",
    "```\n",
    "O cálculo seria, cada vez que rodar, a função retornar o valor inicial (no caso `0`) adicionado do passo (no caso `0.1`) durante `10` vezes. Por exemplo:\n",
    "```python\n",
    "for i in range(vezes):\n",
    "    valor_a_retornar = inicio + (passo * i)\n",
    "    print(valor_a_retornar)\n",
    "```\n",
    "Vamos testar?"
   ]
  },
  {
   "cell_type": "code",
   "execution_count": null,
   "metadata": {
    "id": "ZHnhFLfgTvaG"
   },
   "outputs": [],
   "source": [
    "inicio = 0\n",
    "final = 1\n",
    "passo = 0.1\n",
    "\n",
    "vezes = (final - inicio) / passo\n",
    "vezes = int(vezes)\n",
    "\n",
    "for i in range(vezes):\n",
    "    valor_a_retornar = inicio + (passo * i)\n",
    "    print(round(valor_a_retornar, 1))\n"
   ]
  },
  {
   "cell_type": "markdown",
   "metadata": {
    "id": "pcWHBokWUPcX"
   },
   "source": [
    "Então vamos criar uma função de teste para ver se com o `return` conseguimos fazer parecido:"
   ]
  },
  {
   "cell_type": "code",
   "execution_count": null,
   "metadata": {
    "id": "DWPjqJXHVHE-"
   },
   "outputs": [],
   "source": [
    "# Criando a função de teste\n",
    "def funcao_teste():\n",
    "    inicio = 0\n",
    "    final = 1\n",
    "    passo = 0.1\n",
    "\n",
    "    vezes = (final - inicio) / passo\n",
    "    vezes = int(vezes)\n",
    "\n",
    "    for i in range(vezes):\n",
    "        valor_a_retornar = inicio + (passo * i)\n",
    "        return round(valor_a_retornar, 1)\n",
    "\n",
    "# Chamando a função de teste\n",
    "funcao_teste()"
   ]
  },
  {
   "cell_type": "markdown",
   "metadata": {
    "id": "ZgFqf5CJVYal"
   },
   "source": [
    "Percebe que ela só retorna o valor `0.0` ? Isso acontece porque quando o python encontra a palavra `return` dentro de uma função, ela faz a função retornar aquele valor e parar a função.\n",
    "\n",
    "Para que a função funcione da forma como queremos utilizamos a palavra `yield` que funciona como se fosse um `return`, mas ela só para quando a sua função \"terminar\".\n",
    "\n",
    "Vamos testar o `yield` com a função de teste:"
   ]
  },
  {
   "cell_type": "code",
   "execution_count": null,
   "metadata": {
    "id": "s5poIAVQV7dW"
   },
   "outputs": [],
   "source": [
    "# Criando a função de teste\n",
    "def funcao_teste():\n",
    "    inicio = 0\n",
    "    final = 1\n",
    "    passo = 0.1\n",
    "\n",
    "    vezes = (final - inicio) / passo\n",
    "    vezes = int(vezes)\n",
    "\n",
    "    for i in range(vezes):\n",
    "        valor_a_retornar = inicio + (passo * i)\n",
    "        yield round(valor_a_retornar, 1)\n",
    "\n",
    "# Chamando a função de teste\n",
    "funcao_teste()"
   ]
  },
  {
   "cell_type": "markdown",
   "metadata": {
    "id": "rIAPvBeJWG42"
   },
   "source": [
    "Perceba que ela retornou um **objeto** do tipo **\"generator\"**. Isso significa que ele está gerando valores.\n",
    "\n",
    "Vamos testar \"capturar\" esses valores em uma lista e ver se funciona:"
   ]
  },
  {
   "cell_type": "code",
   "execution_count": null,
   "metadata": {
    "id": "RnCge_UvWXjB"
   },
   "outputs": [],
   "source": [
    "list(funcao_teste())"
   ]
  },
  {
   "cell_type": "code",
   "execution_count": null,
   "metadata": {
    "id": "EKLeGw2E2R2C"
   },
   "outputs": [],
   "source": [
    "for num in funcao_teste():\n",
    "    print(num)"
   ]
  },
  {
   "cell_type": "markdown",
   "metadata": {
    "id": "fddVgAuwWa40"
   },
   "source": [
    "Funciona perfeitamente! Então agora o que precisamos fazer é aplicar tudo isso à nossa função original:\n",
    "\n",
    "No lugar do:\n",
    "```python\n",
    "    pass\n",
    "```\n",
    "\n",
    "Vamos colocar primeiro o cálculo que criamos para definir o número de `vezes` que o código vai rodar (ou seja, a quantidade de valores que ele vai gerar):\n",
    "```python\n",
    "vezes = (final - inicio) / passo\n",
    "\n",
    "for i in range(vezes):\n",
    "    valor_a_retornar = inicio + (passo * i)\n",
    "    yield valor_a_retornar\n",
    "```"
   ]
  },
  {
   "cell_type": "markdown",
   "metadata": {
    "id": "8KDB30mKXo4c"
   },
   "source": [
    "Vamos ver o código completo da nossa função abaixo e em seguida, testá-lo:\n",
    "\n",
    "```python\n",
    "def dec_range(*args):\n",
    "    \"\"\"\n",
    "    RETORNA valores 'float',\n",
    "    indo de '0' [ou do valor de 'inicio']\n",
    "    até o valor especificado como 'final'\n",
    "    com o passo de '0.1' [ou com o valor de 'passo']\n",
    "\n",
    "    Sintaxe:\n",
    "    dec_range(final)\n",
    "    dec_range(inicio, final)\n",
    "    dec_range(inicio, final, passo)\n",
    "    \n",
    "    Exemplos:\n",
    "    >>> list(dec_range(0.5))\n",
    "    [0.0, 0.1, 0.2, 0.3, 0.4]\n",
    "    >>> list(dec_range(0.5, 1))\n",
    "    [0.5, 0.6, 0.7, 0.8, 0.9]\n",
    "    >>> list(dec_range(0, 1, 0.2))\n",
    "    [0.0, 0.2, 0.4, 0.6, 0.8]\n",
    "    \"\"\"\n",
    "\n",
    "    if len(args) > 2:\n",
    "        inicio = args[0]\n",
    "        final  = args[1]\n",
    "        passo  = args[2]\n",
    "    elif len(args) > 1:\n",
    "        inicio = args[0]\n",
    "        final  = args[1]\n",
    "        passo  = 0.1\n",
    "    elif len(args) > 0:\n",
    "        inicio = 0\n",
    "        final  = args[0]\n",
    "        passo  = 0.1\n",
    "    else:\n",
    "        inicio = 0\n",
    "        final  = 0\n",
    "        passo  = 0.1\n",
    "\n",
    "    vezes = (final - inicio) / passo\n",
    "    vezes = int(vezes)\n",
    " \n",
    "    for i in range(vezes): # lembrando que 'vezes' tem que ser inteiro\n",
    "        valor_a_retornar = inicio + (passo * i)\n",
    "        yield valor_a_retornar\n",
    "```"
   ]
  },
  {
   "cell_type": "code",
   "execution_count": null,
   "metadata": {
    "id": "mjAChqahX5QD"
   },
   "outputs": [],
   "source": [
    "def dec_range(*args):\n",
    "    \"\"\"\n",
    "    RETORNA valores 'float',\n",
    "    indo de '0' [ou do valor de 'inicio']\n",
    "    até o valor especificado como 'final'\n",
    "    com o passo de '0.1' [ou com o valor de 'passo']\n",
    "\n",
    "    Sintaxe:\n",
    "    dec_range(final)\n",
    "    dec_range(inicio, final)\n",
    "    dec_range(inicio, final, passo)\n",
    "    \n",
    "    Exemplos:\n",
    "    >>> list(dec_range(0.5))\n",
    "    [0.0, 0.1, 0.2, 0.3, 0.4]\n",
    "    >>> list(dec_range(0.5, 1))\n",
    "    [0.5, 0.6, 0.7, 0.8, 0.9]\n",
    "    >>> list(dec_range(0, 1, 0.2))\n",
    "    [0.0, 0.2, 0.4, 0.6, 0.8]\n",
    "    \"\"\"\n",
    "\n",
    "    if len(args) > 2:\n",
    "        inicio = args[0]\n",
    "        final  = args[1]\n",
    "        passo  = args[2]\n",
    "    elif len(args) > 1:\n",
    "        inicio = args[0]\n",
    "        final  = args[1]\n",
    "        passo  = 0.1\n",
    "    elif len(args) > 0:\n",
    "        inicio = 0\n",
    "        final  = args[0]\n",
    "        passo  = 0.1\n",
    "    else:\n",
    "        inicio = 0\n",
    "        final  = 0\n",
    "        passo  = 0.1\n",
    "\n",
    "    vezes = (final - inicio) / passo\n",
    "    vezes = int(vezes)\n",
    " \n",
    "    for i in range(int(vezes)):\n",
    "        valor_a_retornar = inicio + (passo * i)\n",
    "        yield valor_a_retornar"
   ]
  },
  {
   "cell_type": "code",
   "execution_count": null,
   "metadata": {
    "id": "6CLUdTCU3eDm"
   },
   "outputs": [],
   "source": [
    "dec_range()"
   ]
  },
  {
   "cell_type": "code",
   "execution_count": null,
   "metadata": {
    "id": "O9bRrnbuX7Fo"
   },
   "outputs": [],
   "source": [
    "list(dec_range(0,1,0.1))"
   ]
  },
  {
   "cell_type": "markdown",
   "metadata": {
    "id": "kgCwy6AfYrbt"
   },
   "source": [
    "Veja que alguns números aparecem estranhos:\n",
    "\n",
    "```\n",
    "[0.0,\n",
    " 0.1,\n",
    " 0.2,\n",
    " 0.30000000000000004,\n",
    " 0.4,\n",
    " 0.5,\n",
    " 0.6000000000000001,\n",
    " 0.7000000000000001,\n",
    " 0.8,\n",
    " 0.9]\n",
    "```"
   ]
  },
  {
   "cell_type": "markdown",
   "metadata": {
    "id": "Wwcm0pwPxEAw"
   },
   "source": [
    "Vamos corrigir isso inserindo um arredondamento padrão, mas dando a oportunidade de arredondamento customizável. Para isso vamos utilizar a função `round()` na variável de saída `valor_a_retornar` e o __`**kwargs`__ para possibilitar a customização.\n",
    "\n",
    "Assim, a linha de definição mudará de:\n",
    "```python\n",
    "def dec_range(*args):\n",
    "```\n",
    "Para:\n",
    "```python\n",
    "def dec_range(*args, **kwargs):\n",
    "```\n",
    "\n",
    "Antes da saída incluiremos a instrução no **docstring**:\n",
    "```python\n",
    "\"\"\"\n",
    "    Sintaxe:\n",
    "    dec_range(final, [arredondamento=1])\n",
    "    dec_range(inicio, final, [arredondamento=1])\n",
    "    dec_range(inicio, final, passo, [arredondamento=1])\n",
    "\"\"\"\n",
    "```\n",
    "O valor entre colchetes `[]` indica na docstring que a inclusão desse parâmetro é **opcional**, ou seja, se não informar, será 1 casa decimal.\n",
    "\n",
    "Lembrando que o help do `round()` traz:\n",
    "```\n",
    "round(number, ndigits=None)\n",
    "    Round a number to a given precision in decimal digits.\n",
    "\n",
    "    The return value is an integer if ndigits is omitted or None.  Otherwise\n",
    "    the return value has the same type as the number.  ndigits may be negative.\n",
    "```\n",
    "\n",
    "E agora inserimos o código que permite nossa configuração:\n",
    "```python\n",
    "    if \"arredondamento\" in kwargs:\n",
    "        arredondamento = kwargs[\"arredondamento\"]\n",
    "    else:\n",
    "        arredondamento = 1\n",
    "```\n",
    "E adicionamos o `round()` para a arredondar o valor que era:\n",
    "```python\n",
    "yield valor_a_retornar\n",
    "```\n",
    "Agora fica:\n",
    "```python\n",
    "    yield round(valor_a_retornar, arredondamento)\n",
    "```\n",
    "\n",
    "E vamos testar novamente:"
   ]
  },
  {
   "cell_type": "code",
   "execution_count": null,
   "metadata": {
    "id": "MsLE3Hh7zEgb"
   },
   "outputs": [],
   "source": [
    "def dec_range(*args, **kwargs):\n",
    "    \"\"\"\n",
    "    RETORNA valores 'float',\n",
    "    indo de '0' [ou do valor de 'inicio']\n",
    "    até o valor especificado como 'final'\n",
    "    com o passo de '0.1' [ou com o valor de 'passo']\n",
    "\n",
    "    Sintaxe:\n",
    "    dec_range(final, [arredondamento=1])\n",
    "    dec_range(inicio, final, [arredondamento=1])\n",
    "    dec_range(inicio, final, passo, [arredondamento=1])\n",
    "    \n",
    "    Exemplos:\n",
    "    >>> list(dec_range(0.5))\n",
    "    [0.0, 0.1, 0.2, 0.3, 0.4]\n",
    "    >>> list(dec_range(0.5, 1))\n",
    "    [0.5, 0.6, 0.7, 0.8, 0.9]\n",
    "    >>> list(dec_range(0, 1, 0.2))\n",
    "    [0.0, 0.2, 0.4, 0.6, 0.8]\n",
    "    >>> list(dec_range(0, 0.2, 0.05, arredondamento=2))\n",
    "    [0.0, 0.05, 0.1, 0.15]\n",
    "    \"\"\"\n",
    "\n",
    "    if len(args) > 2:\n",
    "        inicio = args[0]\n",
    "        final  = args[1]\n",
    "        passo  = args[2]\n",
    "    elif len(args) > 1:\n",
    "        inicio = args[0]\n",
    "        final  = args[1]\n",
    "        passo  = 0.1\n",
    "    elif len(args) > 0:\n",
    "        inicio = 0\n",
    "        final  = args[0]\n",
    "        passo  = 0.1\n",
    "    else:\n",
    "        inicio = 0\n",
    "        final  = 0\n",
    "        passo  = 0.1\n",
    "\n",
    "    vezes = (final - inicio) / passo\n",
    "    vezes = int(vezes)\n",
    "\n",
    "    if \"arredondamento\" in kwargs:\n",
    "        arredondamento = kwargs[\"arredondamento\"]\n",
    "    else:\n",
    "        arredondamento = 1\n",
    "\n",
    "    for i in range(vezes):\n",
    "        valor_a_retornar = inicio + (passo * i)\n",
    "        yield round(valor_a_retornar, arredondamento)"
   ]
  },
  {
   "cell_type": "code",
   "execution_count": null,
   "metadata": {
    "id": "YAJXiz_Cw7pp"
   },
   "outputs": [],
   "source": [
    "list(dec_range(0, 0.2, 0.05, arredondamento=2))"
   ]
  },
  {
   "cell_type": "markdown",
   "metadata": {
    "id": "IgYicOIF0GGK"
   },
   "source": [
    "`[0.0, 0.1, 0.2, 0.3, 0.4, 0.5, 0.6, 0.7, 0.8, 0.9]`"
   ]
  },
  {
   "cell_type": "markdown",
   "metadata": {
    "id": "NDJEcqF20JjC"
   },
   "source": [
    "E por último, vamos inserir uma opção legal, que é de permitir que inclua o valor final, por exemplo, o `1.0` no resultado.\n",
    "\n",
    "Aqui vamos aproveitar que já inserimos o __`**kwargs`__ e utilizá-lo para puxar uma variável que vamos chamar que `incluir` que por padrão receberá `False`.\n",
    "\n",
    "Nesse caso, não precisamos alterar a definição, pois ela já possui o __`**kwargs`__ (lembre-se que esse argumento pode se desdobrar em inúmeros argumentos nomeados). Então vamos direto alterar a `docstring`:\n",
    "```python\n",
    "    \"\"\"\n",
    "    Sintaxe:\n",
    "    dec_range(final, [arredondamento=1], [incluir=False])\n",
    "    dec_range(inicio, final, [arredondamento=1], [incluir=False])\n",
    "    dec_range(inicio, final, passo, [arredondamento=1], [incluir=False])\n",
    "```\n",
    "Depois o código que permite a configuração. Nesse nosso caso, basta aumentar o `vezes` em 1 unidade. Lembrando que existem várias maneiras de fazer a mesma coisa em programação, vamos fazer deste jeito abaixo.\n",
    "\n",
    "Logo após o código:\n",
    "```python\n",
    "    vezes = (final - inicio) / passo\n",
    "    vezes = int(vezes)\n",
    "```\n",
    "Vamos adicionar:\n",
    "```python\n",
    "    vezes = vezes + 1 if kwargs.pop(\"incluir\", False) else vezes\n",
    "```\n",
    "\n",
    "Agora vamos aos testes:"
   ]
  },
  {
   "cell_type": "code",
   "execution_count": null,
   "metadata": {
    "id": "nQFxr54p1H99"
   },
   "outputs": [],
   "source": [
    "def dec_range(*args, **kwargs):\n",
    "    \"\"\"\n",
    "    RETORNA valores 'float',\n",
    "    indo de '0' [ou do valor de 'inicio']\n",
    "    até o valor especificado como 'final'\n",
    "    com o passo de '0.1' [ou com o valor de 'passo']\n",
    "\n",
    "    Sintaxe:\n",
    "    dec_range(final, [arredondamento=1], [incluir=False])\n",
    "    dec_range(inicio, final, [arredondamento=1], [incluir=False])\n",
    "    dec_range(inicio, final, passo, [arredondamento=1], [incluir=False])\n",
    "    \n",
    "    Exemplos:\n",
    "    >>> list(dec_range(0.5))\n",
    "    [0.0, 0.1, 0.2, 0.3, 0.4]\n",
    "    >>> list(dec_range(0.5, 1))\n",
    "    [0.5, 0.6, 0.7, 0.8, 0.9]\n",
    "    >>> list(dec_range(0, 1, 0.2))\n",
    "    [0.0, 0.2, 0.4, 0.6, 0.8]\n",
    "    >>> list(dec_range(0, 0.2, 0.05, arredondamento=2))\n",
    "    [0.0, 0.05, 0.1, 0.15]\n",
    "    >>> list(dec_range(0, 0.2, 0.05, arredondamento=2, incluir=True))\n",
    "    [0.0, 0.05, 0.1, 0.15, 0.2]\n",
    "    \"\"\"\n",
    "\n",
    "    if len(args) > 2:\n",
    "        inicio = args[0]\n",
    "        final  = args[1]\n",
    "        passo  = args[2]\n",
    "    elif len(args) > 1:\n",
    "        inicio = args[0]\n",
    "        final  = args[1]\n",
    "        passo  = 0.1\n",
    "    elif len(args) > 0:\n",
    "        inicio = 0\n",
    "        final  = args[0]\n",
    "        passo  = 0.1\n",
    "    else:\n",
    "        inicio = 0\n",
    "        final  = 0\n",
    "        passo  = 0.1\n",
    "\n",
    "    vezes = (final - inicio) / passo\n",
    "    vezes = int(vezes)\n",
    "\n",
    "    vezes = vezes + 1 if kwargs.pop(\"incluir\", False) else vezes\n",
    "\n",
    "    if \"arredondamento\" in kwargs:\n",
    "        arredondamento = kwargs[\"arredondamento\"]\n",
    "    else:\n",
    "        arredondamento = 1\n",
    "\n",
    "    for i in range(vezes):\n",
    "        valor_a_retornar = inicio + (passo * i)\n",
    "        yield round(valor_a_retornar, arredondamento)"
   ]
  },
  {
   "cell_type": "code",
   "execution_count": null,
   "metadata": {
    "id": "_hz9mhJP1yGy"
   },
   "outputs": [],
   "source": [
    "list(dec_range(0, 1, 0.1))"
   ]
  },
  {
   "cell_type": "code",
   "execution_count": null,
   "metadata": {
    "id": "AIWFrqvQ2OpY"
   },
   "outputs": [],
   "source": [
    "list(dec_range(0, 1, 0.1, incluir=True))"
   ]
  },
  {
   "cell_type": "code",
   "execution_count": null,
   "metadata": {
    "id": "wLUTTfIx2PNP"
   },
   "outputs": [],
   "source": [
    "list(dec_range(0, 1, 0.1, incluir=False))"
   ]
  },
  {
   "cell_type": "code",
   "execution_count": null,
   "metadata": {
    "id": "mukoSOun2WFw"
   },
   "outputs": [],
   "source": [
    "list(dec_range(0, 0.01, 0.001, arredondamento=3, incluir=True))"
   ]
  },
  {
   "cell_type": "markdown",
   "metadata": {
    "id": "-14aWhfK24XI"
   },
   "source": [
    "Tudo funcionando como o esperado! Criamos nossa primeira função completa!"
   ]
  },
  {
   "cell_type": "markdown",
   "metadata": {
    "id": "Q1BQt7MX9rB-"
   },
   "source": [
    "---"
   ]
  }
 ],
 "metadata": {
  "colab": {
   "collapsed_sections": [],
   "name": "02.6_Revisão_Funções.ipynb",
   "provenance": [],
   "toc_visible": true
  },
  "kernelspec": {
   "display_name": "Python 3",
   "language": "python",
   "name": "python3"
  },
  "language_info": {
   "codemirror_mode": {
    "name": "ipython",
    "version": 3
   },
   "file_extension": ".py",
   "mimetype": "text/x-python",
   "name": "python",
   "nbconvert_exporter": "python",
   "pygments_lexer": "ipython3",
   "version": "3.8.8"
  }
 },
 "nbformat": 4,
 "nbformat_minor": 0
}
