{
 "cells": [
  {
   "cell_type": "markdown",
   "metadata": {
    "id": "AgKUawVg99p8"
   },
   "source": [
    "# Declarações e Estruturas Condicionais em Python 3.x"
   ]
  },
  {
   "cell_type": "markdown",
   "metadata": {
    "id": "8a16RlUb83a2"
   },
   "source": [
    "**Sejam todas bem vindas e bem vindos de volta!**\n",
    "\n",
    "Vamos revisar pontos básicos sobre Declarações e Estruturas Condicionais no Python 3.x, relembrando:\n",
    "* Operadores relacionais\n",
    "* Desvios/Saltos (Branching)"
   ]
  },
  {
   "cell_type": "markdown",
   "metadata": {
    "id": "qQo6wJMZ99p9"
   },
   "source": [
    "## Esturutras Condicionais"
   ]
  },
  {
   "cell_type": "markdown",
   "metadata": {
    "id": "E-CbvOlE99p-"
   },
   "source": [
    "### Operadores Relacionais"
   ]
  },
  {
   "cell_type": "markdown",
   "metadata": {
    "id": "rJ-W5WJN99p-"
   },
   "source": [
    "Os Operadores Relacionais executam comparação entre valores ou variáveis e retornam um resultado booleano (`bool`), ou seja, `True` ou `False` (verdadeiro ou falso).\n",
    "\n",
    "Operador|Significado\n",
    ":-:|:-:\n",
    "`==` | **igual**\n",
    "`!=` | **não igual** ou **diferente**\n",
    "`>`  | **maior que**\n",
    "`<`  | **menor que**\n",
    "`>=` | **maior ou igual**\n",
    "`<=` | **menor ou igual**"
   ]
  },
  {
   "cell_type": "markdown",
   "metadata": {
    "id": "GJ4uSANusDyk"
   },
   "source": [
    "### Operadores Booleanos"
   ]
  },
  {
   "cell_type": "markdown",
   "metadata": {
    "id": "5N-D1I-ZsKAj"
   },
   "source": [
    "Os Operadores Booleanos executam operações entre valores booleanos e/ou expressões booleanas.\n",
    "\n",
    "Operador | Significado\n",
    ":-:|:-:\n",
    "`not` | **não**\n",
    "`and` | **e**\n",
    "`or` | **ou** "
   ]
  },
  {
   "cell_type": "markdown",
   "metadata": {
    "id": "GxvU5J8i3GI-"
   },
   "source": [
    " ### **`if`**\n",
    "\n",
    "O principal que precisamos saber sobre o `if` (ou \"se\", em português) é que ele delimita um bloco de comandos que executarão apenas se as condições estipuladas forem **verdadeiras**.\n",
    "\n",
    "Sua estrutura simples é:\n",
    "```\n",
    "if condição:\n",
    "    comandos a serem executados se condição resultar em verdadeiro\n",
    "```\n",
    "\n",
    "Vejamos alguns exemplos:"
   ]
  },
  {
   "cell_type": "code",
   "execution_count": null,
   "metadata": {
    "id": "09W30epG4DJ3"
   },
   "outputs": [],
   "source": [
    "if True:\n",
    "    print(\"Este bloco é executado.\")\n",
    "\n",
    "if False:\n",
    "    print(\"Este bloco não é executado\")"
   ]
  },
  {
   "cell_type": "code",
   "execution_count": null,
   "metadata": {
    "id": "ccnJ84Dp4Qn0"
   },
   "outputs": [],
   "source": [
    "# Um exemplo prático seria executar algo apenas se um valor atingir uma condição\n",
    "\n",
    "# Por exemplo, imagine que o código deve desligar o aquecedor se a temperatura\n",
    "# de uma caldeira chegar a 100°C\n",
    "\n",
    "# Vamos configurar a temperatura de teste de forma manual, mas a ideia é que isso\n",
    "# aconteça de forma automática no dia-a-dia.\n",
    "\n",
    "temperatura = 99\n",
    "\n",
    "if temperatura >= 100:\n",
    "    print(\"Desligar aquecedor!\")"
   ]
  },
  {
   "cell_type": "markdown",
   "metadata": {
    "id": "u_mDbgxS5LME"
   },
   "source": [
    "Repare que nada aconteceu no código acima."
   ]
  },
  {
   "cell_type": "code",
   "execution_count": null,
   "metadata": {
    "id": "RVcHB-es5Alc"
   },
   "outputs": [],
   "source": [
    "# Vamos alterar agora a temperatura para 100\n",
    "\n",
    "temperatura = 100\n",
    "\n",
    "if temperatura >= 100:\n",
    "    print(\"Desligar aquecedor!\")"
   ]
  },
  {
   "cell_type": "markdown",
   "metadata": {
    "id": "ydLmTsia3Fze"
   },
   "source": [
    "### **`if-else`**\n",
    "\n",
    "Normalmente queremos executar uma coisa **ou** outra. Uma das formas que podemos fazer isso é com a dupla `if-else`.\n",
    "\n",
    "A estrutura simples do `if-else` é:\n",
    "```\n",
    "if condição:\n",
    "    comandos a serem executados se condição resultar em verdadeiro\n",
    "else:\n",
    "    comandos a serem executados se condição resultar em falso\n",
    "```\n",
    "\n",
    "Vejamos um exemplo."
   ]
  },
  {
   "cell_type": "code",
   "execution_count": null,
   "metadata": {
    "id": "CU6tDBF35pdN"
   },
   "outputs": [],
   "source": [
    "# Vejamos a mesma situação da caldeira.\n",
    "# Primeiro o código com a temperatura em 99\n",
    "\n",
    "temperatura = 99\n",
    "\n",
    "if temperatura >= 100:\n",
    "    print(\"Desligar aquecedor!\")\n",
    "else:\n",
    "    print(\"Manter o aquecedor ligado!\")"
   ]
  },
  {
   "cell_type": "code",
   "execution_count": null,
   "metadata": {
    "id": "dT5bIOiv7IKq"
   },
   "outputs": [],
   "source": [
    "# Agora mudamos a temperatura para 100\n",
    "\n",
    "temperatura = 100\n",
    "\n",
    "if temperatura >= 100:\n",
    "    print(\"Desligar aquecedor!\")\n",
    "else:\n",
    "    print(\"Manter o aquecedor ligado!\")"
   ]
  },
  {
   "cell_type": "markdown",
   "metadata": {
    "id": "kOgcQaDN3V0d"
   },
   "source": [
    "### **`if-elif`**\n",
    "\n",
    "Já a dupla `if-elif` funciona com **duas condições ou mais EM CASCATA** , ou seja, a condição **segunte** só é avaliada **se a condição anterior** resultar em `False`.\n",
    "\n",
    "A estrutura simples do `if-elif` é:\n",
    "```\n",
    "if condição_1:\n",
    "    comandos a serem executados se condição_1 resultar em verdadeiro\n",
    "elif condição_2:\n",
    "    comandos a serem executados se condição_1 resultar em falso E a\n",
    "    condição_2 resultar em verdadeiro\n",
    "```\n",
    "\n",
    "Vejamos um exemplo:"
   ]
  },
  {
   "cell_type": "code",
   "execution_count": null,
   "metadata": {
    "id": "OkBSohVADtBu"
   },
   "outputs": [],
   "source": [
    "# Vejamos a mesma situação da caldeira.\n",
    "# Primeiro o código com a temperatura em 99\n",
    "\n",
    "temperatura = 99\n",
    "\n",
    "if temperatura >= 100:\n",
    "    print(\"Desligar aquecedor!\")\n",
    "elif temperatura <= 50:\n",
    "    print(\"Manter o aquecedor ligado!\")\n",
    "    print(\"Ligar o segundo aquecedor!\")"
   ]
  },
  {
   "cell_type": "code",
   "execution_count": null,
   "metadata": {
    "id": "bM23Oq7wbUpP"
   },
   "outputs": [],
   "source": [
    "temperatura = 101\n",
    "\n",
    "if temperatura >= 100:\n",
    "    print(\"Desligar aquecedor!\")\n",
    "elif temperatura <= 50:\n",
    "    print(\"Manter o aquecedor ligado!\")\n",
    "    print(\"Ligar o segundo aquecedor!\")\n",
    "\n",
    "if temperatura == 101:\n",
    "    print(\"temperatura 99\")"
   ]
  },
  {
   "cell_type": "code",
   "execution_count": null,
   "metadata": {
    "id": "NDiKv_q0EGb-"
   },
   "outputs": [],
   "source": [
    "# Vejamos a mesma situação da caldeira.\n",
    "# Primeiro o código com a temperatura em 100\n",
    "\n",
    "temperatura = 100\n",
    "\n",
    "if temperatura >= 100:\n",
    "    print(\"Desligar aquecedor!\")\n",
    "elif temperatura <= 50:\n",
    "    print(\"Manter o aquecedor ligado!\")\n",
    "    print(\"Ligar o segundo aquecedor!\")"
   ]
  },
  {
   "cell_type": "code",
   "execution_count": null,
   "metadata": {
    "id": "XzVw6Ws3EIll"
   },
   "outputs": [],
   "source": [
    "# Vejamos a mesma situação da caldeira.\n",
    "# Agora o código com a temperatura em 45\n",
    "\n",
    "temperatura = 45\n",
    "\n",
    "if temperatura >= 100:\n",
    "    print(\"Desligar aquecedor!\")\n",
    "elif temperatura <= 50:\n",
    "    print(\"Manter o aquecedor ligado!\")\n",
    "    print(\"Ligar o segundo aquecedor!\")"
   ]
  },
  {
   "cell_type": "markdown",
   "metadata": {
    "id": "l33sRDUDEapB"
   },
   "source": [
    "Podemos utilizar quantos `elif` quisermos na mesma \"árvore\" de `if`, mas temos que ter cuidado para não prejudicar a lógica."
   ]
  },
  {
   "cell_type": "markdown",
   "metadata": {
    "id": "s3qdh1VG3YmF"
   },
   "source": [
    "### **`if-elif-else`**"
   ]
  },
  {
   "cell_type": "markdown",
   "metadata": {
    "id": "9ghW1RwMvT-G"
   },
   "source": [
    "Agora, quando utilizamos o TRIO, `if-elif-else` seguimos a seguinte lógica e estrutura simples:\n",
    "\n",
    "```\n",
    "if condição_1:\n",
    "    comandos a serem executados se condição_1 resultar em verdadeiro\n",
    "elif condição_2:\n",
    "    comandos a serem executados se condição_1 resultar em falso E a\n",
    "    condição_2 resultar em verdadeiro\n",
    "else:\n",
    "    comandos a serem executados se NENHUMA CONDIÇÃO ANTERIOR for executada\n",
    "```\n",
    "\n",
    "Vejamos um exemplo:"
   ]
  },
  {
   "cell_type": "code",
   "execution_count": null,
   "metadata": {
    "id": "WEwJ8YDsE-7J"
   },
   "outputs": [],
   "source": [
    "# Temos a mesma situação da caldeira.\n",
    "# Primeiro o código com a temperatura em 99\n",
    "\n",
    "temperatura = 99\n",
    "\n",
    "if temperatura >= 100:\n",
    "    print(\"Desligar aquecedor!\")\n",
    "elif temperatura <= 50:\n",
    "    print(\"Manter o aquecedor ligado!\")\n",
    "    print(\"Ligar o segundo aquecedor!\")\n",
    "else:\n",
    "    print(\"Não precisa fazer nada!\")"
   ]
  },
  {
   "cell_type": "code",
   "execution_count": null,
   "metadata": {
    "id": "x1BrlG7rFUpZ"
   },
   "outputs": [],
   "source": [
    "# Agora o código com a temperatura em 100\n",
    "\n",
    "temperatura = 100\n",
    "\n",
    "if temperatura >= 100:\n",
    "    print(\"Desligar aquecedor!\")\n",
    "elif temperatura <= 50:\n",
    "    print(\"Manter o aquecedor ligado!\")\n",
    "    print(\"Ligar o segundo aquecedor!\")\n",
    "else:\n",
    "    print(\"Não precisa fazer nada!\")"
   ]
  },
  {
   "cell_type": "code",
   "execution_count": null,
   "metadata": {
    "id": "KAdKTC2WFUbk"
   },
   "outputs": [],
   "source": [
    "# Temos a mesma situação da caldeira.\n",
    "# Primeiro o código com a temperatura em 99\n",
    "\n",
    "temperatura = 45\n",
    "\n",
    "if temperatura >= 100:\n",
    "    print(\"Desligar aquecedor!\")\n",
    "elif temperatura <= 50:\n",
    "    print(\"Manter o aquecedor ligado!\")\n",
    "    print(\"Ligar o segundo aquecedor!\")\n",
    "else:\n",
    "    print(\"Não precisa fazer nada!\")"
   ]
  },
  {
   "cell_type": "code",
   "execution_count": null,
   "metadata": {
    "id": "GIB9ndMpdSnp"
   },
   "outputs": [],
   "source": [
    "temperatura = 40\n",
    "\n",
    "if temperatura >= 100:\n",
    "    print(\"Desligar aquecedor!\")\n",
    "elif temperatura <= 50:\n",
    "    print(\"Manter o aquecedor ligado!\")\n",
    "    print(\"Ligar o segundo aquecedor!\")\n",
    "elif temperatura <= 40:\n",
    "    print(\"Não precisa fazer nada!\")"
   ]
  },
  {
   "cell_type": "markdown",
   "metadata": {
    "id": "0Vui_8E35WYD"
   },
   "source": [
    "### BÔNUS: `if-else` de uma linha só\n",
    "\n",
    "Em alguns casos podemos resumir nosso trabalho e fazer um if em uma linha só.\n",
    "\n",
    "Veja:"
   ]
  },
  {
   "cell_type": "code",
   "execution_count": null,
   "metadata": {
    "id": "1eujz9xWFmU5"
   },
   "outputs": [],
   "source": [
    "aquecedor_danificado = True\n",
    "\n",
    "trocar_aquecedor = True if aquecedor_danificado else False\n",
    "\n",
    "print(trocar_aquecedor)"
   ]
  },
  {
   "cell_type": "code",
   "execution_count": null,
   "metadata": {
    "id": "oYSwajeBF5KT"
   },
   "outputs": [],
   "source": [
    "aquecedor_danificado = False\n",
    "\n",
    "trocar_aquecedor = True if aquecedor_danificado else False\n",
    "\n",
    "print(trocar_aquecedor)"
   ]
  },
  {
   "cell_type": "code",
   "execution_count": null,
   "metadata": {
    "id": "d2cKiHUvF_V6"
   },
   "outputs": [],
   "source": [
    "aquecedor_danificado = True\n",
    "\n",
    "trocar_aquecedor = True if aquecedor_danificado else False\n",
    "utilizar_caldeira = False if aquecedor_danificado else True\n",
    "\n",
    "print(trocar_aquecedor)\n",
    "print(utilizar_caldeira)"
   ]
  },
  {
   "cell_type": "markdown",
   "metadata": {
    "id": "OvatCzt6GSYt"
   },
   "source": [
    "### Declarações condicionais múltiplas\n",
    "\n",
    "Podemos fazer verificações condicionais em conjunto utilizando os operadores booleanos `not`, `and` e `or` (operadores estes que já estudamos logo no início do bloco 2 deste curso).\n",
    "\n",
    "Vejamos alguns exemplos:"
   ]
  },
  {
   "cell_type": "code",
   "execution_count": null,
   "metadata": {
    "id": "VQNJFKhHGPtQ"
   },
   "outputs": [],
   "source": [
    "# Temos a mesma situação da caldeira.\n",
    "# Primeiro o código com a temperatura em 45 e o aquecedor não danificado\n",
    "\n",
    "aquecedor_danificado = False\n",
    "temperatura = 45\n",
    "\n",
    "if temperatura <= 50 and not aquecedor_danificado:\n",
    "    print(\"Manter o aquecedor ligado!\")\n",
    "    print(\"Ligar o segundo aquecedor!\")\n",
    "elif temperatura >= 100:\n",
    "    print(\"Desligar aquecedor!\")\n",
    "else:\n",
    "    print(\"Não precisa fazer nada!\")"
   ]
  },
  {
   "cell_type": "code",
   "execution_count": null,
   "metadata": {
    "id": "ndIGa4R3JU07"
   },
   "outputs": [],
   "source": [
    "# Agora o código com a temperatura em 45 e o aquecedor DANIFICADO\n",
    "\n",
    "aquecedor_danificado = True\n",
    "temperatura = 45\n",
    "\n",
    "if temperatura <= 50 and not aquecedor_danificado:\n",
    "    print(\"Manter o aquecedor ligado!\")\n",
    "    print(\"Ligar o segundo aquecedor!\")\n",
    "elif temperatura >= 100:\n",
    "    print(\"Desligar aquecedor!\")\n",
    "elif aquecedor_danificado:\n",
    "    # print(\"Reparar o aquecedor!\")\n",
    "    pass # solicitar equipe manutenção parametros para chamada de reparo\n",
    "    # revisar\n",
    "else:\n",
    "    print(\"Não precisa fazer nada!\")"
   ]
  },
  {
   "cell_type": "markdown",
   "metadata": {
    "id": "S1-NOXfKJjZd"
   },
   "source": [
    "Copie o código acima e teste outras possibilidades."
   ]
  },
  {
   "cell_type": "markdown",
   "metadata": {
    "id": "tT2KYl4QJqJ-"
   },
   "source": [
    "### A intrução **`pass`**\n",
    "\n",
    "Serve basicamente para preencher uma lacuna em um bloco enquanto se decide quais instruções serão passadas.\n",
    "\n",
    "Veja os exemplos:"
   ]
  },
  {
   "cell_type": "code",
   "execution_count": null,
   "metadata": {
    "id": "P7xjw46jQcPg"
   },
   "outputs": [],
   "source": [
    "temperatura = 99\n",
    "\n",
    "if temperatura >= 100:\n",
    "    pass # futuramente implantar solução em forma de código"
   ]
  },
  {
   "cell_type": "markdown",
   "metadata": {
    "id": "HIORYJ_Txf-3"
   },
   "source": [
    "---"
   ]
  }
 ],
 "metadata": {
  "colab": {
   "name": "02.4_Revisão_Estruturas_Condicionais.ipynb",
   "provenance": [],
   "toc_visible": true
  },
  "kernelspec": {
   "display_name": "Python 3",
   "language": "python",
   "name": "python3"
  },
  "language_info": {
   "codemirror_mode": {
    "name": "ipython",
    "version": 3
   },
   "file_extension": ".py",
   "mimetype": "text/x-python",
   "name": "python",
   "nbconvert_exporter": "python",
   "pygments_lexer": "ipython3",
   "version": "3.8.8"
  }
 },
 "nbformat": 4,
 "nbformat_minor": 0
}
