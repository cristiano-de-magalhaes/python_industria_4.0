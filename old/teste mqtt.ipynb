{
 "cells": [
  {
   "cell_type": "code",
   "execution_count": 2,
   "metadata": {
    "colab": {
     "base_uri": "https://localhost:8080/"
    },
    "executionInfo": {
     "elapsed": 6219,
     "status": "ok",
     "timestamp": 1618852379927,
     "user": {
      "displayName": "Cristiano de Magalhães",
      "photoUrl": "",
      "userId": "03249985789837417195"
     },
     "user_tz": 180
    },
    "id": "9DgrF1s8HruS",
    "outputId": "3ae7054d-ac49-42d6-93da-1720df330cfe"
   },
   "outputs": [
    {
     "name": "stdout",
     "output_type": "stream",
     "text": [
      "Collecting paho-mqtt\n",
      "\u001b[?25l  Downloading https://files.pythonhosted.org/packages/32/d3/6dcb8fd14746fcde6a556f932b5de8bea8fedcb85b3a092e0e986372c0e7/paho-mqtt-1.5.1.tar.gz (101kB)\n",
      "\r\u001b[K     |███▏                            | 10kB 19.8MB/s eta 0:00:01\r\u001b[K     |██████▍                         | 20kB 20.3MB/s eta 0:00:01\r\u001b[K     |█████████▋                      | 30kB 25.7MB/s eta 0:00:01\r\u001b[K     |████████████▉                   | 40kB 18.9MB/s eta 0:00:01\r\u001b[K     |████████████████                | 51kB 15.8MB/s eta 0:00:01\r\u001b[K     |███████████████████▎            | 61kB 15.7MB/s eta 0:00:01\r\u001b[K     |██████████████████████▌         | 71kB 11.5MB/s eta 0:00:01\r\u001b[K     |█████████████████████████▊      | 81kB 12.4MB/s eta 0:00:01\r\u001b[K     |█████████████████████████████   | 92kB 12.8MB/s eta 0:00:01\r\u001b[K     |████████████████████████████████| 102kB 4.9MB/s \n",
      "\u001b[?25hBuilding wheels for collected packages: paho-mqtt\n",
      "  Building wheel for paho-mqtt (setup.py) ... \u001b[?25l\u001b[?25hdone\n",
      "  Created wheel for paho-mqtt: filename=paho_mqtt-1.5.1-cp37-none-any.whl size=61546 sha256=3cf3e21c2b17d68c6fd442e4e1dbd47edfe5e3b0bb9dbc30b01170f1911b35fe\n",
      "  Stored in directory: /root/.cache/pip/wheels/75/e2/f5/78942b19b4d135605e58dfe85fba52253b14d636aabf76904b\n",
      "Successfully built paho-mqtt\n",
      "Installing collected packages: paho-mqtt\n",
      "Successfully installed paho-mqtt-1.5.1\n"
     ]
    }
   ],
   "source": [
    "!pip install paho-mqtt"
   ]
  },
  {
   "cell_type": "code",
   "execution_count": 3,
   "metadata": {
    "colab": {
     "base_uri": "https://localhost:8080/"
    },
    "executionInfo": {
     "elapsed": 7167,
     "status": "ok",
     "timestamp": 1618854723697,
     "user": {
      "displayName": "Cristiano de Magalhães",
      "photoUrl": "",
      "userId": "03249985789837417195"
     },
     "user_tz": 180
    },
    "id": "DhA_mQHhGm8c",
    "outputId": "e0761d50-32ea-429b-e63f-794f749631da"
   },
   "outputs": [
    {
     "name": "stdout",
     "output_type": "stream",
     "text": [
      "connecting to broker  broker.mqttdashboard.com\n",
      "subscribing \n",
      "received message = test test test test test test test \n",
      "publishing \n"
     ]
    },
    {
     "data": {
      "text/plain": [
       "0"
      ]
     },
     "execution_count": 3,
     "metadata": {
      "tags": []
     },
     "output_type": "execute_result"
    }
   ],
   "source": [
    "import time\n",
    "import paho.mqtt.client as paho\n",
    "\n",
    "# broker=\"broker.hivemq.com\"\n",
    "broker=\"broker.mqttdashboard.com\"\n",
    "# broker=\"iot.eclipse.org\"\n",
    "\n",
    "# define callback\n",
    "def on_message(client, userdata, message):\n",
    "    time.sleep(1)\n",
    "    print(\"received message =\",str(message.payload.decode(\"utf-8\")))\n",
    "\n",
    "client= paho.Client(\"client-001\") # create client object\n",
    "                                  # client1.on_publish = on_publish\n",
    "                                  # assign function to callback\n",
    "                                  # client1.connect(broker,port)\n",
    "                                  # establish connection\n",
    "                                  # client1.publish(\"house/bulb1\",\"on\")\n",
    "\n",
    "######Bind function to callback\n",
    "client.on_message = on_message\n",
    "######\n",
    "print(\"connecting to broker \",broker)\n",
    "\n",
    "client.connect(broker) # connect\n",
    "client.loop_start()    # start loop to process received messages\n",
    "\n",
    "print(\"subscribing \")\n",
    "client.subscribe(\"house/bulb1\") # subscribe\n",
    "time.sleep(2)\n",
    "\n",
    "print(\"publishing \")\n",
    "client.publish(\"house/bulb1\",\"on\") # publish\n",
    "time.sleep(4)\n",
    "client.loop_stop()  # stop loop\n",
    "client.disconnect() # disconnect"
   ]
  },
  {
   "cell_type": "code",
   "execution_count": 6,
   "metadata": {
    "executionInfo": {
     "elapsed": 791,
     "status": "ok",
     "timestamp": 1618852587230,
     "user": {
      "displayName": "Cristiano de Magalhães",
      "photoUrl": "",
      "userId": "03249985789837417195"
     },
     "user_tz": 180
    },
    "id": "vppWAleTHwVH"
   },
   "outputs": [],
   "source": []
  }
 ],
 "metadata": {
  "colab": {
   "authorship_tag": "ABX9TyPifaTcIqke7zm03vdgfnBR",
   "collapsed_sections": [],
   "name": "teste mqtt.ipynb",
   "provenance": []
  },
  "kernelspec": {
   "display_name": "Python 3",
   "name": "python3"
  },
  "language_info": {
   "name": "python"
  }
 },
 "nbformat": 4,
 "nbformat_minor": 0
}
