{
 "cells": [
  {
   "cell_type": "markdown",
   "metadata": {
    "id": "Qgw5CWMKNlpK"
   },
   "source": [
    "![image.png](data:image/png;base64,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)![image.png](data:image/png;base64,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)\n",
    "\n",
    "<sub><sup> IMAGEM: \"[Math](https://thenounproject.com/search/?q=math&i=2709355) by Eucalyp from [the Noun Project](https://thenounproject.com/about/)\". Disponibilizado via [Licença CCBY Creative Commmons](https://creativecommons.org/licenses/by/4.0/).</sup></sub>"
   ]
  },
  {
   "cell_type": "markdown",
   "metadata": {
    "id": "wii7mrcmQXxq"
   },
   "source": []
  },
  {
   "cell_type": "markdown",
   "metadata": {
    "id": "9M4JFTPyD2R8"
   },
   "source": [
    "# BIBLIOTECA `math` do Python 3.7"
   ]
  },
  {
   "cell_type": "markdown",
   "metadata": {
    "id": "t58wt9oND7fk"
   },
   "source": [
    "Durante nossa etapa de estudos de Python 3.x pensamos sempre no Python 3 independente de sua revisão (3.1, 3.2, ..., 3.9) pois não havia diferença entre elas no que já estudamos.\n",
    "\n",
    "Quando o assunto é biblioteca, quanto mais nova a versão, mais provável é encontrarmos novas ferramentas e utilidades disponíveis para facilitar nossa vida.\n",
    "\n",
    "Acesse os links abaixo e repare a diferença entre as funções disponíveis para as duas versões do python:\n",
    "\n",
    "[`math para python 3.9`](https://docs.python.org/3.9/library/math.html)\n",
    "\n",
    "[`math para python 3.7`](https://docs.python.org/3.7/library/math.html)\n",
    "\n",
    "como nosso ambiente de estudos (o Colab) está rodando Python 3.7 utilizaremos esse último como referência.\n",
    "\n",
    "Uma grande facilidade que a `math` nos traz, são valores para facilitar nossa vida. \n",
    "\n",
    "Para isso, fazemos sua importação:"
   ]
  },
  {
   "cell_type": "code",
   "execution_count": null,
   "metadata": {
    "id": "2WsU9C1kEoYr"
   },
   "outputs": [],
   "source": [
    "import math"
   ]
  },
  {
   "cell_type": "markdown",
   "metadata": {
    "id": "XglDUfhxdUY1"
   },
   "source": [
    "## Constantes"
   ]
  },
  {
   "cell_type": "markdown",
   "metadata": {
    "id": "_BIW48Y3W4OT"
   },
   "source": [
    "### **`math.pi`**\n",
    "\n",
    "Por exemplo, um número muito utilizado na matemática é o `pi`:\n",
    "\n",
    "$$ \\pi = 3,1415... $$\n",
    "\n",
    "O `pi` é um número irracional, ou uma \"dízima não-periódica\", ou seja,  tem uma série infinita de algarismos decimais. Mas para computação podemos utilizar o valor que a biblioteca `math` nos retorna.\n",
    "\n",
    "Veja o exemplo:\n",
    "\n"
   ]
  },
  {
   "cell_type": "code",
   "execution_count": null,
   "metadata": {
    "colab": {
     "base_uri": "https://localhost:8080/"
    },
    "executionInfo": {
     "elapsed": 241,
     "status": "ok",
     "timestamp": 1623421491925,
     "user": {
      "displayName": "Cristiano de Magalhães",
      "photoUrl": "",
      "userId": "03249985789837417195"
     },
     "user_tz": 180
    },
    "id": "oPp4vuRhXYUi",
    "outputId": "8847465f-42b4-419f-c3f2-bcea9f2428e2"
   },
   "outputs": [
    {
     "name": "stdout",
     "output_type": "stream",
     "text": [
      "3.141592653589793\n"
     ]
    }
   ],
   "source": [
    "print(math.pi)"
   ]
  },
  {
   "cell_type": "markdown",
   "metadata": {
    "id": "KyfsD9XFYOIZ"
   },
   "source": [
    "Mais adiante usaremos com as funções seno e cosseno para verificarmos sua utilização.\n",
    "\n",
    "---"
   ]
  },
  {
   "cell_type": "markdown",
   "metadata": {
    "id": "E_twaQzTYifB"
   },
   "source": [
    "### **`math.e`** \n",
    "\n",
    "O `e` ou número de Euler (que se lê \"óiler\"), é também um número bastante útil na matemática, e para utilizá-lo basta utilizar como no exemplo:"
   ]
  },
  {
   "cell_type": "code",
   "execution_count": null,
   "metadata": {
    "colab": {
     "base_uri": "https://localhost:8080/"
    },
    "executionInfo": {
     "elapsed": 217,
     "status": "ok",
     "timestamp": 1623421537255,
     "user": {
      "displayName": "Cristiano de Magalhães",
      "photoUrl": "",
      "userId": "03249985789837417195"
     },
     "user_tz": 180
    },
    "id": "7_6VKQtkY5Pv",
    "outputId": "b37c6ba5-377c-4433-a4a2-32568e4b68d7"
   },
   "outputs": [
    {
     "name": "stdout",
     "output_type": "stream",
     "text": [
      "2.718281828459045\n"
     ]
    }
   ],
   "source": [
    "print(math.e)"
   ]
  },
  {
   "cell_type": "markdown",
   "metadata": {
    "id": "vrekuRpmY9rA"
   },
   "source": [
    "Veremos umas curiosidades sobre ele mais adiante também.\n",
    "\n",
    "---"
   ]
  },
  {
   "cell_type": "code",
   "execution_count": null,
   "metadata": {
    "colab": {
     "base_uri": "https://localhost:8080/"
    },
    "executionInfo": {
     "elapsed": 397,
     "status": "ok",
     "timestamp": 1623421567352,
     "user": {
      "displayName": "Cristiano de Magalhães",
      "photoUrl": "",
      "userId": "03249985789837417195"
     },
     "user_tz": 180
    },
    "id": "YHaYhlZOdvtG",
    "outputId": "789e31b7-86ec-4afd-a119-d946401c56ef"
   },
   "outputs": [
    {
     "data": {
      "text/plain": [
       "float"
      ]
     },
     "execution_count": 6,
     "metadata": {
      "tags": []
     },
     "output_type": "execute_result"
    }
   ],
   "source": [
    "type(math.e)"
   ]
  },
  {
   "cell_type": "markdown",
   "metadata": {
    "id": "VwhVJpjGZIZ6"
   },
   "source": [
    "### **`math.inf`**\n",
    "\n",
    "O infinito é um número muito grande, e já de cara podemos imaginar como é difícil programar utilizando um valor assim. Por isso a biblioteca `math` possui essa constante para nos ajudar também.\n",
    "\n",
    "Veja:"
   ]
  },
  {
   "cell_type": "code",
   "execution_count": null,
   "metadata": {
    "colab": {
     "base_uri": "https://localhost:8080/"
    },
    "executionInfo": {
     "elapsed": 230,
     "status": "ok",
     "timestamp": 1623421606641,
     "user": {
      "displayName": "Cristiano de Magalhães",
      "photoUrl": "",
      "userId": "03249985789837417195"
     },
     "user_tz": 180
    },
    "id": "ZCX8YpfoZeio",
    "outputId": "b16120b7-2471-4029-8209-c56d7cf49e30"
   },
   "outputs": [
    {
     "name": "stdout",
     "output_type": "stream",
     "text": [
      "inf\n"
     ]
    }
   ],
   "source": [
    "print(math.inf)"
   ]
  },
  {
   "cell_type": "code",
   "execution_count": null,
   "metadata": {
    "colab": {
     "base_uri": "https://localhost:8080/"
    },
    "executionInfo": {
     "elapsed": 232,
     "status": "ok",
     "timestamp": 1623421619473,
     "user": {
      "displayName": "Cristiano de Magalhães",
      "photoUrl": "",
      "userId": "03249985789837417195"
     },
     "user_tz": 180
    },
    "id": "wdHbViH5d-68",
    "outputId": "39ddacd2-1caa-4563-cce3-154a011cb8fa"
   },
   "outputs": [
    {
     "data": {
      "text/plain": [
       "float"
      ]
     },
     "execution_count": 8,
     "metadata": {
      "tags": []
     },
     "output_type": "execute_result"
    }
   ],
   "source": [
    "type(math.inf)"
   ]
  },
  {
   "cell_type": "markdown",
   "metadata": {
    "id": "CWA-uR_LZhLI"
   },
   "source": [
    "Repare que ela retorna um resultado informando `inf`, ou seja, `infinito`.\n",
    "\n",
    "Mais adiante utilizaremos o infinito para verificar algumas identidades geométricas.\n",
    "\n",
    "---"
   ]
  },
  {
   "cell_type": "markdown",
   "metadata": {
    "id": "XToA-_O0fQX7"
   },
   "source": [
    "## Arredondamentos"
   ]
  },
  {
   "cell_type": "markdown",
   "metadata": {
    "id": "7GY0sE_RfSyT"
   },
   "source": [
    "### **`math.ceil(x)`**: arredondamento pra cima\n",
    "\n",
    "Arredonda os números para **cima** SEMPRE. `ceil` significa \"teto\", em inglês."
   ]
  },
  {
   "cell_type": "code",
   "execution_count": null,
   "metadata": {
    "colab": {
     "base_uri": "https://localhost:8080/"
    },
    "executionInfo": {
     "elapsed": 228,
     "status": "ok",
     "timestamp": 1623421794208,
     "user": {
      "displayName": "Cristiano de Magalhães",
      "photoUrl": "",
      "userId": "03249985789837417195"
     },
     "user_tz": 180
    },
    "id": "f7LtA-j_fmrZ",
    "outputId": "896b5ef6-d5c6-4e5d-b6bd-d522b0c3e396"
   },
   "outputs": [
    {
     "data": {
      "text/plain": [
       "2"
      ]
     },
     "execution_count": 15,
     "metadata": {
      "tags": []
     },
     "output_type": "execute_result"
    }
   ],
   "source": [
    "math.ceil(1.01)"
   ]
  },
  {
   "cell_type": "markdown",
   "metadata": {
    "id": "dBxfmr6PfqHr"
   },
   "source": [
    "Comparando com o `round(x)`"
   ]
  },
  {
   "cell_type": "code",
   "execution_count": null,
   "metadata": {
    "colab": {
     "base_uri": "https://localhost:8080/"
    },
    "executionInfo": {
     "elapsed": 270,
     "status": "ok",
     "timestamp": 1623421782946,
     "user": {
      "displayName": "Cristiano de Magalhães",
      "photoUrl": "",
      "userId": "03249985789837417195"
     },
     "user_tz": 180
    },
    "id": "E-6yETcJfpzz",
    "outputId": "94a9549b-3e88-4516-f980-a40160695591"
   },
   "outputs": [
    {
     "data": {
      "text/plain": [
       "2"
      ]
     },
     "execution_count": 13,
     "metadata": {
      "tags": []
     },
     "output_type": "execute_result"
    }
   ],
   "source": [
    "round(1.5)"
   ]
  },
  {
   "cell_type": "markdown",
   "metadata": {
    "id": "nVuHS9qQfzdK"
   },
   "source": [
    "### **`math.floor(x)`**: arredondamento para baixo\n",
    "Arredonda os números para **baixo** SEMPRE. `floor` significa \"piso\", em inglês."
   ]
  },
  {
   "cell_type": "code",
   "execution_count": null,
   "metadata": {
    "colab": {
     "base_uri": "https://localhost:8080/"
    },
    "executionInfo": {
     "elapsed": 244,
     "status": "ok",
     "timestamp": 1623421823651,
     "user": {
      "displayName": "Cristiano de Magalhães",
      "photoUrl": "",
      "userId": "03249985789837417195"
     },
     "user_tz": 180
    },
    "id": "82GujLgygBk6",
    "outputId": "c49ea5f4-90e3-491a-988b-c0d24eafce70"
   },
   "outputs": [
    {
     "data": {
      "text/plain": [
       "1"
      ]
     },
     "execution_count": 16,
     "metadata": {
      "tags": []
     },
     "output_type": "execute_result"
    }
   ],
   "source": [
    "math.floor(1.8)"
   ]
  },
  {
   "cell_type": "code",
   "execution_count": null,
   "metadata": {
    "colab": {
     "base_uri": "https://localhost:8080/"
    },
    "executionInfo": {
     "elapsed": 230,
     "status": "ok",
     "timestamp": 1623422045643,
     "user": {
      "displayName": "Cristiano de Magalhães",
      "photoUrl": "",
      "userId": "03249985789837417195"
     },
     "user_tz": 180
    },
    "id": "RY1Wcq-fe2qg",
    "outputId": "e1cc7990-8975-4fb7-d3d7-aaafad005c0e"
   },
   "outputs": [
    {
     "data": {
      "text/plain": [
       "1.3333333333333333"
      ]
     },
     "execution_count": 27,
     "metadata": {
      "tags": []
     },
     "output_type": "execute_result"
    }
   ],
   "source": [
    "4 / 3"
   ]
  },
  {
   "cell_type": "code",
   "execution_count": null,
   "metadata": {
    "colab": {
     "base_uri": "https://localhost:8080/"
    },
    "executionInfo": {
     "elapsed": 256,
     "status": "ok",
     "timestamp": 1623421873113,
     "user": {
      "displayName": "Cristiano de Magalhães",
      "photoUrl": "",
      "userId": "03249985789837417195"
     },
     "user_tz": 180
    },
    "id": "t5zNk7kue8_0",
    "outputId": "fc6952eb-475a-485b-8754-50fb4432f4ff"
   },
   "outputs": [
    {
     "data": {
      "text/plain": [
       "1"
      ]
     },
     "execution_count": 19,
     "metadata": {
      "tags": []
     },
     "output_type": "execute_result"
    }
   ],
   "source": [
    "6 // 5"
   ]
  },
  {
   "cell_type": "code",
   "execution_count": null,
   "metadata": {
    "colab": {
     "base_uri": "https://localhost:8080/"
    },
    "executionInfo": {
     "elapsed": 279,
     "status": "ok",
     "timestamp": 1623421878683,
     "user": {
      "displayName": "Cristiano de Magalhães",
      "photoUrl": "",
      "userId": "03249985789837417195"
     },
     "user_tz": 180
    },
    "id": "VuOv4y2qe_D2",
    "outputId": "4a246ac3-f3e2-4338-dead-bd45c2d6888b"
   },
   "outputs": [
    {
     "data": {
      "text/plain": [
       "1"
      ]
     },
     "execution_count": 20,
     "metadata": {
      "tags": []
     },
     "output_type": "execute_result"
    }
   ],
   "source": [
    "6 % 5"
   ]
  },
  {
   "cell_type": "code",
   "execution_count": null,
   "metadata": {
    "colab": {
     "base_uri": "https://localhost:8080/"
    },
    "executionInfo": {
     "elapsed": 220,
     "status": "ok",
     "timestamp": 1623422054056,
     "user": {
      "displayName": "Cristiano de Magalhães",
      "photoUrl": "",
      "userId": "03249985789837417195"
     },
     "user_tz": 180
    },
    "id": "HX-hlQgjfDB8",
    "outputId": "5f084cce-ab6a-45fe-feac-28180becd093"
   },
   "outputs": [
    {
     "name": "stdout",
     "output_type": "stream",
     "text": [
      "0.33\n"
     ]
    }
   ],
   "source": [
    "conta = 4 / 3\n",
    "decimal_da_conta = (conta) - math.floor(conta)\n",
    "print(round(decimal_da_conta,2))"
   ]
  },
  {
   "cell_type": "markdown",
   "metadata": {
    "id": "COBNC2uRgFHi"
   },
   "source": [
    "Comparando com o `round(x)`"
   ]
  },
  {
   "cell_type": "code",
   "execution_count": null,
   "metadata": {
    "colab": {
     "base_uri": "https://localhost:8080/"
    },
    "executionInfo": {
     "elapsed": 265,
     "status": "ok",
     "timestamp": 1623421829648,
     "user": {
      "displayName": "Cristiano de Magalhães",
      "photoUrl": "",
      "userId": "03249985789837417195"
     },
     "user_tz": 180
    },
    "id": "FILpSHIigJyK",
    "outputId": "14b37b28-ce62-4e95-aec0-d87fa492ed7c"
   },
   "outputs": [
    {
     "data": {
      "text/plain": [
       "2"
      ]
     },
     "execution_count": 17,
     "metadata": {
      "tags": []
     },
     "output_type": "execute_result"
    }
   ],
   "source": [
    "round(1.8)"
   ]
  },
  {
   "cell_type": "markdown",
   "metadata": {
    "id": "k3eIyNjXfwkL"
   },
   "source": [
    "## Funções"
   ]
  },
  {
   "cell_type": "markdown",
   "metadata": {
    "id": "cWuF9FRdd-v1"
   },
   "source": [
    "### **`math.factorial()`**\n",
    "\n",
    "Retorna o valor fatorial de um número. Relembrando que o fatorial é igual ao número multiplicado pelo número inteiro abaixo várias vezes até chegar em 1.\n",
    "\n",
    "$$ 5! = 5 * 4 * 3 * 2 * 1 = 120 $$"
   ]
  },
  {
   "cell_type": "code",
   "execution_count": null,
   "metadata": {
    "colab": {
     "base_uri": "https://localhost:8080/"
    },
    "executionInfo": {
     "elapsed": 233,
     "status": "ok",
     "timestamp": 1623422087880,
     "user": {
      "displayName": "Cristiano de Magalhães",
      "photoUrl": "",
      "userId": "03249985789837417195"
     },
     "user_tz": 180
    },
    "id": "KycgOhdQd64h",
    "outputId": "a21cff4c-3bf0-4f34-e038-2e6ef637553c"
   },
   "outputs": [
    {
     "data": {
      "text/plain": [
       "120"
      ]
     },
     "execution_count": 29,
     "metadata": {
      "tags": []
     },
     "output_type": "execute_result"
    }
   ],
   "source": [
    "math.factorial(5)"
   ]
  },
  {
   "cell_type": "markdown",
   "metadata": {
    "id": "SXOWD--nelk0"
   },
   "source": [
    "### **`math.gcd(x, y)`** Máximo Divisor Comum (MDC)\n",
    "\n",
    "MDC em inglês é **_Greatest Commom Divisor (GCD)_**, por isso o nome da função.\n",
    "\n",
    "Retorna o maior **número inteiro** que divide os números inseridos."
   ]
  },
  {
   "cell_type": "code",
   "execution_count": null,
   "metadata": {
    "colab": {
     "base_uri": "https://localhost:8080/"
    },
    "executionInfo": {
     "elapsed": 242,
     "status": "ok",
     "timestamp": 1623422173247,
     "user": {
      "displayName": "Cristiano de Magalhães",
      "photoUrl": "",
      "userId": "03249985789837417195"
     },
     "user_tz": 180
    },
    "id": "U1Hjlk5zfBQz",
    "outputId": "494adfd4-3b93-4609-b88e-e451ad6ee3fb"
   },
   "outputs": [
    {
     "data": {
      "text/plain": [
       "100"
      ]
     },
     "execution_count": 31,
     "metadata": {
      "tags": []
     },
     "output_type": "execute_result"
    }
   ],
   "source": [
    "math.gcd(200,300)"
   ]
  },
  {
   "cell_type": "markdown",
   "metadata": {
    "id": "5PX5ov5EgaMV"
   },
   "source": [
    "### **`math.lcm(x, y)`** Mínimo Múltiplo Comum (MMC)\n",
    "\n",
    "MMC em inglês é **_Least Common Multiple (LCM)_**, por isso o nome da função.\n",
    "\n",
    "Retorna o menor **número inteiro** que é múltiplo comum aos números inseridos.\n",
    "\n",
    "```python\n",
    "math.lcm(200,300)\n",
    "```\n",
    "Só está disponível a partir do Python 3.9."
   ]
  },
  {
   "cell_type": "code",
   "execution_count": null,
   "metadata": {
    "colab": {
     "base_uri": "https://localhost:8080/"
    },
    "executionInfo": {
     "elapsed": 244,
     "status": "ok",
     "timestamp": 1623422330552,
     "user": {
      "displayName": "Cristiano de Magalhães",
      "photoUrl": "",
      "userId": "03249985789837417195"
     },
     "user_tz": 180
    },
    "id": "ri-_fdDsgmNr",
    "outputId": "1f7d01dc-5e8f-4313-c4c8-8d714bf6daa2"
   },
   "outputs": [
    {
     "name": "stdout",
     "output_type": "stream",
     "text": [
      "Python 3.7.10\n"
     ]
    }
   ],
   "source": [
    "!python --version"
   ]
  },
  {
   "cell_type": "markdown",
   "metadata": {
    "id": "V_gnd0CZhjSZ"
   },
   "source": [
    "### **`math.remainder(x, y)`**\n",
    "\n",
    "Similar ao módulo `%` entre dois números, retorna o resto da divisão, mas este funciona com números `float`."
   ]
  },
  {
   "cell_type": "code",
   "execution_count": null,
   "metadata": {
    "colab": {
     "base_uri": "https://localhost:8080/"
    },
    "executionInfo": {
     "elapsed": 245,
     "status": "ok",
     "timestamp": 1623422391747,
     "user": {
      "displayName": "Cristiano de Magalhães",
      "photoUrl": "",
      "userId": "03249985789837417195"
     },
     "user_tz": 180
    },
    "id": "hYMAi08Rg61i",
    "outputId": "1cc25f08-f036-4c98-edd6-33534e4c72a4"
   },
   "outputs": [
    {
     "data": {
      "text/plain": [
       "0.09999999999999964"
      ]
     },
     "execution_count": 35,
     "metadata": {
      "tags": []
     },
     "output_type": "execute_result"
    }
   ],
   "source": [
    "math.remainder(4.5, 2.2)"
   ]
  },
  {
   "cell_type": "markdown",
   "metadata": {
    "id": "OOscP5HAdNNm"
   },
   "source": [
    "## Funções de exponenciação, raiz e logarítmos"
   ]
  },
  {
   "cell_type": "markdown",
   "metadata": {
    "id": "cfVfSCDziPAI"
   },
   "source": [
    "### **`math.pow(x, y)`** e __`**`__: Exponenciação (Potenciação)\n",
    "\n",
    "Para elevar um número a outro.\n",
    "\n",
    "$$ x^{y} $$\n",
    "\n",
    "`pow()` vem de **pow**er, que em inglês é o termo utilizado para exponenciação. \n",
    "\n",
    "Por exemplo:\n",
    "> \"2 (dois) elevado a 3a. (terceira) potência\"\n",
    "\n",
    "fala-se\n",
    "\n",
    ">\"_2 (two) to the power of 3 (three)_\""
   ]
  },
  {
   "cell_type": "code",
   "execution_count": null,
   "metadata": {
    "colab": {
     "base_uri": "https://localhost:8080/"
    },
    "executionInfo": {
     "elapsed": 274,
     "status": "ok",
     "timestamp": 1623422470645,
     "user": {
      "displayName": "Cristiano de Magalhães",
      "photoUrl": "",
      "userId": "03249985789837417195"
     },
     "user_tz": 180
    },
    "id": "bi27kwBCiOuQ",
    "outputId": "01b5e28b-3b41-4318-a8b5-fe94971a1c1b"
   },
   "outputs": [
    {
     "data": {
      "text/plain": [
       "5.666695778750081"
      ]
     },
     "execution_count": 36,
     "metadata": {
      "tags": []
     },
     "output_type": "execute_result"
    }
   ],
   "source": [
    "2.2 ** 2.2"
   ]
  },
  {
   "cell_type": "code",
   "execution_count": null,
   "metadata": {
    "colab": {
     "base_uri": "https://localhost:8080/"
    },
    "executionInfo": {
     "elapsed": 257,
     "status": "ok",
     "timestamp": 1623422476081,
     "user": {
      "displayName": "Cristiano de Magalhães",
      "photoUrl": "",
      "userId": "03249985789837417195"
     },
     "user_tz": 180
    },
    "id": "SZkjWd0djB1o",
    "outputId": "cec73df6-f054-408c-ce38-655348074840"
   },
   "outputs": [
    {
     "data": {
      "text/plain": [
       "5.666695778750081"
      ]
     },
     "execution_count": 37,
     "metadata": {
      "tags": []
     },
     "output_type": "execute_result"
    }
   ],
   "source": [
    "math.pow(2.2, 2.2)"
   ]
  },
  {
   "cell_type": "code",
   "execution_count": null,
   "metadata": {
    "colab": {
     "base_uri": "https://localhost:8080/"
    },
    "executionInfo": {
     "elapsed": 229,
     "status": "ok",
     "timestamp": 1623422495478,
     "user": {
      "displayName": "Cristiano de Magalhães",
      "photoUrl": "",
      "userId": "03249985789837417195"
     },
     "user_tz": 180
    },
    "id": "TN6ruwIehTtO",
    "outputId": "262adffe-dde0-496e-878b-573c3e295f36"
   },
   "outputs": [
    {
     "data": {
      "text/plain": [
       "True"
      ]
     },
     "execution_count": 38,
     "metadata": {
      "tags": []
     },
     "output_type": "execute_result"
    }
   ],
   "source": [
    "math.pow(2.2, 2.2) == 2.2 ** 2.2"
   ]
  },
  {
   "cell_type": "markdown",
   "metadata": {
    "id": "UbAwZPtFjxTX"
   },
   "source": [
    "### **`math.sqrt(x)`** : Raiz quadrada\n",
    "\n",
    "Raiz quadrada em inglês é _square root_. Daí o nome dessa função: **SQ**uare **R**oo**T**.\n"
   ]
  },
  {
   "cell_type": "code",
   "execution_count": null,
   "metadata": {
    "colab": {
     "base_uri": "https://localhost:8080/"
    },
    "executionInfo": {
     "elapsed": 270,
     "status": "ok",
     "timestamp": 1623422565943,
     "user": {
      "displayName": "Cristiano de Magalhães",
      "photoUrl": "",
      "userId": "03249985789837417195"
     },
     "user_tz": 180
    },
    "id": "apeZVvCPEv-D",
    "outputId": "5c90fb09-3873-4f1d-b47b-939882d7bfb5"
   },
   "outputs": [
    {
     "data": {
      "text/plain": [
       "2.0"
      ]
     },
     "execution_count": 39,
     "metadata": {
      "tags": []
     },
     "output_type": "execute_result"
    }
   ],
   "source": [
    "math.sqrt(4)"
   ]
  },
  {
   "cell_type": "code",
   "execution_count": null,
   "metadata": {
    "colab": {
     "base_uri": "https://localhost:8080/"
    },
    "executionInfo": {
     "elapsed": 4,
     "status": "ok",
     "timestamp": 1623422567784,
     "user": {
      "displayName": "Cristiano de Magalhães",
      "photoUrl": "",
      "userId": "03249985789837417195"
     },
     "user_tz": 180
    },
    "id": "2PTNJ-j7Ey7Q",
    "outputId": "01d977ac-1a04-4e50-ad00-4aa14573be8a"
   },
   "outputs": [
    {
     "data": {
      "text/plain": [
       "5.0"
      ]
     },
     "execution_count": 40,
     "metadata": {
      "tags": []
     },
     "output_type": "execute_result"
    }
   ],
   "source": [
    "math.sqrt(25)"
   ]
  },
  {
   "cell_type": "code",
   "execution_count": null,
   "metadata": {
    "colab": {
     "base_uri": "https://localhost:8080/"
    },
    "executionInfo": {
     "elapsed": 5,
     "status": "ok",
     "timestamp": 1623422569787,
     "user": {
      "displayName": "Cristiano de Magalhães",
      "photoUrl": "",
      "userId": "03249985789837417195"
     },
     "user_tz": 180
    },
    "id": "KpDPe0cYE4CZ",
    "outputId": "6528844a-2272-43df-db74-ddceaf631f76"
   },
   "outputs": [
    {
     "data": {
      "text/plain": [
       "9.486832980505138"
      ]
     },
     "execution_count": 41,
     "metadata": {
      "tags": []
     },
     "output_type": "execute_result"
    }
   ],
   "source": [
    "math.sqrt(90)"
   ]
  },
  {
   "cell_type": "markdown",
   "metadata": {
    "id": "Fr30IfrOEihO"
   },
   "source": [
    "Curiosidade: se você elevar (exponenciação) um número ao inverso de outro, você obtém também uma raiz. Por exemplo:\n",
    "\n",
    "$$ 8^{\\frac{1}{3}} = \\sqrt[3]{8} = 2 $$\n",
    "\n",
    "Ou seja:\n",
    "\n",
    "$$ x^{\\frac{1}{n}} = \\sqrt[n]{x} $$"
   ]
  },
  {
   "cell_type": "code",
   "execution_count": null,
   "metadata": {
    "colab": {
     "base_uri": "https://localhost:8080/"
    },
    "executionInfo": {
     "elapsed": 265,
     "status": "ok",
     "timestamp": 1623422619073,
     "user": {
      "displayName": "Cristiano de Magalhães",
      "photoUrl": "",
      "userId": "03249985789837417195"
     },
     "user_tz": 180
    },
    "id": "nmNDNo33EfGD",
    "outputId": "b9300adb-cdbc-429e-d38f-c8ade8b46dbb"
   },
   "outputs": [
    {
     "data": {
      "text/plain": [
       "2.0"
      ]
     },
     "execution_count": 42,
     "metadata": {
      "tags": []
     },
     "output_type": "execute_result"
    }
   ],
   "source": [
    "# por exemplo, raiz quadrada de 4 pode ser\n",
    "4 ** (1/2)"
   ]
  },
  {
   "cell_type": "code",
   "execution_count": null,
   "metadata": {
    "colab": {
     "base_uri": "https://localhost:8080/"
    },
    "executionInfo": {
     "elapsed": 238,
     "status": "ok",
     "timestamp": 1623422622785,
     "user": {
      "displayName": "Cristiano de Magalhães",
      "photoUrl": "",
      "userId": "03249985789837417195"
     },
     "user_tz": 180
    },
    "id": "YQ-AycVhFrB4",
    "outputId": "4fcbebf9-70b7-4fb4-a06a-0512bdc71e36"
   },
   "outputs": [
    {
     "data": {
      "text/plain": [
       "5.0"
      ]
     },
     "execution_count": 43,
     "metadata": {
      "tags": []
     },
     "output_type": "execute_result"
    }
   ],
   "source": [
    "25 ** (1/2)"
   ]
  },
  {
   "cell_type": "code",
   "execution_count": null,
   "metadata": {
    "colab": {
     "base_uri": "https://localhost:8080/"
    },
    "executionInfo": {
     "elapsed": 282,
     "status": "ok",
     "timestamp": 1623422625950,
     "user": {
      "displayName": "Cristiano de Magalhães",
      "photoUrl": "",
      "userId": "03249985789837417195"
     },
     "user_tz": 180
    },
    "id": "Mt_BvC-VFu0M",
    "outputId": "9b7753fd-6411-45cb-b239-7499cfc8d5a5"
   },
   "outputs": [
    {
     "data": {
      "text/plain": [
       "9.486832980505138"
      ]
     },
     "execution_count": 44,
     "metadata": {
      "tags": []
     },
     "output_type": "execute_result"
    }
   ],
   "source": [
    "90 ** (1/2)"
   ]
  },
  {
   "cell_type": "code",
   "execution_count": null,
   "metadata": {
    "colab": {
     "base_uri": "https://localhost:8080/"
    },
    "executionInfo": {
     "elapsed": 249,
     "status": "ok",
     "timestamp": 1623422642419,
     "user": {
      "displayName": "Cristiano de Magalhães",
      "photoUrl": "",
      "userId": "03249985789837417195"
     },
     "user_tz": 180
    },
    "id": "8wqLVrGPh4Dt",
    "outputId": "3307010b-e2f4-4561-8275-94845481dc3d"
   },
   "outputs": [
    {
     "data": {
      "text/plain": [
       "True"
      ]
     },
     "execution_count": 45,
     "metadata": {
      "tags": []
     },
     "output_type": "execute_result"
    }
   ],
   "source": [
    "math.sqrt(90) == 90 ** (1/2)"
   ]
  },
  {
   "cell_type": "markdown",
   "metadata": {
    "id": "SO9S02_nFy0Z"
   },
   "source": [
    "Mas o legal é utilizar esse conceito para calcular outras raízes, sem ser a quadrada.\n",
    "\n",
    "Por exemplo:\n",
    "\n",
    "$$ \\sqrt[4]{256} $$"
   ]
  },
  {
   "cell_type": "code",
   "execution_count": null,
   "metadata": {
    "colab": {
     "base_uri": "https://localhost:8080/"
    },
    "executionInfo": {
     "elapsed": 1544,
     "status": "ok",
     "timestamp": 1623422684621,
     "user": {
      "displayName": "Cristiano de Magalhães",
      "photoUrl": "",
      "userId": "03249985789837417195"
     },
     "user_tz": 180
    },
    "id": "wKPHCHthF5aJ",
    "outputId": "eb79cca5-bd97-42bc-ccbf-e538a1ad7ac6"
   },
   "outputs": [
    {
     "data": {
      "text/plain": [
       "4.0"
      ]
     },
     "execution_count": 46,
     "metadata": {
      "tags": []
     },
     "output_type": "execute_result"
    }
   ],
   "source": [
    "256 ** (1/4)"
   ]
  },
  {
   "cell_type": "code",
   "execution_count": null,
   "metadata": {
    "colab": {
     "base_uri": "https://localhost:8080/"
    },
    "executionInfo": {
     "elapsed": 228,
     "status": "ok",
     "timestamp": 1623422706012,
     "user": {
      "displayName": "Cristiano de Magalhães",
      "photoUrl": "",
      "userId": "03249985789837417195"
     },
     "user_tz": 180
    },
    "id": "6gewwgMjiGQF",
    "outputId": "21b4f5a4-ae61-4573-cc83-917c46f7b3dd"
   },
   "outputs": [
    {
     "data": {
      "text/plain": [
       "256"
      ]
     },
     "execution_count": 48,
     "metadata": {
      "tags": []
     },
     "output_type": "execute_result"
    }
   ],
   "source": [
    "4 ** 4"
   ]
  },
  {
   "cell_type": "markdown",
   "metadata": {
    "id": "Yg6kEzDyGJEC"
   },
   "source": [
    "Ou ainda:\n",
    "\n",
    "$$ \\sqrt[8]{256} $$"
   ]
  },
  {
   "cell_type": "code",
   "execution_count": null,
   "metadata": {
    "colab": {
     "base_uri": "https://localhost:8080/"
    },
    "executionInfo": {
     "elapsed": 241,
     "status": "ok",
     "timestamp": 1623422716444,
     "user": {
      "displayName": "Cristiano de Magalhães",
      "photoUrl": "",
      "userId": "03249985789837417195"
     },
     "user_tz": 180
    },
    "id": "He_Czr9XGRa7",
    "outputId": "c8fd06d7-19f6-4b5f-cb55-e834109e2aec"
   },
   "outputs": [
    {
     "data": {
      "text/plain": [
       "2.0"
      ]
     },
     "execution_count": 49,
     "metadata": {
      "tags": []
     },
     "output_type": "execute_result"
    }
   ],
   "source": [
    "256 ** (1/8)"
   ]
  },
  {
   "cell_type": "code",
   "execution_count": null,
   "metadata": {
    "colab": {
     "base_uri": "https://localhost:8080/"
    },
    "executionInfo": {
     "elapsed": 241,
     "status": "ok",
     "timestamp": 1623422742444,
     "user": {
      "displayName": "Cristiano de Magalhães",
      "photoUrl": "",
      "userId": "03249985789837417195"
     },
     "user_tz": 180
    },
    "id": "ECJMUA8RiOKh",
    "outputId": "d534aa01-c751-455c-be15-8357e5b4801c"
   },
   "outputs": [
    {
     "data": {
      "text/plain": [
       "256"
      ]
     },
     "execution_count": 51,
     "metadata": {
      "tags": []
     },
     "output_type": "execute_result"
    }
   ],
   "source": [
    "2 ** 8"
   ]
  },
  {
   "cell_type": "markdown",
   "metadata": {
    "id": "9_Kq9lkK39Ss"
   },
   "source": [
    "### **`math.log(x)`** : Logarítmos"
   ]
  },
  {
   "cell_type": "code",
   "execution_count": null,
   "metadata": {
    "colab": {
     "base_uri": "https://localhost:8080/"
    },
    "executionInfo": {
     "elapsed": 253,
     "status": "ok",
     "timestamp": 1623422772471,
     "user": {
      "displayName": "Cristiano de Magalhães",
      "photoUrl": "",
      "userId": "03249985789837417195"
     },
     "user_tz": 180
    },
    "id": "kGqewOHuPThn",
    "outputId": "7f8add99-a7b6-4c66-8b92-95928d6d5abe"
   },
   "outputs": [
    {
     "data": {
      "text/plain": [
       "1.0"
      ]
     },
     "execution_count": 52,
     "metadata": {
      "tags": []
     },
     "output_type": "execute_result"
    }
   ],
   "source": [
    "# Logarítmo em base 'neperiana' (e: número de Euler (óiler))\n",
    "math.log(math.e)"
   ]
  },
  {
   "cell_type": "code",
   "execution_count": null,
   "metadata": {
    "colab": {
     "base_uri": "https://localhost:8080/"
    },
    "executionInfo": {
     "elapsed": 271,
     "status": "ok",
     "timestamp": 1623422783183,
     "user": {
      "displayName": "Cristiano de Magalhães",
      "photoUrl": "",
      "userId": "03249985789837417195"
     },
     "user_tz": 180
    },
    "id": "jnwHcPBSPm5M",
    "outputId": "c147958c-ee78-438e-b2c6-dcf3a8b9d6e7"
   },
   "outputs": [
    {
     "data": {
      "text/plain": [
       "2.0794415416798357"
      ]
     },
     "execution_count": 53,
     "metadata": {
      "tags": []
     },
     "output_type": "execute_result"
    }
   ],
   "source": [
    "math.log(8)"
   ]
  },
  {
   "cell_type": "code",
   "execution_count": null,
   "metadata": {
    "colab": {
     "base_uri": "https://localhost:8080/"
    },
    "executionInfo": {
     "elapsed": 241,
     "status": "ok",
     "timestamp": 1623422858716,
     "user": {
      "displayName": "Cristiano de Magalhães",
      "photoUrl": "",
      "userId": "03249985789837417195"
     },
     "user_tz": 180
    },
    "id": "w7w-gYaSPpIy",
    "outputId": "7afa2a19-3c16-4a63-f51f-17de2c6b9588"
   },
   "outputs": [
    {
     "data": {
      "text/plain": [
       "3.0"
      ]
     },
     "execution_count": 57,
     "metadata": {
      "tags": []
     },
     "output_type": "execute_result"
    }
   ],
   "source": [
    "math.log(8,2)"
   ]
  },
  {
   "cell_type": "markdown",
   "metadata": {
    "id": "kICw5nc83-IL"
   },
   "source": [
    "### **`math.log10(x)`**"
   ]
  },
  {
   "cell_type": "code",
   "execution_count": null,
   "metadata": {
    "colab": {
     "base_uri": "https://localhost:8080/"
    },
    "executionInfo": {
     "elapsed": 245,
     "status": "ok",
     "timestamp": 1623422900354,
     "user": {
      "displayName": "Cristiano de Magalhães",
      "photoUrl": "",
      "userId": "03249985789837417195"
     },
     "user_tz": 180
    },
    "id": "E9GoeWmWPxec",
    "outputId": "2098564a-889c-4fdb-fabd-e27e744072e1"
   },
   "outputs": [
    {
     "data": {
      "text/plain": [
       "1.0"
      ]
     },
     "execution_count": 58,
     "metadata": {
      "tags": []
     },
     "output_type": "execute_result"
    }
   ],
   "source": [
    "# log na base 10\n",
    "math.log10(10)"
   ]
  },
  {
   "cell_type": "code",
   "execution_count": null,
   "metadata": {
    "colab": {
     "base_uri": "https://localhost:8080/"
    },
    "executionInfo": {
     "elapsed": 233,
     "status": "ok",
     "timestamp": 1623422905719,
     "user": {
      "displayName": "Cristiano de Magalhães",
      "photoUrl": "",
      "userId": "03249985789837417195"
     },
     "user_tz": 180
    },
    "id": "SVQfhXbTP2Oo",
    "outputId": "2ba9751a-5880-4172-9b73-bd4b0857261a"
   },
   "outputs": [
    {
     "data": {
      "text/plain": [
       "1.0"
      ]
     },
     "execution_count": 59,
     "metadata": {
      "tags": []
     },
     "output_type": "execute_result"
    }
   ],
   "source": [
    "# log na base 10 também\n",
    "math.log(10,10)"
   ]
  },
  {
   "cell_type": "markdown",
   "metadata": {
    "id": "aVRf-1cUaWnn"
   },
   "source": [
    "## Funções trigonométricas\n",
    "\n",
    "**seno**, **cosseno**, **tangente** e afins: temos uma função para cada operação. Mas seus nomes estão em inglês, então veja a tabela para ter uma ajuda:\n",
    "\n",
    "nome | função do `math`\n",
    "---|---\n",
    "seno | `math.sin()`\n",
    "cosseno | `math.cos()`\n",
    "tangente | `math.tan()`"
   ]
  },
  {
   "cell_type": "markdown",
   "metadata": {
    "id": "iNYRItBHlaGe"
   },
   "source": [
    "### Tabela de ângulos notáveis\n",
    "\n",
    "$$ $$|0° |30°|45°|60°|90°\n",
    "--------|:-:|:-:|:-:|:-:|:-:\n",
    "seno|$$0$$|$$\\frac{1}{2}$$|$$\\frac{\\sqrt{2}}{2}$$|$$\\frac{\\sqrt{3}}{2}$$|$$1$$\n",
    "cosseno|$$1$$|$$\\frac{\\sqrt{3}}{2}$$|$$\\frac{\\sqrt{2}}{2}$$|$$\\frac{1}{2}$$|$$0$$\n",
    "tangente|$$0$$|$$\\frac{\\sqrt{3}}{3}$$|$$1$$|$$\\sqrt{3}$$|$$\\nexists$$ **ou** $$\\infty$$"
   ]
  },
  {
   "cell_type": "markdown",
   "metadata": {
    "id": "erU-uAfhaQXI"
   },
   "source": [
    "### **`math.sin(x)`**\n",
    "\n",
    "ângulo em graus | ângulo em radianos | seno | resultado esperado\n",
    ":-: |:-:               |:-:       |:-:\n",
    "0°  |$$0$$             |`sin(0)`  |$$0$$\n",
    "30° |$$\\frac{\\pi}{6}$$ |`sin(30)` |$$\\frac{1}{2} = 0.5$$\n",
    "45° |$$\\frac{\\pi}{4}$$ |`sin(45)` |$$\\frac{\\sqrt{2}}{2} \\approx 0.707$$\n",
    "60° |$$\\frac{\\pi}{3}$$ |`sin(60)` |$$\\frac{\\sqrt{3}}{2} \\approx 0.866$$\n",
    "90° |$$\\frac{\\pi}{2}$$ |`sin(90)` |$$1$$\n",
    "180°|$$\\pi$$           |`sin(180)`|$$0$$\n",
    "270°|$$\\frac{3\\pi}{2}$$|`sin(270)`|$$-1$$\n"
   ]
  },
  {
   "cell_type": "code",
   "execution_count": null,
   "metadata": {
    "colab": {
     "base_uri": "https://localhost:8080/"
    },
    "executionInfo": {
     "elapsed": 243,
     "status": "ok",
     "timestamp": 1623423085643,
     "user": {
      "displayName": "Cristiano de Magalhães",
      "photoUrl": "",
      "userId": "03249985789837417195"
     },
     "user_tz": 180
    },
    "id": "295W6YgGjb24",
    "outputId": "98c002dc-9d19-457a-9525-a201c4418166"
   },
   "outputs": [
    {
     "data": {
      "text/plain": [
       "0.5"
      ]
     },
     "execution_count": 63,
     "metadata": {
      "tags": []
     },
     "output_type": "execute_result"
    }
   ],
   "source": [
    "round(math.sin(math.pi / 6), 2)"
   ]
  },
  {
   "cell_type": "code",
   "execution_count": null,
   "metadata": {
    "colab": {
     "base_uri": "https://localhost:8080/"
    },
    "executionInfo": {
     "elapsed": 243,
     "status": "ok",
     "timestamp": 1623423036048,
     "user": {
      "displayName": "Cristiano de Magalhães",
      "photoUrl": "",
      "userId": "03249985789837417195"
     },
     "user_tz": 180
    },
    "id": "Jjw3kMAiax2L",
    "outputId": "98a54bea-c58c-40f7-b9a4-f6b0affd1562"
   },
   "outputs": [
    {
     "data": {
      "text/plain": [
       "True"
      ]
     },
     "execution_count": 60,
     "metadata": {
      "tags": []
     },
     "output_type": "execute_result"
    }
   ],
   "source": [
    "# verificando se o valor do seno de 45° está correto\n",
    "\n",
    "# calculando o seno de 'pi/4'\n",
    "val_1 = math.sin(math.pi/4)\n",
    "# atribuindo o valor de 'raiz de dois' / 2\n",
    "val_2 = math.sqrt(2)/2\n",
    "\n",
    "# Utilizando uma função da bib. Math para saber se os valores são próximos\n",
    "# (porque serem exatamente iguais às vezes é complicado com valores 'float')\n",
    "math.isclose(val_1, val_2)"
   ]
  },
  {
   "cell_type": "code",
   "execution_count": null,
   "metadata": {
    "colab": {
     "base_uri": "https://localhost:8080/"
    },
    "executionInfo": {
     "elapsed": 267,
     "status": "ok",
     "timestamp": 1623423130839,
     "user": {
      "displayName": "Cristiano de Magalhães",
      "photoUrl": "",
      "userId": "03249985789837417195"
     },
     "user_tz": 180
    },
    "id": "lK03O2hBjvq9",
    "outputId": "57ef6625-b7f2-408e-e090-fc815d13a942"
   },
   "outputs": [
    {
     "name": "stdout",
     "output_type": "stream",
     "text": [
      "Help on built-in function sin in module math:\n",
      "\n",
      "sin(x, /)\n",
      "    Return the sine of x (measured in radians).\n",
      "\n"
     ]
    }
   ],
   "source": [
    "help(math.sin)"
   ]
  },
  {
   "cell_type": "code",
   "execution_count": null,
   "metadata": {
    "colab": {
     "base_uri": "https://localhost:8080/"
    },
    "executionInfo": {
     "elapsed": 238,
     "status": "ok",
     "timestamp": 1623423170715,
     "user": {
      "displayName": "Cristiano de Magalhães",
      "photoUrl": "",
      "userId": "03249985789837417195"
     },
     "user_tz": 180
    },
    "id": "KGgRtc1EPJq1",
    "outputId": "e5d76260-47e6-451b-ce44-d6e2b382f30d"
   },
   "outputs": [
    {
     "data": {
      "text/plain": [
       "0.0"
      ]
     },
     "execution_count": 65,
     "metadata": {
      "tags": []
     },
     "output_type": "execute_result"
    }
   ],
   "source": [
    "# 0°\n",
    "round(math.sin(0),3)"
   ]
  },
  {
   "cell_type": "code",
   "execution_count": null,
   "metadata": {
    "colab": {
     "base_uri": "https://localhost:8080/"
    },
    "executionInfo": {
     "elapsed": 299,
     "status": "ok",
     "timestamp": 1623423176089,
     "user": {
      "displayName": "Cristiano de Magalhães",
      "photoUrl": "",
      "userId": "03249985789837417195"
     },
     "user_tz": 180
    },
    "id": "8GuxeQbAZt54",
    "outputId": "ab60115e-54ea-4698-a250-48597a72eab1"
   },
   "outputs": [
    {
     "data": {
      "text/plain": [
       "0.5"
      ]
     },
     "execution_count": 66,
     "metadata": {
      "tags": []
     },
     "output_type": "execute_result"
    }
   ],
   "source": [
    "# 30° = math.pi / 6\n",
    "round(math.sin(math.pi/6),3)"
   ]
  },
  {
   "cell_type": "code",
   "execution_count": null,
   "metadata": {
    "colab": {
     "base_uri": "https://localhost:8080/"
    },
    "executionInfo": {
     "elapsed": 230,
     "status": "ok",
     "timestamp": 1623423182073,
     "user": {
      "displayName": "Cristiano de Magalhães",
      "photoUrl": "",
      "userId": "03249985789837417195"
     },
     "user_tz": 180
    },
    "id": "50cu6ntjrlF3",
    "outputId": "5ae62a70-a14b-41d2-d805-ee14d33af177"
   },
   "outputs": [
    {
     "data": {
      "text/plain": [
       "0.707"
      ]
     },
     "execution_count": 67,
     "metadata": {
      "tags": []
     },
     "output_type": "execute_result"
    }
   ],
   "source": [
    "# 45° = math.pi / 4\n",
    "round(math.sin(math.pi/4),3)"
   ]
  },
  {
   "cell_type": "code",
   "execution_count": null,
   "metadata": {
    "colab": {
     "base_uri": "https://localhost:8080/"
    },
    "executionInfo": {
     "elapsed": 225,
     "status": "ok",
     "timestamp": 1623423189313,
     "user": {
      "displayName": "Cristiano de Magalhães",
      "photoUrl": "",
      "userId": "03249985789837417195"
     },
     "user_tz": 180
    },
    "id": "feF2Z3LNrk6J",
    "outputId": "208d88ee-5fd3-4d52-8f0f-b863e7534f4b"
   },
   "outputs": [
    {
     "data": {
      "text/plain": [
       "0.866"
      ]
     },
     "execution_count": 68,
     "metadata": {
      "tags": []
     },
     "output_type": "execute_result"
    }
   ],
   "source": [
    "# 60° = math.pi / 3\n",
    "round(math.sin(math.pi/3),3)"
   ]
  },
  {
   "cell_type": "code",
   "execution_count": null,
   "metadata": {
    "colab": {
     "base_uri": "https://localhost:8080/"
    },
    "executionInfo": {
     "elapsed": 238,
     "status": "ok",
     "timestamp": 1623423195911,
     "user": {
      "displayName": "Cristiano de Magalhães",
      "photoUrl": "",
      "userId": "03249985789837417195"
     },
     "user_tz": 180
    },
    "id": "GFocs6Hqr4ts",
    "outputId": "ea44ff69-caa6-44f4-fa77-aedeab118623"
   },
   "outputs": [
    {
     "data": {
      "text/plain": [
       "1.0"
      ]
     },
     "execution_count": 69,
     "metadata": {
      "tags": []
     },
     "output_type": "execute_result"
    }
   ],
   "source": [
    "# 90° = math.pi / 2\n",
    "round(math.sin(math.pi/2),3)"
   ]
  },
  {
   "cell_type": "code",
   "execution_count": null,
   "metadata": {
    "colab": {
     "base_uri": "https://localhost:8080/"
    },
    "executionInfo": {
     "elapsed": 260,
     "status": "ok",
     "timestamp": 1623423198307,
     "user": {
      "displayName": "Cristiano de Magalhães",
      "photoUrl": "",
      "userId": "03249985789837417195"
     },
     "user_tz": 180
    },
    "id": "T2XT56Jpr8TZ",
    "outputId": "62f70484-3f9f-4c60-f72b-27ca56779dcb"
   },
   "outputs": [
    {
     "data": {
      "text/plain": [
       "0.0"
      ]
     },
     "execution_count": 70,
     "metadata": {
      "tags": []
     },
     "output_type": "execute_result"
    }
   ],
   "source": [
    "# 180° = math.pi\n",
    "round(math.sin(math.pi),3)"
   ]
  },
  {
   "cell_type": "code",
   "execution_count": null,
   "metadata": {
    "colab": {
     "base_uri": "https://localhost:8080/"
    },
    "executionInfo": {
     "elapsed": 232,
     "status": "ok",
     "timestamp": 1623423200681,
     "user": {
      "displayName": "Cristiano de Magalhães",
      "photoUrl": "",
      "userId": "03249985789837417195"
     },
     "user_tz": 180
    },
    "id": "X8ZaSCMKr8z9",
    "outputId": "feb4e3e9-2be7-4814-ad12-b7621782d4f1"
   },
   "outputs": [
    {
     "data": {
      "text/plain": [
       "-1.0"
      ]
     },
     "execution_count": 71,
     "metadata": {
      "tags": []
     },
     "output_type": "execute_result"
    }
   ],
   "source": [
    "# 270° = 3 * math.pi / 2\n",
    "round(math.sin(3 * math.pi / 2),3)"
   ]
  },
  {
   "cell_type": "markdown",
   "metadata": {
    "id": "DrsCKGYVN9uE"
   },
   "source": [
    "### **`math.cos(x)`**\n",
    "\n",
    "ângulo em graus | ângulo em radianos | seno | resultado esperado\n",
    ":-: |:-:               |:-:       |:-:\n",
    "0°  |$$0$$             |`cos(0)`  |$$1$$\n",
    "30° |$$\\frac{\\pi}{6}$$ |`cos(30)` |$$\\frac{\\sqrt{3}}{2} \\approx 0.866$$\n",
    "45° |$$\\frac{\\pi}{4}$$ |`cos(45)` |$$\\frac{\\sqrt{2}}{2} \\approx 0.707$$\n",
    "60° |$$\\frac{\\pi}{3}$$ |`cos(60)` |$$\\frac{1}{2} = 0.5$$\n",
    "90° |$$\\frac{\\pi}{2}$$ |`cos(90)` |$$0$$\n",
    "180°|$$\\pi$$           |`cos(180)`|$$-1$$\n",
    "270°|$$\\frac{3\\pi}{2}$$|`cos(270)`|$$0$$\n"
   ]
  },
  {
   "cell_type": "code",
   "execution_count": null,
   "metadata": {
    "colab": {
     "base_uri": "https://localhost:8080/"
    },
    "executionInfo": {
     "elapsed": 241,
     "status": "ok",
     "timestamp": 1623423216989,
     "user": {
      "displayName": "Cristiano de Magalhães",
      "photoUrl": "",
      "userId": "03249985789837417195"
     },
     "user_tz": 180
    },
    "id": "cHAhMDLmOuBp",
    "outputId": "6c75a313-df33-4be3-ef88-ceafc7892475"
   },
   "outputs": [
    {
     "data": {
      "text/plain": [
       "True"
      ]
     },
     "execution_count": 72,
     "metadata": {
      "tags": []
     },
     "output_type": "execute_result"
    }
   ],
   "source": [
    "# verificando se o valor do cosseno de 45° está correto\n",
    "\n",
    "# calculando o cosseno de 'pi/4'\n",
    "val_1 = math.cos(math.pi/4)\n",
    "# atribuindo o valor de 'raiz de dois' / 2\n",
    "val_2 = math.sqrt(2)/2\n",
    "\n",
    "# Utilizando uma função da bib. Math para saber se os valores são próximos\n",
    "# (porque serem exatamente iguais às vezes é complicado com valores 'float')\n",
    "math.isclose(val_1, val_2)"
   ]
  },
  {
   "cell_type": "code",
   "execution_count": null,
   "metadata": {
    "colab": {
     "base_uri": "https://localhost:8080/"
    },
    "executionInfo": {
     "elapsed": 395,
     "status": "ok",
     "timestamp": 1623423222116,
     "user": {
      "displayName": "Cristiano de Magalhães",
      "photoUrl": "",
      "userId": "03249985789837417195"
     },
     "user_tz": 180
    },
    "id": "gV7flQutPhkO",
    "outputId": "c5e5b8c6-b53c-4696-dbec-8065579ba72b"
   },
   "outputs": [
    {
     "data": {
      "text/plain": [
       "1.0"
      ]
     },
     "execution_count": 73,
     "metadata": {
      "tags": []
     },
     "output_type": "execute_result"
    }
   ],
   "source": [
    "# 0° = 0\n",
    "round(math.cos(0),3)"
   ]
  },
  {
   "cell_type": "code",
   "execution_count": null,
   "metadata": {
    "colab": {
     "base_uri": "https://localhost:8080/"
    },
    "executionInfo": {
     "elapsed": 248,
     "status": "ok",
     "timestamp": 1623423226786,
     "user": {
      "displayName": "Cristiano de Magalhães",
      "photoUrl": "",
      "userId": "03249985789837417195"
     },
     "user_tz": 180
    },
    "id": "DC7aTJUsOuBq",
    "outputId": "fe256110-eaa6-494e-d2ae-fc71c7141346"
   },
   "outputs": [
    {
     "data": {
      "text/plain": [
       "0.866"
      ]
     },
     "execution_count": 74,
     "metadata": {
      "tags": []
     },
     "output_type": "execute_result"
    }
   ],
   "source": [
    "# 30° = math.pi / 6\n",
    "round(math.cos(math.pi/6),3)"
   ]
  },
  {
   "cell_type": "code",
   "execution_count": null,
   "metadata": {
    "colab": {
     "base_uri": "https://localhost:8080/"
    },
    "executionInfo": {
     "elapsed": 272,
     "status": "ok",
     "timestamp": 1623423229083,
     "user": {
      "displayName": "Cristiano de Magalhães",
      "photoUrl": "",
      "userId": "03249985789837417195"
     },
     "user_tz": 180
    },
    "id": "_1-FvWYcOuBr",
    "outputId": "67957913-d9a7-41ad-c319-6e4aea6d872c"
   },
   "outputs": [
    {
     "data": {
      "text/plain": [
       "0.707"
      ]
     },
     "execution_count": 75,
     "metadata": {
      "tags": []
     },
     "output_type": "execute_result"
    }
   ],
   "source": [
    "# 45° = math.pi / 4\n",
    "round(math.cos(math.pi/4),3)"
   ]
  },
  {
   "cell_type": "code",
   "execution_count": null,
   "metadata": {
    "colab": {
     "base_uri": "https://localhost:8080/"
    },
    "executionInfo": {
     "elapsed": 5,
     "status": "ok",
     "timestamp": 1623423230718,
     "user": {
      "displayName": "Cristiano de Magalhães",
      "photoUrl": "",
      "userId": "03249985789837417195"
     },
     "user_tz": 180
    },
    "id": "-RRwAXS-OuBr",
    "outputId": "8f02d3ba-cdff-48b3-b4d1-f16b2c97e393"
   },
   "outputs": [
    {
     "data": {
      "text/plain": [
       "0.5"
      ]
     },
     "execution_count": 76,
     "metadata": {
      "tags": []
     },
     "output_type": "execute_result"
    }
   ],
   "source": [
    "# 60° = math.pi / 3\n",
    "round(math.cos(math.pi/3),3)"
   ]
  },
  {
   "cell_type": "code",
   "execution_count": null,
   "metadata": {
    "colab": {
     "base_uri": "https://localhost:8080/"
    },
    "executionInfo": {
     "elapsed": 271,
     "status": "ok",
     "timestamp": 1623423232210,
     "user": {
      "displayName": "Cristiano de Magalhães",
      "photoUrl": "",
      "userId": "03249985789837417195"
     },
     "user_tz": 180
    },
    "id": "Gc7a3EilOuBr",
    "outputId": "d0de1242-223e-4a7e-faaa-cbd0e9d6ca21"
   },
   "outputs": [
    {
     "data": {
      "text/plain": [
       "0.0"
      ]
     },
     "execution_count": 77,
     "metadata": {
      "tags": []
     },
     "output_type": "execute_result"
    }
   ],
   "source": [
    "# 90° = math.pi / 2\n",
    "round(math.cos(math.pi/2),3)"
   ]
  },
  {
   "cell_type": "code",
   "execution_count": null,
   "metadata": {
    "colab": {
     "base_uri": "https://localhost:8080/"
    },
    "executionInfo": {
     "elapsed": 257,
     "status": "ok",
     "timestamp": 1623423234002,
     "user": {
      "displayName": "Cristiano de Magalhães",
      "photoUrl": "",
      "userId": "03249985789837417195"
     },
     "user_tz": 180
    },
    "id": "nLAf6nc-OuBr",
    "outputId": "3136c055-30de-4080-e8d7-44320e1d469c"
   },
   "outputs": [
    {
     "data": {
      "text/plain": [
       "-1.0"
      ]
     },
     "execution_count": 78,
     "metadata": {
      "tags": []
     },
     "output_type": "execute_result"
    }
   ],
   "source": [
    "# 180° = math.pi\n",
    "round(math.cos(math.pi),3)"
   ]
  },
  {
   "cell_type": "code",
   "execution_count": null,
   "metadata": {
    "colab": {
     "base_uri": "https://localhost:8080/"
    },
    "executionInfo": {
     "elapsed": 13,
     "status": "ok",
     "timestamp": 1623423236132,
     "user": {
      "displayName": "Cristiano de Magalhães",
      "photoUrl": "",
      "userId": "03249985789837417195"
     },
     "user_tz": 180
    },
    "id": "XuHc4kT5OuBr",
    "outputId": "02659c51-3e71-4b7b-cf24-d01373feb264"
   },
   "outputs": [
    {
     "data": {
      "text/plain": [
       "-0.0"
      ]
     },
     "execution_count": 79,
     "metadata": {
      "tags": []
     },
     "output_type": "execute_result"
    }
   ],
   "source": [
    "# 270° = 3 * math.pi / 2\n",
    "round(math.cos(3 * math.pi / 2),3)"
   ]
  },
  {
   "cell_type": "markdown",
   "metadata": {
    "id": "06yBSu8BSF6m"
   },
   "source": [
    "### **`math.tan(x)`**\n",
    "\n",
    "ângulo em graus | ângulo em radianos | seno | resultado esperado\n",
    ":-: |:-:               |:-:       |:-:\n",
    "0°  |$$0$$             |`tan(0)`  |$$0$$\n",
    "30° |$$\\frac{\\pi}{6}$$ |`tan(30)` |$$\\frac{\\sqrt{3}}{3} \\approx 0.577$$\n",
    "45° |$$\\frac{\\pi}{4}$$ |`tan(45)` |$$1$$\n",
    "60° |$$\\frac{\\pi}{3}$$ |`tan(60)` |$$\\sqrt{3} \\approx 1.732$$\n",
    "90° |$$\\frac{\\pi}{2}$$ |`tan(90)` |$$\\nexists$$ **ou** $$\\infty$$\n",
    "180°|$$\\pi$$           |`tan(180)`|$$0$$\n",
    "270°|$$\\frac{3\\pi}{2}$$|`tan(270)`|$$\\nexists$$ **ou** $$\\infty$$\n"
   ]
  },
  {
   "cell_type": "code",
   "execution_count": null,
   "metadata": {
    "colab": {
     "base_uri": "https://localhost:8080/"
    },
    "executionInfo": {
     "elapsed": 236,
     "status": "ok",
     "timestamp": 1623423247543,
     "user": {
      "displayName": "Cristiano de Magalhães",
      "photoUrl": "",
      "userId": "03249985789837417195"
     },
     "user_tz": 180
    },
    "id": "XZVl3LuGSF6r",
    "outputId": "17d36428-98ac-460e-ea36-4aad415a4607"
   },
   "outputs": [
    {
     "data": {
      "text/plain": [
       "0.0"
      ]
     },
     "execution_count": 80,
     "metadata": {
      "tags": []
     },
     "output_type": "execute_result"
    }
   ],
   "source": [
    "# 0° = 0\n",
    "round(math.tan(0),3)"
   ]
  },
  {
   "cell_type": "code",
   "execution_count": null,
   "metadata": {
    "colab": {
     "base_uri": "https://localhost:8080/"
    },
    "executionInfo": {
     "elapsed": 251,
     "status": "ok",
     "timestamp": 1623423265547,
     "user": {
      "displayName": "Cristiano de Magalhães",
      "photoUrl": "",
      "userId": "03249985789837417195"
     },
     "user_tz": 180
    },
    "id": "XoMzUDDcSF6r",
    "outputId": "64c1d64a-cc6d-4ac3-f947-4c14f964cc1c"
   },
   "outputs": [
    {
     "data": {
      "text/plain": [
       "0.577"
      ]
     },
     "execution_count": 81,
     "metadata": {
      "tags": []
     },
     "output_type": "execute_result"
    }
   ],
   "source": [
    "# 30° = math.pi / 6\n",
    "round(math.tan(math.pi/6),3)"
   ]
  },
  {
   "cell_type": "code",
   "execution_count": null,
   "metadata": {
    "colab": {
     "base_uri": "https://localhost:8080/"
    },
    "executionInfo": {
     "elapsed": 232,
     "status": "ok",
     "timestamp": 1623423268433,
     "user": {
      "displayName": "Cristiano de Magalhães",
      "photoUrl": "",
      "userId": "03249985789837417195"
     },
     "user_tz": 180
    },
    "id": "kCD-sAX5SF6r",
    "outputId": "1564509d-1b25-49f2-e9ff-0b4a90b1645e"
   },
   "outputs": [
    {
     "data": {
      "text/plain": [
       "1.0"
      ]
     },
     "execution_count": 82,
     "metadata": {
      "tags": []
     },
     "output_type": "execute_result"
    }
   ],
   "source": [
    "# 45° = math.pi / 4\n",
    "round(math.tan(math.pi/4),3)"
   ]
  },
  {
   "cell_type": "code",
   "execution_count": null,
   "metadata": {
    "colab": {
     "base_uri": "https://localhost:8080/"
    },
    "executionInfo": {
     "elapsed": 249,
     "status": "ok",
     "timestamp": 1623423271320,
     "user": {
      "displayName": "Cristiano de Magalhães",
      "photoUrl": "",
      "userId": "03249985789837417195"
     },
     "user_tz": 180
    },
    "id": "2ED5POEMSF6r",
    "outputId": "e8418cea-501d-434f-a329-77452ed997a9"
   },
   "outputs": [
    {
     "data": {
      "text/plain": [
       "1.732"
      ]
     },
     "execution_count": 83,
     "metadata": {
      "tags": []
     },
     "output_type": "execute_result"
    }
   ],
   "source": [
    "# 60° = math.pi / 3\n",
    "round(math.tan(math.pi/3),3)"
   ]
  },
  {
   "cell_type": "code",
   "execution_count": null,
   "metadata": {
    "colab": {
     "base_uri": "https://localhost:8080/"
    },
    "executionInfo": {
     "elapsed": 17,
     "status": "ok",
     "timestamp": 1623423273106,
     "user": {
      "displayName": "Cristiano de Magalhães",
      "photoUrl": "",
      "userId": "03249985789837417195"
     },
     "user_tz": 180
    },
    "id": "i4cMBxonSF6s",
    "outputId": "781ddc6a-3420-4f9f-8b23-1c3bae42bae4"
   },
   "outputs": [
    {
     "data": {
      "text/plain": [
       "1.633123935319537e+16"
      ]
     },
     "execution_count": 84,
     "metadata": {
      "tags": []
     },
     "output_type": "execute_result"
    }
   ],
   "source": [
    "# 90° = math.pi / 2\n",
    "math.tan(math.pi/2)"
   ]
  },
  {
   "cell_type": "markdown",
   "metadata": {
    "id": "fX5uc0rTVO-I"
   },
   "source": [
    "\n",
    "Observe que o número acima é:\n",
    "\n",
    "$$ 16.331.239.353.195.370 $$\n",
    "\n",
    "**ou seja:**\n",
    "\n",
    "> Dezesseis **QUATRILHÕES**\n",
    "\n",
    "> trezentos e trinta e um **TRILHÕES**\n",
    "\n",
    "> duzentos e trinta e nove **BILHÕES**\n",
    "\n",
    "> trezentos e cinquenta e três **MILHÕES**\n",
    "\n",
    "> cento e noventa e cinco **MIL**\n",
    "\n",
    "> trezentos e setenta.\n",
    "\n",
    "É, portanto, um número que podemos entender também como representante de um valor **MUITO GRANDE**.\n",
    "\n",
    "\n",
    "Como dissemos anteriormente, programas de computador não conseguem lidar muito bem com valores infinitos, então muitas vezes \"transformam\" esses números em valores muito altos.\n",
    "\n",
    "Esse é justamente o caso."
   ]
  },
  {
   "cell_type": "code",
   "execution_count": null,
   "metadata": {
    "id": "-jKQbPNET69T"
   },
   "outputs": [],
   "source": []
  },
  {
   "cell_type": "code",
   "execution_count": null,
   "metadata": {
    "colab": {
     "base_uri": "https://localhost:8080/"
    },
    "executionInfo": {
     "elapsed": 235,
     "status": "ok",
     "timestamp": 1623423382113,
     "user": {
      "displayName": "Cristiano de Magalhães",
      "photoUrl": "",
      "userId": "03249985789837417195"
     },
     "user_tz": 180
    },
    "id": "sJcovbVbSF6t",
    "outputId": "aa8a765d-6519-44d1-b200-e134a28fe909"
   },
   "outputs": [
    {
     "data": {
      "text/plain": [
       "-0.0"
      ]
     },
     "execution_count": 85,
     "metadata": {
      "tags": []
     },
     "output_type": "execute_result"
    }
   ],
   "source": [
    "# 180° = math.pi\n",
    "round(math.tan(math.pi),3)"
   ]
  },
  {
   "cell_type": "code",
   "execution_count": null,
   "metadata": {
    "colab": {
     "base_uri": "https://localhost:8080/"
    },
    "executionInfo": {
     "elapsed": 256,
     "status": "ok",
     "timestamp": 1623423385504,
     "user": {
      "displayName": "Cristiano de Magalhães",
      "photoUrl": "",
      "userId": "03249985789837417195"
     },
     "user_tz": 180
    },
    "id": "LtbxHBw-SF6t",
    "outputId": "a185306b-2150-4e3b-81eb-0bcedf0aee94"
   },
   "outputs": [
    {
     "data": {
      "text/plain": [
       "5443746451065123.0"
      ]
     },
     "execution_count": 86,
     "metadata": {
      "tags": []
     },
     "output_type": "execute_result"
    }
   ],
   "source": [
    "# Este aqui também retorna um número muito grande\n",
    "# que podemos entender como infinito\n",
    "\n",
    "# 270° = 3 * math.pi / 2\n",
    "math.tan(3 * math.pi / 2)"
   ]
  },
  {
   "cell_type": "markdown",
   "metadata": {
    "id": "26kyx3q0Wd-1"
   },
   "source": [
    "Também encontramos funções para encontrar os ângulos cujos valores de seno, cosseno e tangente conhecemos:"
   ]
  },
  {
   "cell_type": "markdown",
   "metadata": {
    "id": "NHu-cdnvWzJ0"
   },
   "source": [
    "### **`math.asin(x)`**\n",
    "\n",
    "Retorna o ângulo cujo seno é o valor informado.\n",
    "\n",
    "**IMPORTANTE:** Retorna o valor em **radianos**, para saber o valor em graus, podemos utilizar outra função disponibilizada pela biblioteca `math` que é a `math.degrees(x)`."
   ]
  },
  {
   "cell_type": "code",
   "execution_count": null,
   "metadata": {
    "colab": {
     "base_uri": "https://localhost:8080/"
    },
    "executionInfo": {
     "elapsed": 237,
     "status": "ok",
     "timestamp": 1623423459816,
     "user": {
      "displayName": "Cristiano de Magalhães",
      "photoUrl": "",
      "userId": "03249985789837417195"
     },
     "user_tz": 180
    },
    "id": "TDMgXmpWXLeO",
    "outputId": "1615693f-1cbc-47b1-e682-9cfc13fab413"
   },
   "outputs": [
    {
     "data": {
      "text/plain": [
       "0.5235987755982989"
      ]
     },
     "execution_count": 87,
     "metadata": {
      "tags": []
     },
     "output_type": "execute_result"
    }
   ],
   "source": [
    "# arco seno de 1/2 ou 0.5\n",
    "math.asin(1/2)"
   ]
  },
  {
   "cell_type": "code",
   "execution_count": null,
   "metadata": {
    "colab": {
     "base_uri": "https://localhost:8080/"
    },
    "executionInfo": {
     "elapsed": 238,
     "status": "ok",
     "timestamp": 1623423468308,
     "user": {
      "displayName": "Cristiano de Magalhães",
      "photoUrl": "",
      "userId": "03249985789837417195"
     },
     "user_tz": 180
    },
    "id": "QBhTrXphXVq1",
    "outputId": "e1c1531c-f6f3-4f2b-b315-d88ff94df069"
   },
   "outputs": [
    {
     "data": {
      "text/plain": [
       "30.000000000000004"
      ]
     },
     "execution_count": 88,
     "metadata": {
      "tags": []
     },
     "output_type": "execute_result"
    }
   ],
   "source": [
    "# convertendo em graus\n",
    "math.degrees(math.asin(1/2))"
   ]
  },
  {
   "cell_type": "code",
   "execution_count": null,
   "metadata": {
    "colab": {
     "base_uri": "https://localhost:8080/"
    },
    "executionInfo": {
     "elapsed": 227,
     "status": "ok",
     "timestamp": 1623423480370,
     "user": {
      "displayName": "Cristiano de Magalhães",
      "photoUrl": "",
      "userId": "03249985789837417195"
     },
     "user_tz": 180
    },
    "id": "3URAQ9qPX0rd",
    "outputId": "85544f81-7e7d-43de-8093-43087ff29308"
   },
   "outputs": [
    {
     "data": {
      "text/plain": [
       "30.0"
      ]
     },
     "execution_count": 89,
     "metadata": {
      "tags": []
     },
     "output_type": "execute_result"
    }
   ],
   "source": [
    "# utilizando o arredondamento\n",
    "round(math.degrees(math.asin(1/2)),3)"
   ]
  },
  {
   "cell_type": "markdown",
   "metadata": {
    "id": "XlfWKIhhWwv2"
   },
   "source": [
    "### **`math.acos(x)`**\n",
    "\n",
    "Retorna o ângulo cujo cosseno é o valor informado.\n",
    "\n",
    "**IMPORTANTE:** Retorna o valor em **radianos**, para saber o valor em graus, podemos utilizar outra função disponibilizada pela biblioteca `math` que é a `math.degrees(x)`."
   ]
  },
  {
   "cell_type": "code",
   "execution_count": null,
   "metadata": {
    "colab": {
     "base_uri": "https://localhost:8080/"
    },
    "executionInfo": {
     "elapsed": 250,
     "status": "ok",
     "timestamp": 1623423486302,
     "user": {
      "displayName": "Cristiano de Magalhães",
      "photoUrl": "",
      "userId": "03249985789837417195"
     },
     "user_tz": 180
    },
    "id": "nzppuQYSYDF6",
    "outputId": "f41c2a20-6378-4058-8a1d-8175d69f473a"
   },
   "outputs": [
    {
     "data": {
      "text/plain": [
       "1.0471975511965979"
      ]
     },
     "execution_count": 90,
     "metadata": {
      "tags": []
     },
     "output_type": "execute_result"
    }
   ],
   "source": [
    "# arco cosseno de 1/2 ou 0.5\n",
    "math.acos(1/2)"
   ]
  },
  {
   "cell_type": "code",
   "execution_count": null,
   "metadata": {
    "colab": {
     "base_uri": "https://localhost:8080/"
    },
    "executionInfo": {
     "elapsed": 11,
     "status": "ok",
     "timestamp": 1623423488161,
     "user": {
      "displayName": "Cristiano de Magalhães",
      "photoUrl": "",
      "userId": "03249985789837417195"
     },
     "user_tz": 180
    },
    "id": "2UYZdHi2YC9_",
    "outputId": "e9abe913-42f3-404f-c2ec-a92fb27dea2d"
   },
   "outputs": [
    {
     "data": {
      "text/plain": [
       "60.00000000000001"
      ]
     },
     "execution_count": 91,
     "metadata": {
      "tags": []
     },
     "output_type": "execute_result"
    }
   ],
   "source": [
    "# convertendo em graus\n",
    "math.degrees(math.acos(1/2))"
   ]
  },
  {
   "cell_type": "code",
   "execution_count": null,
   "metadata": {
    "colab": {
     "base_uri": "https://localhost:8080/"
    },
    "executionInfo": {
     "elapsed": 232,
     "status": "ok",
     "timestamp": 1623423492885,
     "user": {
      "displayName": "Cristiano de Magalhães",
      "photoUrl": "",
      "userId": "03249985789837417195"
     },
     "user_tz": 180
    },
    "id": "rR0DrmAxYC17",
    "outputId": "25da1f31-7901-480b-a5c5-de6578077ec5"
   },
   "outputs": [
    {
     "data": {
      "text/plain": [
       "60.0"
      ]
     },
     "execution_count": 92,
     "metadata": {
      "tags": []
     },
     "output_type": "execute_result"
    }
   ],
   "source": [
    "# utilizando o arredondamento\n",
    "round(math.degrees(math.acos(1/2)),3)"
   ]
  },
  {
   "cell_type": "markdown",
   "metadata": {
    "id": "k7QfYxSiW4CL"
   },
   "source": [
    "### **`math.atan(x)`**\n",
    "\n",
    "Retorna o ângulo cuja tangente é o valor informado.\n",
    "\n",
    "**IMPORTANTE:** Retorna o valor em **radianos**, para saber o valor em graus, podemos utilizar outra função disponibilizada pela biblioteca `math` que é a `math.degrees(x)`."
   ]
  },
  {
   "cell_type": "code",
   "execution_count": null,
   "metadata": {
    "colab": {
     "base_uri": "https://localhost:8080/"
    },
    "executionInfo": {
     "elapsed": 256,
     "status": "ok",
     "timestamp": 1623423496238,
     "user": {
      "displayName": "Cristiano de Magalhães",
      "photoUrl": "",
      "userId": "03249985789837417195"
     },
     "user_tz": 180
    },
    "id": "oQXhVRpUSYHv",
    "outputId": "9735c177-8892-4556-8ab7-5373ce8536d6"
   },
   "outputs": [
    {
     "data": {
      "text/plain": [
       "1.5707963267948966"
      ]
     },
     "execution_count": 93,
     "metadata": {
      "tags": []
     },
     "output_type": "execute_result"
    }
   ],
   "source": [
    "# arco tangente de 'infinito'\n",
    "math.atan(math.inf)"
   ]
  },
  {
   "cell_type": "code",
   "execution_count": null,
   "metadata": {
    "colab": {
     "base_uri": "https://localhost:8080/"
    },
    "executionInfo": {
     "elapsed": 242,
     "status": "ok",
     "timestamp": 1623423546570,
     "user": {
      "displayName": "Cristiano de Magalhães",
      "photoUrl": "",
      "userId": "03249985789837417195"
     },
     "user_tz": 180
    },
    "id": "A7RMi-_NYOw6",
    "outputId": "43e3b1ae-5c5c-4776-c47c-6b789759848b"
   },
   "outputs": [
    {
     "data": {
      "text/plain": [
       "90.0"
      ]
     },
     "execution_count": 95,
     "metadata": {
      "tags": []
     },
     "output_type": "execute_result"
    }
   ],
   "source": [
    "# convertendo em graus\n",
    "math.degrees(math.atan(math.inf))"
   ]
  },
  {
   "cell_type": "markdown",
   "metadata": {
    "id": "7ev8kwajYgZx"
   },
   "source": [
    "Repare no exemplo acima **duas coisas**:\n",
    "\n",
    "1. Utilizamos **DUAS** funções da biblioteca `math` e **UMA** constante;\n",
    "2. Confirmamos que o **resultado** da conta da tangente de 90° é igual a infinito, pois o arco tangente de infinito é 90°."
   ]
  },
  {
   "cell_type": "code",
   "execution_count": null,
   "metadata": {
    "id": "NhO-Ev5SBd8y"
   },
   "outputs": [],
   "source": [
    "!jupyter nbconvert --to html Storyboard_Notebook_Python_para_a_Indústria_4_0_bib_math_v01r06.ipynb"
   ]
  },
  {
   "cell_type": "code",
   "execution_count": null,
   "metadata": {
    "id": "lNfNY0SQB0jp"
   },
   "outputs": [],
   "source": []
  }
 ],
 "metadata": {
  "colab": {
   "authorship_tag": "ABX9TyPreB7c9LfYg8mS4DvobbnW",
   "collapsed_sections": [],
   "name": "03.0_Revisão_math.ipynb",
   "provenance": [
    {
     "file_id": "1c-WcKnFA3jVplwS-VL-jSxFi9-1FX1yl",
     "timestamp": 1626204399027
    }
   ]
  },
  "kernelspec": {
   "display_name": "Python 3",
   "name": "python3"
  },
  "language_info": {
   "name": "python"
  }
 },
 "nbformat": 4,
 "nbformat_minor": 0
}
