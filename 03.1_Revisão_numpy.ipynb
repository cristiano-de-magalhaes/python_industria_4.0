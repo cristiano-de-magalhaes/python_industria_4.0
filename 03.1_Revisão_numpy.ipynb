{
 "cells": [
  {
   "cell_type": "markdown",
   "metadata": {
    "id": "qnrFvo3DGwZr"
   },
   "source": [
    "![image.png](data:image/png;base64,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)"
   ]
  },
  {
   "cell_type": "markdown",
   "metadata": {
    "id": "7Vg_EUFZlXCF"
   },
   "source": [
    "NumPy\n",
    "---\n",
    "\n",
    "Segundo o próprio site do [numpy](https://numpy.org/doc/stable/user/whatisnumpy.html):\n",
    "\n",
    "> NumPy é o pacote fundamental para computação científica em Python. É uma biblioteca Python que fornece um objeto de matriz multidimensional, vários objetos derivados (como matrizes e matrizes mascaradas) e uma variedade de rotinas para operações rápidas em matrizes, incluindo:\n",
    "* matemática\n",
    "* lógica\n",
    "* manipulação de forma\n",
    "* classificação\n",
    "* seleção\n",
    "* entrada e saída (_input/output_) (I/O)\n",
    "* transformadas discretas de Fourier\n",
    "* álgebra linear básica\n",
    "* operações estatísticas básicas\n",
    "* simulação aleatória\n",
    ">\n",
    ">e muito mais."
   ]
  },
  {
   "cell_type": "markdown",
   "metadata": {
    "id": "VR_FrrYcoFGV"
   },
   "source": [
    "De forma simples, utilizamos o `numpy` para dar mais poder computacional aos nossos códigos, especialmente quando trabalharmos com vetores e matrizes.\n",
    "\n",
    "Ele também é uma das bases do `pandas`, o pacote para trabalharmos com dados em tabelas.\n",
    "\n",
    "---\n",
    "**OBSERVAÇÃO:** \"Biblioteca\", \"pacote\" e \"módulo\" são sinônimos. Vamos alternar bastante entre esses termos ao longo das explicações.\n",
    "\n",
    "Às vezes também utilizaremos um \"pacote\" específico de **dentro** de uma \"biblioteca\".\n",
    "\n",
    "---"
   ]
  },
  {
   "cell_type": "markdown",
   "metadata": {
    "id": "u2QgdEHHqVz0"
   },
   "source": [
    "# Instalando o `numpy`"
   ]
  },
  {
   "cell_type": "markdown",
   "metadata": {
    "id": "ENPhaUx5qas3"
   },
   "source": [
    "Normalmente as bibliotecas de Python estão disponíveis _on-line_ e na sua esmagadora maioria são abertas (_open source_) e gratuitas (_free_).\n",
    "\n",
    "Aqui no colab ela já se encontra instalada por padrão, justamente por ser uma biblioteca muito famosa e muito utilizada.\n",
    "\n",
    "Mas em alguns casos precisaremos instalá-la.\n",
    "\n",
    "O comando para instalá-la é:\n",
    "```bash\n",
    "pip install numpy\n",
    "```\n",
    "ou\n",
    "```terminal\n",
    "conda install numpy\n",
    "```\n",
    "(esse último mais comum para ambientes Windows)"
   ]
  },
  {
   "cell_type": "markdown",
   "metadata": {
    "id": "Y4y0MmVnrXgU"
   },
   "source": [
    "# Importando o `numpy`\n",
    "\n",
    "Normalmente importaremos o `numpy` com o \"apelido\" `np`, e isso é feito da seguinte forma:\n",
    "\n",
    "```python\n",
    "import numpy as np\n",
    "```"
   ]
  },
  {
   "cell_type": "code",
   "execution_count": null,
   "metadata": {
    "id": "VP8bfNFQkQgk"
   },
   "outputs": [],
   "source": [
    "import numpy as np\n",
    "np.__version__"
   ]
  },
  {
   "cell_type": "markdown",
   "metadata": {
    "id": "9xpM27w2rxj0"
   },
   "source": [
    "# Vetor"
   ]
  },
  {
   "cell_type": "markdown",
   "metadata": {
    "id": "sZgmXM2P6x5_"
   },
   "source": [
    "## Vetor 1D \"horizontal\""
   ]
  },
  {
   "cell_type": "markdown",
   "metadata": {
    "id": "MuK8GJ85r0iB"
   },
   "source": [
    "Vamos criar um vetor utilizando o `numpy`. O vetor é muito parecido com uma lista. Veja:"
   ]
  },
  {
   "cell_type": "code",
   "execution_count": null,
   "metadata": {
    "id": "TXyUFuKHPo4E"
   },
   "outputs": [],
   "source": [
    "a = list([1,2,3,4,5,6])\n",
    "a"
   ]
  },
  {
   "cell_type": "code",
   "execution_count": null,
   "metadata": {
    "id": "0M7cVC2Frrik"
   },
   "outputs": [],
   "source": [
    "a = np.array([1, 2, 3, 4, 5, 6])\n",
    "a"
   ]
  },
  {
   "cell_type": "code",
   "execution_count": null,
   "metadata": {
    "id": "ofX_Xz6EtNsR"
   },
   "outputs": [],
   "source": [
    "a = np.array(['a', 'b', 'c', 'd', 'e', 6])"
   ]
  },
  {
   "cell_type": "code",
   "execution_count": null,
   "metadata": {
    "id": "lYpI-qABr_8X"
   },
   "outputs": [],
   "source": [
    "a"
   ]
  },
  {
   "cell_type": "markdown",
   "metadata": {
    "id": "_UgdaBVosDY_"
   },
   "source": [
    "Conseguimos acessar os valores igual aprendemos a fazer com as listas."
   ]
  },
  {
   "cell_type": "code",
   "execution_count": null,
   "metadata": {
    "id": "2ISMwj_MsAgP"
   },
   "outputs": [],
   "source": [
    "a[0]"
   ]
  },
  {
   "cell_type": "code",
   "execution_count": null,
   "metadata": {
    "id": "PETk9BEjsKHf"
   },
   "outputs": [],
   "source": [
    "a[2]"
   ]
  },
  {
   "cell_type": "code",
   "execution_count": null,
   "metadata": {
    "id": "hiijMWX-sNF3"
   },
   "outputs": [],
   "source": [
    "a[-1]"
   ]
  },
  {
   "cell_type": "code",
   "execution_count": null,
   "metadata": {
    "id": "t2jWkM1BsPSn"
   },
   "outputs": [],
   "source": [
    "lista = [1,2,3,4,5,6]"
   ]
  },
  {
   "cell_type": "code",
   "execution_count": null,
   "metadata": {
    "id": "bTU2m6lHsVvY"
   },
   "outputs": [],
   "source": [
    "lista[0]"
   ]
  },
  {
   "cell_type": "code",
   "execution_count": null,
   "metadata": {
    "id": "4VeDmSwYsjAA"
   },
   "outputs": [],
   "source": [
    "lista[-1]"
   ]
  },
  {
   "cell_type": "markdown",
   "metadata": {
    "id": "vWjj-4ZNslpO"
   },
   "source": [
    "Agora, vamos tentar multiplicar ambos por `2` e ver o que acontece:"
   ]
  },
  {
   "cell_type": "code",
   "execution_count": null,
   "metadata": {
    "id": "VOHEx8z0suIf"
   },
   "outputs": [],
   "source": [
    "a_mult = a * 2\n",
    "a_mult"
   ]
  },
  {
   "cell_type": "code",
   "execution_count": null,
   "metadata": {
    "id": "wfyFcJiqscI3"
   },
   "outputs": [],
   "source": [
    "lista_mult = lista * 2\n",
    "lista_mult"
   ]
  },
  {
   "cell_type": "markdown",
   "metadata": {
    "id": "SPDbjQTLsyWp"
   },
   "source": [
    "Repare que enquanto os valores no vetor numpy foram cada um multiplicado por 2, a lista \"entendeu\" que o comando era para repetir a lista 2 vezes."
   ]
  },
  {
   "cell_type": "markdown",
   "metadata": {
    "id": "Q21FHixl66PH"
   },
   "source": [
    "##Vetor 1D \"vertical\""
   ]
  },
  {
   "cell_type": "code",
   "execution_count": null,
   "metadata": {
    "id": "uskifWUhSMtC"
   },
   "outputs": [],
   "source": [
    "a = np.array([1,2,3,4,5,6])"
   ]
  },
  {
   "cell_type": "code",
   "execution_count": null,
   "metadata": {
    "id": "BsKrAgZLsgzv"
   },
   "outputs": [],
   "source": [
    "b = np.array([[1],\n",
    "              [2],\n",
    "              [3],\n",
    "              [4],\n",
    "              [5]])"
   ]
  },
  {
   "cell_type": "code",
   "execution_count": null,
   "metadata": {
    "id": "tKrhZPMY7V_4"
   },
   "outputs": [],
   "source": [
    "b"
   ]
  },
  {
   "cell_type": "code",
   "execution_count": null,
   "metadata": {
    "id": "VS0SecD0uGeI"
   },
   "outputs": [],
   "source": [
    "c = np.array([['asd'],['bc'],['cg'],['dc']])"
   ]
  },
  {
   "cell_type": "code",
   "execution_count": null,
   "metadata": {
    "id": "zc4n7MpzuQUP"
   },
   "outputs": [],
   "source": [
    "c"
   ]
  },
  {
   "cell_type": "code",
   "execution_count": null,
   "metadata": {
    "id": "eo7aM32s7Xgu"
   },
   "outputs": [],
   "source": [
    "b * 2"
   ]
  },
  {
   "cell_type": "markdown",
   "metadata": {
    "id": "Gb1IUthm7-jT"
   },
   "source": [
    "Vetores \"verticais\" podem ser entendidos como matrizes de uma coluna apenas.\n",
    "\n",
    "Para acessar seus valores temos que utilizar a notação:\n",
    "```\n",
    "np.array[linha][coluna]\n",
    "```\n",
    "Veja no exemplo, acessando o 3º elemento (id = 2) da 1ª coluna (id = 0):"
   ]
  },
  {
   "cell_type": "code",
   "execution_count": null,
   "metadata": {
    "id": "RvhOqj7WUxDT"
   },
   "outputs": [],
   "source": [
    "b"
   ]
  },
  {
   "cell_type": "code",
   "execution_count": null,
   "metadata": {
    "id": "yEAvVwjY7tlP"
   },
   "outputs": [],
   "source": [
    "b[2][0]"
   ]
  },
  {
   "cell_type": "code",
   "execution_count": null,
   "metadata": {
    "id": "BVh3H5pKunau"
   },
   "outputs": [],
   "source": [
    "b[3][0]"
   ]
  },
  {
   "cell_type": "markdown",
   "metadata": {
    "id": "3wMHeyfk9uC1"
   },
   "source": [
    "## Criando vetores"
   ]
  },
  {
   "cell_type": "markdown",
   "metadata": {
    "id": "x5RxN8Eq91ds"
   },
   "source": [
    "### **`np.zeros(x)`**"
   ]
  },
  {
   "cell_type": "markdown",
   "metadata": {
    "id": "m85RgaeA83CF"
   },
   "source": [
    "Criando um vetor \"cheio\" de \"zeros\":"
   ]
  },
  {
   "cell_type": "code",
   "execution_count": null,
   "metadata": {
    "id": "DgyTLb5j728U"
   },
   "outputs": [],
   "source": [
    "np.zeros(10)"
   ]
  },
  {
   "cell_type": "markdown",
   "metadata": {
    "id": "jHrGRZG_97p9"
   },
   "source": [
    "### **`np.ones(x)`**"
   ]
  },
  {
   "cell_type": "markdown",
   "metadata": {
    "id": "pUukfzSk87pd"
   },
   "source": [
    "Criando um vetor \"cheio\" de \"um\":"
   ]
  },
  {
   "cell_type": "code",
   "execution_count": null,
   "metadata": {
    "id": "TpkgvRe68qge"
   },
   "outputs": [],
   "source": [
    "np.ones(7)"
   ]
  },
  {
   "cell_type": "markdown",
   "metadata": {
    "id": "oZoO8Mj09-Yt"
   },
   "source": [
    "### **`np.empty(x)`**"
   ]
  },
  {
   "cell_type": "markdown",
   "metadata": {
    "id": "CMTggoYC9BIe"
   },
   "source": [
    "Criando um vetor \"vazio\":"
   ]
  },
  {
   "cell_type": "code",
   "execution_count": null,
   "metadata": {
    "id": "y_XFGRhjvNz1"
   },
   "outputs": [],
   "source": [
    "del d"
   ]
  },
  {
   "cell_type": "code",
   "execution_count": null,
   "metadata": {
    "id": "zUGSlk5o8tut"
   },
   "outputs": [],
   "source": [
    "d = np.empty(5)\n",
    "d"
   ]
  },
  {
   "cell_type": "code",
   "execution_count": null,
   "metadata": {
    "id": "RiIF58mzvDyQ"
   },
   "outputs": [],
   "source": [
    "d[0] = None\n",
    "d"
   ]
  },
  {
   "cell_type": "code",
   "execution_count": null,
   "metadata": {
    "id": "rV_s631oWsdX"
   },
   "outputs": [],
   "source": [
    "del d[0]"
   ]
  },
  {
   "cell_type": "markdown",
   "metadata": {
    "id": "_zgJ3CzQ9F_M"
   },
   "source": [
    "Perceba que ele é apresentado com valores pois esse vetor é preenchido de forma aleatória e esses valores dependem do estado da memória da máquina no momento."
   ]
  },
  {
   "cell_type": "code",
   "execution_count": null,
   "metadata": {
    "id": "drN2IiRN8woV"
   },
   "outputs": [],
   "source": [
    "np.empty(30)[0]"
   ]
  },
  {
   "cell_type": "markdown",
   "metadata": {
    "id": "yrJ8qEzY-TA7"
   },
   "source": [
    "### **`np.arange(x)`**"
   ]
  },
  {
   "cell_type": "markdown",
   "metadata": {
    "id": "eF8Ex3mY9xyU"
   },
   "source": [
    "Similar à função `range(x)`, ela gera uma sequência de números"
   ]
  },
  {
   "cell_type": "code",
   "execution_count": null,
   "metadata": {
    "id": "0CcMDevD9LpI"
   },
   "outputs": [],
   "source": [
    "array = np.arange(0, 1, 0.1)"
   ]
  },
  {
   "cell_type": "code",
   "execution_count": null,
   "metadata": {
    "id": "vclU1QIsveoW"
   },
   "outputs": [],
   "source": [
    "for n in array:\n",
    "    print(round(n, 1))"
   ]
  },
  {
   "cell_type": "markdown",
   "metadata": {
    "id": "6LUMsoZR-niz"
   },
   "source": [
    "Perceba que, assim como a `range(x)` ela não vai até o valor definido, mas sim cria uma sequência de 0 até um valor **anterior** ao estipulado, resultando em `x` elementos totais, ou seja, no exemplo, `10 elementos`.\n",
    "\n",
    "Também similar à função `range(x)`, podemos definir o valor limite, a quantidade de elementos e o passo."
   ]
  },
  {
   "cell_type": "code",
   "execution_count": null,
   "metadata": {
    "id": "RP3XK5XB-mK8"
   },
   "outputs": [],
   "source": [
    "np.arange(0,10,2)"
   ]
  },
  {
   "cell_type": "code",
   "execution_count": null,
   "metadata": {
    "id": "RwvA4z2-AaVB"
   },
   "outputs": [],
   "source": [
    "np.arange(0,5,1.15)"
   ]
  },
  {
   "cell_type": "code",
   "execution_count": null,
   "metadata": {
    "id": "1TUIpLG7AjTZ"
   },
   "outputs": [],
   "source": [
    "np.arange(0,10.1,0.1)"
   ]
  },
  {
   "cell_type": "markdown",
   "metadata": {
    "id": "vIuJLRebA7RZ"
   },
   "source": [
    "### **`np.linspace(x)`**"
   ]
  },
  {
   "cell_type": "markdown",
   "metadata": {
    "id": "Vc0zbvvUA_pw"
   },
   "source": [
    "Com a função `np.linspace(x)` você também cria vetores mas com ela você define o valor inicial, valor final, e a **quantidade** de elementos **igualmente espaçados** entre si."
   ]
  },
  {
   "cell_type": "code",
   "execution_count": null,
   "metadata": {
    "id": "Ly8Wd7abAuB5"
   },
   "outputs": [],
   "source": [
    "np.linspace(0, 10, num=5)"
   ]
  },
  {
   "cell_type": "code",
   "execution_count": null,
   "metadata": {
    "id": "HAxuurpJBFNZ"
   },
   "outputs": [],
   "source": [
    "np.linspace(0, 10, num=25)"
   ]
  },
  {
   "cell_type": "markdown",
   "metadata": {
    "id": "2VsYkRhownJV"
   },
   "source": [
    "---"
   ]
  },
  {
   "cell_type": "markdown",
   "metadata": {
    "id": "8j9mvordItB5"
   },
   "source": [
    "Como dito anteriormente, o `np.array` é muito similar às listas e talvez por isso o `numpy` possui várias funções que se assemelham às utilizadas para lista."
   ]
  },
  {
   "cell_type": "markdown",
   "metadata": {
    "id": "K-v7d2AFIfoh"
   },
   "source": [
    "### **`np.sort(array)`**"
   ]
  },
  {
   "cell_type": "markdown",
   "metadata": {
    "id": "UOyJYwElImT5"
   },
   "source": [
    "Similar ao `.sort()`, ordena os elementos de um `np.array` de forma crescente."
   ]
  },
  {
   "cell_type": "code",
   "execution_count": null,
   "metadata": {
    "id": "CJ_NVt5EaFvH"
   },
   "outputs": [],
   "source": [
    "lista = [3, 5, 6, 2, 1]\n",
    "lista"
   ]
  },
  {
   "cell_type": "code",
   "execution_count": null,
   "metadata": {
    "id": "9ipUa6KFaMFS"
   },
   "outputs": [],
   "source": [
    "lista.sort()\n",
    "lista"
   ]
  },
  {
   "cell_type": "code",
   "execution_count": null,
   "metadata": {
    "id": "t6-RJD0Nw2EV"
   },
   "outputs": [],
   "source": [
    "arr = np.array([2, 1, 7, 6, 8, 3, 5, 4])\n",
    "arr"
   ]
  },
  {
   "cell_type": "code",
   "execution_count": null,
   "metadata": {
    "id": "zfl39PKUFlfm"
   },
   "outputs": [],
   "source": [
    "arr = np.sort()"
   ]
  },
  {
   "cell_type": "code",
   "execution_count": null,
   "metadata": {
    "id": "QyqFRdISxF1p"
   },
   "outputs": [],
   "source": [
    "arr"
   ]
  },
  {
   "cell_type": "code",
   "execution_count": null,
   "metadata": {
    "id": "mN5wyLnRbzWZ"
   },
   "outputs": [],
   "source": [
    "arr.sort()"
   ]
  },
  {
   "cell_type": "code",
   "execution_count": null,
   "metadata": {
    "id": "XpJcRh8Tb3_O"
   },
   "outputs": [],
   "source": [
    "arr"
   ]
  },
  {
   "cell_type": "code",
   "execution_count": null,
   "metadata": {
    "id": "g44oQTn-xLfk"
   },
   "outputs": [],
   "source": [
    "arr_em_ordem = np.sort(arr)\n",
    "arr_em_ordem"
   ]
  },
  {
   "cell_type": "markdown",
   "metadata": {
    "id": "5r3tUbsbGD3s"
   },
   "source": [
    "Curiosidade: existem outras funções para ordenar `np.array`.\n",
    "\n",
    "* `argsort`\n",
    "* `lexsort`\n",
    "* `searchsorted`\n",
    "* `partition`\n",
    "\n",
    "Para saber mais sobre cada um deles, basta utilizar o `help()`."
   ]
  },
  {
   "cell_type": "code",
   "execution_count": null,
   "metadata": {
    "id": "uoNwuJgLNZOe"
   },
   "outputs": [],
   "source": [
    "help(np.argsort)"
   ]
  },
  {
   "cell_type": "markdown",
   "metadata": {
    "id": "Gm5cSQChayeE"
   },
   "source": [
    "# Matrizes"
   ]
  },
  {
   "cell_type": "markdown",
   "metadata": {
    "id": "KHDdX_sKa5V-"
   },
   "source": [
    "Matrizes do `numpy` são iguais às matrizes que estudamos em matemática. Uma espécie de tabela com elementos. **Normalmente** utilizamos a matriz com números, pois o propósito do numpy é matemático.\n",
    "\n",
    "Podemos ter tabelas com vários tipos de elementos, mas em uma mesma tabela, todos os elementos precisam ser **do mesmo tipo**.\n",
    "\n",
    "Se colocarmos vários tipos diferentes na mesma tabela, o numpy transforma tudo em string"
   ]
  },
  {
   "cell_type": "code",
   "execution_count": null,
   "metadata": {
    "id": "KSTENNoi8jZQ"
   },
   "outputs": [],
   "source": [
    "import numpy as np"
   ]
  },
  {
   "cell_type": "code",
   "execution_count": null,
   "metadata": {
    "id": "1GDjYzC7bLSX"
   },
   "outputs": [],
   "source": [
    "# Exemplo de array com vários tipos de objetos diferentes\n",
    "a = np.array([1, 'a', 3.0, True])\n",
    "\n",
    "print(a)\n",
    "print(type(a))\n",
    "print(type(a[0]))"
   ]
  },
  {
   "cell_type": "code",
   "execution_count": null,
   "metadata": {
    "id": "ukT6XadD8rch"
   },
   "outputs": [],
   "source": [
    "print(type(a), a)"
   ]
  },
  {
   "cell_type": "markdown",
   "metadata": {
    "id": "F_jVSmmM0U3W"
   },
   "source": [
    "## Matrizes 2D (2 dimensões ou bidimensionais)"
   ]
  },
  {
   "cell_type": "markdown",
   "metadata": {
    "id": "oW91b__1nQXP"
   },
   "source": [
    "Uma forma simplificada de enxergar as matrizes é como um \"empilhamento de vetores de mesmo tamanho.\n",
    "\n",
    "Uma forma de criar matrizes é declarando cada uma de suas linhas."
   ]
  },
  {
   "cell_type": "code",
   "execution_count": null,
   "metadata": {
    "id": "ZIggTeh0oRMg"
   },
   "outputs": [],
   "source": [
    "A = np.array([[1, 2, 3, 4],\n",
    "              [5, 6, 7, 8]])\n",
    "A"
   ]
  },
  {
   "cell_type": "code",
   "execution_count": null,
   "metadata": {
    "id": "K2wrgWCK9UzG"
   },
   "outputs": [],
   "source": [
    "print(A)"
   ]
  },
  {
   "cell_type": "markdown",
   "metadata": {
    "id": "PUIVHKmpog0B"
   },
   "source": [
    "Perceba que em `A` acima, existem \"duas listas de 4 elementos\" **dentro** de \"uma lista de 2 elementos\".\n",
    "\n",
    "Podemos declarar a matriz em uma linha só, mas normalmente adota-se essa forma em mais linhas para facilitar a visualização (o que é uma das diretrizes da utilização de Python)."
   ]
  },
  {
   "cell_type": "code",
   "execution_count": null,
   "metadata": {
    "id": "PEtSA9mcpEpu"
   },
   "outputs": [],
   "source": [
    "A = np.array([[1, 2, 3, 4], [5, 6, 7, 8]])\n",
    "A"
   ]
  },
  {
   "cell_type": "markdown",
   "metadata": {
    "id": "G5ET7VsFNgjZ"
   },
   "source": [
    "### **`np.concatenate((x, y))`**"
   ]
  },
  {
   "cell_type": "markdown",
   "metadata": {
    "id": "ofHXC7tWpLW8"
   },
   "source": [
    "Podemos também utilizar a concatenação de vetores para formar matrizes."
   ]
  },
  {
   "cell_type": "markdown",
   "metadata": {
    "id": "BPFB_coWOHQH"
   },
   "source": [
    "Como vimos anteriormente quando estudamos sobre strings, que concatenação é uma espécie de soma (junção). Essa função funciona unindo 2 arrays ou mais.\n",
    "\n",
    "---\n",
    "**IMPORTANTE:** Todos os arrays (vetores) tem que ter o mesmo tamanho.\n",
    "\n",
    "---\n",
    "\n",
    "Neste caso, essa função funciona unindo 2 arrays (vetores) de 1 linha com 4 elementos (ou seja, 1 linha, 4 colunas).\n",
    "\n",
    "Formando uma **matriz de 2 x 4**."
   ]
  },
  {
   "cell_type": "code",
   "execution_count": null,
   "metadata": {
    "id": "zTjOgzUoF8bE"
   },
   "outputs": [],
   "source": [
    "a = np.array([[1, 2, 3, 4]])\n",
    "b = np.array([[5, 6, 7, 8]])\n",
    "np.concatenate([a, b], axis=0)"
   ]
  },
  {
   "cell_type": "markdown",
   "metadata": {
    "id": "5QwEtzqJu1Ym"
   },
   "source": [
    "Neste caso, essa função funciona unindo 3 arrays (vetores) de 1 linha com 2 elementos (ou seja, 1 linha, 2 colunas).\n",
    "\n",
    "Formando uma **matriz de 3 x 2**."
   ]
  },
  {
   "cell_type": "code",
   "execution_count": null,
   "metadata": {
    "id": "4qGt5ZG6Hb07"
   },
   "outputs": [],
   "source": [
    "x = np.array([[1, 2], [3, 4]])\n",
    "y = np.array([[5, 6]])\n",
    "np.concatenate((x, y.T), axis=1)"
   ]
  },
  {
   "cell_type": "markdown",
   "metadata": {
    "id": "ZPYie_DsatqC"
   },
   "source": [
    "## Matrizes 3D (3 dimensões ou tridimensionais)"
   ]
  },
  {
   "cell_type": "markdown",
   "metadata": {
    "id": "RibCfbaB1CF6"
   },
   "source": [
    "![image.png](data:image/png;base64,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)"
   ]
  },
  {
   "cell_type": "markdown",
   "metadata": {
    "id": "09HDuRFx1E9g"
   },
   "source": [
    "Para facilitar a visualização deste tipo de matriz, basta imaginar que se trata de um cubo feito de pequenas caixas. Cada caixa é um elemento da matriz.\n",
    "\n",
    "Não vamos nos aprofundar muito nessa questão, pois não é o objetivo deste curso, mas com numpy podemos trabalhar com Matrizes de n-dimensões, isso significa que as matrizes podem ter mais que 3 dimensões.\n",
    "\n",
    "Vejamos apenas um exemplo de definição de uma matriz 3D. No caso abaixo, uma de 3 x 2 x 4"
   ]
  },
  {
   "cell_type": "code",
   "execution_count": null,
   "metadata": {
    "id": "LNa0uekk1nQ1"
   },
   "outputs": [],
   "source": [
    "matriz_3d = np.array([[[0, 1, 2, 3],\n",
    "                       [4, 5, 6, 7]],\n",
    "\n",
    "                      [[0, 1, 2, 3],\n",
    "                       [4, 5, 6, 7]],\n",
    "\n",
    "                      [[0 ,1 ,2, 3],\n",
    "                       [4, 5, 6, 7]]])\n",
    "\n",
    "matriz_3d"
   ]
  },
  {
   "cell_type": "markdown",
   "metadata": {
    "id": "vxhinnK0HeM9"
   },
   "source": [
    "Uma matriz 3D de 3 x 3 x 3, por exemplo, seria:"
   ]
  },
  {
   "cell_type": "code",
   "execution_count": null,
   "metadata": {
    "id": "IgZdSnWQH77h"
   },
   "outputs": [],
   "source": [
    "cubo = np.array([[[1,2,3],\n",
    "                  [4,5,6],\n",
    "                  [7,8,9]],\n",
    "                 \n",
    "                 [[10,11,12],\n",
    "                  [13,14,15],\n",
    "                  [16,17,18]],\n",
    "                 \n",
    "                 [[19,20,21],\n",
    "                  [22,23,24],\n",
    "                  [25,26,27]]])\n",
    "\n",
    "cubo"
   ]
  },
  {
   "cell_type": "code",
   "execution_count": null,
   "metadata": {
    "id": "czGDpR9nJYlu"
   },
   "outputs": [],
   "source": [
    "print(type(cubo))"
   ]
  },
  {
   "cell_type": "markdown",
   "metadata": {
    "id": "AHRNXOgJJM7g"
   },
   "source": [
    "## Dimensão, tamanho e formato"
   ]
  },
  {
   "cell_type": "markdown",
   "metadata": {
    "id": "DcPp1FDHJTQJ"
   },
   "source": [
    "### Dimensão (_dimension_): `.ndim`\n",
    "\n",
    "O atributo \"dimensão\" retorna justamente se um array tem 1, 2, 3, ..., ou 'n' dimensões (sendo 'n' um número inteiro positivo).\n",
    "\n",
    "Vejamos os exemplos:"
   ]
  },
  {
   "cell_type": "code",
   "execution_count": null,
   "metadata": {
    "id": "HFXEYpo7IY2y"
   },
   "outputs": [],
   "source": [
    "a= np.array([1,2,3,4,5])\n",
    "\n",
    "a.ndim"
   ]
  },
  {
   "cell_type": "code",
   "execution_count": null,
   "metadata": {
    "id": "AeUiSqoGpknG"
   },
   "outputs": [],
   "source": [
    "b = np.array([[1,2,3,4,5],\n",
    "              [6,7,8,9,0]])\n",
    "\n",
    "b.ndim"
   ]
  },
  {
   "cell_type": "code",
   "execution_count": null,
   "metadata": {
    "id": "WR_ri6AsKVY-"
   },
   "outputs": [],
   "source": [
    "cubo.ndim"
   ]
  },
  {
   "cell_type": "markdown",
   "metadata": {
    "id": "iHBusuSMKZWR"
   },
   "source": [
    "### Tamanho (_size_): `.size`"
   ]
  },
  {
   "cell_type": "markdown",
   "metadata": {
    "id": "YMSk2AnCKhEr"
   },
   "source": [
    "O atributo \"tamanho\" (_size_ em inglês), retorna o tamanho, ou a **quantidade total de elementos** em uma matriz.\n",
    "\n",
    "Veja os exemplos:"
   ]
  },
  {
   "cell_type": "code",
   "execution_count": null,
   "metadata": {
    "id": "D0iSyD2YKXkO"
   },
   "outputs": [],
   "source": [
    "a.size"
   ]
  },
  {
   "cell_type": "code",
   "execution_count": null,
   "metadata": {
    "id": "goMEodHAKzlO"
   },
   "outputs": [],
   "source": [
    "b.size"
   ]
  },
  {
   "cell_type": "code",
   "execution_count": null,
   "metadata": {
    "id": "sfKchErTK0-e"
   },
   "outputs": [],
   "source": [
    "cubo.size"
   ]
  },
  {
   "cell_type": "markdown",
   "metadata": {
    "id": "fwiek1q0K5OW"
   },
   "source": [
    "### Formato (_shape_): `.shape`"
   ]
  },
  {
   "cell_type": "markdown",
   "metadata": {
    "id": "1hTZqFuCK-kq"
   },
   "source": [
    "Por fim, o atributo \"formato\" (_shape_ em inglês), retorna o formato da sua matriz, ou seja, todos seus limites."
   ]
  },
  {
   "cell_type": "code",
   "execution_count": null,
   "metadata": {
    "id": "k9UGc4DzK3Ru"
   },
   "outputs": [],
   "source": [
    "# 'a' é um vetor de 5 elementos ou uma matriz de 1 x 5\n",
    "a.shape"
   ]
  },
  {
   "cell_type": "code",
   "execution_count": null,
   "metadata": {
    "id": "vJwwriU1LOmG"
   },
   "outputs": [],
   "source": [
    "aa = np.array([[1,2,3,4,5]])\n",
    "\n",
    "aa.shape"
   ]
  },
  {
   "cell_type": "markdown",
   "metadata": {
    "id": "YtNUGbVUMDmO"
   },
   "source": [
    "---\n",
    "**Observação:** o `1` no resultado é suprimido, indicando um vetor. A saída não suprimida seria:\n",
    "\n",
    "```\n",
    "(1, 5)\n",
    "```\n",
    "\n",
    "---"
   ]
  },
  {
   "cell_type": "code",
   "execution_count": null,
   "metadata": {
    "id": "UsfIipTiLUmX"
   },
   "outputs": [],
   "source": [
    "# 'b' é uma matriz de 2 x 5\n",
    "b.shape"
   ]
  },
  {
   "cell_type": "code",
   "execution_count": null,
   "metadata": {
    "id": "8M6zWl3mLV-2"
   },
   "outputs": [],
   "source": [
    "# 'cubo' é uma matriz de 3 x 3 x 3\n",
    "cubo.shape"
   ]
  },
  {
   "cell_type": "markdown",
   "metadata": {
    "id": "hQDIOGSGM9Qy"
   },
   "source": [
    "## Alterando o formato de uma matriz"
   ]
  },
  {
   "cell_type": "markdown",
   "metadata": {
    "id": "QSpR-GTjNENo"
   },
   "source": [
    "É possível alterar o formato de uma matriz, desde que se mantenha o número total de elementos igual."
   ]
  },
  {
   "cell_type": "code",
   "execution_count": null,
   "metadata": {
    "id": "igVykQRnNyRE"
   },
   "outputs": [],
   "source": [
    "d = a\n",
    "a.shape"
   ]
  },
  {
   "cell_type": "code",
   "execution_count": null,
   "metadata": {
    "id": "h1FHQPY_N4TD"
   },
   "outputs": [],
   "source": [
    "d.shape"
   ]
  },
  {
   "cell_type": "code",
   "execution_count": null,
   "metadata": {
    "id": "WxPqiTqWLXtx"
   },
   "outputs": [],
   "source": [
    "d = d.reshape(5,1)"
   ]
  },
  {
   "cell_type": "code",
   "execution_count": null,
   "metadata": {
    "id": "bxKzc0N2NM3y"
   },
   "outputs": [],
   "source": [
    "a"
   ]
  },
  {
   "cell_type": "code",
   "execution_count": null,
   "metadata": {
    "id": "LzZOZ5OkNPAB"
   },
   "outputs": [],
   "source": [
    "d"
   ]
  },
  {
   "cell_type": "code",
   "execution_count": null,
   "metadata": {
    "id": "-3bb9pQUNck5"
   },
   "outputs": [],
   "source": [
    "e = np.array([0,1,2,3,4,5,6,7,8,9,10,11])\n",
    "e.shape"
   ]
  },
  {
   "cell_type": "code",
   "execution_count": null,
   "metadata": {
    "id": "HlAB40vBNdEZ"
   },
   "outputs": [],
   "source": [
    "e = e.reshape(2, 6)\n",
    "e"
   ]
  },
  {
   "cell_type": "code",
   "execution_count": null,
   "metadata": {
    "id": "JGk88rc0OeJy"
   },
   "outputs": [],
   "source": [
    "e = e.reshape(3, 4)\n",
    "e"
   ]
  },
  {
   "cell_type": "code",
   "execution_count": null,
   "metadata": {
    "id": "JO5KxUj1OhUS"
   },
   "outputs": [],
   "source": [
    "e = e.reshape(4, 3)\n",
    "e"
   ]
  },
  {
   "cell_type": "code",
   "execution_count": null,
   "metadata": {
    "id": "zYOViRiSOj0S"
   },
   "outputs": [],
   "source": [
    "e = e.reshape(6, 2)\n",
    "e"
   ]
  },
  {
   "cell_type": "code",
   "execution_count": null,
   "metadata": {
    "id": "x57_IUU0OnGD"
   },
   "outputs": [],
   "source": [
    "e = e.reshape(12, 1)\n",
    "e"
   ]
  },
  {
   "cell_type": "code",
   "execution_count": null,
   "metadata": {
    "id": "1wnruAfrN0ZC"
   },
   "outputs": [],
   "source": [
    "f = np.array([[0,1,2,3,4,5,6,7,8,9,10]])\n",
    "f.T"
   ]
  },
  {
   "cell_type": "markdown",
   "metadata": {
    "id": "0NyVF1xzPYGv"
   },
   "source": [
    "## Máximo, mínimo, soma e outras funções estatísticas"
   ]
  },
  {
   "cell_type": "code",
   "execution_count": null,
   "metadata": {
    "id": "ItQCsPdYRwRL"
   },
   "outputs": [],
   "source": [
    "a"
   ]
  },
  {
   "cell_type": "code",
   "execution_count": null,
   "metadata": {
    "id": "P-k98OnARncm"
   },
   "outputs": [],
   "source": [
    "a.max() # O maior valor entre os elementos"
   ]
  },
  {
   "cell_type": "code",
   "execution_count": null,
   "metadata": {
    "id": "64MSOVnSRnVQ"
   },
   "outputs": [],
   "source": [
    "a.min() # O menor valor entre os elementos"
   ]
  },
  {
   "cell_type": "code",
   "execution_count": null,
   "metadata": {
    "id": "Dv576SpYO1Ey"
   },
   "outputs": [],
   "source": [
    "a.sum() # soma dos elementos"
   ]
  },
  {
   "cell_type": "code",
   "execution_count": null,
   "metadata": {
    "id": "q9DeZHyaO7WS"
   },
   "outputs": [],
   "source": [
    "a.mean() # média dos elementos"
   ]
  },
  {
   "cell_type": "code",
   "execution_count": null,
   "metadata": {
    "id": "ct5ydkQcPhLD"
   },
   "outputs": [],
   "source": [
    "a.prod() # produto dos elementos"
   ]
  },
  {
   "cell_type": "code",
   "execution_count": null,
   "metadata": {
    "id": "irf5o9VzQkRT"
   },
   "outputs": [],
   "source": [
    "a.var() # variância"
   ]
  },
  {
   "cell_type": "code",
   "execution_count": null,
   "metadata": {
    "id": "OZRIeWGTQgvD"
   },
   "outputs": [],
   "source": [
    "a.std() # desvio padrão = .var() ** (1/2)"
   ]
  },
  {
   "cell_type": "code",
   "execution_count": null,
   "metadata": {
    "id": "JyGUmnyOOsOZ"
   },
   "outputs": [],
   "source": [
    "a.std() == (a.var() ** (1/2))"
   ]
  },
  {
   "cell_type": "markdown",
   "metadata": {
    "id": "rs-Zo3GBSS67"
   },
   "source": [
    "## Gerando matrizes com números aleatórios"
   ]
  },
  {
   "cell_type": "code",
   "execution_count": null,
   "metadata": {
    "id": "on9LCIj2RFA4"
   },
   "outputs": [],
   "source": [
    "help(gerador_num_aleatorio.integers)"
   ]
  },
  {
   "cell_type": "code",
   "execution_count": null,
   "metadata": {
    "id": "F07FgMWlR6le"
   },
   "outputs": [],
   "source": [
    "gerador_num_aleatorio = np.random.default_rng()\n",
    "\n",
    "f = gerador_num_aleatorio.integers(11, size=(5, 10))\n",
    "\n",
    "f.mean()"
   ]
  },
  {
   "cell_type": "code",
   "execution_count": null,
   "metadata": {
    "id": "HBfrXktqTgnI"
   },
   "outputs": [],
   "source": [
    "f.max()"
   ]
  },
  {
   "cell_type": "code",
   "execution_count": null,
   "metadata": {
    "id": "C4vuxxxSTmU1"
   },
   "outputs": [],
   "source": [
    "f.min()"
   ]
  },
  {
   "cell_type": "markdown",
   "metadata": {
    "id": "KWhgE1tMS1G4"
   },
   "source": [
    "## Encontrando os valores únicos"
   ]
  },
  {
   "cell_type": "code",
   "execution_count": null,
   "metadata": {
    "id": "Lyg_BEgoSjxV"
   },
   "outputs": [],
   "source": [
    "np.unique(f)"
   ]
  },
  {
   "cell_type": "markdown",
   "metadata": {
    "id": "eIfACkWKTv52"
   },
   "source": [
    "### Imprimindo valores únicos e contagem de quantas vezes aparecem"
   ]
  },
  {
   "cell_type": "code",
   "execution_count": null,
   "metadata": {
    "id": "MBK4plQTS8Sn"
   },
   "outputs": [],
   "source": [
    "# 'return_counts=True' habilita que o retorno da contagem emita também\n",
    "# a contagem dos valores.\n",
    "\n",
    "valores_unicos, conta_unicos = np.unique(f, return_counts=True)\n",
    "\n",
    "print(valores_unicos)\n",
    "print(conta_unicos)"
   ]
  },
  {
   "cell_type": "code",
   "execution_count": null,
   "metadata": {
    "id": "p4Es8hcyTtuf"
   },
   "outputs": [],
   "source": [
    "# Para uma melhor visualização:\n",
    "for i in range(len(valores_unicos)):\n",
    "    print(valores_unicos[i], conta_unicos[i], sep=\": \")"
   ]
  },
  {
   "cell_type": "code",
   "execution_count": null,
   "metadata": {
    "id": "x4o5vGoTUU03"
   },
   "outputs": [],
   "source": [
    "# Outra opção de visualização:\n",
    "for i in range(len(valores_unicos)):\n",
    "    print(valores_unicos[i], conta_unicos[i], sep=\": \", end='\\t')"
   ]
  },
  {
   "cell_type": "markdown",
   "metadata": {
    "id": "xJWATUkFVu8Z"
   },
   "source": [
    "## Salvando e carregando objetos numpy"
   ]
  },
  {
   "cell_type": "markdown",
   "metadata": {
    "id": "tOo2ajBnV-2D"
   },
   "source": [
    "### Salvando"
   ]
  },
  {
   "cell_type": "code",
   "execution_count": null,
   "metadata": {
    "id": "hL9PcgvBUy25"
   },
   "outputs": [],
   "source": [
    "np.save('nome_arquivo_atualizado', f)"
   ]
  },
  {
   "cell_type": "markdown",
   "metadata": {
    "id": "vZnh_yCRWP0Z"
   },
   "source": [
    "![image.png](data:image/png;base64,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)"
   ]
  },
  {
   "cell_type": "markdown",
   "metadata": {
    "id": "bnb2upJLWCe6"
   },
   "source": [
    "### Carregando"
   ]
  },
  {
   "cell_type": "code",
   "execution_count": null,
   "metadata": {
    "id": "SBo5asM3XhuV"
   },
   "outputs": [],
   "source": [
    "pwd()"
   ]
  },
  {
   "cell_type": "code",
   "execution_count": null,
   "metadata": {
    "id": "9wYgzARXWEkP"
   },
   "outputs": [],
   "source": [
    "a_carregado = np.load('arquivo_cristiano_atualizado.npy')"
   ]
  },
  {
   "cell_type": "code",
   "execution_count": null,
   "metadata": {
    "id": "K2oVjFQuWX5C"
   },
   "outputs": [],
   "source": [
    "a_carregado"
   ]
  },
  {
   "cell_type": "markdown",
   "metadata": {
    "id": "8_DKFXE1WomT"
   },
   "source": [
    "### Salvando e carregando arquivos `.csv`"
   ]
  },
  {
   "cell_type": "code",
   "execution_count": null,
   "metadata": {
    "id": "qUbj8XHDWZIy"
   },
   "outputs": [],
   "source": [
    "np.savetxt('nome_arquivo.csv', f)\n",
    "\n",
    "a_csv = np.loadtxt('nome_arquivo.csv')"
   ]
  },
  {
   "cell_type": "markdown",
   "metadata": {
    "id": "wJ0U2k2HW7IA"
   },
   "source": [
    "![image.png](data:image/png;base64,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)"
   ]
  },
  {
   "cell_type": "markdown",
   "metadata": {
    "id": "cNm_L5OKHuO7"
   },
   "source": [
    "---\n",
    "\n",
    "<!hidden\n",
    "!jupyter nbconvert --to html Storyboard_Notebook_Python_para_a_Indústria_4_0_bib_numpy_v01r06.ipynb\n",
    "/>"
   ]
  }
 ],
 "metadata": {
  "colab": {
   "authorship_tag": "ABX9TyOWA/7aXCxxsjmWlGdBah2R",
   "collapsed_sections": [],
   "mount_file_id": "1t2L2n3-wsUm16VJhVCBMzl4fqz32V5Ra",
   "name": "03.1_Revisão_numpy.ipynb",
   "provenance": [
    {
     "file_id": "1qpUZKiOLX0Xhs8HnawqbWp8xoyK1B4ev",
     "timestamp": 1626200655347
    }
   ]
  },
  "kernelspec": {
   "display_name": "Python 3",
   "name": "python3"
  },
  "language_info": {
   "name": "python"
  }
 },
 "nbformat": 4,
 "nbformat_minor": 0
}
