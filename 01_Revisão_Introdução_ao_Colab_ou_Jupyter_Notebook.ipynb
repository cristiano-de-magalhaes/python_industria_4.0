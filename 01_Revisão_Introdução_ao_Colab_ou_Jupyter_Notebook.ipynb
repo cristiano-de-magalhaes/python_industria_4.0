{
 "cells": [
  {
   "cell_type": "markdown",
   "metadata": {
    "id": "cHZzkfq1UyvB"
   },
   "source": [
    "# Revisão sobre o Colab (ou Jupyter Notebook)\n"
   ]
  },
  {
   "cell_type": "markdown",
   "metadata": {
    "id": "3A4D6TH8Rqx6"
   },
   "source": [
    "**Sejam todas bem vindas e bem vindos de volta!**\n",
    "\n",
    "Agora vamos ver uma rápida revisão sobre o ambiente de aprendizagem e mão-na-massa que usaremos ao longo do nosso curso: o **Colab (ou Jupyter Notebook)**.\n",
    "\n",
    "Vamos relembrar sua estrutura, suas facilidades e características.\n",
    "\n",
    "A primeira coisa a ser relembrada é que o Colab é baseado no projeto do Jupyter Notebook, então falar sobre o Colab ou sobre o Jupyter Notebook é **praticamente** a mesma coisa. Assim sendo, a partir de agora falaremos apenas do Colab, mas lembre-se sempre que o mesmo serve para o Jupyter Notebook também."
   ]
  },
  {
   "cell_type": "markdown",
   "metadata": {
    "id": "T2KjoYSUUyvB"
   },
   "source": [
    "## Sumário\n",
    "* Como verificar a **versão** do Python estamos rodando no Colab\n",
    "* O **print()** vs. o \"run\" ou \"rodar\" do Colab\n",
    "* Como comentar seus códigos e a importância dos **comentários**\n",
    "* **Escrevendo um programa** simples"
   ]
  },
  {
   "cell_type": "markdown",
   "metadata": {
    "id": "0TFv88-PUyvD"
   },
   "source": [
    "# Como verificar a **versão** do Python estamos rodando no Colab"
   ]
  },
  {
   "cell_type": "markdown",
   "metadata": {
    "id": "y_TdrwfjUyvD"
   },
   "source": [
    "> Python é uma linguagem de programação de alto nível, interpretada de script, imperativa, orientada a objetos, funcional, de tipagem dinâmica e forte. Foi lançada por Guido van Rossum em **1991**. Fonte: [Wikipedia](https://pt.wikipedia.org/wiki/Python)\n",
    "\n",
    "A versão de Python que se popularizou primeiro foi **Python 2**, por esse motivo, encontramos muito código e muita ajuda na internet nessa versão.\n",
    "\n",
    "Porém atualmente trabalhamos com **Python 3** que é a versão atualizada.\n",
    "\n",
    "Assim, precisamos nos atentar para esse detalhe especialmente quando formos buscar ajudas na internet.\n",
    "\n",
    "Para verificar qual a versão instalada em nosso sistema, utilizamos o comando abaixo (com a \"!\" se estivermos dentro do ambiente do Colab ou Jupyter Notebook e sem a \"!\" se estivermos executando o comando direto no terminal):"
   ]
  },
  {
   "cell_type": "code",
   "execution_count": 2,
   "metadata": {
    "colab": {
     "base_uri": "https://localhost:8080/"
    },
    "executionInfo": {
     "elapsed": 814,
     "status": "ok",
     "timestamp": 1626088701007,
     "user": {
      "displayName": "Cristiano de Magalhães",
      "photoUrl": "",
      "userId": "03249985789837417195"
     },
     "user_tz": 180
    },
    "id": "2Akd2atmcFG7",
    "outputId": "ed883546-e120-4808-bd75-9e64767acb38"
   },
   "outputs": [
    {
     "name": "stdout",
     "output_type": "stream",
     "text": [
      "Python 3.7.10\n"
     ]
    }
   ],
   "source": [
    "# Visualizar a versão do Python\n",
    "!python --version"
   ]
  },
  {
   "cell_type": "code",
   "execution_count": 4,
   "metadata": {
    "colab": {
     "base_uri": "https://localhost:8080/"
    },
    "executionInfo": {
     "elapsed": 380,
     "status": "ok",
     "timestamp": 1626090439020,
     "user": {
      "displayName": "Cristiano de Magalhães",
      "photoUrl": "",
      "userId": "03249985789837417195"
     },
     "user_tz": 180
    },
    "id": "MGzAXz9IifJO",
    "outputId": "bc1d57c2-e9f0-44de-cc80-d53df20ffa89"
   },
   "outputs": [
    {
     "name": "stdout",
     "output_type": "stream",
     "text": [
      "Python 3.7.10\n"
     ]
    }
   ],
   "source": [
    "# Caso haja as duas versões do Python instaladas em seu sistema, podemos\n",
    "# utilizar o comando desta forma:\n",
    "!python3 --version"
   ]
  },
  {
   "cell_type": "markdown",
   "metadata": {
    "id": "Djj7dcC_jpGO"
   },
   "source": [
    "# O print() vs. o \"run\" ou \"rodar\" do Colab"
   ]
  },
  {
   "cell_type": "markdown",
   "metadata": {
    "id": "mHRRH_BOjrQF"
   },
   "source": [
    "Como vimos anteriormente, o Colab possui uma funcionalidade que exibe a última linha do código, quando se trata de uma execução. As boas práticas em Python demandam que declaremos a saída (normalmente por meio de uma função de `print()`)."
   ]
  },
  {
   "cell_type": "code",
   "execution_count": 5,
   "metadata": {
    "colab": {
     "base_uri": "https://localhost:8080/"
    },
    "executionInfo": {
     "elapsed": 242,
     "status": "ok",
     "timestamp": 1626090935283,
     "user": {
      "displayName": "Cristiano de Magalhães",
      "photoUrl": "",
      "userId": "03249985789837417195"
     },
     "user_tz": 180
    },
    "id": "a3UdolElklmk",
    "outputId": "62f4b98e-4abc-4127-a874-0f737c2115d3"
   },
   "outputs": [
    {
     "name": "stdout",
     "output_type": "stream",
     "text": [
      "6\n"
     ]
    }
   ],
   "source": [
    "# Exemplo com print()\n",
    "print(2 + 4)"
   ]
  },
  {
   "cell_type": "code",
   "execution_count": 6,
   "metadata": {
    "colab": {
     "base_uri": "https://localhost:8080/"
    },
    "executionInfo": {
     "elapsed": 232,
     "status": "ok",
     "timestamp": 1626090962528,
     "user": {
      "displayName": "Cristiano de Magalhães",
      "photoUrl": "",
      "userId": "03249985789837417195"
     },
     "user_tz": 180
    },
    "id": "JOJzRP2AkqUN",
    "outputId": "e41a9e95-d658-4ace-a9da-96858358533d"
   },
   "outputs": [
    {
     "data": {
      "text/plain": [
       "6"
      ]
     },
     "execution_count": 6,
     "metadata": {
      "tags": []
     },
     "output_type": "execute_result"
    }
   ],
   "source": [
    "# Exemplo com a saída padrão do Colab\n",
    "2 + 4"
   ]
  },
  {
   "cell_type": "markdown",
   "metadata": {
    "id": "1MxVjzBCUyvE"
   },
   "source": [
    "# Como comentar seus códigos e a importância dos comentários\n"
   ]
  },
  {
   "cell_type": "markdown",
   "metadata": {
    "id": "QrQ908kRmx0C"
   },
   "source": [
    "Antes vamos apenas falar sobre um detalhe importante: os comentários. Existem vários estudos que provam que durante a vida de uma programadora ou programador eles passam muito mais tempo lendo códigos, sejam códigos escritos por eles mesmo ou códigos escritos por colegas ou outras programadoras ou outros programadores.\n",
    "\n",
    "Então uma parte importante do trabalho dessa programadora e desse programador é comentar de forma clara e objetiva o que aquele código faz (ou deveria fazer), quais suas intenções e até mesmo resultados esperados.\n",
    "\n",
    "Vamos falar bastante sobre isso ao longo do curso, mas para entendermos melhor sobre comentários, nada melhor que ver alguns exemplos empregados no cógido.\n",
    "\n",
    "Para tranformar uma parte do código em comentário basta inserir a cerquilha (#) no início **de cada linha** que quiser tratar como comentário.\n",
    "\n",
    "Exemplo:\n",
    "\n",
    "`# Isto é um comentário para o Python`\n",
    "\n",
    "Vejamos alguns exemplos simples abaixo na caixa de código."
   ]
  },
  {
   "cell_type": "code",
   "execution_count": null,
   "metadata": {
    "id": "qGQn6vukUyvE"
   },
   "outputs": [],
   "source": [
    "# Existe o comentário de 1 linha.\n",
    "\n",
    "# Existem os comentários de mais linhas\n",
    "# Em outras linguagens como o C++ existem\n",
    "# símbolos específicos para realizar comentários em mais linhas, mas no Python\n",
    "# não existe isso. Para cada linha de comentário é necessário uma cerquilha (#)\n",
    "# no início da linha.\n",
    "\n",
    "a = 4   # atribui o valor 4 à variável 'a'\n",
    "b = -5  # atribui o valor -5 à variável 'b'\n",
    "c = 1   # atribui o valor 1 à variável 'c'\n",
    "\n",
    "# Imprime os textos e os valores armazenados nas variáveis\n",
    "# Imprime na tela o texto \"Valor de a: \"\n",
    "print(\"Valor de a: \")\n",
    "# Imprime o valor ARMAZENADO em 'a'\n",
    "print(a)"
   ]
  },
  {
   "cell_type": "markdown",
   "metadata": {
    "id": "rHbW_69JUyvB"
   },
   "source": [
    "# Escrevendo um programa simples"
   ]
  },
  {
   "cell_type": "markdown",
   "metadata": {
    "id": "6L0jQUOkUyvC"
   },
   "source": [
    "Vamos lembrar como se compõe um programa simples.\n",
    "\n",
    "Por favor, digite os comandos abaixo na caixa de código seguinte:\n",
    "\n",
    "```python\n",
    "primeira_string = \"Olá,\"\n",
    "segunda_string = \"Mundão!\"\n",
    "\n",
    "print(primeira_string, segunda_string)\n",
    "```"
   ]
  },
  {
   "cell_type": "code",
   "execution_count": null,
   "metadata": {
    "id": "0SzK0lbWUyvC"
   },
   "outputs": [],
   "source": [
    "# Escreva aqui seu código"
   ]
  },
  {
   "cell_type": "markdown",
   "metadata": {
    "id": "B3YwjkTKwJsr"
   },
   "source": [
    "Caso tudo tenha sido digitado corretamente, a saída tem que ser **exatamente** a seguinte:\n",
    "\n",
    "```Olá, Mundão!```\n",
    "\n",
    "Se a saída do texto não tiver ficado exatamente como a apresentada acima: verifique possíveis erros em seu código até conseguir."
   ]
  }
 ],
 "metadata": {
  "colab": {
   "name": "1_Revisão_Introdução_ao_Colab_ou_Jupyter_Notebook.ipynb",
   "provenance": []
  },
  "kernelspec": {
   "display_name": "Python 3",
   "language": "python",
   "name": "python3"
  },
  "language_info": {
   "codemirror_mode": {
    "name": "ipython",
    "version": 3
   },
   "file_extension": ".py",
   "mimetype": "text/x-python",
   "name": "python",
   "nbconvert_exporter": "python",
   "pygments_lexer": "ipython3",
   "version": "3.8.8"
  },
  "metadata": {
   "interpreter": {
    "hash": "31f2aee4e71d21fbe5cf8b01ff0e069b9275f58929596ceb00d14d90e3e16cd6"
   }
  }
 },
 "nbformat": 4,
 "nbformat_minor": 0
}
